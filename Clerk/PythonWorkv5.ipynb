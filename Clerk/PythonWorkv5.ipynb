{
 "cells": [
  {
   "cell_type": "code",
   "execution_count": 17,
   "metadata": {},
   "outputs": [
    {
     "ename": "SyntaxError",
     "evalue": "invalid syntax (<ipython-input-17-cd1d04165342>, line 94)",
     "output_type": "error",
     "traceback": [
      "\u001b[1;36m  File \u001b[1;32m\"<ipython-input-17-cd1d04165342>\"\u001b[1;36m, line \u001b[1;32m94\u001b[0m\n\u001b[1;33m    except:\u001b[0m\n\u001b[1;37m         ^\u001b[0m\n\u001b[1;31mSyntaxError\u001b[0m\u001b[1;31m:\u001b[0m invalid syntax\n"
     ]
    }
   ],
   "source": [
    "\n",
    "#Working Copy  2022-02-25 0900AM\n",
    "#pip install BeautifulSoup as b  & #pip install requests\n",
    "\n",
    "from bs4 import BeautifulSoup as b\n",
    "import numpy as np\n",
    "import requests as r\n",
    "import pandas as p\n",
    "import math as m\n",
    "import csv as cv\n",
    "from datetime import date, timedelta, datetime\n",
    "\n",
    "# getting search days from user\n",
    "def getDates(txt):\n",
    "    msg1 = 'Enter the search ' + txt + ' in YYYY-MM-DD format'\n",
    "    startDate = input(msg1)\n",
    "    gDate = 0 \n",
    "\n",
    "    while gDate != 1:\n",
    "        try:\n",
    "            Syear, Smonth, Sday = map(int, startDate.split('-'))\n",
    "            date1 = date(Syear, Smonth, Sday)\n",
    "        except: \n",
    "            startDate = input(msg1)\n",
    "            continue\n",
    "        gDate = 1 \n",
    "    return date1\n",
    "date1 = getDates('startDate')\n",
    "date2 = getDates('endDate')\n",
    "\n",
    "#Get new search string\n",
    "base = date1\n",
    "stringA = \"https://www.fpds.gov/ezsearch/fpdsportal?q=+SIGNED_DATE%3A%5B\"\n",
    "base = date1\n",
    "endt = date2\n",
    "stringB = str(base.year)+\"%2F\"+base.strftime(\"%m\") + \"%2F\" + base.strftime(\"%d\") + \"%2C\"+str(endt.year)+\"%2F\" + endt.strftime(\"%m\") + \"%2F\" +endt.strftime(\"%d\") + \"%5D&s=FPDS.GOV&templateName=1.5.2&indexName=awardfull&x=30&start=\"\n",
    "stringC = '30'\n",
    "myURLsearch = (stringA + stringB + stringC)\n",
    "myURLsearch\n",
    "downloadURL = r.get(myURLsearch,headers={})\n",
    "soup = b(downloadURL.text,\"html.parser\")\n",
    "#CSS\n",
    "fulltable_select  = soup.select('span.results_heading')\n",
    "myLen = m.ceil(int(fulltable_select[1].find_all('b')[2].text))\n",
    "print(myLen)\n",
    "\n",
    "runInt = 1\n",
    "wID = 0\n",
    "while wID < myLen + 60:\n",
    "    endt = base + timedelta(days=1)\n",
    "    stringB = str(base.year)+\"%2F\"+base.strftime(\"%m\") + \"%2F\" + base.strftime(\"%d\") + \"%2C\"+str(endt.year)+\"%2F\" + endt.strftime(\"%m\") + \"%2F\" +endt.strftime(\"%d\") + \"%5D&s=FPDS.GOV&templateName=1.5.2&indexName=awardfull&x=24&y=7&start=\"\n",
    "    stringC = int(stringC) + 30\n",
    "    stringC = str(stringC)\n",
    "    myURLsearch = (stringA + stringB + stringC)\n",
    "    downloadURL = r.get(myURLsearch,headers={})\n",
    "    soup = b(downloadURL.text,\"html.parser\")\n",
    "    fulltable_select  = soup.select('span.results_text')\n",
    "    datalist = []\n",
    "    slop =[]\n",
    "    for d in fulltable_select: \n",
    "        try: \n",
    "            datalist.append(d.a.contents)\n",
    "        except:\n",
    "            try:\n",
    "                datalist.append(d.span.contents)\n",
    "            except:\n",
    "                #formerly known as slop\n",
    "                datalist.append(str(d.contents).replace(\"\\\\t\",\"\").replace(\"\\\\n\",\"\").replace(\"[\",\"\").replace(\"]\",\"\").replace(\"\\'\",\"\"))\n",
    "            continue\n",
    "    \n",
    "    try:\n",
    "        newlist = [\"\".join(d) if type(d) is list else d for d in datalist ]\n",
    "        #try block as just-in-case the field return is not 19\n",
    "        \n",
    "        dlarr = np.array(newlist).reshape(m.floor(len(newlist)/19),19)\n",
    "            \n",
    "        #Get Dataframe\n",
    "        df = p.DataFrame(data= dlarr\n",
    "        , columns=['AwardID','AwardType','LegalBusinessName','ContractingAgency','DateSigned','ActionObligation','ReferencedIDV','ContractingOffice','NAICS_Code','PSC_Code','EntityCity','UniqueEntityID_DUNS', 'EntityState','UniqueEntityID_SAM','Zip','UltimateParentUniqueEntityID_DUNS','UltimateParentLegalBusinessName','UltimateParentUniqueEntityID_SAM','CAGE_Code']\n",
    "        )\n",
    "        r2 = datetime.today().strftime(\"%Y%m%d%H%M%S\")\n",
    "                \n",
    "        # Create run interval interger\n",
    "        if wID < 1:\n",
    "            fileName = 'fpds_ng_' + r2 + '.csv'\n",
    "            df.to_csv(fileName,index = False)\n",
    "            wID = wID + 30\n",
    "        else:\n",
    "            with open(fileName, \"a\", newline=\"\") as file:\n",
    "                writer = cv.writer(file,delimiter= \",\",)\n",
    "                writer.writerows(dlarr)\n",
    "                wID = wID + 30\n",
    "                #print(wID)\n",
    "    except:\n",
    "        print(\"Skipping records at range - \" + str(wID))\n",
    "        continue"
   ]
  },
  {
   "cell_type": "code",
   "execution_count": 14,
   "metadata": {},
   "outputs": [
    {
     "data": {
      "text/plain": [
       "570"
      ]
     },
     "execution_count": 14,
     "metadata": {},
     "output_type": "execute_result"
    }
   ],
   "source": [
    "len(newlist)"
   ]
  },
  {
   "cell_type": "code",
   "execution_count": 16,
   "metadata": {},
   "outputs": [
    {
     "name": "stdout",
     "output_type": "stream",
     "text": [
      "Variable           Type             Data/Info\n",
      "---------------------------------------------\n",
      "b                  type             <class 'bs4.BeautifulSoup'>\n",
      "base               date             2022-02-24\n",
      "cv                 module           <module 'csv' from 'C:\\\\P<...>aconda3_64\\\\lib\\\\csv.py'>\n",
      "d                  Tag              <span class=\"results_text<...>05BZ7\">05BZ7</a>\\n</span>\n",
      "datalist           list             n=570\n",
      "date               type             <class 'datetime.date'>\n",
      "date1              date             2022-02-24\n",
      "date2              date             2022-02-24\n",
      "datetime           type             <class 'datetime.datetime'>\n",
      "df                 DataFrame           AwardID AwardType    L<...>                  05BZ7  \n",
      "dlarr              ndarray          30x19: 570 elems, type `<U35`, 79800 bytes\n",
      "downloadURL        Response         <Response [200]>\n",
      "endt               date             2022-02-25\n",
      "file               TextIOWrapper    <_io.TextIOWrapper name='<...>de='a' encoding='cp1252'>\n",
      "fileName           str              fpds_ng_20220301094054.csv\n",
      "fulltable_select   list             n=570\n",
      "getDates           function         <function getDates at 0x00000191421DBE18>\n",
      "m                  module           <module 'math' (built-in)>\n",
      "myLen              int              6870\n",
      "myURLsearch        str              https://www.fpds.gov/ezse<...>dfull&x=24&y=7&start=3330\n",
      "newlist            list             n=570\n",
      "np                 module           <module 'numpy' from 'C:\\<...>ges\\\\numpy\\\\__init__.py'>\n",
      "os                 module           <module 'os' from 'C:\\\\Pr<...>naconda3_64\\\\lib\\\\os.py'>\n",
      "p                  module           <module 'pandas' from 'C:<...>es\\\\pandas\\\\__init__.py'>\n",
      "r                  module           <module 'requests' from '<...>\\\\requests\\\\__init__.py'>\n",
      "r2                 str              20220301094504\n",
      "runInt             int              1\n",
      "site               module           <module 'site' from 'C:\\\\<...>conda3_64\\\\lib\\\\site.py'>\n",
      "slop               list             n=0\n",
      "soup               BeautifulSoup    \\n<html><head><title>FPDS<...>\\n        }\\n}\\n</script>\n",
      "stringA            str              https://www.fpds.gov/ezse<...>rtal?q=+SIGNED_DATE%3A%5B\n",
      "stringB            str              2022%2F02%2F24%2C2022%2F0<...>awardfull&x=24&y=7&start=\n",
      "stringC            str              3330\n",
      "sys                module           <module 'sys' (built-in)>\n",
      "timedelta          type             <class 'datetime.timedelta'>\n",
      "wID                int              3300\n",
      "writer             writer           <_csv.writer object at 0x00000191430373B8>\n"
     ]
    }
   ],
   "source": [
    "%whos\n"
   ]
  },
  {
   "cell_type": "code",
   "execution_count": null,
   "metadata": {},
   "outputs": [],
   "source": []
  }
 ],
 "metadata": {
  "interpreter": {
   "hash": "a82ef6f466d63b27a58f5b9b3bce23153a40d6708f87a46e08961f1e808d4b51"
  },
  "kernelspec": {
   "display_name": "Python 3.10.2 64-bit",
   "language": "python",
   "name": "python3"
  },
  "language_info": {
   "codemirror_mode": {
    "name": "ipython",
    "version": 3
   },
   "file_extension": ".py",
   "mimetype": "text/x-python",
   "name": "python",
   "nbconvert_exporter": "python",
   "pygments_lexer": "ipython3",
   "version": "3.6.5"
  },
  "orig_nbformat": 4
 },
 "nbformat": 4,
 "nbformat_minor": 2
}
