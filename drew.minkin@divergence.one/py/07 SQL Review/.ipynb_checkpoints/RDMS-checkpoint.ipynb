{
 "cells": [
  {
   "cell_type": "code",
   "execution_count": null,
   "metadata": {},
   "outputs": [],
   "source": [
    "!pip install sqlite3"
   ]
  },
  {
   "cell_type": "code",
   "execution_count": 1,
   "metadata": {},
   "outputs": [],
   "source": [
    "import sqlite3\n",
    "conn = sqlite3.connect(\"lesson.db\")\n"
   ]
  },
  {
   "cell_type": "code",
   "execution_count": 2,
   "metadata": {},
   "outputs": [],
   "source": [
    "conn.close()"
   ]
  },
  {
   "cell_type": "code",
   "execution_count": 3,
   "metadata": {},
   "outputs": [],
   "source": [
    "with sqlite3.connect(\"lesson.db\") as conn:\n",
    "    pass\n"
   ]
  },
  {
   "cell_type": "code",
   "execution_count": 4,
   "metadata": {},
   "outputs": [],
   "source": [
    "with sqlite3.connect(\"lesson.db\") as conn:\n",
    "    cursor = conn.cursor()\n",
    "    cursor.execute(\"CREATE TABLE IF NOT EXISTS user (email text, first_name text, last_name text, address text, age integer, PRIMARY KEY (email))\")\n",
    "    cursor.execute(\"INSERT INTO user VALUES ('bob@example.com', 'Bob', 'Codd', '123 Fantasy lane, Fantasu City', 31)\")\n",
    "    cursor.execute(\"INSERT INTO user VALUES ('tom@web.com', 'Tom', 'Fake', '123 Fantasy lane, Fantasu City', 39)\")\n",
    "    conn.commit()"
   ]
  },
  {
   "cell_type": "code",
   "execution_count": 5,
   "metadata": {},
   "outputs": [
    {
     "name": "stdout",
     "output_type": "stream",
     "text": [
      "('bob@example.com', 'Bob', 'Codd', '123 Fantasy lane, Fantasu City', 31)\n",
      "('tom@web.com', 'Tom', 'Fake', '123 Fantasy lane, Fantasu City', 39)\n"
     ]
    }
   ],
   "source": [
    "with sqlite3.connect(\"lesson.db\") as conn:\n",
    "    cursor = conn.cursor()\n",
    "    rows = cursor.execute('SELECT * FROM user')\n",
    "    for row in rows:\n",
    "        print(row)\n"
   ]
  },
  {
   "cell_type": "code",
   "execution_count": 6,
   "metadata": {},
   "outputs": [
    {
     "name": "stdout",
     "output_type": "stream",
     "text": [
      "('tom@web.com', 'Tom', 'Fake', '123 Fantasy lane, Fantasu City', 39)\n",
      "('bob@example.com', 'Bob', 'Codd', '123 Fantasy lane, Fantasu City', 31)\n"
     ]
    }
   ],
   "source": [
    "with sqlite3.connect(\"lesson.db\") as conn:\n",
    "    cursor = conn.cursor()\n",
    "    rows = cursor.execute('SELECT * FROM user ORDER BY age DESC')\n",
    "    for row in rows:\n",
    "        print(row)\n"
   ]
  },
  {
   "cell_type": "code",
   "execution_count": 7,
   "metadata": {},
   "outputs": [],
   "source": [
    "with sqlite3.connect(\"lesson.db\") as conn:\n",
    "    cursor = conn.cursor()\n",
    "    cursor.execute(\"ALTER TABLE user ADD COLUMN gender text\")\n",
    "    cursor.execute(\"UPDATE user SET gender='M'\")\n",
    "    conn.commit()"
   ]
  },
  {
   "cell_type": "code",
   "execution_count": 8,
   "metadata": {},
   "outputs": [],
   "source": [
    "with sqlite3.connect(\"lesson.db\") as conn:\n",
    "    cursor = conn.cursor()\n",
    "    cursor.execute(\"INSERT INTO user VALUES ('shelly@www.com', 'Shelly', 'Milar', '123, Ocean View Lane', 39, 'F')\")\n",
    "    conn.commit()"
   ]
  },
  {
   "cell_type": "code",
   "execution_count": 9,
   "metadata": {},
   "outputs": [
    {
     "name": "stdout",
     "output_type": "stream",
     "text": [
      "(1, 'F')\n",
      "(2, 'M')\n"
     ]
    }
   ],
   "source": [
    "with sqlite3.connect(\"lesson.db\") as conn:\n",
    "    cursor = conn.cursor()\n",
    "    rows = cursor.execute(\"SELECT COUNT(*), gender FROM user GROUP BY gender\")\n",
    "    for row in rows:\n",
    "        print(row)"
   ]
  },
  {
   "cell_type": "code",
   "execution_count": 10,
   "metadata": {
    "scrolled": true
   },
   "outputs": [],
   "source": [
    "with sqlite3.connect(\"lesson.db\") as conn:\n",
    "    cursor = conn.cursor()\n",
    "    cursor.execute(\"PRAGMA foreign_keys = 1\")\n",
    "    sql = \"\"\"\n",
    "        CREATE TABLE comments (\n",
    "            user_id text,\n",
    "            comments text,\n",
    "            FOREIGN KEY (user_id) REFERENCES user (email) \n",
    "            ON DELETE CASCADE ON UPDATE NO ACTION\n",
    "        )\n",
    "    \"\"\"\n",
    "    cursor.execute(sql)\n",
    "    conn.commit()\n"
   ]
  },
  {
   "cell_type": "code",
   "execution_count": 11,
   "metadata": {},
   "outputs": [
    {
     "name": "stdout",
     "output_type": "stream",
     "text": [
      "Going to create rows for bob@example.com\n",
      "Going to create rows for tom@web.com\n",
      "Going to create rows for shelly@www.com\n"
     ]
    }
   ],
   "source": [
    "with sqlite3.connect(\"lesson.db\") as conn:\n",
    "    cursor = conn.cursor()\n",
    "    cursor.execute(\"PRAGMA foreign_keys = 1\")\n",
    "    sql = \"INSERT INTO comments VALUES ('{}', '{}')\"\n",
    "    rows = cursor.execute('SELECT * FROM user ORDER BY age')\n",
    "    for row in rows:\n",
    "        email = row[0]\n",
    "        print(\"Going to create rows for {}\".format(email))\n",
    "        name = row[1] + \" \" + row[2]\n",
    "        for i in range(10):\n",
    "            comment = \"This is comment {} by {}\".format(i, name)\n",
    "            conn.cursor().execute(sql.format(email, comment))\n",
    "    conn.commit()\n"
   ]
  },
  {
   "cell_type": "code",
   "execution_count": 12,
   "metadata": {},
   "outputs": [
    {
     "name": "stdout",
     "output_type": "stream",
     "text": [
      "('bob@example.com', 'This is comment 0 by Bob Codd', 'bob@example.com', 'Bob', 'Codd', '123 Fantasy lane, Fantasu City', 31, 'M')\n",
      "('bob@example.com', 'This is comment 1 by Bob Codd', 'bob@example.com', 'Bob', 'Codd', '123 Fantasy lane, Fantasu City', 31, 'M')\n",
      "('bob@example.com', 'This is comment 2 by Bob Codd', 'bob@example.com', 'Bob', 'Codd', '123 Fantasy lane, Fantasu City', 31, 'M')\n",
      "('bob@example.com', 'This is comment 3 by Bob Codd', 'bob@example.com', 'Bob', 'Codd', '123 Fantasy lane, Fantasu City', 31, 'M')\n",
      "('bob@example.com', 'This is comment 4 by Bob Codd', 'bob@example.com', 'Bob', 'Codd', '123 Fantasy lane, Fantasu City', 31, 'M')\n",
      "('bob@example.com', 'This is comment 5 by Bob Codd', 'bob@example.com', 'Bob', 'Codd', '123 Fantasy lane, Fantasu City', 31, 'M')\n",
      "('bob@example.com', 'This is comment 6 by Bob Codd', 'bob@example.com', 'Bob', 'Codd', '123 Fantasy lane, Fantasu City', 31, 'M')\n",
      "('bob@example.com', 'This is comment 7 by Bob Codd', 'bob@example.com', 'Bob', 'Codd', '123 Fantasy lane, Fantasu City', 31, 'M')\n",
      "('bob@example.com', 'This is comment 8 by Bob Codd', 'bob@example.com', 'Bob', 'Codd', '123 Fantasy lane, Fantasu City', 31, 'M')\n",
      "('bob@example.com', 'This is comment 9 by Bob Codd', 'bob@example.com', 'Bob', 'Codd', '123 Fantasy lane, Fantasu City', 31, 'M')\n"
     ]
    }
   ],
   "source": [
    "with sqlite3.connect(\"lesson.db\") as conn:\n",
    "    cursor = conn.cursor()\n",
    "    cursor.execute(\"PRAGMA foreign_keys = 1\")\n",
    "    sql = \"\"\"\n",
    "        SELECT * FROM comments \n",
    "        JOIN user ON comments.user_id = user.email\n",
    "        WHERE user.email='bob@example.com'\n",
    "    \"\"\"\n",
    "    rows = cursor.execute(sql)\n",
    "    for row in rows:\n",
    "        print(row)\n"
   ]
  },
  {
   "cell_type": "code",
   "execution_count": 13,
   "metadata": {},
   "outputs": [
    {
     "name": "stdout",
     "output_type": "stream",
     "text": [
      "('bob@example.com', 'This is comment 0 by Bob Codd')\n",
      "('bob@example.com', 'This is comment 1 by Bob Codd')\n",
      "('bob@example.com', 'This is comment 2 by Bob Codd')\n",
      "('bob@example.com', 'This is comment 3 by Bob Codd')\n",
      "('bob@example.com', 'This is comment 4 by Bob Codd')\n",
      "('bob@example.com', 'This is comment 5 by Bob Codd')\n",
      "('bob@example.com', 'This is comment 6 by Bob Codd')\n",
      "('bob@example.com', 'This is comment 7 by Bob Codd')\n",
      "('bob@example.com', 'This is comment 8 by Bob Codd')\n",
      "('bob@example.com', 'This is comment 9 by Bob Codd')\n"
     ]
    }
   ],
   "source": [
    "with sqlite3.connect(\"lesson.db\") as conn:\n",
    "    cursor = conn.cursor()\n",
    "    cursor.execute(\"PRAGMA foreign_keys = 1\")\n",
    "    sql = \"\"\"\n",
    "        SELECT comments.* FROM comments\n",
    "        JOIN user ON comments.user_id = user.email\n",
    "        WHERE user.email='bob@example.com'\n",
    "    \"\"\"\n",
    "    rows = cursor.execute(sql)\n",
    "    for row in rows:\n",
    "        print(row)\n"
   ]
  },
  {
   "cell_type": "code",
   "execution_count": 14,
   "metadata": {},
   "outputs": [],
   "source": [
    "with sqlite3.connect(\"lesson.db\") as conn:\n",
    "    cursor = conn.cursor()\n",
    "    cursor.execute(\"PRAGMA foreign_keys = 1\")\n",
    "    cursor.execute(\"DELETE FROM user WHERE email='bob@example.com'\")\n",
    "    conn.commit()\n"
   ]
  },
  {
   "cell_type": "code",
   "execution_count": 15,
   "metadata": {},
   "outputs": [
    {
     "name": "stdout",
     "output_type": "stream",
     "text": [
      "('tom@web.com', 'Tom', 'Fake', '123 Fantasy lane, Fantasu City', 39, 'M')\n",
      "('shelly@www.com', 'Shelly', 'Milar', '123, Ocean View Lane', 39, 'F')\n"
     ]
    }
   ],
   "source": [
    "with sqlite3.connect(\"lesson.db\") as conn:\n",
    "    cursor = conn.cursor()\n",
    "    cursor.execute(\"PRAGMA foreign_keys = 1\")\n",
    "    rows = cursor.execute(\"SELECT * FROM user\")\n",
    "    for row in rows:\n",
    "        print(row)\n"
   ]
  },
  {
   "cell_type": "code",
   "execution_count": 16,
   "metadata": {},
   "outputs": [
    {
     "name": "stdout",
     "output_type": "stream",
     "text": [
      "('tom@web.com', 'This is comment 0 by Tom Fake')\n",
      "('tom@web.com', 'This is comment 1 by Tom Fake')\n",
      "('tom@web.com', 'This is comment 2 by Tom Fake')\n",
      "('tom@web.com', 'This is comment 3 by Tom Fake')\n",
      "('tom@web.com', 'This is comment 4 by Tom Fake')\n",
      "('tom@web.com', 'This is comment 5 by Tom Fake')\n",
      "('tom@web.com', 'This is comment 6 by Tom Fake')\n",
      "('tom@web.com', 'This is comment 7 by Tom Fake')\n",
      "('tom@web.com', 'This is comment 8 by Tom Fake')\n",
      "('tom@web.com', 'This is comment 9 by Tom Fake')\n",
      "('shelly@www.com', 'This is comment 0 by Shelly Milar')\n",
      "('shelly@www.com', 'This is comment 1 by Shelly Milar')\n",
      "('shelly@www.com', 'This is comment 2 by Shelly Milar')\n",
      "('shelly@www.com', 'This is comment 3 by Shelly Milar')\n",
      "('shelly@www.com', 'This is comment 4 by Shelly Milar')\n",
      "('shelly@www.com', 'This is comment 5 by Shelly Milar')\n",
      "('shelly@www.com', 'This is comment 6 by Shelly Milar')\n",
      "('shelly@www.com', 'This is comment 7 by Shelly Milar')\n",
      "('shelly@www.com', 'This is comment 8 by Shelly Milar')\n",
      "('shelly@www.com', 'This is comment 9 by Shelly Milar')\n"
     ]
    }
   ],
   "source": [
    "with sqlite3.connect(\"lesson.db\") as conn:\n",
    "    cursor = conn.cursor()\n",
    "    cursor.execute(\"PRAGMA foreign_keys = 1\")\n",
    "    rows = cursor.execute(\"SELECT * FROM comments\")\n",
    "    for row in rows:\n",
    "        print(row)\n"
   ]
  },
  {
   "cell_type": "code",
   "execution_count": 17,
   "metadata": {
    "scrolled": true
   },
   "outputs": [
    {
     "name": "stdout",
     "output_type": "stream",
     "text": [
      "('tom@web.com', 'Chris', 'Fake', '123 Fantasy lane, Fantasu City', 39, 'M')\n",
      "('shelly@www.com', 'Shelly', 'Milar', '123, Ocean View Lane', 39, 'F')\n"
     ]
    }
   ],
   "source": [
    "with sqlite3.connect(\"lesson.db\") as conn:\n",
    "    cursor = conn.cursor()\n",
    "    cursor.execute(\"PRAGMA foreign_keys = 1\")\n",
    "    cursor.execute(\"UPDATE user set first_name='Chris' where email='tom@web.com'\")\n",
    "    conn.commit()\n",
    "    rows = cursor.execute(\"SELECT * FROM user\")\n",
    "    for row in rows:\n",
    "        print(row)\n"
   ]
  },
  {
   "cell_type": "code",
   "execution_count": 18,
   "metadata": {},
   "outputs": [
    {
     "data": {
      "text/html": [
       "<div>\n",
       "<table border=\"1\" class=\"dataframe\">\n",
       "  <thead>\n",
       "    <tr style=\"text-align: right;\">\n",
       "      <th></th>\n",
       "      <th>Email</th>\n",
       "      <th>First Name</th>\n",
       "      <th>Last Name</th>\n",
       "      <th>Age</th>\n",
       "      <th>Gender</th>\n",
       "      <th>Comments</th>\n",
       "    </tr>\n",
       "  </thead>\n",
       "  <tbody>\n",
       "    <tr>\n",
       "      <th>0</th>\n",
       "      <td>tom@web.com</td>\n",
       "      <td>Chris</td>\n",
       "      <td>Fake</td>\n",
       "      <td>39</td>\n",
       "      <td>M</td>\n",
       "      <td>This is comment 0 by Tom Fake</td>\n",
       "    </tr>\n",
       "    <tr>\n",
       "      <th>1</th>\n",
       "      <td>tom@web.com</td>\n",
       "      <td>Chris</td>\n",
       "      <td>Fake</td>\n",
       "      <td>39</td>\n",
       "      <td>M</td>\n",
       "      <td>This is comment 1 by Tom Fake</td>\n",
       "    </tr>\n",
       "    <tr>\n",
       "      <th>2</th>\n",
       "      <td>tom@web.com</td>\n",
       "      <td>Chris</td>\n",
       "      <td>Fake</td>\n",
       "      <td>39</td>\n",
       "      <td>M</td>\n",
       "      <td>This is comment 2 by Tom Fake</td>\n",
       "    </tr>\n",
       "    <tr>\n",
       "      <th>3</th>\n",
       "      <td>tom@web.com</td>\n",
       "      <td>Chris</td>\n",
       "      <td>Fake</td>\n",
       "      <td>39</td>\n",
       "      <td>M</td>\n",
       "      <td>This is comment 3 by Tom Fake</td>\n",
       "    </tr>\n",
       "    <tr>\n",
       "      <th>4</th>\n",
       "      <td>tom@web.com</td>\n",
       "      <td>Chris</td>\n",
       "      <td>Fake</td>\n",
       "      <td>39</td>\n",
       "      <td>M</td>\n",
       "      <td>This is comment 4 by Tom Fake</td>\n",
       "    </tr>\n",
       "  </tbody>\n",
       "</table>\n",
       "</div>"
      ],
      "text/plain": [
       "         Email First Name Last Name  Age Gender                       Comments\n",
       "0  tom@web.com      Chris      Fake   39      M  This is comment 0 by Tom Fake\n",
       "1  tom@web.com      Chris      Fake   39      M  This is comment 1 by Tom Fake\n",
       "2  tom@web.com      Chris      Fake   39      M  This is comment 2 by Tom Fake\n",
       "3  tom@web.com      Chris      Fake   39      M  This is comment 3 by Tom Fake\n",
       "4  tom@web.com      Chris      Fake   39      M  This is comment 4 by Tom Fake"
      ]
     },
     "execution_count": 18,
     "metadata": {},
     "output_type": "execute_result"
    }
   ],
   "source": [
    "import pandas as pd\n",
    "\n",
    "columns = [\"Email\", \"First Name\", \"Last Name\", \"Age\", \"Gender\", \"Comments\"]\n",
    "data = []\n",
    "with sqlite3.connect(\"lesson.db\") as conn:\n",
    "    cursor = conn.cursor()\n",
    "    cursor.execute(\"PRAGMA foreign_keys = 1\")\n",
    "    \n",
    "    sql = \"\"\"\n",
    "        SELECT user.email, user.first_name, user.last_name, user.age, user.gender, comments.comments FROM comments\n",
    "        JOIN user ON comments.user_id = user.email\n",
    "        WHERE user.email = 'tom@web.com'\n",
    "    \"\"\"\n",
    "    rows = cursor.execute(sql)\n",
    "    for row in rows:\n",
    "        data.append(row)\n",
    "\n",
    "df = pd.DataFrame(data, columns=columns)\n",
    "df.head()\n"
   ]
  },
  {
   "cell_type": "code",
   "execution_count": 19,
   "metadata": {},
   "outputs": [],
   "source": [
    "with sqlite3.connect(\"lesson.db\") as conn:\n",
    "    cursor = conn.cursor()\n",
    "    cursor.execute(\"DROP TABLE user\")\n",
    "    conn.commit()"
   ]
  },
  {
   "cell_type": "code",
   "execution_count": null,
   "metadata": {},
   "outputs": [],
   "source": []
  }
 ],
 "metadata": {
  "kernelspec": {
   "display_name": "Python 3",
   "language": "python",
   "name": "python3"
  },
  "language_info": {
   "codemirror_mode": {
    "name": "ipython",
    "version": 3
   },
   "file_extension": ".py",
   "mimetype": "text/x-python",
   "name": "python",
   "nbconvert_exporter": "python",
   "pygments_lexer": "ipython3",
   "version": "3.7.3"
  }
 },
 "nbformat": 4,
 "nbformat_minor": 2
}
