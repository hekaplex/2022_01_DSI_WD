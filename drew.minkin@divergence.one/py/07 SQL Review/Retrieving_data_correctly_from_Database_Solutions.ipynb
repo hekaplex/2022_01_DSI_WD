{
  "cells": [
    {
      "cell_type": "markdown",
      "metadata": {},
      "source": [
        "### Task 1: (Connect to the supplied petsDB, and write a function to check if the connection is done)"
      ]
    },
    {
      "cell_type": "code",
      "execution_count": 1,
      "metadata": {
        "trusted": true
      },
      "outputs": [],
      "source": [
        "import sqlite3"
      ]
    },
    {
      "cell_type": "code",
      "execution_count": 2,
      "metadata": {
        "trusted": true
      },
      "outputs": [],
      "source": [
        "conn = sqlite3.connect(\"petsdb\")"
      ]
    },
    {
      "cell_type": "code",
      "execution_count": 3,
      "metadata": {
        "trusted": true
      },
      "outputs": [],
      "source": [
        "# a tiny function to make sure the connection is successful\n",
        "def is_opened(conn):\n",
        "    try:\n",
        "        conn.execute(\"SELECT * FROM persons LIMIT 1\")\n",
        "        return True\n",
        "    except sqlite3.ProgrammingError as e:\n",
        "        print(\"Connection closed {}\".format(e))\n",
        "        return False"
      ]
    },
    {
      "cell_type": "code",
      "execution_count": 4,
      "metadata": {
        "trusted": true
      },
      "outputs": [
        {
          "name": "stdout",
          "output_type": "stream",
          "text": [
            "True\n"
          ]
        }
      ],
      "source": [
        "print(is_opened(conn))"
      ]
    },
    {
      "cell_type": "code",
      "execution_count": 5,
      "metadata": {
        "trusted": true
      },
      "outputs": [],
      "source": [
        "conn.close()"
      ]
    },
    {
      "cell_type": "code",
      "execution_count": 6,
      "metadata": {
        "trusted": true
      },
      "outputs": [
        {
          "name": "stdout",
          "output_type": "stream",
          "text": [
            "Connection closed Cannot operate on a closed database.\n",
            "False\n"
          ]
        }
      ],
      "source": [
        "print(is_opened(conn))"
      ]
    },
    {
      "cell_type": "markdown",
      "metadata": {},
      "source": [
        "### Task 2: (What are the different age groups in the persons database)"
      ]
    },
    {
      "cell_type": "code",
      "execution_count": 7,
      "metadata": {
        "trusted": true
      },
      "outputs": [],
      "source": [
        "conn = sqlite3.connect(\"petsdb\")"
      ]
    },
    {
      "cell_type": "code",
      "execution_count": 8,
      "metadata": {
        "trusted": true
      },
      "outputs": [],
      "source": [
        "c = conn.cursor()"
      ]
    },
    {
      "cell_type": "code",
      "execution_count": 9,
      "metadata": {
        "trusted": true
      },
      "outputs": [
        {
          "name": "stdout",
          "output_type": "stream",
          "text": [
            "We have 2 people aged 5\n",
            "We have 1 people aged 6\n",
            "We have 1 people aged 7\n",
            "We have 3 people aged 8\n",
            "We have 1 people aged 9\n",
            "We have 2 people aged 11\n",
            "We have 3 people aged 12\n",
            "We have 1 people aged 13\n",
            "We have 4 people aged 14\n",
            "We have 2 people aged 16\n",
            "We have 2 people aged 17\n",
            "We have 3 people aged 18\n",
            "We have 1 people aged 19\n",
            "We have 3 people aged 22\n",
            "We have 2 people aged 23\n",
            "We have 3 people aged 24\n",
            "We have 2 people aged 25\n",
            "We have 1 people aged 27\n",
            "We have 1 people aged 30\n",
            "We have 3 people aged 31\n",
            "We have 1 people aged 32\n",
            "We have 1 people aged 33\n",
            "We have 2 people aged 34\n",
            "We have 3 people aged 35\n",
            "We have 3 people aged 36\n",
            "We have 1 people aged 37\n",
            "We have 2 people aged 39\n",
            "We have 1 people aged 40\n",
            "We have 1 people aged 42\n",
            "We have 2 people aged 44\n",
            "We have 2 people aged 48\n",
            "We have 1 people aged 49\n",
            "We have 1 people aged 50\n",
            "We have 2 people aged 51\n",
            "We have 2 people aged 52\n",
            "We have 2 people aged 53\n",
            "We have 2 people aged 54\n",
            "We have 1 people aged 58\n",
            "We have 1 people aged 59\n",
            "We have 1 people aged 60\n",
            "We have 1 people aged 61\n",
            "We have 2 people aged 62\n",
            "We have 1 people aged 63\n",
            "We have 2 people aged 65\n",
            "We have 2 people aged 66\n",
            "We have 1 people aged 67\n",
            "We have 3 people aged 68\n",
            "We have 1 people aged 69\n",
            "We have 1 people aged 70\n",
            "We have 4 people aged 71\n",
            "We have 1 people aged 72\n",
            "We have 5 people aged 73\n",
            "We have 3 people aged 74\n"
          ]
        }
      ],
      "source": [
        "for ppl, age in c.execute(\"SELECT count(*), age FROM persons GROUP BY age\"):\n",
        "    print(\"We have {} people aged {}\".format(ppl, age))"
      ]
    },
    {
      "cell_type": "markdown",
      "metadata": {},
      "source": [
        "### Task 3: Which age group has maximum number of people?"
      ]
    },
    {
      "cell_type": "code",
      "execution_count": 10,
      "metadata": {
        "trusted": true
      },
      "outputs": [
        {
          "name": "stdout",
          "output_type": "stream",
          "text": [
            "Highest number of people 5 came from 73 age group\n"
          ]
        }
      ],
      "source": [
        "for ppl, age in c.execute(\"SELECT count(*), age FROM persons GROUP BY age ORDER BY count(*) DESC\"):\n",
        "    print(\"Highest number of people {} came from {} age group\".format(ppl, age))\n",
        "    break"
      ]
    },
    {
      "cell_type": "markdown",
      "metadata": {},
      "source": [
        "### Task 4: How many people do not have a full name (Last name is blank/null)"
      ]
    },
    {
      "cell_type": "code",
      "execution_count": 11,
      "metadata": {
        "trusted": true
      },
      "outputs": [
        {
          "name": "stdout",
          "output_type": "stream",
          "text": [
            "(60,)\n"
          ]
        }
      ],
      "source": [
        "res = c.execute(\"SELECT count(*) FROM persons WHERE last_name IS null\")\n",
        "for row in res:\n",
        "    print(row)"
      ]
    },
    {
      "cell_type": "markdown",
      "metadata": {},
      "source": [
        "### Task 5: How many people has more than one pet? (*)"
      ]
    },
    {
      "cell_type": "code",
      "execution_count": 12,
      "metadata": {
        "trusted": true
      },
      "outputs": [
        {
          "name": "stdout",
          "output_type": "stream",
          "text": [
            "43 People has more than one pets\n"
          ]
        }
      ],
      "source": [
        "res = c.execute(\"SELECT count(*) FROM (SELECT count(owner_id) FROM pets GROUP BY owner_id HAVING count(owner_id) >1)\")\n",
        "for row in res:\n",
        "    print(\"{} People has more than one pets\".format(row[0]))"
      ]
    },
    {
      "cell_type": "markdown",
      "metadata": {},
      "source": [
        "### Task 6: How many pets have received treaments?"
      ]
    },
    {
      "cell_type": "code",
      "execution_count": 13,
      "metadata": {
        "trusted": true
      },
      "outputs": [
        {
          "name": "stdout",
          "output_type": "stream",
          "text": [
            "(36,)\n"
          ]
        }
      ],
      "source": [
        "res = c.execute(\"SELECT count(*) FROM pets WHERE treatment_done=1\")\n",
        "for row in res:\n",
        "    print(row)"
      ]
    },
    {
      "cell_type": "markdown",
      "metadata": {},
      "source": [
        "### Task 7: How many pets have received treatment that we know the type of? (*)"
      ]
    },
    {
      "cell_type": "code",
      "execution_count": 14,
      "metadata": {
        "trusted": true
      },
      "outputs": [
        {
          "name": "stdout",
          "output_type": "stream",
          "text": [
            "(16,)\n"
          ]
        }
      ],
      "source": [
        "res = c.execute(\"SELECT count(*) FROM pets WHERE treatment_done=1 AND pet_type IS NOT null\")\n",
        "for row in res:\n",
        "    print(row)"
      ]
    },
    {
      "cell_type": "markdown",
      "metadata": {},
      "source": [
        "### Task 8: How many pets are there from the city called \"east port\""
      ]
    },
    {
      "cell_type": "code",
      "execution_count": 15,
      "metadata": {
        "trusted": true
      },
      "outputs": [
        {
          "name": "stdout",
          "output_type": "stream",
          "text": [
            "(49,)\n"
          ]
        }
      ],
      "source": [
        "res = c.execute(\"SELECT count(*) FROM pets JOIN persons ON pets.owner_id = persons.id WHERE persons.city='east port'\")\n",
        "for row in res:\n",
        "    print(row)"
      ]
    },
    {
      "cell_type": "markdown",
      "metadata": {},
      "source": [
        "### Task 9: How many pets are there from the city called \"east port\" and who received a treatment?"
      ]
    },
    {
      "cell_type": "code",
      "execution_count": 16,
      "metadata": {
        "trusted": true
      },
      "outputs": [
        {
          "name": "stdout",
          "output_type": "stream",
          "text": [
            "(11,)\n"
          ]
        }
      ],
      "source": [
        "res = c.execute(\"SELECT count(*) FROM pets JOIN persons ON pets.owner_id = persons.id WHERE persons.city='east port' AND pets.treatment_done=1\")\n",
        "for row in res:\n",
        "    print(row)"
      ]
    }
  ],
  "metadata": {
    "kernelspec": {
      "display_name": "Python 3",
      "language": "python",
      "name": "python3"
    },
    "language_info": {
      "codemirror_mode": {
        "name": "ipython",
        "version": 3
      },
      "file_extension": ".py",
      "mimetype": "text/x-python",
      "name": "python",
      "nbconvert_exporter": "python",
      "pygments_lexer": "ipython3",
      "version": "3.8.5"
    }
  },
  "nbformat": 4,
  "nbformat_minor": 2
}
