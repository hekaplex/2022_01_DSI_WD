{
 "cells": [
  {
   "cell_type": "markdown",
   "metadata": {},
   "source": [
    "### Exercise 1 using the % operator to format"
   ]
  },
  {
   "cell_type": "code",
   "execution_count": 2,
   "metadata": {},
   "outputs": [],
   "source": [
    "from csv import DictReader\n",
    "raw_data = []\n",
    "with open(\"combinded_data.csv\", \"rt\") as fd:\n",
    "    data_rows = DictReader(fd)\n",
    "    for data in data_rows:\n",
    "        raw_data.append(dict(data))"
   ]
  },
  {
   "cell_type": "code",
   "execution_count": 3,
   "metadata": {},
   "outputs": [
    {
     "name": "stdout",
     "output_type": "stream",
     "text": [
      "Name,Age,Height,Weight,Disease_history,Heart_problem\n",
      "Bob,23.0,1.7,70,N,N\n",
      "Alex,45,1.61,61,Y,N\n",
      "George,12.5,1.4,40,N,\n",
      "Alice,34,1.56,51,N,Y\n"
     ]
    }
   ],
   "source": [
    "! head combinded_data.csv"
   ]
  },
  {
   "cell_type": "code",
   "execution_count": 4,
   "metadata": {},
   "outputs": [
    {
     "data": {
      "text/plain": [
       "[{'Name': 'Bob',\n",
       "  'Age': '23.0',\n",
       "  'Height': '1.7',\n",
       "  'Weight': '70',\n",
       "  'Disease_history': 'N',\n",
       "  'Heart_problem': 'N'},\n",
       " {'Name': 'Alex',\n",
       "  'Age': '45',\n",
       "  'Height': '1.61',\n",
       "  'Weight': '61',\n",
       "  'Disease_history': 'Y',\n",
       "  'Heart_problem': 'N'},\n",
       " {'Name': 'George',\n",
       "  'Age': '12.5',\n",
       "  'Height': '1.4',\n",
       "  'Weight': '40',\n",
       "  'Disease_history': 'N',\n",
       "  'Heart_problem': ''},\n",
       " {'Name': 'Alice',\n",
       "  'Age': '34',\n",
       "  'Height': '1.56',\n",
       "  'Weight': '51',\n",
       "  'Disease_history': 'N',\n",
       "  'Heart_problem': 'Y'}]"
      ]
     },
     "execution_count": 4,
     "metadata": {},
     "output_type": "execute_result"
    }
   ],
   "source": [
    "raw_data"
   ]
  },
  {
   "cell_type": "code",
   "execution_count": 10,
   "metadata": {},
   "outputs": [
    {
     "data": {
      "text/plain": [
       "'Alex'"
      ]
     },
     "execution_count": 10,
     "metadata": {},
     "output_type": "execute_result"
    }
   ],
   "source": [
    " raw_data[1][\"Name\"]"
   ]
  },
  {
   "cell_type": "code",
   "execution_count": 11,
   "metadata": {},
   "outputs": [
    {
     "data": {
      "text/plain": [
       "'61'"
      ]
     },
     "execution_count": 11,
     "metadata": {},
     "output_type": "execute_result"
    }
   ],
   "source": [
    "rw = raw_data[1]\n",
    "rw[\"Weight\"]"
   ]
  },
  {
   "cell_type": "code",
   "execution_count": 22,
   "metadata": {},
   "outputs": [
    {
     "data": {
      "text/html": [
       "<div>\n",
       "<style scoped>\n",
       "    .dataframe tbody tr th:only-of-type {\n",
       "        vertical-align: middle;\n",
       "    }\n",
       "\n",
       "    .dataframe tbody tr th {\n",
       "        vertical-align: top;\n",
       "    }\n",
       "\n",
       "    .dataframe thead th {\n",
       "        text-align: right;\n",
       "    }\n",
       "</style>\n",
       "<table border=\"1\" class=\"dataframe\">\n",
       "  <thead>\n",
       "    <tr style=\"text-align: right;\">\n",
       "      <th></th>\n",
       "      <th>Name</th>\n",
       "      <th>Age</th>\n",
       "      <th>Height</th>\n",
       "      <th>Weight</th>\n",
       "      <th>Disease_history</th>\n",
       "      <th>Heart_problem</th>\n",
       "    </tr>\n",
       "  </thead>\n",
       "  <tbody>\n",
       "    <tr>\n",
       "      <th>0</th>\n",
       "      <td>Bob</td>\n",
       "      <td>23.0</td>\n",
       "      <td>1.7</td>\n",
       "      <td>70</td>\n",
       "      <td>N</td>\n",
       "      <td>N</td>\n",
       "    </tr>\n",
       "    <tr>\n",
       "      <th>1</th>\n",
       "      <td>Alex</td>\n",
       "      <td>45</td>\n",
       "      <td>1.61</td>\n",
       "      <td>61</td>\n",
       "      <td>Y</td>\n",
       "      <td>N</td>\n",
       "    </tr>\n",
       "    <tr>\n",
       "      <th>2</th>\n",
       "      <td>George</td>\n",
       "      <td>12.5</td>\n",
       "      <td>1.4</td>\n",
       "      <td>40</td>\n",
       "      <td>N</td>\n",
       "      <td></td>\n",
       "    </tr>\n",
       "    <tr>\n",
       "      <th>3</th>\n",
       "      <td>Alice</td>\n",
       "      <td>34</td>\n",
       "      <td>1.56</td>\n",
       "      <td>51</td>\n",
       "      <td>N</td>\n",
       "      <td>Y</td>\n",
       "    </tr>\n",
       "  </tbody>\n",
       "</table>\n",
       "</div>"
      ],
      "text/plain": [
       "     Name   Age Height Weight Disease_history Heart_problem\n",
       "0     Bob  23.0    1.7     70               N             N\n",
       "1    Alex    45   1.61     61               Y             N\n",
       "2  George  12.5    1.4     40               N              \n",
       "3   Alice    34   1.56     51               N             Y"
      ]
     },
     "execution_count": 22,
     "metadata": {},
     "output_type": "execute_result"
    }
   ],
   "source": [
    "import pandas as pd\n",
    "df = pd.DataFrame(raw_data)\n",
    "df"
   ]
  },
  {
   "cell_type": "code",
   "execution_count": 23,
   "metadata": {},
   "outputs": [
    {
     "data": {
      "text/html": [
       "<div>\n",
       "<style scoped>\n",
       "    .dataframe tbody tr th:only-of-type {\n",
       "        vertical-align: middle;\n",
       "    }\n",
       "\n",
       "    .dataframe tbody tr th {\n",
       "        vertical-align: top;\n",
       "    }\n",
       "\n",
       "    .dataframe thead th {\n",
       "        text-align: right;\n",
       "    }\n",
       "</style>\n",
       "<table border=\"1\" class=\"dataframe\">\n",
       "  <thead>\n",
       "    <tr style=\"text-align: right;\">\n",
       "      <th></th>\n",
       "      <th>Name</th>\n",
       "      <th>Age</th>\n",
       "      <th>Height</th>\n",
       "      <th>Weight</th>\n",
       "      <th>Disease_history</th>\n",
       "      <th>Heart_problem</th>\n",
       "    </tr>\n",
       "  </thead>\n",
       "  <tbody>\n",
       "    <tr>\n",
       "      <th>count</th>\n",
       "      <td>4</td>\n",
       "      <td>4</td>\n",
       "      <td>4</td>\n",
       "      <td>4</td>\n",
       "      <td>4</td>\n",
       "      <td>4</td>\n",
       "    </tr>\n",
       "    <tr>\n",
       "      <th>unique</th>\n",
       "      <td>4</td>\n",
       "      <td>4</td>\n",
       "      <td>4</td>\n",
       "      <td>4</td>\n",
       "      <td>2</td>\n",
       "      <td>3</td>\n",
       "    </tr>\n",
       "    <tr>\n",
       "      <th>top</th>\n",
       "      <td>Alex</td>\n",
       "      <td>23.0</td>\n",
       "      <td>1.56</td>\n",
       "      <td>61</td>\n",
       "      <td>N</td>\n",
       "      <td>N</td>\n",
       "    </tr>\n",
       "    <tr>\n",
       "      <th>freq</th>\n",
       "      <td>1</td>\n",
       "      <td>1</td>\n",
       "      <td>1</td>\n",
       "      <td>1</td>\n",
       "      <td>3</td>\n",
       "      <td>2</td>\n",
       "    </tr>\n",
       "  </tbody>\n",
       "</table>\n",
       "</div>"
      ],
      "text/plain": [
       "        Name   Age Height Weight Disease_history Heart_problem\n",
       "count      4     4      4      4               4             4\n",
       "unique     4     4      4      4               2             3\n",
       "top     Alex  23.0   1.56     61               N             N\n",
       "freq       1     1      1      1               3             2"
      ]
     },
     "execution_count": 23,
     "metadata": {},
     "output_type": "execute_result"
    }
   ],
   "source": [
    "df.describe(include=\"O\")"
   ]
  },
  {
   "cell_type": "code",
   "execution_count": 12,
   "metadata": {},
   "outputs": [
    {
     "name": "stdout",
     "output_type": "stream",
     "text": [
      "Bob is 23.0 years old and is 1.7 meter tall weiging about 70 kg.\n",
      "\n",
      "    Has a hsitory of family illness: N.\n",
      "\n",
      "    Presently suffering from a heart disease: N\n",
      "    \n",
      "Alex is 45 years old and is 1.61 meter tall weiging about 61 kg.\n",
      "\n",
      "    Has a hsitory of family illness: Y.\n",
      "\n",
      "    Presently suffering from a heart disease: N\n",
      "    \n",
      "George is 12.5 years old and is 1.4 meter tall weiging about 40 kg.\n",
      "\n",
      "    Has a hsitory of family illness: N.\n",
      "\n",
      "    Presently suffering from a heart disease: \n",
      "    \n",
      "Alice is 34 years old and is 1.56 meter tall weiging about 51 kg.\n",
      "\n",
      "    Has a hsitory of family illness: N.\n",
      "\n",
      "    Presently suffering from a heart disease: Y\n",
      "    \n"
     ]
    }
   ],
   "source": [
    "for data in raw_data:\n",
    "    report_str = \"\"\"%s is %s years old and is %s meter tall weiging about %s kg.\\n\n",
    "    Has a hsitory of family illness: %s.\\n\n",
    "    Presently suffering from a heart disease: %s\n",
    "    \"\"\" % (data[\"Name\"], data[\"Age\"], data[\"Height\"], data[\"Weight\"], data[\"Disease_history\"], data[\"Heart_problem\"])\n",
    "    print(report_str)"
   ]
  },
  {
   "cell_type": "markdown",
   "metadata": {},
   "source": [
    "### Exercise 2 (using the 'format' statement)"
   ]
  },
  {
   "cell_type": "code",
   "execution_count": 13,
   "metadata": {},
   "outputs": [
    {
     "name": "stdout",
     "output_type": "stream",
     "text": [
      "Bob is 23.0 years old and is 1.7 meter tall weiging about 70 kg.\n",
      "\n",
      "    Has a hsitory of family illness: N.\n",
      "\n",
      "    Presently suffering from a heart disease: N\n",
      "    \n",
      "Alex is 45 years old and is 1.61 meter tall weiging about 61 kg.\n",
      "\n",
      "    Has a hsitory of family illness: Y.\n",
      "\n",
      "    Presently suffering from a heart disease: N\n",
      "    \n",
      "George is 12.5 years old and is 1.4 meter tall weiging about 40 kg.\n",
      "\n",
      "    Has a hsitory of family illness: N.\n",
      "\n",
      "    Presently suffering from a heart disease: \n",
      "    \n",
      "Alice is 34 years old and is 1.56 meter tall weiging about 51 kg.\n",
      "\n",
      "    Has a hsitory of family illness: N.\n",
      "\n",
      "    Presently suffering from a heart disease: Y\n",
      "    \n"
     ]
    }
   ],
   "source": [
    "for data in raw_data:\n",
    "    report_str = \"\"\"{} is {} years old and is {} meter tall weiging about {} kg.\\n\n",
    "    Has a hsitory of family illness: {}.\\n\n",
    "    Presently suffering from a heart disease: {}\n",
    "    \"\"\".format(data[\"Name\"], data[\"Age\"], data[\"Height\"], data[\"Weight\"], data[\"Disease_history\"], data[\"Heart_problem\"])\n",
    "    print(report_str)"
   ]
  },
  {
   "cell_type": "markdown",
   "metadata": {},
   "source": [
    "### Exercise 3 (Naming the variables inside the string representation)"
   ]
  },
  {
   "cell_type": "code",
   "execution_count": 15,
   "metadata": {},
   "outputs": [
    {
     "name": "stdout",
     "output_type": "stream",
     "text": [
      "Bob is 23.0 years old and is 1.7 meter tall weiging about 70 kg.\n",
      "\n",
      "    Has a hsitory of family illness: N.\n",
      "\n",
      "    Presently suffering from a heart disease: N\n",
      "    \n",
      "Alex is 45 years old and is 1.61 meter tall weiging about 61 kg.\n",
      "\n",
      "    Has a hsitory of family illness: Y.\n",
      "\n",
      "    Presently suffering from a heart disease: N\n",
      "    \n",
      "George is 12.5 years old and is 1.4 meter tall weiging about 40 kg.\n",
      "\n",
      "    Has a hsitory of family illness: N.\n",
      "\n",
      "    Presently suffering from a heart disease: \n",
      "    \n",
      "Alice is 34 years old and is 1.56 meter tall weiging about 51 kg.\n",
      "\n",
      "    Has a hsitory of family illness: N.\n",
      "\n",
      "    Presently suffering from a heart disease: Y\n",
      "    \n"
     ]
    }
   ],
   "source": [
    "for data in raw_data:\n",
    "    report_str = \"\"\"{Name} is {Age} years old and is {Height} meter tall weiging about {Weight} kg.\\n\n",
    "    Has a hsitory of family illness: {Disease_history}.\\n\n",
    "    Presently suffering from a heart disease: {Heart_problem}\n",
    "    \"\"\".format(**data)\n",
    "    print(report_str)"
   ]
  },
  {
   "cell_type": "markdown",
   "metadata": {},
   "source": [
    "### Exercise 4 (Various conversion tricks with format)"
   ]
  },
  {
   "cell_type": "code",
   "execution_count": 18,
   "metadata": {},
   "outputs": [
    {
     "name": "stdout",
     "output_type": "stream",
     "text": [
      "The binary representation of 42 is - 52\n"
     ]
    }
   ],
   "source": [
    "original_number = 42\n",
    "print(\"The binary representation of 42 is - {0:o}\".format(original_number))"
   ]
  },
  {
   "cell_type": "code",
   "execution_count": 31,
   "metadata": {},
   "outputs": [
    {
     "name": "stdout",
     "output_type": "stream",
     "text": [
      "            I am at the center            \n"
     ]
    }
   ],
   "source": [
    "print(\"{:^42}\".format(\"I am at the center\"))"
   ]
  },
  {
   "cell_type": "code",
   "execution_count": 33,
   "metadata": {},
   "outputs": [
    {
     "name": "stdout",
     "output_type": "stream",
     "text": [
      "============I am at the center============\n"
     ]
    }
   ],
   "source": [
    "print(\"{:=^42}\".format(\"I am at the center\"))"
   ]
  },
  {
   "cell_type": "markdown",
   "metadata": {},
   "source": [
    "### Exercise 5 (Date formatting)"
   ]
  },
  {
   "cell_type": "code",
   "execution_count": 34,
   "metadata": {},
   "outputs": [],
   "source": [
    "from datetime import datetime"
   ]
  },
  {
   "cell_type": "code",
   "execution_count": 35,
   "metadata": {},
   "outputs": [
    {
     "name": "stdout",
     "output_type": "stream",
     "text": [
      "The present datetime is 2018-10-14 09:57:15\n"
     ]
    }
   ],
   "source": [
    "print(\"The present datetime is {:%Y-%m-%d %H:%M:%S}\".format(datetime.utcnow()))"
   ]
  },
  {
   "cell_type": "code",
   "execution_count": null,
   "metadata": {},
   "outputs": [],
   "source": []
  }
 ],
 "metadata": {
  "kernelspec": {
   "display_name": "Python 3",
   "language": "python",
   "name": "python3"
  },
  "language_info": {
   "codemirror_mode": {
    "name": "ipython",
    "version": 3
   },
   "file_extension": ".py",
   "mimetype": "text/x-python",
   "name": "python",
   "nbconvert_exporter": "python",
   "pygments_lexer": "ipython3",
   "version": "3.8.5"
  }
 },
 "nbformat": 4,
 "nbformat_minor": 2
}
