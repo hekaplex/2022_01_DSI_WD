{
  "cells": [
    {
      "metadata": {},
      "cell_type": "markdown",
      "source": "# Leasson 3: Activity\n\nIn this acitvity, you will work with **Boston Housing Price dataset**. The Boston house-price data has been used in many machine learning papers that address regression problems. You will read the data from a CSV file into a Pandas DataFrame and do some data basic wrangling with it.\n\nFollowing are the details of the attributes of this dataset for your reference. You may have to refer them while answering question on this activity.\n\n* **CRIM**: per capita crime rate by town\n* **ZN**: proportion of residential land zoned for lots over 25,000 sq.ft.\n* **INDUS**: proportion of non-retail business acres per town\n* **CHAS**: Charles River dummy variable (= 1 if tract bounds river; 0 otherwise)\n* **NOX**: nitric oxides concentration (parts per 10 million)\n* **RM**: average number of rooms per dwelling\n* **AGE**: proportion of owner-occupied units built prior to 1940\n* **DIS**: weighted distances to five Boston employment centres\n* **RAD**: index of accessibility to radial highways\n* **TAX**: full-value property-tax rate per 10,000 dollars\n* **PTRATIO**: pupil-teacher ratio by town\n* **B**: 1000(Bk - 0.63)^2 where Bk is the proportion of blacks by town\n* **LSTAT**: % of lower status of the population\n* **PRICE**: Median value of owner-occupied homes in $1000's"
    },
    {
      "metadata": {},
      "cell_type": "markdown",
      "source": "### Load necessary libraries"
    },
    {
      "metadata": {
        "trusted": false
      },
      "cell_type": "code",
      "source": "# Write your code here",
      "execution_count": 1,
      "outputs": []
    },
    {
      "metadata": {},
      "cell_type": "markdown",
      "source": "### Read in the Boston housing data set (given as a .csv file) from the local directory"
    },
    {
      "metadata": {
        "trusted": false
      },
      "cell_type": "code",
      "source": "# Hint: The Pandas function for reading a CSV file is 'read_csv'.\n# Don't forget that all functions in Pandas can be accessed by syntax like pd.{function_name}\n# write your code here",
      "execution_count": null,
      "outputs": []
    },
    {
      "metadata": {},
      "cell_type": "markdown",
      "source": "### Check first 10 records"
    },
    {
      "metadata": {
        "trusted": false
      },
      "cell_type": "code",
      "source": "# Write your code here",
      "execution_count": 1,
      "outputs": []
    },
    {
      "metadata": {},
      "cell_type": "markdown",
      "source": "### In total, how many records are there?"
    },
    {
      "metadata": {
        "trusted": false
      },
      "cell_type": "code",
      "source": "# Write your code here to answer the question above",
      "execution_count": 2,
      "outputs": []
    },
    {
      "metadata": {},
      "cell_type": "markdown",
      "source": "### Create a smaller DataFrame with columns which do not include 'CHAS', 'NOX', 'B', and 'LSTAT'"
    },
    {
      "metadata": {
        "trusted": false
      },
      "cell_type": "code",
      "source": "# Write your code here",
      "execution_count": 4,
      "outputs": []
    },
    {
      "metadata": {},
      "cell_type": "markdown",
      "source": "### Check the last 7 records of the new DataFrame you just created"
    },
    {
      "metadata": {
        "trusted": false
      },
      "cell_type": "code",
      "source": "# Write your code here",
      "execution_count": 3,
      "outputs": []
    },
    {
      "metadata": {},
      "cell_type": "markdown",
      "source": "### Can you plot histograms of all the variables (columns) in the new DataFrame?\nYou can of course plot them one by one. But try to write a short code to plot all of them once.\n<br>***Hint***: 'For loop'!\n<br>***Bonus problem***: Can you also show each plot with its unique title i.e. of the variable that it is a plot of? "
    },
    {
      "metadata": {
        "scrolled": false,
        "trusted": false
      },
      "cell_type": "code",
      "source": "# Write your code here",
      "execution_count": 5,
      "outputs": []
    },
    {
      "metadata": {},
      "cell_type": "markdown",
      "source": "### Crime rate could be an indicator of house price (people don't want to live in high-crime areas). Create a scatter plot of crime rate vs. Price."
    },
    {
      "metadata": {
        "trusted": false
      },
      "cell_type": "code",
      "source": "# Write your code here",
      "execution_count": 6,
      "outputs": []
    },
    {
      "metadata": {},
      "cell_type": "markdown",
      "source": "### We can understand the relationship better if we plot _log10(crime)_ vs. Price. Create that plot and make it nice. Give proper title, x-axis, y-axis label, make data points a color of your choice, etc...\n***Hint***: Try `np.log10` function"
    },
    {
      "metadata": {
        "trusted": false
      },
      "cell_type": "code",
      "source": "# Write your code here",
      "execution_count": 7,
      "outputs": []
    },
    {
      "metadata": {},
      "cell_type": "markdown",
      "source": "### Can you calculate the mean rooms per dwelling?"
    },
    {
      "metadata": {
        "trusted": false
      },
      "cell_type": "code",
      "source": "# Write your code here",
      "execution_count": 8,
      "outputs": []
    },
    {
      "metadata": {},
      "cell_type": "markdown",
      "source": "### Can you calculate median Age?"
    },
    {
      "metadata": {
        "trusted": false
      },
      "cell_type": "code",
      "source": "# Write your code here",
      "execution_count": 9,
      "outputs": []
    },
    {
      "metadata": {},
      "cell_type": "markdown",
      "source": "### Can you calculate average (mean) distances to five Boston employment centres?"
    },
    {
      "metadata": {
        "trusted": false
      },
      "cell_type": "code",
      "source": "# Write your code here",
      "execution_count": 10,
      "outputs": []
    },
    {
      "metadata": {},
      "cell_type": "markdown",
      "source": "### Tricky question: Can you calculate the percentage of houses with low price (< $20,000)?"
    },
    {
      "metadata": {
        "trusted": false
      },
      "cell_type": "code",
      "source": "# Write your code here",
      "execution_count": 11,
      "outputs": []
    }
  ],
  "metadata": {
    "kernelspec": {
      "name": "python3",
      "display_name": "Python 3",
      "language": "python"
    },
    "language_info": {
      "mimetype": "text/x-python",
      "nbconvert_exporter": "python",
      "name": "python",
      "pygments_lexer": "ipython3",
      "version": "3.5.4",
      "file_extension": ".py",
      "codemirror_mode": {
        "version": 3,
        "name": "ipython"
      }
    },
    "latex_envs": {
      "LaTeX_envs_menu_present": true,
      "autoclose": false,
      "autocomplete": true,
      "bibliofile": "biblio.bib",
      "cite_by": "apalike",
      "current_citInitial": 1,
      "eqLabelWithNumbers": true,
      "eqNumInitial": 1,
      "hotkeys": {
        "equation": "Ctrl-E",
        "itemize": "Ctrl-I"
      },
      "labels_anchors": false,
      "latex_user_defs": false,
      "report_style_numbering": false,
      "user_envs_cfg": false
    }
  },
  "nbformat": 4,
  "nbformat_minor": 2
}