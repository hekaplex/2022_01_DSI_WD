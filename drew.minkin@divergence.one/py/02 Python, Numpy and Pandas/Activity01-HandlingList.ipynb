{
  "cells": [
    {
      "metadata": {},
      "cell_type": "markdown",
      "source": "# Create a list of random numbers and then create another list from this one whose elements are divisible by three. Also repeat the experiment few times (at least three times) and calculate the arithimetic mean of the differenence of length of the two lists"
    },
    {
      "metadata": {},
      "cell_type": "markdown",
      "source": "### Task-1\n\nCreate a list of random numbers (at least 100 in length but we encourage you to play with the length)\n\n__Pay attention so that this list has as less number of duplicates as possible__"
    },
    {
      "metadata": {
        "trusted": true
      },
      "cell_type": "code",
      "source": "len(list_task)",
      "execution_count": 20,
      "outputs": [
        {
          "output_type": "execute_result",
          "execution_count": 20,
          "data": {
            "text/plain": "200"
          },
          "metadata": {}
        }
      ]
    },
    {
      "metadata": {
        "trusted": true
      },
      "cell_type": "code",
      "source": "sample_list = [1,2,3]\nsample_set = {1,2,3}\nsample_dict = {\"key1\":1,\"key2\":2,\"key3\":3}\nsample_tuple = (1,2,3)",
      "execution_count": 23,
      "outputs": []
    },
    {
      "metadata": {
        "trusted": true
      },
      "cell_type": "code",
      "source": "type(sample_set)",
      "execution_count": 33,
      "outputs": [
        {
          "output_type": "execute_result",
          "execution_count": 33,
          "data": {
            "text/plain": "set"
          },
          "metadata": {}
        }
      ]
    },
    {
      "metadata": {
        "trusted": true
      },
      "cell_type": "code",
      "source": "sample_list[2]",
      "execution_count": 30,
      "outputs": [
        {
          "output_type": "execute_result",
          "execution_count": 30,
          "data": {
            "text/plain": "3"
          },
          "metadata": {}
        }
      ]
    },
    {
      "metadata": {
        "trusted": true
      },
      "cell_type": "code",
      "source": "sample_tuple[2]",
      "execution_count": 35,
      "outputs": [
        {
          "output_type": "execute_result",
          "execution_count": 35,
          "data": {
            "text/plain": "3"
          },
          "metadata": {}
        }
      ]
    },
    {
      "metadata": {
        "trusted": true
      },
      "cell_type": "code",
      "source": "sample_dict[\"key3\"]",
      "execution_count": 27,
      "outputs": [
        {
          "output_type": "execute_result",
          "execution_count": 27,
          "data": {
            "text/plain": "3"
          },
          "metadata": {}
        }
      ]
    },
    {
      "metadata": {
        "trusted": true
      },
      "cell_type": "code",
      "source": "#help(list)\nnewlist = [sample_set]\n#[{1, 2, 3}]\n#sample_set throws TypeError\nlen(newlist)\n",
      "execution_count": 56,
      "outputs": [
        {
          "output_type": "execute_result",
          "execution_count": 56,
          "data": {
            "text/plain": "1"
          },
          "metadata": {}
        }
      ]
    },
    {
      "metadata": {
        "trusted": true
      },
      "cell_type": "code",
      "source": "sample_set[2]",
      "execution_count": 34,
      "outputs": [
        {
          "output_type": "error",
          "ename": "TypeError",
          "evalue": "'set' object does not support indexing",
          "traceback": [
            "\u001b[0;31m---------------------------------------------------------------------------\u001b[0m",
            "\u001b[0;31mTypeError\u001b[0m                                 Traceback (most recent call last)",
            "\u001b[0;32m<ipython-input-34-e9af49f3aca4>\u001b[0m in \u001b[0;36m<module>\u001b[0;34m()\u001b[0m\n\u001b[0;32m----> 1\u001b[0;31m \u001b[0msample_set\u001b[0m\u001b[0;34m[\u001b[0m\u001b[0;36m2\u001b[0m\u001b[0;34m]\u001b[0m\u001b[0;34m\u001b[0m\u001b[0m\n\u001b[0m",
            "\u001b[0;31mTypeError\u001b[0m: 'set' object does not support indexing"
          ]
        }
      ]
    },
    {
      "metadata": {
        "trusted": true
      },
      "cell_type": "code",
      "source": "### Write your code here below this comment\n\n#add external package aka library\nimport random\n#create range\nrange1 = range(0,200) \n#create random variable\n#rand1 = \nlist_task = [random.randint(0,100000) for x in range1]\n# aka list_task = [random.randint(0,100000) for x in range(0,200) ]\nlist_task.sort()\nlist_task",
      "execution_count": 16,
      "outputs": [
        {
          "output_type": "execute_result",
          "execution_count": 16,
          "data": {
            "text/plain": "[730,\n 1142,\n 1756,\n 2091,\n 2133,\n 2834,\n 4694,\n 5231,\n 5413,\n 5559,\n 6470,\n 7410,\n 7969,\n 9289,\n 9525,\n 9983,\n 10099,\n 10160,\n 10275,\n 10464,\n 11019,\n 11493,\n 11841,\n 12502,\n 12609,\n 12647,\n 13149,\n 14581,\n 14942,\n 15640,\n 15752,\n 16803,\n 17974,\n 18102,\n 18198,\n 18410,\n 18626,\n 18917,\n 19073,\n 19119,\n 19259,\n 19636,\n 20250,\n 22675,\n 23441,\n 24751,\n 24891,\n 25334,\n 25422,\n 25625,\n 25997,\n 26377,\n 26379,\n 26766,\n 27254,\n 27416,\n 27702,\n 28151,\n 29444,\n 29475,\n 29536,\n 29893,\n 29943,\n 30766,\n 31438,\n 31790,\n 32353,\n 32922,\n 33303,\n 34353,\n 34588,\n 34847,\n 35007,\n 35234,\n 35741,\n 35942,\n 36592,\n 36686,\n 37602,\n 38886,\n 39019,\n 39363,\n 40464,\n 41192,\n 41466,\n 41688,\n 42238,\n 42641,\n 42815,\n 44046,\n 45249,\n 46335,\n 47158,\n 47477,\n 47492,\n 48174,\n 48666,\n 49277,\n 50164,\n 50199,\n 50434,\n 51310,\n 51318,\n 51319,\n 52766,\n 53254,\n 53989,\n 54049,\n 54755,\n 55483,\n 56313,\n 56346,\n 56802,\n 56996,\n 57783,\n 57862,\n 57874,\n 57980,\n 59419,\n 59917,\n 60301,\n 60498,\n 60975,\n 61805,\n 61819,\n 64039,\n 64350,\n 64600,\n 64962,\n 65366,\n 65997,\n 66032,\n 66125,\n 66500,\n 66671,\n 67442,\n 67752,\n 67832,\n 68037,\n 68599,\n 69047,\n 69091,\n 69267,\n 70338,\n 70379,\n 70381,\n 70789,\n 71418,\n 72053,\n 72159,\n 72490,\n 73121,\n 73557,\n 74165,\n 74376,\n 75573,\n 76091,\n 76462,\n 76884,\n 78245,\n 78426,\n 78834,\n 79497,\n 80568,\n 81352,\n 81471,\n 81493,\n 82011,\n 82521,\n 83277,\n 83533,\n 85667,\n 85853,\n 87482,\n 87931,\n 88196,\n 88541,\n 88564,\n 89552,\n 89891,\n 90880,\n 91119,\n 92205,\n 92662,\n 92946,\n 93015,\n 93115,\n 94023,\n 94052,\n 95099,\n 95663,\n 97400,\n 97440,\n 97469,\n 97652,\n 97889,\n 98182,\n 98845,\n 98849,\n 99616]"
          },
          "metadata": {}
        }
      ]
    },
    {
      "metadata": {
        "trusted": true
      },
      "cell_type": "code",
      "source": "",
      "execution_count": null,
      "outputs": []
    },
    {
      "metadata": {
        "trusted": true
      },
      "cell_type": "code",
      "source": "help(list_task)",
      "execution_count": 21,
      "outputs": [
        {
          "output_type": "stream",
          "text": "Help on list object:\n\nclass list(object)\n |  list() -> new empty list\n |  list(iterable) -> new list initialized from iterable's items\n |  \n |  Methods defined here:\n |  \n |  __add__(self, value, /)\n |      Return self+value.\n |  \n |  __contains__(self, key, /)\n |      Return key in self.\n |  \n |  __delitem__(self, key, /)\n |      Delete self[key].\n |  \n |  __eq__(self, value, /)\n |      Return self==value.\n |  \n |  __ge__(self, value, /)\n |      Return self>=value.\n |  \n |  __getattribute__(self, name, /)\n |      Return getattr(self, name).\n |  \n |  __getitem__(...)\n |      x.__getitem__(y) <==> x[y]\n |  \n |  __gt__(self, value, /)\n |      Return self>value.\n |  \n |  __iadd__(self, value, /)\n |      Implement self+=value.\n |  \n |  __imul__(self, value, /)\n |      Implement self*=value.\n |  \n |  __init__(self, /, *args, **kwargs)\n |      Initialize self.  See help(type(self)) for accurate signature.\n |  \n |  __iter__(self, /)\n |      Implement iter(self).\n |  \n |  __le__(self, value, /)\n |      Return self<=value.\n |  \n |  __len__(self, /)\n |      Return len(self).\n |  \n |  __lt__(self, value, /)\n |      Return self<value.\n |  \n |  __mul__(self, value, /)\n |      Return self*value.n\n |  \n |  __ne__(self, value, /)\n |      Return self!=value.\n |  \n |  __new__(*args, **kwargs) from builtins.type\n |      Create and return a new object.  See help(type) for accurate signature.\n |  \n |  __repr__(self, /)\n |      Return repr(self).\n |  \n |  __reversed__(...)\n |      L.__reversed__() -- return a reverse iterator over the list\n |  \n |  __rmul__(self, value, /)\n |      Return self*value.\n |  \n |  __setitem__(self, key, value, /)\n |      Set self[key] to value.\n |  \n |  __sizeof__(...)\n |      L.__sizeof__() -- size of L in memory, in bytes\n |  \n |  append(...)\n |      L.append(object) -> None -- append object to end\n |  \n |  clear(...)\n |      L.clear() -> None -- remove all items from L\n |  \n |  copy(...)\n |      L.copy() -> list -- a shallow copy of L\n |  \n |  count(...)\n |      L.count(value) -> integer -- return number of occurrences of value\n |  \n |  extend(...)\n |      L.extend(iterable) -> None -- extend list by appending elements from the iterable\n |  \n |  index(...)\n |      L.index(value, [start, [stop]]) -> integer -- return first index of value.\n |      Raises ValueError if the value is not present.\n |  \n |  insert(...)\n |      L.insert(index, object) -- insert object before index\n |  \n |  pop(...)\n |      L.pop([index]) -> item -- remove and return item at index (default last).\n |      Raises IndexError if list is empty or index is out of range.\n |  \n |  remove(...)\n |      L.remove(value) -> None -- remove first occurrence of value.\n |      Raises ValueError if the value is not present.\n |  \n |  reverse(...)\n |      L.reverse() -- reverse *IN PLACE*\n |  \n |  sort(...)\n |      L.sort(key=None, reverse=False) -> None -- stable sort *IN PLACE*\n |  \n |  ----------------------------------------------------------------------\n |  Data and other attributes defined here:\n |  \n |  __hash__ = None\n\n",
          "name": "stdout"
        }
      ]
    },
    {
      "metadata": {
        "trusted": true
      },
      "cell_type": "code",
      "source": "list_task.sort()",
      "execution_count": 8,
      "outputs": []
    },
    {
      "metadata": {
        "trusted": true
      },
      "cell_type": "code",
      "source": "type(list_task)",
      "execution_count": 13,
      "outputs": [
        {
          "output_type": "execute_result",
          "execution_count": 13,
          "data": {
            "text/plain": "NoneType"
          },
          "metadata": {}
        }
      ]
    },
    {
      "metadata": {
        "trusted": true
      },
      "cell_type": "code",
      "source": "help(random)",
      "execution_count": 4,
      "outputs": [
        {
          "output_type": "stream",
          "text": "Help on module random:\n\nNAME\n    random - Random variable generators.\n\nMODULE REFERENCE\n    https://docs.python.org/3.5/library/random\n    \n    The following documentation is automatically generated from the Python\n    source files.  It may be incomplete, incorrect or include features that\n    are considered implementation detail and may vary between Python\n    implementations.  When in doubt, consult the module reference at the\n    location listed above.\n\nDESCRIPTION\n        integers\n        --------\n               uniform within range\n    \n        sequences\n        ---------\n               pick random element\n               pick random sample\n               generate random permutation\n    \n        distributions on the real line:\n        ------------------------------\n               uniform\n               triangular\n               normal (Gaussian)\n               lognormal\n               negative exponential\n               gamma\n               beta\n               pareto\n               Weibull\n    \n        distributions on the circle (angles 0 to 2pi)\n        ---------------------------------------------\n               circular uniform\n               von Mises\n    \n    General notes on the underlying Mersenne Twister core generator:\n    \n    * The period is 2**19937-1.\n    * It is one of the most extensively tested generators in existence.\n    * The random() method is implemented in C, executes in a single Python step,\n      and is, therefore, threadsafe.\n\nCLASSES\n    _random.Random(builtins.object)\n        Random\n            SystemRandom\n    \n    class Random(_random.Random)\n     |  Random number generator base class used by bound module functions.\n     |  \n     |  Used to instantiate instances of Random to get generators that don't\n     |  share state.\n     |  \n     |  Class Random can also be subclassed if you want to use a different basic\n     |  generator of your own devising: in that case, override the following\n     |  methods:  random(), seed(), getstate(), and setstate().\n     |  Optionally, implement a getrandbits() method so that randrange()\n     |  can cover arbitrarily large ranges.\n     |  \n     |  Method resolution order:\n     |      Random\n     |      _random.Random\n     |      builtins.object\n     |  \n     |  Methods defined here:\n     |  \n     |  __getstate__(self)\n     |      # Issue 17489: Since __reduce__ was defined to fix #759889 this is no\n     |      # longer called; we leave it here because it has been here since random was\n     |      # rewritten back in 2001 and why risk breaking something.\n     |  \n     |  __init__(self, x=None)\n     |      Initialize an instance.\n     |      \n     |      Optional argument x controls seeding, as for Random.seed().\n     |  \n     |  __reduce__(self)\n     |      helper for pickle\n     |  \n     |  __setstate__(self, state)\n     |  \n     |  betavariate(self, alpha, beta)\n     |      Beta distribution.\n     |      \n     |      Conditions on the parameters are alpha > 0 and beta > 0.\n     |      Returned values range between 0 and 1.\n     |  \n     |  choice(self, seq)\n     |      Choose a random element from a non-empty sequence.\n     |  \n     |  expovariate(self, lambd)\n     |      Exponential distribution.\n     |      \n     |      lambd is 1.0 divided by the desired mean.  It should be\n     |      nonzero.  (The parameter would be called \"lambda\", but that is\n     |      a reserved word in Python.)  Returned values range from 0 to\n     |      positive infinity if lambd is positive, and from negative\n     |      infinity to 0 if lambd is negative.\n     |  \n     |  gammavariate(self, alpha, beta)\n     |      Gamma distribution.  Not the gamma function!\n     |      \n     |      Conditions on the parameters are alpha > 0 and beta > 0.\n     |      \n     |      The probability distribution function is:\n     |      \n     |                  x ** (alpha - 1) * math.exp(-x / beta)\n     |        pdf(x) =  --------------------------------------\n     |                    math.gamma(alpha) * beta ** alpha\n     |  \n     |  gauss(self, mu, sigma)\n     |      Gaussian distribution.\n     |      \n     |      mu is the mean, and sigma is the standard deviation.  This is\n     |      slightly faster than the normalvariate() function.\n     |      \n     |      Not thread-safe without a lock around calls.\n     |  \n     |  getstate(self)\n     |      Return internal state; can be passed to setstate() later.\n     |  \n     |  lognormvariate(self, mu, sigma)\n     |      Log normal distribution.\n     |      \n     |      If you take the natural logarithm of this distribution, you'll get a\n     |      normal distribution with mean mu and standard deviation sigma.\n     |      mu can have any value, and sigma must be greater than zero.\n     |  \n     |  normalvariate(self, mu, sigma)\n     |      Normal distribution.\n     |      \n     |      mu is the mean, and sigma is the standard deviation.\n     |  \n     |  paretovariate(self, alpha)\n     |      Pareto distribution.  alpha is the shape parameter.\n     |  \n     |  randint(self, a, b)\n     |      Return random integer in range [a, b], including both end points.\n     |  \n     |  randrange(self, start, stop=None, step=1, _int=<class 'int'>)\n     |      Choose a random item from range(start, stop[, step]).\n     |      \n     |      This fixes the problem with randint() which includes the\n     |      endpoint; in Python this is usually not what you want.\n     |  \n     |  sample(self, population, k)\n     |      Chooses k unique random elements from a population sequence or set.\n     |      \n     |      Returns a new list containing elements from the population while\n     |      leaving the original population unchanged.  The resulting list is\n     |      in selection order so that all sub-slices will also be valid random\n     |      samples.  This allows raffle winners (the sample) to be partitioned\n     |      into grand prize and second place winners (the subslices).\n     |      \n     |      Members of the population need not be hashable or unique.  If the\n     |      population contains repeats, then each occurrence is a possible\n     |      selection in the sample.\n     |      \n     |      To choose a sample in a range of integers, use range as an argument.\n     |      This is especially fast and space efficient for sampling from a\n     |      large population:   sample(range(10000000), 60)\n     |  \n     |  seed(self, a=None, version=2)\n     |      Initialize internal state from hashable object.\n     |      \n     |      None or no argument seeds from current time or from an operating\n     |      system specific randomness source if available.\n     |      \n     |      If *a* is an int, all bits are used.\n     |      \n     |      For version 2 (the default), all of the bits are used if *a* is a str,\n     |      bytes, or bytearray.  For version 1 (provided for reproducing random\n     |      sequences from older versions of Python), the algorithm for str and\n     |      bytes generates a narrower range of seeds.\n     |  \n     |  setstate(self, state)\n     |      Restore internal state from object returned by getstate().\n     |  \n     |  shuffle(self, x, random=None)\n     |      Shuffle list x in place, and return None.\n     |      \n     |      Optional argument random is a 0-argument function returning a\n     |      random float in [0.0, 1.0); if it is the default None, the\n     |      standard random.random will be used.\n     |  \n     |  triangular(self, low=0.0, high=1.0, mode=None)\n     |      Triangular distribution.\n     |      \n     |      Continuous distribution bounded by given lower and upper limits,\n     |      and having a given mode value in-between.\n     |      \n     |      http://en.wikipedia.org/wiki/Triangular_distribution\n     |  \n     |  uniform(self, a, b)\n     |      Get a random number in the range [a, b) or [a, b] depending on rounding.\n     |  \n     |  vonmisesvariate(self, mu, kappa)\n     |      Circular data distribution.\n     |      \n     |      mu is the mean angle, expressed in radians between 0 and 2*pi, and\n     |      kappa is the concentration parameter, which must be greater than or\n     |      equal to zero.  If kappa is equal to zero, this distribution reduces\n     |      to a uniform random angle over the range 0 to 2*pi.\n     |  \n     |  weibullvariate(self, alpha, beta)\n     |      Weibull distribution.\n     |      \n     |      alpha is the scale parameter and beta is the shape parameter.\n     |  \n     |  ----------------------------------------------------------------------\n     |  Data descriptors defined here:\n     |  \n     |  __dict__\n     |      dictionary for instance variables (if defined)\n     |  \n     |  __weakref__\n     |      list of weak references to the object (if defined)\n     |  \n     |  ----------------------------------------------------------------------\n     |  Data and other attributes defined here:\n     |  \n     |  VERSION = 3\n     |  \n     |  ----------------------------------------------------------------------\n     |  Methods inherited from _random.Random:\n     |  \n     |  __getattribute__(self, name, /)\n     |      Return getattr(self, name).\n     |  \n     |  __new__(*args, **kwargs) from builtins.type\n     |      Create and return a new object.  See help(type) for accurate signature.\n     |  \n     |  getrandbits(...)\n     |      getrandbits(k) -> x.  Generates an int with k random bits.\n     |  \n     |  random(...)\n     |      random() -> x in the interval [0, 1).\n    \n    class SystemRandom(Random)\n     |  Alternate random number generator using sources provided\n     |  by the operating system (such as /dev/urandom on Unix or\n     |  CryptGenRandom on Windows).\n     |  \n     |   Not available on all systems (see os.urandom() for details).\n     |  \n     |  Method resolution order:\n     |      SystemRandom\n     |      Random\n     |      _random.Random\n     |      builtins.object\n     |  \n     |  Methods defined here:\n     |  \n     |  getrandbits(self, k)\n     |      getrandbits(k) -> x.  Generates an int with k random bits.\n     |  \n     |  getstate = _notimplemented(self, *args, **kwds)\n     |  \n     |  random(self)\n     |      Get the next random number in the range [0.0, 1.0).\n     |  \n     |  seed(self, *args, **kwds)\n     |      Stub method.  Not used for a system random number generator.\n     |  \n     |  setstate = _notimplemented(self, *args, **kwds)\n     |  \n     |  ----------------------------------------------------------------------\n     |  Methods inherited from Random:\n     |  \n     |  __getstate__(self)\n     |      # Issue 17489: Since __reduce__ was defined to fix #759889 this is no\n     |      # longer called; we leave it here because it has been here since random was\n     |      # rewritten back in 2001 and why risk breaking something.\n     |  \n     |  __init__(self, x=None)\n     |      Initialize an instance.\n     |      \n     |      Optional argument x controls seeding, as for Random.seed().\n     |  \n     |  __reduce__(self)\n     |      helper for pickle\n     |  \n     |  __setstate__(self, state)\n     |  \n     |  betavariate(self, alpha, beta)\n     |      Beta distribution.\n     |      \n     |      Conditions on the parameters are alpha > 0 and beta > 0.\n     |      Returned values range between 0 and 1.\n     |  \n     |  choice(self, seq)\n     |      Choose a random element from a non-empty sequence.\n     |  \n     |  expovariate(self, lambd)\n     |      Exponential distribution.\n     |      \n     |      lambd is 1.0 divided by the desired mean.  It should be\n     |      nonzero.  (The parameter would be called \"lambda\", but that is\n     |      a reserved word in Python.)  Returned values range from 0 to\n     |      positive infinity if lambd is positive, and from negative\n     |      infinity to 0 if lambd is negative.\n     |  \n     |  gammavariate(self, alpha, beta)\n     |      Gamma distribution.  Not the gamma function!\n     |      \n     |      Conditions on the parameters are alpha > 0 and beta > 0.\n     |      \n     |      The probability distribution function is:\n     |      \n     |                  x ** (alpha - 1) * math.exp(-x / beta)\n     |        pdf(x) =  --------------------------------------\n     |                    math.gamma(alpha) * beta ** alpha\n     |  \n     |  gauss(self, mu, sigma)\n     |      Gaussian distribution.\n     |      \n     |      mu is the mean, and sigma is the standard deviation.  This is\n     |      slightly faster than the normalvariate() function.\n     |      \n     |      Not thread-safe without a lock around calls.\n     |  \n     |  lognormvariate(self, mu, sigma)\n     |      Log normal distribution.\n     |      \n     |      If you take the natural logarithm of this distribution, you'll get a\n     |      normal distribution with mean mu and standard deviation sigma.\n     |      mu can have any value, and sigma must be greater than zero.\n     |  \n     |  normalvariate(self, mu, sigma)\n     |      Normal distribution.\n     |      \n     |      mu is the mean, and sigma is the standard deviation.\n     |  \n     |  paretovariate(self, alpha)\n     |      Pareto distribution.  alpha is the shape parameter.\n     |  \n     |  randint(self, a, b)\n     |      Return random integer in range [a, b], including both end points.\n     |  \n     |  randrange(self, start, stop=None, step=1, _int=<class 'int'>)\n     |      Choose a random item from range(start, stop[, step]).\n     |      \n     |      This fixes the problem with randint() which includes the\n     |      endpoint; in Python this is usually not what you want.\n     |  \n     |  sample(self, population, k)\n     |      Chooses k unique random elements from a population sequence or set.\n     |      \n     |      Returns a new list containing elements from the population while\n     |      leaving the original population unchanged.  The resulting list is\n     |      in selection order so that all sub-slices will also be valid random\n     |      samples.  This allows raffle winners (the sample) to be partitioned\n     |      into grand prize and second place winners (the subslices).\n     |      \n     |      Members of the population need not be hashable or unique.  If the\n     |      population contains repeats, then each occurrence is a possible\n     |      selection in the sample.\n     |      \n     |      To choose a sample in a range of integers, use range as an argument.\n     |      This is especially fast and space efficient for sampling from a\n     |      large population:   sample(range(10000000), 60)\n     |  \n     |  shuffle(self, x, random=None)\n     |      Shuffle list x in place, and return None.\n     |      \n     |      Optional argument random is a 0-argument function returning a\n     |      random float in [0.0, 1.0); if it is the default None, the\n     |      standard random.random will be used.\n     |  \n     |  triangular(self, low=0.0, high=1.0, mode=None)\n     |      Triangular distribution.\n     |      \n     |      Continuous distribution bounded by given lower and upper limits,\n     |      and having a given mode value in-between.\n     |      \n     |      http://en.wikipedia.org/wiki/Triangular_distribution\n     |  \n     |  uniform(self, a, b)\n     |      Get a random number in the range [a, b) or [a, b] depending on rounding.\n     |  \n     |  vonmisesvariate(self, mu, kappa)\n     |      Circular data distribution.\n     |      \n     |      mu is the mean angle, expressed in radians between 0 and 2*pi, and\n     |      kappa is the concentration parameter, which must be greater than or\n     |      equal to zero.  If kappa is equal to zero, this distribution reduces\n     |      to a uniform random angle over the range 0 to 2*pi.\n     |  \n     |  weibullvariate(self, alpha, beta)\n     |      Weibull distribution.\n     |      \n     |      alpha is the scale parameter and beta is the shape parameter.\n     |  \n     |  ----------------------------------------------------------------------\n     |  Data descriptors inherited from Random:\n     |  \n     |  __dict__\n     |      dictionary for instance variables (if defined)\n     |  \n     |  __weakref__\n     |      list of weak references to the object (if defined)\n     |  \n     |  ----------------------------------------------------------------------\n     |  Data and other attributes inherited from Random:\n     |  \n     |  VERSION = 3\n     |  \n     |  ----------------------------------------------------------------------\n     |  Methods inherited from _random.Random:\n     |  \n     |  __getattribute__(self, name, /)\n     |      Return getattr(self, name).\n     |  \n     |  __new__(*args, **kwargs) from builtins.type\n     |      Create and return a new object.  See help(type) for accurate signature.\n\nFUNCTIONS\n    betavariate(alpha, beta) method of Random instance\n        Beta distribution.\n        \n        Conditions on the parameters are alpha > 0 and beta > 0.\n        Returned values range between 0 and 1.\n    \n    choice(seq) method of Random instance\n        Choose a random element from a non-empty sequence.\n    \n    expovariate(lambd) method of Random instance\n        Exponential distribution.\n        \n        lambd is 1.0 divided by the desired mean.  It should be\n        nonzero.  (The parameter would be called \"lambda\", but that is\n        a reserved word in Python.)  Returned values range from 0 to\n        positive infinity if lambd is positive, and from negative\n        infinity to 0 if lambd is negative.\n    \n    gammavariate(alpha, beta) method of Random instance\n        Gamma distribution.  Not the gamma function!\n        \n        Conditions on the parameters are alpha > 0 and beta > 0.\n        \n        The probability distribution function is:\n        \n                    x ** (alpha - 1) * math.exp(-x / beta)\n          pdf(x) =  --------------------------------------\n                      math.gamma(alpha) * beta ** alpha\n    \n    gauss(mu, sigma) method of Random instance\n        Gaussian distribution.\n        \n        mu is the mean, and sigma is the standard deviation.  This is\n        slightly faster than the normalvariate() function.\n        \n        Not thread-safe without a lock around calls.\n    \n    getrandbits(...) method of Random instance\n        getrandbits(k) -> x.  Generates an int with k random bits.\n    \n    getstate() method of Random instance\n        Return internal state; can be passed to setstate() later.\n    \n    lognormvariate(mu, sigma) method of Random instance\n        Log normal distribution.\n        \n        If you take the natural logarithm of this distribution, you'll get a\n        normal distribution with mean mu and standard deviation sigma.\n        mu can have any value, and sigma must be greater than zero.\n    \n    normalvariate(mu, sigma) method of Random instance\n        Normal distribution.\n        \n        mu is the mean, and sigma is the standard deviation.\n    \n    paretovariate(alpha) method of Random instance\n        Pareto distribution.  alpha is the shape parameter.\n    \n    randint(a, b) method of Random instance\n        Return random integer in range [a, b], including both end points.\n    \n    random(...) method of Random instance\n        random() -> x in the interval [0, 1).\n    \n    randrange(start, stop=None, step=1, _int=<class 'int'>) method of Random instance\n        Choose a random item from range(start, stop[, step]).\n        \n        This fixes the problem with randint() which includes the\n        endpoint; in Python this is usually not what you want.\n    \n    sample(population, k) method of Random instance\n        Chooses k unique random elements from a population sequence or set.\n        \n        Returns a new list containing elements from the population while\n        leaving the original population unchanged.  The resulting list is\n        in selection order so that all sub-slices will also be valid random\n        samples.  This allows raffle winners (the sample) to be partitioned\n        into grand prize and second place winners (the subslices).\n        \n        Members of the population need not be hashable or unique.  If the\n        population contains repeats, then each occurrence is a possible\n        selection in the sample.\n        \n        To choose a sample in a range of integers, use range as an argument.\n        This is especially fast and space efficient for sampling from a\n        large population:   sample(range(10000000), 60)\n    \n    seed(a=None, version=2) method of Random instance\n        Initialize internal state from hashable object.\n        \n        None or no argument seeds from current time or from an operating\n        system specific randomness source if available.\n        \n        If *a* is an int, all bits are used.\n        \n        For version 2 (the default), all of the bits are used if *a* is a str,\n        bytes, or bytearray.  For version 1 (provided for reproducing random\n        sequences from older versions of Python), the algorithm for str and\n        bytes generates a narrower range of seeds.\n    \n    setstate(state) method of Random instance\n        Restore internal state from object returned by getstate().\n    \n    shuffle(x, random=None) method of Random instance\n        Shuffle list x in place, and return None.\n        \n        Optional argument random is a 0-argument function returning a\n        random float in [0.0, 1.0); if it is the default None, the\n        standard random.random will be used.\n    \n    triangular(low=0.0, high=1.0, mode=None) method of Random instance\n        Triangular distribution.\n        \n        Continuous distribution bounded by given lower and upper limits,\n        and having a given mode value in-between.\n        \n        http://en.wikipedia.org/wiki/Triangular_distribution\n    \n    uniform(a, b) method of Random instance\n        Get a random number in the range [a, b) or [a, b] depending on rounding.\n    \n    vonmisesvariate(mu, kappa) method of Random instance\n        Circular data distribution.\n        \n        mu is the mean angle, expressed in radians between 0 and 2*pi, and\n        kappa is the concentration parameter, which must be greater than or\n        equal to zero.  If kappa is equal to zero, this distribution reduces\n        to a uniform random angle over the range 0 to 2*pi.\n    \n    weibullvariate(alpha, beta) method of Random instance\n        Weibull distribution.\n        \n        alpha is the scale parameter and beta is the shape parameter.\n\nDATA\n    __all__ = ['Random', 'seed', 'random', 'uniform', 'randint', 'choice',...\n\nFILE\n    /home/nbuser/anaconda3_420/lib/python3.5/random.py\n\n\n",
          "name": "stdout"
        }
      ]
    },
    {
      "metadata": {
        "trusted": true
      },
      "cell_type": "code",
      "source": "list_task = [random.randint(0,100000) for x in range(0,200) ]\nltn = len(list_task)\nlst = len(set(list_task))\nl",
      "execution_count": 70,
      "outputs": [
        {
          "output_type": "execute_result",
          "execution_count": 70,
          "data": {
            "text/plain": "{841,\n 849,\n 3060,\n 3344,\n 3424,\n 3617,\n 4206,\n 4222,\n 4908,\n 5096,\n 5991,\n 7929,\n 8036,\n 8734,\n 8920,\n 9154,\n 9578,\n 10007,\n 10138,\n 10713,\n 11191,\n 11318,\n 13772,\n 14101,\n 14104,\n 14223,\n 14411,\n 14714,\n 15621,\n 17138,\n 17166,\n 18004,\n 18007,\n 19152,\n 20351,\n 20688,\n 20768,\n 20990,\n 21157,\n 21343,\n 21740,\n 21750,\n 22040,\n 22594,\n 23252,\n 23449,\n 23931,\n 24076,\n 24700,\n 25176,\n 25298,\n 25884,\n 26378,\n 27412,\n 27682,\n 30149,\n 30232,\n 30829,\n 30983,\n 31115,\n 31233,\n 31561,\n 31799,\n 31932,\n 33750,\n 33830,\n 34023,\n 34216,\n 34549,\n 34610,\n 36140,\n 36382,\n 36404,\n 36621,\n 36970,\n 37297,\n 37400,\n 38071,\n 38106,\n 38115,\n 38534,\n 38982,\n 39036,\n 39647,\n 40203,\n 40514,\n 41266,\n 41758,\n 42196,\n 42766,\n 43595,\n 43606,\n 43637,\n 44146,\n 44440,\n 46054,\n 46775,\n 48059,\n 48331,\n 48430,\n 48466,\n 49699,\n 49788,\n 49945,\n 51292,\n 51958,\n 52310,\n 52431,\n 53054,\n 53466,\n 55175,\n 55329,\n 55651,\n 56045,\n 56519,\n 57284,\n 57619,\n 58194,\n 58207,\n 58605,\n 58663,\n 59497,\n 60583,\n 63004,\n 63635,\n 64515,\n 64737,\n 65119,\n 66760,\n 67134,\n 68066,\n 68101,\n 69730,\n 69868,\n 69916,\n 70082,\n 70303,\n 70427,\n 70869,\n 71322,\n 71761,\n 72071,\n 72174,\n 72194,\n 72279,\n 72795,\n 73693,\n 73787,\n 73878,\n 74053,\n 74074,\n 74641,\n 74977,\n 75014,\n 76378,\n 77183,\n 77623,\n 78426,\n 78515,\n 78821,\n 79984,\n 80350,\n 80360,\n 81006,\n 82367,\n 82396,\n 82847,\n 83190,\n 84019,\n 84135,\n 84963,\n 85528,\n 86231,\n 87360,\n 87424,\n 87733,\n 88494,\n 88970,\n 89522,\n 89888,\n 90331,\n 90400,\n 90847,\n 91832,\n 93322,\n 93369,\n 94045,\n 94255,\n 94445,\n 94946,\n 95111,\n 95198,\n 95349,\n 95490,\n 95972,\n 96845,\n 97861,\n 98496,\n 98791,\n 98830}"
          },
          "metadata": {}
        }
      ]
    },
    {
      "metadata": {},
      "cell_type": "markdown",
      "source": "### Task-2\n\nWrite a list comprehension to generate a second list from the one you just created. The condition of membership in the second list is divisibility by 3."
    },
    {
      "metadata": {
        "trusted": true
      },
      "cell_type": "code",
      "source": "set(list_task)",
      "execution_count": 64,
      "outputs": [
        {
          "output_type": "execute_result",
          "execution_count": 64,
          "data": {
            "text/plain": "{864,\n 1669,\n 1814,\n 2555,\n 3469,\n 3748,\n 4055,\n 4214,\n 4431,\n 4613,\n 5349,\n 6734,\n 7956,\n 8130,\n 8692,\n 8867,\n 10494,\n 10506,\n 10964,\n 13578,\n 13774,\n 14332,\n 15368,\n 15857,\n 16083,\n 16861,\n 17065,\n 17757,\n 17838,\n 17873,\n 18858,\n 19064,\n 19317,\n 20051,\n 20170,\n 20534,\n 20541,\n 21276,\n 21752,\n 21998,\n 22059,\n 22790,\n 23045,\n 23518,\n 23593,\n 23962,\n 24286,\n 24397,\n 24688,\n 24846,\n 25429,\n 25907,\n 26068,\n 26168,\n 26461,\n 27110,\n 28227,\n 28677,\n 28950,\n 29037,\n 29104,\n 30064,\n 30207,\n 30676,\n 31736,\n 32376,\n 32899,\n 32921,\n 33344,\n 34251,\n 36093,\n 37087,\n 37672,\n 37744,\n 38142,\n 39498,\n 40020,\n 40171,\n 40359,\n 40582,\n 42364,\n 42554,\n 42641,\n 43500,\n 43586,\n 43856,\n 44024,\n 45849,\n 46426,\n 47846,\n 51275,\n 51284,\n 52415,\n 52903,\n 53476,\n 54093,\n 54121,\n 55324,\n 55773,\n 55899,\n 56064,\n 56450,\n 56998,\n 57687,\n 57777,\n 59853,\n 60654,\n 60816,\n 61139,\n 61516,\n 61914,\n 62106,\n 62767,\n 63099,\n 63560,\n 64013,\n 65340,\n 65504,\n 65507,\n 65632,\n 65862,\n 66441,\n 66727,\n 67959,\n 68466,\n 68506,\n 68566,\n 68820,\n 69446,\n 69483,\n 69500,\n 69787,\n 70207,\n 70338,\n 70546,\n 71729,\n 71841,\n 72292,\n 72324,\n 72445,\n 73000,\n 73273,\n 73497,\n 73750,\n 73844,\n 74050,\n 74841,\n 74951,\n 76093,\n 76149,\n 76874,\n 77397,\n 77951,\n 78295,\n 78636,\n 79561,\n 79708,\n 81475,\n 82235,\n 82301,\n 82553,\n 83096,\n 83411,\n 84020,\n 85108,\n 85784,\n 86298,\n 86369,\n 86585,\n 86591,\n 86630,\n 86858,\n 87846,\n 87891,\n 88162,\n 88246,\n 88848,\n 88871,\n 89314,\n 89322,\n 90167,\n 90528,\n 90608,\n 90697,\n 91409,\n 92067,\n 92690,\n 93318,\n 94423,\n 95029,\n 95046,\n 95898,\n 96741,\n 96779,\n 97172,\n 97403,\n 97710,\n 97910,\n 98178,\n 98442}"
          },
          "metadata": {}
        }
      ]
    },
    {
      "metadata": {
        "trusted": true
      },
      "cell_type": "code",
      "source": "\n#Write a list comprehension to generate a second list from the one you just created. \n#The condition of membership in the second list is divisibility by 3.\n#list_1 = [x for x in range(0, 100) if x % 5 == 0]\n\nlist_task_the_sql = [x for x in set(list_task) if x % 3 == 0]\n#list_task_the_sql = [(x+1)/2.0 for x in list_task if x % 3 == 0]\nlist_task_the_sql.sort()\n#len(list_task_the_sql)\nlen(list_task_the_sql)",
      "execution_count": 79,
      "outputs": [
        {
          "output_type": "execute_result",
          "execution_count": 79,
          "data": {
            "text/plain": "52"
          },
          "metadata": {}
        }
      ]
    },
    {
      "metadata": {},
      "cell_type": "markdown",
      "source": "### Task-3\n\n- Use the `len` function to measure the length of the first list and the second list\n- Store both in two different variables\n- Calculate the difference of length between them"
    },
    {
      "metadata": {
        "trusted": true
      },
      "cell_type": "code",
      "source": "### Write your code below this comment\n\nint_list_task_the_sql = len(list_task_the_sql)\nint_list_task = len(list_task)\nprint(\"difference: \"+str(\n    abs(int_list_task_the_sql - int_list_task)\n)\n     )",
      "execution_count": 80,
      "outputs": [
        {
          "output_type": "stream",
          "text": "difference: 148\n",
          "name": "stdout"
        }
      ]
    },
    {
      "metadata": {},
      "cell_type": "markdown",
      "source": "### Task-4\n\n- Pack `Task-2` and `Task-3` in a single while loop and perform them few times in such a way that at the end you have a list with difference of length\n- End the while loop when desired number of experiments are finished (at least three, please feel free to do more)\n- Calculate the arithmetic mean (common average) on the difference of length that you have. (How to sum all values of a list?)"
    },
    {
      "metadata": {
        "trusted": true
      },
      "cell_type": "code",
      "source": "import random\n#Pack Task-2 and Task-3 in a single while loop \n#perform them few times in such a way that at the end \nexp_num = 7\nexp_count = 0\nint_sum_diff = 0\nlist_diff = []\n\nwhile exp_count < exp_num:\n    print(\"I'm printing loop number \" + str(exp_count))\n    #TASK1\n    #create range\n    range1 = range(0,200) \n    #list_task = [random.randint(0,100000) for x in range1]\n    list_task = []\n    LDS = \"\"\n    list_task_the_sql = []\n    int_list_task = 0\n    int_list_task_the_sql = 0\n    int_sum_diff = 0\n    int_diff = 0\n    # create the two lists\n    for x in range1:\n            y = random.\\\n            randint(0,100000)\n            list_task.append(y)\n            if y % 3 == 0:\n                list_task_the_sql.append(y)\n    # create the diff scalar            \n    int_list_task =len(list_task) \n    int_list_task_the_sql =     len(list_task_the_sql) \n    print(\"I'm printing calc for \"\n          + str(len(list_diff))\n          +\": \"\n          +str(int_list_task - int_list_task_the_sql))\n    int_diff = int_list_task - int_list_task_the_sql \n    list_diff.append(int_diff)\n    print(sum(list_diff)/(len(list_diff)))\n    #print(list_diff)\n    exp_count += 1\n#calculate average\nprint(len(list_diff))\nfor x in list_diff:\n    int_sum_diff += x\n    LDS += str(x)+\",\"\n#list_diff\nprint(\"Array \"+LDS[1:len(LDS)-1]+\" yields an avg of: \"+str(int_sum_diff/len(list_diff)))\n#you have a list with difference of length\n#End the while loop when desired number of experiments are finished (at least three, please feel free to do more)\n#Calculate the arithmetic mean (common average) on the difference of length that you have. (How to sum all values of a list?)",
      "execution_count": 15,
      "outputs": [
        {
          "output_type": "stream",
          "text": "I'm printing loop number 0\nI'm printing calc for 0: 120\n120.0\nI'm printing loop number 1\nI'm printing calc for 1: 140\n130.0\nI'm printing loop number 2\nI'm printing calc for 2: 145\n135.0\nI'm printing loop number 3\nI'm printing calc for 3: 148\n138.25\nI'm printing loop number 4\nI'm printing calc for 4: 131\n136.8\nI'm printing loop number 5\nI'm printing calc for 5: 126\n135.0\nI'm printing loop number 6\nI'm printing calc for 6: 122\n133.14285714285714\n7\nArray 20,140,145,148,131,126,122 yields an avg of: 133.14285714285714\n",
          "name": "stdout"
        }
      ]
    },
    {
      "metadata": {
        "trusted": true
      },
      "cell_type": "code",
      "source": "LIMIT = 7\nNUMBER_OF_EXPERIEMENTS = 10\ndifference_list = []\nfor i in range(0, NUMBER_OF_EXPERIEMENTS):\n    random_number_list = [random.randint(0, LIMIT) for x in range(0, LIMIT)]\n    list_with_divisible_by_3 = [a for a in random_number_list if a % 3 == 0]\n    \n    length_of_random_list = len(random_number_list)\n    length_of_3_divisible_list = len(list_with_divisible_by_3)\n    difference = length_of_random_list - length_of_3_divisible_list\n    \n    difference_list.append(difference)\ndifference_list",
      "execution_count": 114,
      "outputs": [
        {
          "output_type": "execute_result",
          "execution_count": 114,
          "data": {
            "text/plain": "[7, 5, 4, 5, 7, 4, 4, 6, 5, 3]"
          },
          "metadata": {}
        }
      ]
    },
    {
      "metadata": {
        "trusted": true
      },
      "cell_type": "code",
      "source": "avg_diff = sum(difference_list) / float(len(difference_list))\navg_diff",
      "execution_count": 115,
      "outputs": [
        {
          "output_type": "execute_result",
          "execution_count": 115,
          "data": {
            "text/plain": "5.0"
          },
          "metadata": {}
        }
      ]
    },
    {
      "metadata": {
        "trusted": true
      },
      "cell_type": "code",
      "source": "help(list_task_the_sql)",
      "execution_count": 98,
      "outputs": [
        {
          "output_type": "stream",
          "text": "Help on list object:\n\nclass list(object)\n |  list() -> new empty list\n |  list(iterable) -> new list initialized from iterable's items\n |  \n |  Methods defined here:\n |  \n |  __add__(self, value, /)\n |      Return self+value.\n |  \n |  __contains__(self, key, /)\n |      Return key in self.\n |  \n |  __delitem__(self, key, /)\n |      Delete self[key].\n |  \n |  __eq__(self, value, /)\n |      Return self==value.\n |  \n |  __ge__(self, value, /)\n |      Return self>=value.\n |  \n |  __getattribute__(self, name, /)\n |      Return getattr(self, name).\n |  \n |  __getitem__(...)\n |      x.__getitem__(y) <==> x[y]\n |  \n |  __gt__(self, value, /)\n |      Return self>value.\n |  \n |  __iadd__(self, value, /)\n |      Implement self+=value.\n |  \n |  __imul__(self, value, /)\n |      Implement self*=value.\n |  \n |  __init__(self, /, *args, **kwargs)\n |      Initialize self.  See help(type(self)) for accurate signature.\n |  \n |  __iter__(self, /)\n |      Implement iter(self).\n |  \n |  __le__(self, value, /)\n |      Return self<=value.\n |  \n |  __len__(self, /)\n |      Return len(self).\n |  \n |  __lt__(self, value, /)\n |      Return self<value.\n |  \n |  __mul__(self, value, /)\n |      Return self*value.n\n |  \n |  __ne__(self, value, /)\n |      Return self!=value.\n |  \n |  __new__(*args, **kwargs) from builtins.type\n |      Create and return a new object.  See help(type) for accurate signature.\n |  \n |  __repr__(self, /)\n |      Return repr(self).\n |  \n |  __reversed__(...)\n |      L.__reversed__() -- return a reverse iterator over the list\n |  \n |  __rmul__(self, value, /)\n |      Return self*value.\n |  \n |  __setitem__(self, key, value, /)\n |      Set self[key] to value.\n |  \n |  __sizeof__(...)\n |      L.__sizeof__() -- size of L in memory, in bytes\n |  \n |  append(...)\n |      L.append(object) -> None -- append object to end\n |  \n |  clear(...)\n |      L.clear() -> None -- remove all items from L\n |  \n |  copy(...)\n |      L.copy() -> list -- a shallow copy of L\n |  \n |  count(...)\n |      L.count(value) -> integer -- return number of occurrences of value\n |  \n |  extend(...)\n |      L.extend(iterable) -> None -- extend list by appending elements from the iterable\n |  \n |  index(...)\n |      L.index(value, [start, [stop]]) -> integer -- return first index of value.\n |      Raises ValueError if the value is not present.\n |  \n |  insert(...)\n |      L.insert(index, object) -- insert object before index\n |  \n |  pop(...)\n |      L.pop([index]) -> item -- remove and return item at index (default last).\n |      Raises IndexError if list is empty or index is out of range.\n |  \n |  remove(...)\n |      L.remove(value) -> None -- remove first occurrence of value.\n |      Raises ValueError if the value is not present.\n |  \n |  reverse(...)\n |      L.reverse() -- reverse *IN PLACE*\n |  \n |  sort(...)\n |      L.sort(key=None, reverse=False) -> None -- stable sort *IN PLACE*\n |  \n |  ----------------------------------------------------------------------\n |  Data and other attributes defined here:\n |  \n |  __hash__ = None\n\n",
          "name": "stdout"
        }
      ]
    },
    {
      "metadata": {
        "trusted": true
      },
      "cell_type": "code",
      "source": "### Write your code below this comment.\nimport random\n#create range\nrange1 = range(0,200) \n#list_task = [random.randint(0,100000) for x in range1]\nlist_task = []\nfor x in range1:\n    list_task.append(random.randint(0,100000))\n# aka list_task = [random.randint(0,100000) for x in range(0,200) ]\nlist_task.sort()\nset(list_task)",
      "execution_count": 85,
      "outputs": [
        {
          "output_type": "execute_result",
          "execution_count": 85,
          "data": {
            "text/plain": "{529,\n 551,\n 1790,\n 2224,\n 2301,\n 2587,\n 4550,\n 4730,\n 5065,\n 5462,\n 6297,\n 7721,\n 8173,\n 8212,\n 10523,\n 10817,\n 11108,\n 11315,\n 12502,\n 13314,\n 13531,\n 13569,\n 13915,\n 15655,\n 16170,\n 16279,\n 16430,\n 17110,\n 17303,\n 17701,\n 17952,\n 18242,\n 18560,\n 18863,\n 18977,\n 19212,\n 19269,\n 19730,\n 19868,\n 19916,\n 20486,\n 21297,\n 22567,\n 23170,\n 23878,\n 24275,\n 24765,\n 26657,\n 26942,\n 27668,\n 28022,\n 28347,\n 28422,\n 28531,\n 29107,\n 29140,\n 31517,\n 31563,\n 32154,\n 32451,\n 33295,\n 33458,\n 34484,\n 36342,\n 36591,\n 36697,\n 37563,\n 38336,\n 38899,\n 39067,\n 39228,\n 39756,\n 39836,\n 40164,\n 40473,\n 41159,\n 41455,\n 41465,\n 41518,\n 42012,\n 43005,\n 43473,\n 43851,\n 44361,\n 44794,\n 45671,\n 45970,\n 46122,\n 46807,\n 47066,\n 47811,\n 48075,\n 49139,\n 49616,\n 50310,\n 50424,\n 50798,\n 50906,\n 52297,\n 52513,\n 53556,\n 54462,\n 55005,\n 55027,\n 55443,\n 56235,\n 56442,\n 56464,\n 56497,\n 56689,\n 56743,\n 57217,\n 57243,\n 57294,\n 57462,\n 57924,\n 57939,\n 58904,\n 60058,\n 60295,\n 61000,\n 61405,\n 61454,\n 61756,\n 61783,\n 62196,\n 62718,\n 65217,\n 65554,\n 65759,\n 65835,\n 66151,\n 66273,\n 66483,\n 66682,\n 67289,\n 67490,\n 68211,\n 68737,\n 69774,\n 69902,\n 69961,\n 70251,\n 70794,\n 70882,\n 71357,\n 72079,\n 72407,\n 72546,\n 74239,\n 75125,\n 75228,\n 75423,\n 75741,\n 76448,\n 77739,\n 78377,\n 78394,\n 78947,\n 79121,\n 79463,\n 79708,\n 79746,\n 80273,\n 80544,\n 80924,\n 81034,\n 81072,\n 81776,\n 81920,\n 82131,\n 82651,\n 83416,\n 83629,\n 84121,\n 87081,\n 88078,\n 88842,\n 89049,\n 89196,\n 89578,\n 90604,\n 91513,\n 91534,\n 92748,\n 92982,\n 93461,\n 94898,\n 95658,\n 96232,\n 96371,\n 96670,\n 96954,\n 97422,\n 97440,\n 97527,\n 97640,\n 99232,\n 99352,\n 99668}"
          },
          "metadata": {}
        }
      ]
    },
    {
      "metadata": {
        "trusted": true
      },
      "cell_type": "code",
      "source": "",
      "execution_count": 87,
      "outputs": [
        {
          "output_type": "execute_result",
          "execution_count": 87,
          "data": {
            "text/plain": "[529,\n 551,\n 1790,\n 2224,\n 2301,\n 2587,\n 4550,\n 4730,\n 5065,\n 5462,\n 6297,\n 7721,\n 8173,\n 8212,\n 10523,\n 10817,\n 11108,\n 11315,\n 12502,\n 13314,\n 13531,\n 13569,\n 13915,\n 15655,\n 16170,\n 16279,\n 16430,\n 17110,\n 17303,\n 17701,\n 17952,\n 18242,\n 18560,\n 18863,\n 18977,\n 19212,\n 19269,\n 19730,\n 19868,\n 19916,\n 20486,\n 21297,\n 22567,\n 23170,\n 23878,\n 24275,\n 24765,\n 26657,\n 26942,\n 27668,\n 28022,\n 28347,\n 28422,\n 28531,\n 29107,\n 29140,\n 31517,\n 31563,\n 32154,\n 32451,\n 33295,\n 33458,\n 34484,\n 36342,\n 36591,\n 36697,\n 37563,\n 38336,\n 38899,\n 39067,\n 39228,\n 39756,\n 39836,\n 40164,\n 40473,\n 41159,\n 41455,\n 41465,\n 41518,\n 42012,\n 43005,\n 43473,\n 43851,\n 44361,\n 44794,\n 45671,\n 45970,\n 46122,\n 46807,\n 47066,\n 47811,\n 48075,\n 49139,\n 49616,\n 50310,\n 50424,\n 50798,\n 50906,\n 52297,\n 52513,\n 53556,\n 54462,\n 55005,\n 55027,\n 55443,\n 56235,\n 56442,\n 56464,\n 56497,\n 56689,\n 56743,\n 57217,\n 57243,\n 57294,\n 57462,\n 57924,\n 57939,\n 58904,\n 60058,\n 60295,\n 61000,\n 61405,\n 61454,\n 61756,\n 61783,\n 62196,\n 62718,\n 65217,\n 65554,\n 65759,\n 65835,\n 66151,\n 66273,\n 66483,\n 66682,\n 67289,\n 67490,\n 68211,\n 68737,\n 69774,\n 69902,\n 69961,\n 70251,\n 70794,\n 70882,\n 71357,\n 72079,\n 72407,\n 72546,\n 74239,\n 75125,\n 75228,\n 75423,\n 75741,\n 76448,\n 77739,\n 78377,\n 78394,\n 78947,\n 79121,\n 79463,\n 79708,\n 79746,\n 80273,\n 80544,\n 80924,\n 81034,\n 81072,\n 81776,\n 81920,\n 82131,\n 82651,\n 83416,\n 83629,\n 84121,\n 87081,\n 88078,\n 88842,\n 89049,\n 89196,\n 89578,\n 90604,\n 91513,\n 91534,\n 92748,\n 92982,\n 93461,\n 94898,\n 95658,\n 96232,\n 96371,\n 96670,\n 96954,\n 97422,\n 97440,\n 97527,\n 97640,\n 99232,\n 99352,\n 99668]"
          },
          "metadata": {}
        }
      ]
    },
    {
      "metadata": {
        "trusted": true
      },
      "cell_type": "code",
      "source": "",
      "execution_count": null,
      "outputs": []
    }
  ],
  "metadata": {
    "kernelspec": {
      "name": "python3",
      "display_name": "Python 3",
      "language": "python"
    },
    "language_info": {
      "mimetype": "text/x-python",
      "nbconvert_exporter": "python",
      "name": "python",
      "pygments_lexer": "ipython3",
      "version": "3.5.4",
      "file_extension": ".py",
      "codemirror_mode": {
        "version": 3,
        "name": "ipython"
      }
    }
  },
  "nbformat": 4,
  "nbformat_minor": 2
}