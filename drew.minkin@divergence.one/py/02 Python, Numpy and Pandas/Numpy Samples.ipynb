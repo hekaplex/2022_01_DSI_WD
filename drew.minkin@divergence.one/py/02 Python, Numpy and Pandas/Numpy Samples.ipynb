{
 "cells": [
  {
   "cell_type": "code",
   "execution_count": null,
   "metadata": {},
   "outputs": [],
   "source": [
    "import numpy as np"
   ]
  },
  {
   "cell_type": "code",
   "execution_count": null,
   "metadata": {},
   "outputs": [],
   "source": [
    "lst1 = [1,2,3]\n",
    "lst2 = [3,1,2]\n",
    "lst1+lst2"
   ]
  },
  {
   "cell_type": "code",
   "execution_count": null,
   "metadata": {},
   "outputs": [],
   "source": [
    "ex = \"a\"\n",
    "ey = \"b\"\n",
    "ex+ey"
   ]
  },
  {
   "cell_type": "code",
   "execution_count": null,
   "metadata": {},
   "outputs": [],
   "source": [
    "gen1 = (r for r in range(8))\n",
    "num = 0\n",
    "for g in gen1:\n",
    "    num = num + g\n",
    "num"
   ]
  },
  {
   "cell_type": "code",
   "execution_count": null,
   "metadata": {},
   "outputs": [],
   "source": [
    "lst1 = [1.,2.,3.]\n",
    "array1 = np.array(lst1)\n",
    "\n",
    "array2 =np.array([3,1,2])"
   ]
  },
  {
   "cell_type": "code",
   "execution_count": null,
   "metadata": {},
   "outputs": [],
   "source": [
    "type(array1)"
   ]
  },
  {
   "cell_type": "code",
   "execution_count": null,
   "metadata": {},
   "outputs": [],
   "source": [
    "array1[1] = 6.5"
   ]
  },
  {
   "cell_type": "code",
   "execution_count": 8,
   "metadata": {},
   "outputs": [
    {
     "name": "stdout",
     "output_type": "stream",
     "text": [
      "[1.  6.5 3. ]\n",
      "[3 1 2]\n"
     ]
    }
   ],
   "source": [
    "print(array1)\n",
    "print(array2)"
   ]
  },
  {
   "cell_type": "code",
   "execution_count": 9,
   "metadata": {},
   "outputs": [
    {
     "data": {
      "text/plain": [
       "dtype('float64')"
      ]
     },
     "execution_count": 9,
     "metadata": {},
     "output_type": "execute_result"
    }
   ],
   "source": [
    "array1.dtype"
   ]
  },
  {
   "cell_type": "code",
   "execution_count": 10,
   "metadata": {},
   "outputs": [
    {
     "name": "stdout",
     "output_type": "stream",
     "text": [
      "array1 added by array1:  [4.  7.5 5. ]\n",
      "array1 multiplied by array1:  [3.  6.5 6. ]\n",
      "array1 divided by array1:  [3.         0.15384615 0.66666667]\n",
      "array1 raised to the power of array1:  [3. 1. 8.]\n"
     ]
    }
   ],
   "source": [
    "print(\"array1 added by array1: \",array2+array1)\n",
    "\n",
    "print(\"array1 multiplied by array1: \",array2*array1)\n",
    "#Division:\n",
    "print(\"array1 divided by array1: \",array2/array1)\n",
    "#Raising an array to the power of another array:\n",
    "print(\"array1 raised to the power of array1: \",array2**array1)\n",
    "# [1.  6.5 3. ]\n",
    "# [3 1 2]"
   ]
  },
  {
   "cell_type": "code",
   "execution_count": 11,
   "metadata": {},
   "outputs": [
    {
     "name": "stdout",
     "output_type": "stream",
     "text": [
      "[1, 2, 3, 4, 5]\n",
      "Sine:  [ 0.84147098  0.90929743  0.14112001 -0.7568025  -0.95892427]\n",
      "Natural logarithm:  [0.         0.69314718 1.09861229 1.38629436 1.60943791]\n",
      "Base-10 logarithm:  [0.         0.30103    0.47712125 0.60205999 0.69897   ]\n",
      "Base-2 logarithm:  [0.         1.         1.5849625  2.         2.32192809]\n",
      "Exponential:  [  2.71828183   7.3890561   20.08553692  54.59815003 148.4131591 ]\n"
     ]
    }
   ],
   "source": [
    "lst_5=[i for i in range(1,6)]\n",
    "print(lst_5)\n",
    "array_5=np.array(lst_5)\n",
    "\n",
    "#Sine operation:\n",
    "\n",
    "print(\"Sine: \",np.sin(array_5))\n",
    "#Logarithm operation:\n",
    "print(\"Natural logarithm: \",np.log(array_5))\n",
    "print(\"Base-10 logarithm: \",np.log10(array_5))\n",
    "print(\"Base-2 logarithm: \",np.log2(array_5))\n",
    "#Exponential operation:\n",
    "print(\"Exponential: \",np.exp(array_5))\n"
   ]
  },
  {
   "cell_type": "code",
   "execution_count": 12,
   "metadata": {},
   "outputs": [
    {
     "name": "stdout",
     "output_type": "stream",
     "text": [
      "11 linearly spaced numbers between 0 and 5:  [ 0.  5. 10. 15. 20. 25. 30. 35. 40. 45. 50.]\n"
     ]
    }
   ],
   "source": [
    "lin_smp = np.linspace(0,50,11)\n",
    "print(\"11 linearly spaced numbers between 0 and 5: \",lin_smp)\n",
    "# (0, 5] = beginning at 0 and up to and including 5"
   ]
  },
  {
   "cell_type": "code",
   "execution_count": 14,
   "metadata": {},
   "outputs": [
    {
     "data": {
      "text/plain": [
       "11"
      ]
     },
     "execution_count": 14,
     "metadata": {},
     "output_type": "execute_result"
    }
   ],
   "source": [
    "len(lin_smp)"
   ]
  },
  {
   "cell_type": "code",
   "execution_count": 15,
   "metadata": {},
   "outputs": [
    {
     "name": "stdout",
     "output_type": "stream",
     "text": [
      "Type/Class of this object: <class 'numpy.ndarray'>\n",
      "Here is the matrix\n",
      "----------\n",
      " [[1 2 3]\n",
      " [4 5 6]\n",
      " [7 8 9]] \n",
      "----------\n"
     ]
    }
   ],
   "source": [
    "list_2D = [[1,2,3],[4,5,6],[7,8,9]]\n",
    "mat1 = np.array(list_2D)\n",
    "print(\"Type/Class of this object:\",type(mat1))\n",
    "print(\"Here is the matrix\\n----------\\n\",mat1,\"\\n----------\")\n",
    "\n"
   ]
  },
  {
   "cell_type": "code",
   "execution_count": 16,
   "metadata": {},
   "outputs": [
    {
     "data": {
      "text/plain": [
       "numpy.ndarray"
      ]
     },
     "execution_count": 16,
     "metadata": {},
     "output_type": "execute_result"
    }
   ],
   "source": [
    "type(mat1)"
   ]
  },
  {
   "cell_type": "code",
   "execution_count": 17,
   "metadata": {},
   "outputs": [
    {
     "data": {
      "text/plain": [
       "7"
      ]
     },
     "execution_count": 17,
     "metadata": {},
     "output_type": "execute_result"
    }
   ],
   "source": [
    "mat1[2][0]"
   ]
  },
  {
   "cell_type": "code",
   "execution_count": 18,
   "metadata": {},
   "outputs": [
    {
     "data": {
      "text/plain": [
       "array([3, 1, 2])"
      ]
     },
     "execution_count": 18,
     "metadata": {},
     "output_type": "execute_result"
    }
   ],
   "source": [
    "array2"
   ]
  },
  {
   "cell_type": "code",
   "execution_count": 28,
   "metadata": {},
   "outputs": [
    {
     "name": "stdout",
     "output_type": "stream",
     "text": [
      "[[1.5 2.  3. ]\n",
      " [4.  5.  6. ]\n",
      " [7.  8.  9. ]]\n"
     ]
    }
   ],
   "source": [
    "#Even tuples can be converted to multi-dimensional arrays:\n",
    "tuple_2D = np.array([(1.5,2,3), (4,5,6),(7,8,9)])\n",
    "print(tuple_2D)"
   ]
  },
  {
   "cell_type": "code",
   "execution_count": 20,
   "metadata": {},
   "outputs": [
    {
     "name": "stdout",
     "output_type": "stream",
     "text": [
      "[[1.5 2.  3. ]\n",
      " [4.  5.  6. ]]\n"
     ]
    }
   ],
   "source": [
    "mat_tuple = np.array(tuple_2D)\n",
    "#mat_tuple\n",
    "print (mat_tuple)"
   ]
  },
  {
   "cell_type": "code",
   "execution_count": 21,
   "metadata": {},
   "outputs": [
    {
     "name": "stdout",
     "output_type": "stream",
     "text": [
      "array1 added by array1:  [[4.5 3.  5. ]\n",
      " [7.  6.  8. ]]\n",
      "array1 multiplied by array1:  [[ 4.5  2.   6. ]\n",
      " [12.   5.  12. ]]\n",
      "array1 divided by array1:  [[2.         0.5        0.66666667]\n",
      " [0.75       0.2        0.33333333]]\n",
      "array1 raised to the power of array1:  [[ 5.19615242  1.          8.        ]\n",
      " [81.          1.         64.        ]]\n"
     ]
    }
   ],
   "source": [
    "#array([3, 1, 2])\n",
    "print(\"array1 added by array1: \",array2+mat_tuple)\n",
    "print(\"array1 multiplied by array1: \",array2*mat_tuple)\n",
    "#Division:\n",
    "print(\"array1 divided by array1: \",array2/mat_tuple)\n",
    "#Raising an array to the power of another array:\n",
    "print(\"array1 raised to the power of array1: \",array2**mat_tuple)"
   ]
  },
  {
   "cell_type": "code",
   "execution_count": 33,
   "metadata": {},
   "outputs": [
    {
     "name": "stdout",
     "output_type": "stream",
     "text": [
      "array1 added by array1:  [[1.00000000e+00 4.00000000e+00 2.70000000e+01]\n",
      " [2.56000000e+02 3.12500000e+03 4.66560000e+04]\n",
      " [8.23543000e+05 1.67772160e+07 3.87420489e+08]]\n"
     ]
    }
   ],
   "source": [
    "print(\"array1 added by array1: \",mat1**tuple_2D)"
   ]
  },
  {
   "cell_type": "code",
   "execution_count": 35,
   "metadata": {},
   "outputs": [
    {
     "data": {
      "text/plain": [
       "array([[1],\n",
       "       [2],\n",
       "       [3]])"
      ]
     },
     "execution_count": 35,
     "metadata": {},
     "output_type": "execute_result"
    }
   ],
   "source": [
    "array2\n",
    "array3 = np.array([[1],[2],[3]])\n",
    "array3"
   ]
  },
  {
   "cell_type": "code",
   "execution_count": 36,
   "metadata": {},
   "outputs": [
    {
     "name": "stdout",
     "output_type": "stream",
     "text": [
      "array1 multiplied by array1:  [[ 1  2  3]\n",
      " [ 8 10 12]\n",
      " [21 24 27]]\n",
      "array1 divided by array1:  [[1.         2.         3.        ]\n",
      " [2.         2.5        3.        ]\n",
      " [2.33333333 2.66666667 3.        ]]\n",
      "array1 raised to the power of array1:  [[  1   2   3]\n",
      " [ 16  25  36]\n",
      " [343 512 729]]\n"
     ]
    }
   ],
   "source": [
    "#print(\"array1 added by array1: \",list_2D+mat_tuple)\n",
    "\n",
    "print(\"array1 multiplied by array1: \",list_2D*array3)\n",
    "#Division:\n",
    "print(\"array1 divided by array1: \",list_2D/array3)\n",
    "#Raising an array to the power of another array:\n",
    "print(\"array1 raised to the power of array1: \",list_2D**array3)"
   ]
  },
  {
   "cell_type": "code",
   "execution_count": 37,
   "metadata": {},
   "outputs": [
    {
     "name": "stdout",
     "output_type": "stream",
     "text": [
      "Dimension of this matrix: 2\n",
      "Size of this matrix: 9\n",
      "Shape of this matrix: (3, 3)\n",
      "Data type of this matrix: int32\n"
     ]
    }
   ],
   "source": [
    "#but the size will be 6, as 6 = 3x2.\n",
    "#Print the dimension of the matrix using ndim:\n",
    "print(\"Dimension of this matrix: \",mat1.ndim,sep='') \n",
    "#Print the size of the matrix using size:\n",
    "print(\"Size of this matrix: \", mat1.size,sep='') \n",
    "#Print the shape of the matrix using shape:\n",
    "print(\"Shape of this matrix: \", mat1.shape,sep='')\n",
    "#Print the data type of the matrix using dtype:\n",
    "print(\"Data type of this matrix: \", mat1.dtype,sep='')\n",
    "#"
   ]
  },
  {
   "cell_type": "code",
   "execution_count": 38,
   "metadata": {},
   "outputs": [
    {
     "name": "stdout",
     "output_type": "stream",
     "text": [
      "Vector of zeros:  [0. 0. 0. 0. 0.]\n",
      "Matrix of zeros:  [[0. 0. 0. 0.]\n",
      " [0. 0. 0. 0.]\n",
      " [0. 0. 0. 0.]]\n"
     ]
    }
   ],
   "source": [
    "#Often, you may have to create matrices filled with zeroes, ones, random numbers, or ones in the diagonal:\n",
    "print(\"Vector of zeros: \",np.zeros(5))\n",
    "print(\"Matrix of zeros: \",np.zeros((3,4)))\n"
   ]
  },
  {
   "cell_type": "code",
   "execution_count": 39,
   "metadata": {},
   "outputs": [
    {
     "name": "stdout",
     "output_type": "stream",
     "text": [
      "Vector of ones:  [1. 1. 1. 1.]\n",
      "Matrix of ones:  [[1. 1.]\n",
      " [1. 1.]\n",
      " [1. 1.]\n",
      " [1. 1.]]\n",
      "Matrix of 5’s:  [[5. 5. 5.]\n",
      " [5. 5. 5.]\n",
      " [5. 5. 5.]]\n"
     ]
    }
   ],
   "source": [
    "print(\"Vector of ones: \",np.ones(4))\n",
    "print(\"Matrix of ones: \",np.ones((4,2)))\n",
    "print(\"Matrix of 5’s: \",5*np.ones((3,3)))\n",
    "\n"
   ]
  },
  {
   "cell_type": "code",
   "execution_count": 40,
   "metadata": {},
   "outputs": [
    {
     "data": {
      "text/plain": [
       "numpy.ndarray"
      ]
     },
     "execution_count": 40,
     "metadata": {},
     "output_type": "execute_result"
    }
   ],
   "source": [
    "num_samp = np.ones((4,2))\n",
    "type(num_samp)"
   ]
  },
  {
   "cell_type": "code",
   "execution_count": 41,
   "metadata": {},
   "outputs": [
    {
     "data": {
      "text/plain": [
       "array([[1., 1.],\n",
       "       [1., 1.],\n",
       "       [1., 1.],\n",
       "       [1., 1.]])"
      ]
     },
     "execution_count": 41,
     "metadata": {},
     "output_type": "execute_result"
    }
   ],
   "source": [
    "num_samp"
   ]
  },
  {
   "cell_type": "code",
   "execution_count": 42,
   "metadata": {},
   "outputs": [
    {
     "name": "stdout",
     "output_type": "stream",
     "text": [
      "Identity matrix of dimension 2: [[1. 0.]\n",
      " [0. 1.]]\n",
      "Identity matrix of dimension 4: [[1. 0. 0. 0.]\n",
      " [0. 1. 0. 0.]\n",
      " [0. 0. 1. 0.]\n",
      " [0. 0. 0. 1.]]\n",
      "Random matrix of shape (4,3):\n",
      " [[6 2 1]\n",
      " [6 3 9]\n",
      " [8 3 1]\n",
      " [5 8 5]]\n"
     ]
    }
   ],
   "source": [
    "print(\"Identity matrix of dimension 2:\",np.eye(2))\n",
    "print(\"Identity matrix of dimension 4:\",np.eye(4))\n",
    "print(\"Random matrix of shape (4,3):\\n\",np.random.randint(low=1,high=10,size=(4,3)))\n"
   ]
  },
  {
   "cell_type": "code",
   "execution_count": 44,
   "metadata": {},
   "outputs": [
    {
     "data": {
      "text/plain": [
       "array([[6., 0., 0., 0.],\n",
       "       [0., 9., 0., 0.],\n",
       "       [0., 0., 8., 0.],\n",
       "       [0., 0., 0., 2.]])"
      ]
     },
     "execution_count": 44,
     "metadata": {},
     "output_type": "execute_result"
    }
   ],
   "source": [
    "npeye = np.eye(4)\n",
    "nprand =np.random.randint(low=1,high=10,size=(4,4))\n",
    "npeye * nprand\n"
   ]
  },
  {
   "cell_type": "code",
   "execution_count": null,
   "metadata": {},
   "outputs": [],
   "source": [
    "nprand"
   ]
  },
  {
   "cell_type": "code",
   "execution_count": 46,
   "metadata": {},
   "outputs": [
    {
     "data": {
      "text/plain": [
       "array([58, 56, 24, 90, 88, 86, 16, 98, 76, 83, 64, 61, 73, 91, 14, 31, 10,\n",
       "       91, 16, 18, 52, 82, 11, 86, 52, 49, 86, 90, 58, 38])"
      ]
     },
     "execution_count": 46,
     "metadata": {},
     "output_type": "execute_result"
    }
   ],
   "source": [
    "#The following functions accomplish those tasks. Execute the following code:\n",
    "a = np.random.randint(1,100,30)\n",
    "a"
   ]
  },
  {
   "cell_type": "code",
   "execution_count": 47,
   "metadata": {},
   "outputs": [
    {
     "name": "stdout",
     "output_type": "stream",
     "text": [
      "Help on built-in function randint:\n",
      "\n",
      "randint(...) method of numpy.random.mtrand.RandomState instance\n",
      "    randint(low, high=None, size=None, dtype=int)\n",
      "    \n",
      "    Return random integers from `low` (inclusive) to `high` (exclusive).\n",
      "    \n",
      "    Return random integers from the \"discrete uniform\" distribution of\n",
      "    the specified dtype in the \"half-open\" interval [`low`, `high`). If\n",
      "    `high` is None (the default), then results are from [0, `low`).\n",
      "    \n",
      "    .. note::\n",
      "        New code should use the ``integers`` method of a ``default_rng()``\n",
      "        instance instead; please see the :ref:`random-quick-start`.\n",
      "    \n",
      "    Parameters\n",
      "    ----------\n",
      "    low : int or array-like of ints\n",
      "        Lowest (signed) integers to be drawn from the distribution (unless\n",
      "        ``high=None``, in which case this parameter is one above the\n",
      "        *highest* such integer).\n",
      "    high : int or array-like of ints, optional\n",
      "        If provided, one above the largest (signed) integer to be drawn\n",
      "        from the distribution (see above for behavior if ``high=None``).\n",
      "        If array-like, must contain integer values\n",
      "    size : int or tuple of ints, optional\n",
      "        Output shape.  If the given shape is, e.g., ``(m, n, k)``, then\n",
      "        ``m * n * k`` samples are drawn.  Default is None, in which case a\n",
      "        single value is returned.\n",
      "    dtype : dtype, optional\n",
      "        Desired dtype of the result. Byteorder must be native.\n",
      "        The default value is int.\n",
      "    \n",
      "        .. versionadded:: 1.11.0\n",
      "    \n",
      "    Returns\n",
      "    -------\n",
      "    out : int or ndarray of ints\n",
      "        `size`-shaped array of random integers from the appropriate\n",
      "        distribution, or a single such random int if `size` not provided.\n",
      "    \n",
      "    See Also\n",
      "    --------\n",
      "    random_integers : similar to `randint`, only for the closed\n",
      "        interval [`low`, `high`], and 1 is the lowest value if `high` is\n",
      "        omitted.\n",
      "    Generator.integers: which should be used for new code.\n",
      "    \n",
      "    Examples\n",
      "    --------\n",
      "    >>> np.random.randint(2, size=10)\n",
      "    array([1, 0, 0, 0, 1, 1, 0, 0, 1, 0]) # random\n",
      "    >>> np.random.randint(1, size=10)\n",
      "    array([0, 0, 0, 0, 0, 0, 0, 0, 0, 0])\n",
      "    \n",
      "    Generate a 2 x 4 array of ints between 0 and 4, inclusive:\n",
      "    \n",
      "    >>> np.random.randint(5, size=(2, 4))\n",
      "    array([[4, 0, 2, 1], # random\n",
      "           [3, 2, 2, 0]])\n",
      "    \n",
      "    Generate a 1 x 3 array with 3 different upper bounds\n",
      "    \n",
      "    >>> np.random.randint(1, [3, 5, 10])\n",
      "    array([2, 2, 9]) # random\n",
      "    \n",
      "    Generate a 1 by 3 array with 3 different lower bounds\n",
      "    \n",
      "    >>> np.random.randint([1, 5, 7], 10)\n",
      "    array([9, 8, 7]) # random\n",
      "    \n",
      "    Generate a 2 by 4 array using broadcasting with dtype of uint8\n",
      "    \n",
      "    >>> np.random.randint([1, 3, 5, 7], [[10], [20]], dtype=np.uint8)\n",
      "    array([[ 8,  6,  9,  7], # random\n",
      "           [ 1, 16,  9, 12]], dtype=uint8)\n",
      "\n"
     ]
    }
   ],
   "source": [
    "help(np.random.randint)"
   ]
  },
  {
   "cell_type": "code",
   "execution_count": 48,
   "metadata": {},
   "outputs": [
    {
     "data": {
      "text/plain": [
       "array([ 0,  1,  2,  3,  4,  5,  6,  7,  8,  9, 10])"
      ]
     },
     "execution_count": 48,
     "metadata": {},
     "output_type": "execute_result"
    }
   ],
   "source": [
    "arr = np.arange(0,11)\n",
    "arr"
   ]
  },
  {
   "cell_type": "code",
   "execution_count": 49,
   "metadata": {},
   "outputs": [
    {
     "name": "stdout",
     "output_type": "stream",
     "text": [
      "Element at 7th index is: 7\n",
      "Elements from 3rd to 5th index are: [3 4 5]\n",
      "Elements up to 4th index are: [0 1 2 3]\n",
      "Elements from last backwards are: []\n",
      "3 Elements from last backwards are: [10  8  6]\n",
      "All Elements: [ 0  1  2  3  4  5  6  7  8  9 10]\n"
     ]
    }
   ],
   "source": [
    "#print(\"Array:\",arr)\n",
    "print(\"Element at 7th index is:\", arr[7])\n",
    "print(\"Elements from 3rd to 5th index are:\", arr[3:6])\n",
    "print(\"Elements up to 4th index are:\", arr[:4])\n",
    "print(\"Elements from last backwards are:\", arr[2:6:-2])\n",
    "# -1\n",
    "#Elements from last backwards are: [10  9  8  7  6  5  4  3  2  1  0]\n",
    "print(\"3 Elements from last backwards are:\", arr[-1:-6:-2])\n",
    "print(\"All Elements:\", arr[:])"
   ]
  },
  {
   "cell_type": "code",
   "execution_count": 50,
   "metadata": {},
   "outputs": [
    {
     "name": "stdout",
     "output_type": "stream",
     "text": [
      "[69 92 64 52 86 82 57 41 45 73 46 40 50 98 58]\n",
      "[[69 92 64]\n",
      " [52 86 82]\n",
      " [57 41 45]\n",
      " [73 46 40]\n",
      " [50 98 58]]\n",
      "Matrix of random 2-digit numbers\n",
      " [69 92 64 52 86 82 57 41 45 73 46 40 50 98 58]\n",
      "\n",
      "Fifth Element 86\n",
      "\n",
      "Elements greater than 50\n",
      " [69 92 64 52 86 82 57 73 98 58]\n"
     ]
    }
   ],
   "source": [
    "mat = np.array(np.random.randint(10,100,15))\n",
    "print(mat)\n",
    "matrs = mat.reshape(5,3)\n",
    "print(matrs)\n",
    "print(\"Matrix of random 2-digit numbers\\n\",mat)\n",
    "print (\"\\nFifth Element\", mat[4])\n",
    "\n",
    "print (\"\\nElements greater than 50\\n\", mat[mat>50])\n"
   ]
  },
  {
   "cell_type": "code",
   "execution_count": 51,
   "metadata": {},
   "outputs": [
    {
     "name": "stdout",
     "output_type": "stream",
     "text": [
      "\n",
      "1st Matrix of random single-digit numbers\n",
      " [[8 4 9]\n",
      " [6 3 3]\n",
      " [8 9 5]]\n",
      "\n",
      "2nd Matrix of random single-digit numbers\n",
      " [[9 3 4]\n",
      " [7 6 5]\n",
      " [1 9 3]]\n",
      "\n",
      "Addition\n",
      " [[17  7 13]\n",
      " [13  9  8]\n",
      " [ 9 18  8]]\n",
      "\n",
      "Multiplication\n",
      " [[72 12 36]\n",
      " [42 18 15]\n",
      " [ 8 81 15]]\n",
      "\n",
      "Division\n",
      " [[0.88888889 1.33333333 2.25      ]\n",
      " [0.85714286 0.5        0.6       ]\n",
      " [8.         1.         1.66666667]]\n",
      "\n",
      "Lineaer combination: 3*A - 2*B\n",
      " [[ 6  6 19]\n",
      " [ 4 -3 -1]\n",
      " [22  9  9]]\n",
      "\n",
      "Addition of a scalar (100)\n",
      " [[108 104 109]\n",
      " [106 103 103]\n",
      " [108 109 105]]\n",
      "\n",
      "Linear Exponentiation, matrix cubed here\n",
      " [[512  64 729]\n",
      " [216  27  27]\n",
      " [512 729 125]]\n",
      "\n",
      "Exponentiation, square root using ‘pow’ function\n",
      " [[2.82842712 2.         3.        ]\n",
      " [2.44948974 1.73205081 1.73205081]\n",
      " [2.82842712 3.         2.23606798]]\n"
     ]
    }
   ],
   "source": [
    "#NumPy arrays operate just like mathematical matrices, and the operations are performed element-wise:\n",
    "mat1 = np.random.randint(1,10,9).reshape(3,3)\n",
    "array_mat1 = mat1.reshape(9,1)\n",
    "mat2 = np.random.randint(1,10,9).reshape(3,3)\n",
    "print(\"\\n1st Matrix of random single-digit numbers\\n\",mat1)\n",
    "print(\"\\n2nd Matrix of random single-digit numbers\\n\",mat2)\n",
    "print(\"\\nAddition\\n\", mat1+mat2)\n",
    "print(\"\\nMultiplication\\n\", mat1*mat2)\n",
    "print(\"\\nDivision\\n\", mat1/mat2)\n",
    "print(\"\\nLineaer combination: 3*A - 2*B\\n\", 3*mat1-2*mat2)\n",
    "print(\"\\nAddition of a scalar (100)\\n\", 100+mat1)\n",
    "print(\"\\nLinear Exponentiation, matrix cubed here\\n\", mat1**3)\n",
    "print(\"\\nExponentiation, square root using ‘pow’ function\\n\",pow(mat1,0.5))\n"
   ]
  },
  {
   "cell_type": "code",
   "execution_count": 52,
   "metadata": {},
   "outputs": [
    {
     "ename": "KeyboardInterrupt",
     "evalue": "Interrupted by user",
     "output_type": "error",
     "traceback": [
      "\u001b[1;31m---------------------------------------------------------------------------\u001b[0m",
      "\u001b[1;31mKeyboardInterrupt\u001b[0m                         Traceback (most recent call last)",
      "\u001b[1;32m<ipython-input-52-8bb6dc916a47>\u001b[0m in \u001b[0;36m<module>\u001b[1;34m\u001b[0m\n\u001b[1;32m----> 1\u001b[1;33m \u001b[0mtxt\u001b[0m \u001b[1;33m=\u001b[0m \u001b[0minput\u001b[0m\u001b[1;33m(\u001b[0m\u001b[1;34m\"what string?\"\u001b[0m\u001b[1;33m)\u001b[0m\u001b[1;33m\u001b[0m\u001b[1;33m\u001b[0m\u001b[0m\n\u001b[0m\u001b[0;32m      2\u001b[0m \u001b[0mrepeat\u001b[0m \u001b[1;33m=\u001b[0m \u001b[0mint\u001b[0m\u001b[1;33m(\u001b[0m\u001b[0minput\u001b[0m\u001b[1;33m(\u001b[0m\u001b[1;34m\"how many times?\"\u001b[0m\u001b[1;33m)\u001b[0m\u001b[1;33m)\u001b[0m\u001b[1;33m\u001b[0m\u001b[1;33m\u001b[0m\u001b[0m\n\u001b[0;32m      3\u001b[0m \u001b[0mprint\u001b[0m\u001b[1;33m(\u001b[0m\u001b[0mtxt\u001b[0m\u001b[1;33m*\u001b[0m\u001b[0mrepeat\u001b[0m\u001b[1;33m)\u001b[0m\u001b[1;33m\u001b[0m\u001b[1;33m\u001b[0m\u001b[0m\n",
      "\u001b[1;32m~\\AppData\\Roaming\\Python\\Python39\\site-packages\\ipykernel\\kernelbase.py\u001b[0m in \u001b[0;36mraw_input\u001b[1;34m(self, prompt)\u001b[0m\n\u001b[0;32m    846\u001b[0m                 \u001b[1;34m\"raw_input was called, but this frontend does not support input requests.\"\u001b[0m\u001b[1;33m\u001b[0m\u001b[1;33m\u001b[0m\u001b[0m\n\u001b[0;32m    847\u001b[0m             )\n\u001b[1;32m--> 848\u001b[1;33m         return self._input_request(str(prompt),\n\u001b[0m\u001b[0;32m    849\u001b[0m             \u001b[0mself\u001b[0m\u001b[1;33m.\u001b[0m\u001b[0m_parent_ident\u001b[0m\u001b[1;33m,\u001b[0m\u001b[1;33m\u001b[0m\u001b[1;33m\u001b[0m\u001b[0m\n\u001b[0;32m    850\u001b[0m             \u001b[0mself\u001b[0m\u001b[1;33m.\u001b[0m\u001b[0m_parent_header\u001b[0m\u001b[1;33m,\u001b[0m\u001b[1;33m\u001b[0m\u001b[1;33m\u001b[0m\u001b[0m\n",
      "\u001b[1;32m~\\AppData\\Roaming\\Python\\Python39\\site-packages\\ipykernel\\kernelbase.py\u001b[0m in \u001b[0;36m_input_request\u001b[1;34m(self, prompt, ident, parent, password)\u001b[0m\n\u001b[0;32m    890\u001b[0m             \u001b[1;32mexcept\u001b[0m \u001b[0mKeyboardInterrupt\u001b[0m\u001b[1;33m:\u001b[0m\u001b[1;33m\u001b[0m\u001b[1;33m\u001b[0m\u001b[0m\n\u001b[0;32m    891\u001b[0m                 \u001b[1;31m# re-raise KeyboardInterrupt, to truncate traceback\u001b[0m\u001b[1;33m\u001b[0m\u001b[1;33m\u001b[0m\u001b[1;33m\u001b[0m\u001b[0m\n\u001b[1;32m--> 892\u001b[1;33m                 \u001b[1;32mraise\u001b[0m \u001b[0mKeyboardInterrupt\u001b[0m\u001b[1;33m(\u001b[0m\u001b[1;34m\"Interrupted by user\"\u001b[0m\u001b[1;33m)\u001b[0m \u001b[1;32mfrom\u001b[0m \u001b[1;32mNone\u001b[0m\u001b[1;33m\u001b[0m\u001b[1;33m\u001b[0m\u001b[0m\n\u001b[0m\u001b[0;32m    893\u001b[0m             \u001b[1;32mexcept\u001b[0m \u001b[0mException\u001b[0m \u001b[1;32mas\u001b[0m \u001b[0me\u001b[0m\u001b[1;33m:\u001b[0m\u001b[1;33m\u001b[0m\u001b[1;33m\u001b[0m\u001b[0m\n\u001b[0;32m    894\u001b[0m                 \u001b[0mself\u001b[0m\u001b[1;33m.\u001b[0m\u001b[0mlog\u001b[0m\u001b[1;33m.\u001b[0m\u001b[0mwarning\u001b[0m\u001b[1;33m(\u001b[0m\u001b[1;34m\"Invalid Message:\"\u001b[0m\u001b[1;33m,\u001b[0m \u001b[0mexc_info\u001b[0m\u001b[1;33m=\u001b[0m\u001b[1;32mTrue\u001b[0m\u001b[1;33m)\u001b[0m\u001b[1;33m\u001b[0m\u001b[1;33m\u001b[0m\u001b[0m\n",
      "\u001b[1;31mKeyboardInterrupt\u001b[0m: Interrupted by user"
     ]
    }
   ],
   "source": [
    "txt = input(\"what string?\")\n",
    "repeat = int(input(\"how many times?\"))\n",
    "print(txt*repeat)"
   ]
  },
  {
   "cell_type": "code",
   "execution_count": 53,
   "metadata": {},
   "outputs": [
    {
     "name": "stdout",
     "output_type": "stream",
     "text": [
      "a\tb\n",
      "c\td\n",
      "\"e\\\n"
     ]
    }
   ],
   "source": [
    "print('a\\tb\\nc\\td\\n\\\"e\\\\')\n"
   ]
  },
  {
   "cell_type": "code",
   "execution_count": 54,
   "metadata": {},
   "outputs": [
    {
     "name": "stdout",
     "output_type": "stream",
     "text": [
      "Matrix a\n",
      " [[1 2]\n",
      " [3 4]]\n",
      "Matrix b\n",
      " [[5 6]\n",
      " [7 8]]\n",
      "Vertical stacking\n",
      " [[1 2]\n",
      " [3 4]\n",
      " [5 6]\n",
      " [7 8]]\n",
      "Horizontal stacking\n",
      " [[1 2 5 6]\n",
      " [3 4 7 8]]\n",
      "Vertical stacking alt \n",
      " [[5 6]\n",
      " [7 8]\n",
      " [1 2]\n",
      " [3 4]]\n",
      "Horizontal stacking alt \n",
      " [[5 6 1 2]\n",
      " [7 8 3 4]]\n"
     ]
    }
   ],
   "source": [
    "a = np.array([[1,2],[3,4]])\n",
    "b = np.array([[5,6],[7,8]])\n",
    "print(\"Matrix a\\n\",a)\n",
    "print(\"Matrix b\\n\",b)\n",
    "print(\"Vertical stacking\\n\",np.vstack((a,b)))\n",
    "print(\"Horizontal stacking\\n\",np.hstack((a,b)))\n",
    "print(\"Vertical stacking alt \\n\",np.vstack((b,a)))\n",
    "print(\"Horizontal stacking alt \\n\",np.hstack((b,a)))\n"
   ]
  },
  {
   "cell_type": "code",
   "execution_count": 55,
   "metadata": {},
   "outputs": [
    {
     "name": "stdout",
     "output_type": "stream",
     "text": [
      "\n",
      "Exponentiation, square root using ‘pow’ function\n",
      " [[134217728        64      6561]\n",
      " [   279936       729       243]\n",
      " [        8 387420489       125]]\n"
     ]
    }
   ],
   "source": [
    "print(\"\\nExponentiation, square root using ‘pow’ function\\n\",pow(mat1,mat2))\n"
   ]
  },
  {
   "cell_type": "code",
   "execution_count": 65,
   "metadata": {},
   "outputs": [
    {
     "name": "stdout",
     "output_type": "stream",
     "text": [
      "[[         0 2146435072]\n",
      " [         0 2146435072]]\n"
     ]
    },
    {
     "data": {
      "text/plain": [
       "array([[1, 2],\n",
       "       [5, 6]])"
      ]
     },
     "execution_count": 65,
     "metadata": {},
     "output_type": "execute_result"
    }
   ],
   "source": [
    "# list = []\n",
    "# Matrix a\n",
    "#  [[1 2]\n",
    "#  [3 4]]\n",
    "# Matrix b\n",
    "#  [[5 6]\n",
    "#  [7 8]]\n",
    "c = np.empty((2,2), dtype=a.dtype)\n",
    "print(c)\n",
    "c[0::2] = a[0]\n",
    "c[1::2] = b[0]\n",
    "c"
   ]
  },
  {
   "cell_type": "code",
   "execution_count": 75,
   "metadata": {},
   "outputs": [
    {
     "data": {
      "text/plain": [
       "[array([ 10,  25,  42,  74, 100], dtype=int32),\n",
       " array([ 26,  48,  77,  87, 100], dtype=int32),\n",
       " array([ 35,  72,  79,  81, 100], dtype=int32),\n",
       " array([ 32,  43,  52,  67, 100], dtype=int32),\n",
       " array([ 21,  50,  55,  60, 100], dtype=int32),\n",
       " array([  8,  27,  32,  62, 100], dtype=int32)]"
      ]
     },
     "execution_count": 75,
     "metadata": {},
     "output_type": "execute_result"
    }
   ],
   "source": [
    "results = {\n",
    "    'Question 1': [10, 15, 17, 32, 26],\n",
    "    'Question 2': [26, 22, 29, 10, 13],\n",
    "    'Question 3': [35, 37, 7, 2, 19],\n",
    "    'Question 4': [32, 11, 9, 15, 33],\n",
    "    'Question 5': [21, 29, 5, 5, 40],\n",
    "    'Question 6': [8, 19, 5, 30, 38]\n",
    "}\n",
    "[np.cumsum(np.array(v)) for v in results.values()]"
   ]
  },
  {
   "cell_type": "code",
   "execution_count": 79,
   "metadata": {},
   "outputs": [
    {
     "data": {
      "image/png": "[encoded data removed]",
      "text/html": [
       "<div style=\"vertical-align: middle;\"><strong>viridis</strong> </div><div class=\"cmap\"><img alt=\"viridis colormap\" title=\"viridis\" style=\"border: 1px solid #555;\" src=\"data:image/png;base64,iVBORw0KGgoAAAANSUhEUgAAAgAAAABACAYAAABsv8+/AAAAFnRFWHRUaXRsZQB2aXJpZGlzIGNvbG9ybWFwrE0mCwAAABx0RVh0RGVzY3JpcHRpb24AdmlyaWRpcyBjb2xvcm1hcAtjl3IAAAAwdEVYdEF1dGhvcgBNYXRwbG90bGliIHYzLjUuMSwgaHR0cHM6Ly9tYXRwbG90bGliLm9yZ/e3zs8AAAAydEVYdFNvZnR3YXJlAE1hdHBsb3RsaWIgdjMuNS4xLCBodHRwczovL21hdHBsb3RsaWIub3Jn2RFR6AAAAiJJREFUeJzt1kGSmzAURdEv2FqWkP0vJfQgMhQCGceV2Ttn4pL0EVQPum771X5vVVXVWv39XfrPeV193V5zS98f1sf5/fPjey73zu6/3Hv/uz2cz57f9vP68rxO9+/zre7nhvvG+et6vH92bw3PDfcsD+eX59+/53n96f3362/f87/vf5yr93Of72/fPV9P89tX3zGeH3OT8/07Zs+/32+TuXZZD8/VODf8W5uuH/b7vctlfuv7NazH8/t7ZnP7bz2cD3NL+/Ph3Hl+/efz83vWun/vuL++nquH9eu9w/uu6/vvOO49f/8xf77vOj+8b7Y/fMfse9ca/y7nv+d62a++X+f1vt+G/b7u+/u6TxzzS//tc2053QMABBEAABBIAABAIAEAAIEEAAAEEgAAEEgAAEAgAQAAgQQAAAQSAAAQSAAAQCABAACBBAAABBIAABBIAABAIAEAAIEEAAAEEgAAEEgAAEAgAQAAgQQAAAQSAAAQSAAAQCABAACBBAAABBIAABBIAABAIAEAAIEEAAAEEgAAEEgAAEAgAQAAgQQAAAQSAAAQSAAAQCABAACBBAAABBIAABBIAABAIAEAAIEEAAAEEgAAEEgAAEAgAQAAgQQAAAQSAAAQSAAAQCABAACBBAAABBIAABBIAABAIAEAAIEEAAAEEgAAEEgAAEAgAQAAgQQAAAQSAAAQSAAAQCABAACBBAAABBIAABBIAABAoB9ucImHxcKZtAAAAABJRU5ErkJggg==\"></div><div style=\"vertical-align: middle; max-width: 514px; display: flex; justify-content: space-between;\"><div style=\"float: left;\"><div title=\"#440154ff\" style=\"display: inline-block; width: 1em; height: 1em; margin: 0; vertical-align: middle; border: 1px solid #555; background-color: #440154ff;\"></div> under</div><div style=\"margin: 0 auto; display: inline-block;\">bad <div title=\"#00000000\" style=\"display: inline-block; width: 1em; height: 1em; margin: 0; vertical-align: middle; border: 1px solid #555; background-color: #00000000;\"></div></div><div style=\"float: right;\">over <div title=\"#fde725ff\" style=\"display: inline-block; width: 1em; height: 1em; margin: 0; vertical-align: middle; border: 1px solid #555; background-color: #fde725ff;\"></div></div>"
      ],
      "text/plain": [
       "<matplotlib.colors.ListedColormap at 0x211ede10c70>"
      ]
     },
     "execution_count": 79,
     "metadata": {},
     "output_type": "execute_result"
    }
   ],
   "source": [
    "plt.get_cmap('viridis')"
   ]
  },
  {
   "cell_type": "code",
   "execution_count": 81,
   "metadata": {},
   "outputs": [
    {
     "data": {
      "text/plain": [
       "array([[0.89888504, 0.30549789, 0.20676663, 1.        ],\n",
       "       [0.99315648, 0.73233372, 0.42237601, 1.        ],\n",
       "       [0.99707805, 0.9987697 , 0.74502115, 1.        ],\n",
       "       [0.70196078, 0.87297193, 0.44867359, 1.        ],\n",
       "       [0.24805844, 0.66720492, 0.3502499 , 1.        ]])"
      ]
     },
     "execution_count": 81,
     "metadata": {},
     "output_type": "execute_result"
    }
   ],
   "source": [
    "category_colors = plt.get_cmap('RdYlGn')(\n",
    "    np.linspace(0.15, 0.85, np.array(list(results.values())).shape[1]))\n",
    "category_colors    "
   ]
  },
  {
   "cell_type": "code",
   "execution_count": 85,
   "metadata": {},
   "outputs": [
    {
     "data": {
      "text/plain": [
       "[(0,\n",
       "  ('Strongly disagree',\n",
       "   array([0.89888504, 0.30549789, 0.20676663, 1.        ]))),\n",
       " (1, ('Disagree', array([0.99315648, 0.73233372, 0.42237601, 1.        ]))),\n",
       " (2,\n",
       "  ('Neither agree nor disagree',\n",
       "   array([0.99707805, 0.9987697 , 0.74502115, 1.        ]))),\n",
       " (3, ('Agree', array([0.70196078, 0.87297193, 0.44867359, 1.        ]))),\n",
       " (4,\n",
       "  ('Strongly agree', array([0.24805844, 0.66720492, 0.3502499 , 1.        ])))]"
      ]
     },
     "execution_count": 85,
     "metadata": {},
     "output_type": "execute_result"
    }
   ],
   "source": [
    "\n",
    "category_names = ['Strongly disagree', 'Disagree',\n",
    "                  'Neither agree nor disagree', 'Agree', 'Strongly agree']\n",
    "foo = zip(category_names, category_colors)                  \n",
    "[f for f in enumerate(foo)]"
   ]
  },
  {
   "cell_type": "code",
   "execution_count": 86,
   "metadata": {},
   "outputs": [
    {
     "data": {
      "image/png": "[encoded data removed]",
      "text/plain": [
       "<Figure size 662.4x360 with 1 Axes>"
      ]
     },
     "metadata": {
      "needs_background": "light"
     },
     "output_type": "display_data"
    }
   ],
   "source": [
    "import numpy as np\n",
    "import matplotlib.pyplot as plt\n",
    "\n",
    "\n",
    "category_names = ['Strongly disagree', 'Disagree',\n",
    "                  'Neither agree nor disagree', 'Agree', 'Strongly agree']\n",
    "results = {\n",
    "    'Question 1': [10, 15, 17, 32, 26],\n",
    "    'Question 2': [26, 22, 29, 10, 13],\n",
    "    'Question 3': [35, 37, 7, 2, 19],\n",
    "    'Question 4': [32, 11, 9, 15, 33],\n",
    "    'Question 5': [21, 29, 5, 5, 40],\n",
    "    'Question 6': [8, 19, 5, 30, 38]\n",
    "}\n",
    "\n",
    "\n",
    "def survey(results, category_names):\n",
    "    \"\"\"\n",
    "    Parameters\n",
    "    ----------\n",
    "    results : dict\n",
    "        A mapping from question labels to a list of answers per category.\n",
    "        It is assumed all lists contain the same number of entries and that\n",
    "        it matches the length of *category_names*.\n",
    "    category_names : list of str\n",
    "        The category labels.\n",
    "    \"\"\"\n",
    "    labels = list(results.keys())\n",
    "    data = np.array(list(results.values()))\n",
    "    data_cum = data.cumsum(axis=1)\n",
    "    category_colors = plt.get_cmap('RdYlGn')(\n",
    "        np.linspace(0.15, 0.85, data.shape[1]))\n",
    "\n",
    "    fig, ax = plt.subplots(figsize=(9.2, 5))\n",
    "    ax.invert_yaxis()\n",
    "    ax.xaxis.set_visible(False)\n",
    "    ax.set_xlim(0, np.sum(data, axis=1).max())\n",
    "\n",
    "    for i, (colname, color) in enumerate(zip(category_names, category_colors)):\n",
    "        widths = data[:, i]\n",
    "        starts = data_cum[:, i] - widths\n",
    "        rects = ax.barh(labels, widths, left=starts, height=0.5,\n",
    "                        label=colname, color=color)\n",
    "\n",
    "        r, g, b, _ = color\n",
    "        text_color = 'white' if r * g * b < 0.5 else 'darkgrey'\n",
    "        #ax.bar_label(rects, label_type='center', color=text_color)\n",
    "    ax.legend(ncol=len(category_names), bbox_to_anchor=(0, 1),\n",
    "              loc='lower left', fontsize='small')\n",
    "\n",
    "    return fig, ax\n",
    "\n",
    "\n",
    "survey(results, category_names)\n",
    "plt.show()"
   ]
  },
  {
   "cell_type": "code",
   "execution_count": 87,
   "metadata": {},
   "outputs": [
    {
     "data": {
      "text/plain": [
       "23409"
      ]
     },
     "execution_count": 87,
     "metadata": {},
     "output_type": "execute_result"
    }
   ],
   "source": [
    "153**2"
   ]
  },
  {
   "cell_type": "code",
   "execution_count": null,
   "metadata": {},
   "outputs": [],
   "source": [
    "ax.bar_label?"
   ]
  },
  {
   "cell_type": "code",
   "execution_count": null,
   "metadata": {},
   "outputs": [],
   "source": [
    "np.array(list(results.values())).cumsum(axis=1)\n",
    "#'Question 1': [10, 15, 17, 32, 26],"
   ]
  },
  {
   "cell_type": "code",
   "execution_count": 89,
   "metadata": {},
   "outputs": [
    {
     "data": {
      "text/plain": [
       "array([[0.89888504, 0.30549789, 0.20676663, 1.        ],\n",
       "       [0.99315648, 0.73233372, 0.42237601, 1.        ],\n",
       "       [0.99707805, 0.9987697 , 0.74502115, 1.        ],\n",
       "       [0.70196078, 0.87297193, 0.44867359, 1.        ],\n",
       "       [0.24805844, 0.66720492, 0.3502499 , 1.        ]])"
      ]
     },
     "execution_count": 89,
     "metadata": {},
     "output_type": "execute_result"
    }
   ],
   "source": [
    "plt.get_cmap('RdYlGn')(\n",
    "        np.linspace(0.15, 0.85, np.array(list(results.values())).cumsum(axis=1).shape[1]))"
   ]
  },
  {
   "cell_type": "code",
   "execution_count": 88,
   "metadata": {},
   "outputs": [
    {
     "name": "stdout",
     "output_type": "stream",
     "text": [
      "(0, ('Strongly disagree', array([0.89888504, 0.30549789, 0.20676663, 1.        ])))\n",
      "(1, ('Disagree', array([0.99315648, 0.73233372, 0.42237601, 1.        ])))\n",
      "(2, ('Neither agree nor disagree', array([0.99707805, 0.9987697 , 0.74502115, 1.        ])))\n",
      "(3, ('Agree', array([0.70196078, 0.87297193, 0.44867359, 1.        ])))\n",
      "(4, ('Strongly agree', array([0.24805844, 0.66720492, 0.3502499 , 1.        ])))\n"
     ]
    }
   ],
   "source": [
    "for w in enumerate(zip(category_names, category_colors)): print(w)"
   ]
  },
  {
   "cell_type": "code",
   "execution_count": 90,
   "metadata": {},
   "outputs": [
    {
     "data": {
      "image/png": "[encoded data removed]",
      "text/plain": [
       "<Figure size 400x300 with 2 Axes>"
      ]
     },
     "metadata": {
      "needs_background": "light"
     },
     "output_type": "display_data"
    }
   ],
   "source": [
    "# Prolog - Auto Generated #\n",
    "import os, uuid, matplotlib\n",
    "matplotlib.use('Agg')\n",
    "import matplotlib.pyplot\n",
    "import pandas\n",
    "\n",
    "import sys\n",
    "sys.tracebacklimit = 0\n",
    "\n",
    "os.chdir(u'C:/Users/andre/PythonEditorWrapper_96955499-0ab5-42e6-b453-0cd31684f332')\n",
    "dataset = pandas.read_csv('input_df_1118ab6b-8d80-4d2d-94d6-b6d8706af429.csv')\n",
    "\n",
    "matplotlib.pyplot.figure(figsize=(5.55555555555556,4.16666666666667), dpi=72)\n",
    "matplotlib.pyplot.show = lambda args=None,kw=None: matplotlib.pyplot.savefig(str(uuid.uuid1()))\n",
    "# Original Script. Please update your script content here and once completed copy below section back to the original editing window #\n",
    "# The following code to create a dataframe and remove duplicated rows is always executed and acts as a preamble for your script: \n",
    "\n",
    "# dataset = pandas.DataFrame(age, average_monthly_balance_prevQ, average_monthly_balance_prevQ2, branch_code, churn, current_balance, current_month_balance, current_month_credit, current_month_debit, customer_id, customer_nw_category, gender, previous_month_balance, previous_month_credit, previous_month_debit, previous_month_end_balance, vintage)\n",
    "# dataset = dataset.drop_duplicates()\n",
    "\n",
    "# Paste or type your script code here:\n",
    "import matplotlib.pyplot as plt\n",
    "import seaborn as sns\n",
    "\n",
    "# create the correlation matrix on the dataset\n",
    "corr = dataset.corr()\n",
    "# create a heatmap of the correlation matrix\n",
    "sns.heatmap(corr, cmap=\"YlGnBu\")\n",
    "# show plot\n",
    "plt.show()\n",
    "\n",
    "# Epilog - Auto Generated #\n",
    "os.chdir(u'C:/Users/andre/PythonEditorWrapper_96955499-0ab5-42e6-b453-0cd31684f332')\n"
   ]
  },
  {
   "cell_type": "code",
   "execution_count": null,
   "metadata": {},
   "outputs": [],
   "source": [
    "# Prolog - Auto Generated #\n",
    "import os, uuid, matplotlib\n",
    "matplotlib.use('Agg')\n",
    "import matplotlib.pyplot as plt \n",
    "import pandas\n",
    "\n",
    "import sys\n",
    "sys.tracebacklimit = 0\n",
    "\n",
    "os.chdir(u'C:/Users/andre/PythonEditorWrapper_faab9973-b041-44a3-a467-ac95af452b07')\n",
    "dataset = pandas.read_csv('input_df_7dd7a03b-c3cc-401d-8636-ef7478ddfccd.csv')\n",
    "\n",
    "#matplotlib.pyplot.figure(figsize=(5.55555555555556,4.16666666666667), dpi=72)\n",
    "matplotlib.pyplot.show = lambda args=None,kw=None: matplotlib.pyplot.savefig(str(uuid.uuid1()))\n",
    "# Original Script. Please update your script content here and once completed copy below section back to the original editing window #\n",
    "# The following code to create a dataframe and remove duplicated rows is always executed and acts as a preamble for your script: \n",
    "\n",
    "# dataset = pandas.DataFrame(Age, Weight)\n",
    "# dataset = dataset.drop_duplicates()\n",
    "\n",
    "# Paste or type your script code here:\n",
    "\n",
    "dataset.plot(kind='scatter', x='Age', y='Weight', color='red')\n",
    "plt.show()\n",
    "\n",
    "# Epilog - Auto Generated #\n",
    "#os.chdir(u'C:/Users/andre/PythonEditorWrapper_faab9973-b041-44a3-a467-ac95af452b07')\n"
   ]
  },
  {
   "cell_type": "code",
   "execution_count": null,
   "metadata": {},
   "outputs": [],
   "source": [
    "dataset"
   ]
  },
  {
   "cell_type": "code",
   "execution_count": null,
   "metadata": {},
   "outputs": [],
   "source": [
    "dataset.plot(kind='scatter', x='Age', y='Weight', color='red')"
   ]
  },
  {
   "cell_type": "code",
   "execution_count": null,
   "metadata": {},
   "outputs": [],
   "source": [
    "plt.show()\n"
   ]
  },
  {
   "cell_type": "code",
   "execution_count": null,
   "metadata": {},
   "outputs": [],
   "source": [
    "from pycaret.clustering import *\n"
   ]
  },
  {
   "cell_type": "code",
   "execution_count": null,
   "metadata": {},
   "outputs": [],
   "source": [
    " get_clusters(dataset, model = 'kmodes', num_clusters ="
   ]
  },
  {
   "cell_type": "code",
   "execution_count": null,
   "metadata": {},
   "outputs": [],
   "source": []
  }
 ],
 "metadata": {
  "kernelspec": {
   "display_name": "Python 3",
   "language": "python",
   "name": "python3"
  },
  "language_info": {
   "codemirror_mode": {
    "name": "ipython",
    "version": 3
   },
   "file_extension": ".py",
   "mimetype": "text/x-python",
   "name": "python",
   "nbconvert_exporter": "python",
   "pygments_lexer": "ipython3",
   "version": "3.9.5"
  }
 },
 "nbformat": 4,
 "nbformat_minor": 2
}
