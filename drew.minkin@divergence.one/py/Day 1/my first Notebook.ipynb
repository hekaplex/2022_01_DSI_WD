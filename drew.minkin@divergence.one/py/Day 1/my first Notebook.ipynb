{
 "cells": [
  {
   "cell_type": "markdown",
   "metadata": {},
   "source": [
    "## My Notebook"
   ]
  },
  {
   "cell_type": "markdown",
   "metadata": {},
   "source": [
    "#### sample"
   ]
  },
  {
   "cell_type": "code",
   "execution_count": 1,
   "metadata": {},
   "outputs": [
    {
     "name": "stdout",
     "output_type": "stream",
     "text": [
      "bacon\n",
      "potato\n",
      "Hello World\n",
      "Hello 2022_02_DSI_WD!!! bacon\n"
     ]
    }
   ],
   "source": [
    "#function basics\n",
    "#function name - print - def print...\n",
    "#function takes one parameter \"Hello World\"\n",
    "Hello = \"bacon\"\n",
    "World = \"potato\"\n",
    "print(Hello)\n",
    "print(World)\n",
    "print('Hello World')\n",
    "var1 = \"Hello 2022_02_DSI_WD!!!\"\n",
    "print(var1+' '+Hello)\n"
   ]
  },
  {
   "cell_type": "code",
   "execution_count": 2,
   "metadata": {},
   "outputs": [
    {
     "name": "stdout",
     "output_type": "stream",
     "text": [
      "<class 'int'>\n",
      "<class 'str'>\n"
     ]
    }
   ],
   "source": [
    "number = 4\n",
    "print(type(number))\n",
    "number = str(4)\n",
    "print(type(number))"
   ]
  },
  {
   "cell_type": "code",
   "execution_count": 3,
   "metadata": {},
   "outputs": [
    {
     "data": {
      "text/plain": [
       "0.4"
      ]
     },
     "execution_count": 3,
     "metadata": {},
     "output_type": "execute_result"
    }
   ],
   "source": [
    "4/10"
   ]
  },
  {
   "cell_type": "code",
   "execution_count": 4,
   "metadata": {},
   "outputs": [
    {
     "data": {
      "text/plain": [
       "float"
      ]
     },
     "execution_count": 4,
     "metadata": {},
     "output_type": "execute_result"
    }
   ],
   "source": [
    "futureValue = 0.\n",
    "type(futureValue)"
   ]
  },
  {
   "cell_type": "code",
   "execution_count": 6,
   "metadata": {},
   "outputs": [],
   "source": [
    "#children Andrew Laura Joe \n",
    "children = \"Andrew Laura Joe\"\n"
   ]
  },
  {
   "cell_type": "code",
   "execution_count": 8,
   "metadata": {},
   "outputs": [
    {
     "data": {
      "text/plain": [
       "'u'"
      ]
     },
     "execution_count": 8,
     "metadata": {},
     "output_type": "execute_result"
    }
   ],
   "source": [
    "# 0 index based \n",
    "children[9]"
   ]
  },
  {
   "cell_type": "code",
   "execution_count": 9,
   "metadata": {},
   "outputs": [
    {
     "data": {
      "text/plain": [
       "list"
      ]
     },
     "execution_count": 9,
     "metadata": {},
     "output_type": "execute_result"
    }
   ],
   "source": [
    "# list example\n",
    "children =[\"Andrew\",\"Laura\",\"Joe\"]\n",
    "type(children)"
   ]
  },
  {
   "cell_type": "code",
   "execution_count": 11,
   "metadata": {},
   "outputs": [
    {
     "name": "stdout",
     "output_type": "stream",
     "text": [
      "A\n",
      "n\n",
      "d\n",
      "r\n",
      "e\n",
      "w\n",
      "L\n",
      "a\n",
      "u\n",
      "r\n",
      "a\n",
      "J\n",
      "o\n",
      "e\n"
     ]
    }
   ],
   "source": [
    "for x in children:\n",
    "    for char in x:\n",
    "        print(char)"
   ]
  },
  {
   "cell_type": "code",
   "execution_count": 12,
   "metadata": {},
   "outputs": [
    {
     "data": {
      "text/plain": [
       "5"
      ]
     },
     "execution_count": 12,
     "metadata": {},
     "output_type": "execute_result"
    }
   ],
   "source": [
    "len(Hello)"
   ]
  },
  {
   "cell_type": "code",
   "execution_count": 13,
   "metadata": {},
   "outputs": [
    {
     "name": "stdout",
     "output_type": "stream",
     "text": [
      "Andrew 6\n",
      "Laura 5\n",
      "Joe 3\n"
     ]
    }
   ],
   "source": [
    "for x in children:\n",
    "    print(x,len(x))"
   ]
  },
  {
   "cell_type": "code",
   "execution_count": 14,
   "metadata": {},
   "outputs": [
    {
     "data": {
      "text/plain": [
       "[6, 5, 3]"
      ]
     },
     "execution_count": 14,
     "metadata": {},
     "output_type": "execute_result"
    }
   ],
   "source": [
    "len_list = []\n",
    "# for x in children:\n",
    "#     len_list.append(len(x))\n",
    "for x in children: len_list.append(len(x))\n",
    "len_list"
   ]
  },
  {
   "cell_type": "code",
   "execution_count": 15,
   "metadata": {},
   "outputs": [
    {
     "data": {
      "text/plain": [
       "list"
      ]
     },
     "execution_count": 15,
     "metadata": {},
     "output_type": "execute_result"
    }
   ],
   "source": [
    "type(len_list)"
   ]
  },
  {
   "cell_type": "code",
   "execution_count": 20,
   "metadata": {},
   "outputs": [],
   "source": [
    "#list comprehension\n",
    "# for x in children: len_list.append(len(x))\n",
    "nested_list = [[x,len(x)] for x in children]"
   ]
  },
  {
   "cell_type": "code",
   "execution_count": 22,
   "metadata": {},
   "outputs": [
    {
     "data": {
      "text/plain": [
       "6"
      ]
     },
     "execution_count": 22,
     "metadata": {},
     "output_type": "execute_result"
    }
   ],
   "source": [
    "nested_list[0][1]"
   ]
  },
  {
   "cell_type": "code",
   "execution_count": 51,
   "metadata": {},
   "outputs": [
    {
     "data": {
      "text/plain": [
       "(6, 5, 3)"
      ]
     },
     "execution_count": 51,
     "metadata": {},
     "output_type": "execute_result"
    }
   ],
   "source": [
    "len_tuple = tuple(len_list)\n",
    "len_tuple"
   ]
  },
  {
   "cell_type": "code",
   "execution_count": 25,
   "metadata": {},
   "outputs": [
    {
     "data": {
      "text/plain": [
       "[6, 5, 3]"
      ]
     },
     "execution_count": 25,
     "metadata": {},
     "output_type": "execute_result"
    }
   ],
   "source": [
    "# tuple comprehension\n",
    "gen_tuple = (len(x) for x in children)\n",
    "[g for g in gen_tuple]"
   ]
  },
  {
   "cell_type": "code",
   "execution_count": 28,
   "metadata": {},
   "outputs": [],
   "source": [
    "#functions and tuples\n",
    "def len_fun(list_in):\n",
    "    return [(x, len(x)) for x in list_in]"
   ]
  },
  {
   "cell_type": "code",
   "execution_count": 33,
   "metadata": {},
   "outputs": [
    {
     "data": {
      "text/plain": [
       "[('Andrew', 6), ('Laura', 5), ('Joe', 3), ('jane', 4)]"
      ]
     },
     "execution_count": 33,
     "metadata": {},
     "output_type": "execute_result"
    }
   ],
   "source": [
    "len_fun(children)"
   ]
  },
  {
   "cell_type": "code",
   "execution_count": 38,
   "metadata": {},
   "outputs": [
    {
     "ename": "TypeError",
     "evalue": "'NoneType' object is not iterable",
     "output_type": "error",
     "traceback": [
      "\u001b[1;31m---------------------------------------------------------------------------\u001b[0m",
      "\u001b[1;31mTypeError\u001b[0m                                 Traceback (most recent call last)",
      "\u001b[1;32m~\\AppData\\Local\\Temp\\ipykernel_93964\\2060391765.py\u001b[0m in \u001b[0;36m<module>\u001b[1;34m\u001b[0m\n\u001b[1;32m----> 1\u001b[1;33m \u001b[1;32mfor\u001b[0m \u001b[0mx\u001b[0m \u001b[1;32min\u001b[0m \u001b[0mlen_tuple\u001b[0m\u001b[1;33m:\u001b[0m\u001b[1;33m\u001b[0m\u001b[1;33m\u001b[0m\u001b[0m\n\u001b[0m\u001b[0;32m      2\u001b[0m     \u001b[0mprint\u001b[0m\u001b[1;33m(\u001b[0m\u001b[0mx\u001b[0m\u001b[1;33m)\u001b[0m\u001b[1;33m\u001b[0m\u001b[1;33m\u001b[0m\u001b[0m\n",
      "\u001b[1;31mTypeError\u001b[0m: 'NoneType' object is not iterable"
     ]
    }
   ],
   "source": [
    "for x in len_tuple:\n",
    "    print(x)"
   ]
  },
  {
   "cell_type": "code",
   "execution_count": 50,
   "metadata": {},
   "outputs": [],
   "source": [
    "len_tuple"
   ]
  },
  {
   "cell_type": "code",
   "execution_count": 32,
   "metadata": {},
   "outputs": [],
   "source": [
    "children.append(\"jane\")"
   ]
  },
  {
   "cell_type": "code",
   "execution_count": 58,
   "metadata": {},
   "outputs": [
    {
     "data": {
      "text/plain": [
       "(6, 5, 3, 7)"
      ]
     },
     "execution_count": 58,
     "metadata": {},
     "output_type": "execute_result"
    }
   ],
   "source": [
    "l3 = [t for t in  len_tuple]\n",
    "l3.append(7)\n",
    "nt = tuple(l3)\n",
    "nt"
   ]
  },
  {
   "cell_type": "code",
   "execution_count": 39,
   "metadata": {},
   "outputs": [
    {
     "data": {
      "text/plain": [
       "NoneType"
      ]
     },
     "execution_count": 39,
     "metadata": {},
     "output_type": "execute_result"
    }
   ],
   "source": [
    "type(len_tuple)"
   ]
  },
  {
   "cell_type": "code",
   "execution_count": 59,
   "metadata": {},
   "outputs": [
    {
     "data": {
      "text/plain": [
       "5"
      ]
     },
     "execution_count": 59,
     "metadata": {},
     "output_type": "execute_result"
    }
   ],
   "source": [
    "# tuples are ready only indexed and iterable\n",
    "listuple = len_fun(children)\n",
    "listuple[1][1]"
   ]
  },
  {
   "cell_type": "code",
   "execution_count": 60,
   "metadata": {},
   "outputs": [
    {
     "data": {
      "text/plain": [
       "'a'"
      ]
     },
     "execution_count": 60,
     "metadata": {},
     "output_type": "execute_result"
    }
   ],
   "source": [
    "Hello[1]"
   ]
  },
  {
   "cell_type": "code",
   "execution_count": 61,
   "metadata": {},
   "outputs": [
    {
     "data": {
      "text/plain": [
       "'Laura'"
      ]
     },
     "execution_count": 61,
     "metadata": {},
     "output_type": "execute_result"
    }
   ],
   "source": [
    "children[1]"
   ]
  },
  {
   "cell_type": "code",
   "execution_count": 66,
   "metadata": {},
   "outputs": [
    {
     "data": {
      "text/plain": [
       "range"
      ]
     },
     "execution_count": 66,
     "metadata": {},
     "output_type": "execute_result"
    }
   ],
   "source": [
    "rm = range(len(children))\n",
    "type(rm)"
   ]
  },
  {
   "cell_type": "code",
   "execution_count": 64,
   "metadata": {},
   "outputs": [],
   "source": [
    "rm = range(20,100)"
   ]
  },
  {
   "cell_type": "code",
   "execution_count": 67,
   "metadata": {},
   "outputs": [
    {
     "name": "stdout",
     "output_type": "stream",
     "text": [
      "0\n",
      "1\n",
      "2\n",
      "3\n"
     ]
    }
   ],
   "source": [
    "for r in rm: print(r)"
   ]
  },
  {
   "cell_type": "code",
   "execution_count": 68,
   "metadata": {},
   "outputs": [
    {
     "name": "stdout",
     "output_type": "stream",
     "text": [
      "('Andrew', 6)\n",
      "('Laura', 5)\n",
      "('Joe', 3)\n",
      "('jane', 4)\n"
     ]
    }
   ],
   "source": [
    "for r in listuple: \n",
    "    print(r)"
   ]
  },
  {
   "cell_type": "code",
   "execution_count": 75,
   "metadata": {},
   "outputs": [
    {
     "name": "stdout",
     "output_type": "stream",
     "text": [
      "('Andrew', 6)\n",
      "('Laura', 5)\n",
      "('Joe', 3)\n"
     ]
    }
   ],
   "source": [
    "months = 3 \n",
    "#Python is a zero-index language\n",
    "rng_mo = range(months)\n",
    "for r in rng_mo: \n",
    "    print(listuple[r])"
   ]
  },
  {
   "cell_type": "code",
   "execution_count": 82,
   "metadata": {},
   "outputs": [],
   "source": [
    "# returns a series of strings from a list of tuples\n",
    "def mo_fun (molist,monum):\n",
    "    '''\n",
    "    monum = number of iterations\n",
    "    molist = list'''\n",
    "    rng_mo = range(monum)\n",
    "    for r in rng_mo: \n",
    "        print(molist[r])\n",
    "        "
   ]
  },
  {
   "cell_type": "code",
   "execution_count": 80,
   "metadata": {},
   "outputs": [
    {
     "name": "stdout",
     "output_type": "stream",
     "text": [
      "('Andrew', 6)\n"
     ]
    }
   ],
   "source": [
    "mo_fun (monum=1, molist=listuple)"
   ]
  },
  {
   "cell_type": "code",
   "execution_count": 81,
   "metadata": {},
   "outputs": [
    {
     "name": "stdout",
     "output_type": "stream",
     "text": [
      "6\n"
     ]
    }
   ],
   "source": [
    "mo_fun(nt,1)"
   ]
  },
  {
   "cell_type": "code",
   "execution_count": 83,
   "metadata": {},
   "outputs": [
    {
     "name": "stdout",
     "output_type": "stream",
     "text": [
      "\u001b[1;31mSignature:\u001b[0m \u001b[0mmo_fun\u001b[0m\u001b[1;33m(\u001b[0m\u001b[0mmolist\u001b[0m\u001b[1;33m,\u001b[0m \u001b[0mmonum\u001b[0m\u001b[1;33m)\u001b[0m\u001b[1;33m\u001b[0m\u001b[1;33m\u001b[0m\u001b[0m\n",
      "\u001b[1;31mDocstring:\u001b[0m\n",
      "monum = number of iterations\n",
      "molist = list\n",
      "\u001b[1;31mFile:\u001b[0m      c:\\users\\andre\\appdata\\local\\temp\\ipykernel_93964\\996065782.py\n",
      "\u001b[1;31mType:\u001b[0m      function\n"
     ]
    }
   ],
   "source": [
    "mo_fun?"
   ]
  },
  {
   "cell_type": "code",
   "execution_count": null,
   "metadata": {},
   "outputs": [],
   "source": [
    "#input - num,list, output = int & str"
   ]
  },
  {
   "cell_type": "code",
   "execution_count": null,
   "metadata": {},
   "outputs": [],
   "source": [
    "def most_fun (molist,monum):\n",
    "    rng_mo = range(monum)\n",
    "    return molist[monum][0] , molist[monum][1]"
   ]
  },
  {
   "cell_type": "code",
   "execution_count": 84,
   "metadata": {},
   "outputs": [],
   "source": [
    "def most_fun (molist,monum):\n",
    "    rng_mo = range(monum)\n",
    "    return \\\n",
    "        molist[monum][0] \\\n",
    "        , molist[monum][1]"
   ]
  },
  {
   "cell_type": "code",
   "execution_count": 85,
   "metadata": {},
   "outputs": [
    {
     "data": {
      "text/plain": [
       "('Laura', 5)"
      ]
     },
     "execution_count": 85,
     "metadata": {},
     "output_type": "execute_result"
    }
   ],
   "source": [
    "most_fun (monum=1, molist=listuple)"
   ]
  },
  {
   "cell_type": "code",
   "execution_count": 86,
   "metadata": {},
   "outputs": [
    {
     "name": "stdout",
     "output_type": "stream",
     "text": [
      "Laura\n",
      "5\n"
     ]
    }
   ],
   "source": [
    " ltstr, ltint = most_fun (monum=1, molist=listuple)\n",
    " print(ltstr)\n",
    " print(ltint)\n",
    "\n"
   ]
  },
  {
   "cell_type": "code",
   "execution_count": 87,
   "metadata": {},
   "outputs": [
    {
     "ename": "TypeError",
     "evalue": "most_fun() missing 1 required positional argument: 'monum'",
     "output_type": "error",
     "traceback": [
      "\u001b[1;31m---------------------------------------------------------------------------\u001b[0m",
      "\u001b[1;31mTypeError\u001b[0m                                 Traceback (most recent call last)",
      "\u001b[1;32m~\\AppData\\Local\\Temp\\ipykernel_93964\\911570209.py\u001b[0m in \u001b[0;36m<module>\u001b[1;34m\u001b[0m\n\u001b[0;32m      1\u001b[0m \u001b[0mbigtuple\u001b[0m \u001b[1;33m=\u001b[0m \u001b[1;33m(\u001b[0m\u001b[0mlistuple\u001b[0m\u001b[1;33m,\u001b[0m\u001b[1;36m1\u001b[0m\u001b[1;33m)\u001b[0m\u001b[1;33m\u001b[0m\u001b[1;33m\u001b[0m\u001b[0m\n\u001b[1;32m----> 2\u001b[1;33m \u001b[0mmost_fun\u001b[0m\u001b[1;33m(\u001b[0m\u001b[0mbigtuple\u001b[0m\u001b[1;33m)\u001b[0m\u001b[1;33m\u001b[0m\u001b[1;33m\u001b[0m\u001b[0m\n\u001b[0m",
      "\u001b[1;31mTypeError\u001b[0m: most_fun() missing 1 required positional argument: 'monum'"
     ]
    }
   ],
   "source": [
    "bigtuple = (listuple,1)\n",
    "most_fun(bigtuple)"
   ]
  },
  {
   "cell_type": "code",
   "execution_count": 88,
   "metadata": {},
   "outputs": [
    {
     "data": {
      "text/plain": [
       "[('Andrew', 6), ('Laura', 5), ('Joe', 3), ('jane', 4)]"
      ]
     },
     "execution_count": 88,
     "metadata": {},
     "output_type": "execute_result"
    }
   ],
   "source": [
    "listuple"
   ]
  },
  {
   "cell_type": "code",
   "execution_count": 89,
   "metadata": {},
   "outputs": [
    {
     "data": {
      "text/plain": [
       "{('Andrew', 6), ('Joe', 3), ('Laura', 5), ('jane', 4)}"
      ]
     },
     "execution_count": 89,
     "metadata": {},
     "output_type": "execute_result"
    }
   ],
   "source": [
    "set(listuple)"
   ]
  },
  {
   "cell_type": "code",
   "execution_count": 90,
   "metadata": {},
   "outputs": [
    {
     "data": {
      "text/plain": [
       "{'Andrew', 'Joe', 'Laura', 'jane'}"
      ]
     },
     "execution_count": 90,
     "metadata": {},
     "output_type": "execute_result"
    }
   ],
   "source": [
    "setch = set(children)\n",
    "setch"
   ]
  },
  {
   "cell_type": "code",
   "execution_count": 99,
   "metadata": {},
   "outputs": [],
   "source": [
    "t = []\n",
    "for x in children:\n",
    "    for char in x:\n",
    "        t.append(char)"
   ]
  },
  {
   "cell_type": "code",
   "execution_count": 102,
   "metadata": {},
   "outputs": [
    {
     "data": {
      "text/plain": [
       "['a', 'J', 'e', 'j', 'n', 'u', 'L', 'o', 'A', 'd', 'w', 'r']"
      ]
     },
     "execution_count": 102,
     "metadata": {},
     "output_type": "execute_result"
    }
   ],
   "source": [
    "list(set(t))"
   ]
  },
  {
   "cell_type": "code",
   "execution_count": 92,
   "metadata": {},
   "outputs": [
    {
     "data": {
      "text/plain": [
       "True"
      ]
     },
     "execution_count": 92,
     "metadata": {},
     "output_type": "execute_result"
    }
   ],
   "source": [
    "child = {'Joe'}\n",
    "child.issubset(setch)"
   ]
  },
  {
   "cell_type": "code",
   "execution_count": 104,
   "metadata": {},
   "outputs": [
    {
     "data": {
      "text/plain": [
       "{'Joe'}"
      ]
     },
     "execution_count": 104,
     "metadata": {},
     "output_type": "execute_result"
    }
   ],
   "source": [
    "child & setch"
   ]
  },
  {
   "cell_type": "code",
   "execution_count": 105,
   "metadata": {},
   "outputs": [
    {
     "name": "stdout",
     "output_type": "stream",
     "text": [
      "<class 'dict'>\n",
      "{'Andrew': 6, 'Laura': 5, 'Joe': 3, 'jane': 4}\n"
     ]
    }
   ],
   "source": [
    "first_dict = {k[0]:k[1] for k in listuple}\n",
    "print(type(first_dict))\n",
    "print(first_dict)"
   ]
  },
  {
   "cell_type": "code",
   "execution_count": 111,
   "metadata": {},
   "outputs": [
    {
     "name": "stdout",
     "output_type": "stream",
     "text": [
      "('Andrew', 6)\n",
      "('Laura', 5)\n",
      "('Joe', 5)\n",
      "('jane', 4)\n",
      "('Pat', 'd')\n",
      "Andrew\n",
      "Laura\n",
      "Joe\n",
      "jane\n",
      "Pat\n",
      "6\n",
      "5\n",
      "5\n",
      "4\n",
      "d\n"
     ]
    }
   ],
   "source": [
    "for x in first_dict.items(): print(x)\n",
    "for x in first_dict.keys(): print(x)\n",
    "for x in first_dict.values(): print(x)\n"
   ]
  },
  {
   "cell_type": "code",
   "execution_count": 109,
   "metadata": {},
   "outputs": [
    {
     "data": {
      "text/plain": [
       "5"
      ]
     },
     "execution_count": 109,
     "metadata": {},
     "output_type": "execute_result"
    }
   ],
   "source": [
    "first_dict.get(\"Joe\")"
   ]
  },
  {
   "cell_type": "code",
   "execution_count": 108,
   "metadata": {},
   "outputs": [],
   "source": [
    "first_dict[\"Joe\"] = 5"
   ]
  },
  {
   "cell_type": "code",
   "execution_count": 110,
   "metadata": {},
   "outputs": [],
   "source": [
    "first_dict[\"Pat\"] = \"d\""
   ]
  },
  {
   "cell_type": "code",
   "execution_count": 112,
   "metadata": {},
   "outputs": [
    {
     "ename": "KeyboardInterrupt",
     "evalue": "",
     "output_type": "error",
     "traceback": [
      "\u001b[1;31m---------------------------------------------------------------------------\u001b[0m",
      "\u001b[1;31mKeyboardInterrupt\u001b[0m                         Traceback (most recent call last)",
      "\u001b[1;32m~\\AppData\\Local\\Temp\\ipykernel_93964\\3100939179.py\u001b[0m in \u001b[0;36m<module>\u001b[1;34m\u001b[0m\n\u001b[0;32m      1\u001b[0m \u001b[1;31m#for i in range(3)\u001b[0m\u001b[1;33m\u001b[0m\u001b[1;33m\u001b[0m\u001b[1;33m\u001b[0m\u001b[0m\n\u001b[0;32m      2\u001b[0m \u001b[1;31m#iterator\u001b[0m\u001b[1;33m\u001b[0m\u001b[1;33m\u001b[0m\u001b[1;33m\u001b[0m\u001b[0m\n\u001b[1;32m----> 3\u001b[1;33m \u001b[1;32mfor\u001b[0m \u001b[0mi\u001b[0m \u001b[1;32min\u001b[0m \u001b[0mlistuple\u001b[0m\u001b[1;33m:\u001b[0m \u001b[0mlistuple\u001b[0m\u001b[1;33m.\u001b[0m\u001b[0mappend\u001b[0m\u001b[1;33m(\u001b[0m\u001b[0mi\u001b[0m\u001b[1;33m)\u001b[0m\u001b[1;33m\u001b[0m\u001b[1;33m\u001b[0m\u001b[0m\n\u001b[0m\u001b[0;32m      4\u001b[0m \u001b[0mlistuple\u001b[0m\u001b[1;33m\u001b[0m\u001b[1;33m\u001b[0m\u001b[0m\n",
      "\u001b[1;31mKeyboardInterrupt\u001b[0m: "
     ]
    }
   ],
   "source": [
    "#for i in range(3)\n",
    "#iterator\n",
    "for i in listuple: listuple.append(i)\n",
    "listuple"
   ]
  },
  {
   "cell_type": "code",
   "execution_count": 113,
   "metadata": {},
   "outputs": [
    {
     "data": {
      "text/plain": [
       "116888873"
      ]
     },
     "execution_count": 113,
     "metadata": {},
     "output_type": "execute_result"
    }
   ],
   "source": [
    "len(listuple)"
   ]
  },
  {
   "cell_type": "code",
   "execution_count": 141,
   "metadata": {},
   "outputs": [
    {
     "ename": "AttributeError",
     "evalue": "'list' object has no attribute 'items'",
     "output_type": "error",
     "traceback": [
      "\u001b[1;31m---------------------------------------------------------------------------\u001b[0m",
      "\u001b[1;31mAttributeError\u001b[0m                            Traceback (most recent call last)",
      "\u001b[1;32m~\\AppData\\Local\\Temp\\ipykernel_93964\\1090594276.py\u001b[0m in \u001b[0;36m<module>\u001b[1;34m\u001b[0m\n\u001b[1;32m----> 1\u001b[1;33m \u001b[0mlistuple\u001b[0m\u001b[1;33m.\u001b[0m\u001b[0mitems\u001b[0m\u001b[1;33m(\u001b[0m\u001b[1;33m)\u001b[0m\u001b[1;33m\u001b[0m\u001b[1;33m\u001b[0m\u001b[0m\n\u001b[0m",
      "\u001b[1;31mAttributeError\u001b[0m: 'list' object has no attribute 'items'"
     ]
    }
   ],
   "source": [
    "listuple.items()"
   ]
  },
  {
   "cell_type": "code",
   "execution_count": 114,
   "metadata": {},
   "outputs": [
    {
     "data": {
      "text/plain": [
       "4"
      ]
     },
     "execution_count": 114,
     "metadata": {},
     "output_type": "execute_result"
    }
   ],
   "source": [
    "newset = set(listuple)\n",
    "len(newset)"
   ]
  },
  {
   "cell_type": "code",
   "execution_count": 120,
   "metadata": {},
   "outputs": [],
   "source": [
    "listuple = listuple[0:4]"
   ]
  },
  {
   "cell_type": "code",
   "execution_count": 121,
   "metadata": {},
   "outputs": [],
   "source": [
    "testdict = {\"monum\":1, \"molist\":listuple}"
   ]
  },
  {
   "cell_type": "code",
   "execution_count": 122,
   "metadata": {},
   "outputs": [
    {
     "data": {
      "text/plain": [
       "{'monum': 1, 'molist': [('Andrew', 6), ('Laura', 5), ('Joe', 3), ('jane', 4)]}"
      ]
     },
     "execution_count": 122,
     "metadata": {},
     "output_type": "execute_result"
    }
   ],
   "source": [
    "testdict"
   ]
  },
  {
   "cell_type": "code",
   "execution_count": 125,
   "metadata": {},
   "outputs": [
    {
     "data": {
      "text/plain": [
       "dict_items([('monum', 1), ('molist', [('Andrew', 6), ('Laura', 5), ('Joe', 3), ('jane', 4)])])"
      ]
     },
     "execution_count": 125,
     "metadata": {},
     "output_type": "execute_result"
    }
   ],
   "source": [
    "# *testdict\n",
    "testdict.items()\n",
    "# **testdict\n",
    "    'monum'= 1\n",
    "    'molist' = [('Andrew', 6), ('Laura', 5), ('Joe', 3), ('jane', 4)]"
   ]
  },
  {
   "cell_type": "code",
   "execution_count": 126,
   "metadata": {},
   "outputs": [
    {
     "data": {
      "text/plain": [
       "('Laura', 5)"
      ]
     },
     "execution_count": 126,
     "metadata": {},
     "output_type": "execute_result"
    }
   ],
   "source": [
    "#  most_fun (monum=1, molist=listuple)\n",
    "testdict = {\"monum\":1, \"molist\":listuple}\n",
    "\n",
    "most_fun(**testdict)\n",
    "# exec_fun(** )"
   ]
  },
  {
   "cell_type": "code",
   "execution_count": 135,
   "metadata": {},
   "outputs": [],
   "source": [
    "#function definition, name and input parameters - no data types!!!\n",
    "def calculateFutureValue(monthlyInvestment, monthlyRate, months):\n",
    "    '''takes numbers and gives estimates'''    \n",
    "# iterator for length of calculation cycle\n",
    "    futureValue = 0.0\n",
    "    for i in range(months):\n",
    "#business logic\n",
    "        futureValue = (\n",
    "                futureValue\n",
    "                + monthlyInvestment\n",
    "            ) \\\n",
    "            * \\\n",
    "            ( \\\n",
    "                1 \n",
    "                + monthlyRate\n",
    "            )\n",
    "#output of function\n",
    "    return round(futureValue,2)\n",
    "\n",
    "# monthlyInvestment = input(\"Configure Monthly Investment:\\t\")\n",
    "# monthlyRate = input(\"Configure Monthly Rate:\\t\")\n",
    "# months = input(\"Configure Months of investment:\\t\")"
   ]
  },
  {
   "cell_type": "code",
   "execution_count": 133,
   "metadata": {},
   "outputs": [
    {
     "name": "stdout",
     "output_type": "stream",
     "text": [
      "\u001b[1;31mSignature:\u001b[0m \u001b[0mcalculateFutureValue\u001b[0m\u001b[1;33m(\u001b[0m\u001b[0mmonthlyInvestment\u001b[0m\u001b[1;33m,\u001b[0m \u001b[0mmonthlyRate\u001b[0m\u001b[1;33m,\u001b[0m \u001b[0mmonths\u001b[0m\u001b[1;33m)\u001b[0m\u001b[1;33m\u001b[0m\u001b[1;33m\u001b[0m\u001b[0m\n",
      "\u001b[1;31mDocstring:\u001b[0m takes numbers and gives estimates\n",
      "\u001b[1;31mFile:\u001b[0m      c:\\users\\andre\\appdata\\local\\temp\\ipykernel_93964\\513620384.py\n",
      "\u001b[1;31mType:\u001b[0m      function\n"
     ]
    }
   ],
   "source": [
    "calculateFutureValue?"
   ]
  },
  {
   "cell_type": "code",
   "execution_count": 136,
   "metadata": {},
   "outputs": [
    {
     "data": {
      "text/plain": [
       "17199.72"
      ]
     },
     "execution_count": 136,
     "metadata": {},
     "output_type": "execute_result"
    }
   ],
   "source": [
    "calculateFutureValue(5000,.07,3)\n"
   ]
  },
  {
   "cell_type": "code",
   "execution_count": null,
   "metadata": {},
   "outputs": [],
   "source": [
    "type(Hello)"
   ]
  },
  {
   "cell_type": "code",
   "execution_count": 137,
   "metadata": {},
   "outputs": [
    {
     "name": "stdout",
     "output_type": "stream",
     "text": [
      "Python 3.7.11\n"
     ]
    }
   ],
   "source": [
    "!python --version"
   ]
  },
  {
   "cell_type": "code",
   "execution_count": 138,
   "metadata": {},
   "outputs": [
    {
     "name": "stdout",
     "output_type": "stream",
     "text": [
      " Volume in drive C has no label.\n",
      " Volume Serial Number is 0CF2-974E\n",
      "\n",
      " Directory of c:\\\n",
      "\n",
      "12/08/2021  02:16 PM    <DIR>          2021_10_DSI_WD\n",
      "01/23/2022  09:58 AM    <DIR>          2021_10_DSI_WE\n",
      "02/18/2022  02:57 PM    <DIR>          2022_01_DSI_WD\n",
      "01/06/2021  09:39 AM    <DIR>          ComboKey\n",
      "01/08/2022  07:16 AM    <DIR>          Customer360\n",
      "02/13/2021  12:22 AM    <DIR>          cygwin64\n",
      "01/24/2022  11:15 AM    <DIR>          DIAD\n",
      "10/18/2021  10:46 AM    <DIR>          DIAD202110\n",
      "02/21/2022  09:49 AM    <DIR>          divergence\n",
      "01/31/2022  06:00 PM            12,288 DumpStack.log\n",
      "01/12/2022  04:39 PM    <DIR>          h2o\n",
      "02/10/2022  07:19 PM    <DIR>          hekahnsw\n",
      "12/08/2021  02:57 PM    <DIR>          hekaplex\n",
      "02/12/2021  09:08 PM    <DIR>          java\n",
      "02/14/2022  01:01 PM    <DIR>          Kaggle\n",
      "05/05/2021  05:01 AM    <DIR>          logs\n",
      "05/21/2021  01:29 PM    <DIR>          mlpbix\n",
      "10/05/2021  01:43 PM    <DIR>          New folder (2)\n",
      "02/19/2022  05:10 PM    <DIR>          PartitionPractice\n",
      "08/09/2021  04:56 PM    <DIR>          pBI_extract\n",
      "02/19/2022  11:17 AM    <DIR>          PerfLogs\n",
      "06/08/2021  02:08 PM    <DIR>          PowerBI_AdvM\n",
      "02/13/2022  07:51 PM    <DIR>          Program Files\n",
      "02/05/2022  05:26 PM    <DIR>          Program Files (x86)\n",
      "05/06/2021  05:08 PM    <DIR>          Python39\n",
      "05/17/2021  01:38 PM             4,424 r.txt\n",
      "12/09/2021  10:48 AM    <DIR>          repos\n",
      "12/08/2021  02:25 PM    <DIR>          scratch\n",
      "07/10/2021  02:44 PM    <DIR>          src\n",
      "07/17/2021  02:11 PM    <DIR>          src_dsi_we\n",
      "08/08/2021  10:55 AM    <DIR>          sub_bak_08081051\n",
      "08/03/2021  11:59 AM    <DIR>          sub_bak_1300\n",
      "02/15/2021  12:45 AM    <DIR>          SysinternalsSuite\n",
      "01/06/2021  09:30 AM    <DIR>          temp\n",
      "02/19/2022  10:01 PM    <DIR>          tkt\n",
      "09/03/2021  07:11 PM    <DIR>          tmp\n",
      "01/16/2022  03:51 PM    <DIR>          Users\n",
      "02/10/2022  02:15 AM    <DIR>          Windows\n",
      "               2 File(s)         16,712 bytes\n",
      "              36 Dir(s)  376,618,229,760 bytes free\n"
     ]
    }
   ],
   "source": [
    "folder = \"c:\\\\\"\n",
    "!dir $folder"
   ]
  },
  {
   "cell_type": "code",
   "execution_count": 139,
   "metadata": {},
   "outputs": [
    {
     "name": "stdout",
     "output_type": "stream",
     "text": [
      "test\n",
      "t\n",
      "e\n",
      "\tst'\"\n"
     ]
    }
   ],
   "source": [
    "print(\"test\")\n",
    "print(\"t\\ne\\n\\tst\\'\\\"\")"
   ]
  },
  {
   "cell_type": "code",
   "execution_count": 140,
   "metadata": {},
   "outputs": [
    {
     "ename": "SyntaxError",
     "evalue": "Missing parentheses in call to 'print'. Did you mean print(\"Hello World\")? (796388850.py, line 1)",
     "output_type": "error",
     "traceback": [
      "\u001b[1;36m  File \u001b[1;32m\"C:\\Users\\andre\\AppData\\Local\\Temp\\ipykernel_93964\\796388850.py\"\u001b[1;36m, line \u001b[1;32m1\u001b[0m\n\u001b[1;33m    print \"Hello World\"\u001b[0m\n\u001b[1;37m                      ^\u001b[0m\n\u001b[1;31mSyntaxError\u001b[0m\u001b[1;31m:\u001b[0m Missing parentheses in call to 'print'. Did you mean print(\"Hello World\")?\n"
     ]
    }
   ],
   "source": [
    "print \"Hello World\""
   ]
  },
  {
   "cell_type": "code",
   "execution_count": null,
   "metadata": {},
   "outputs": [],
   "source": [
    "SyntaxError: Missing parentheses in call to 'print'. Did you mean print(\"Hello World\")?\n",
    "TypeError: unsupported operand type(s) for +: 'float' and 'str'\n",
    "ModuleNotFoundError: No module named 'tensorflow'\n",
    "NameError: name 'Hello' is not defined\n",
    "AttributeError: 'list' object has no attribute 'upper'"
   ]
  },
  {
   "cell_type": "code",
   "execution_count": null,
   "metadata": {},
   "outputs": [],
   "source": [
    "print(\"Hello World\")"
   ]
  },
  {
   "cell_type": "code",
   "execution_count": null,
   "metadata": {},
   "outputs": [],
   "source": [
    "#EOL = End of Line"
   ]
  },
  {
   "cell_type": "code",
   "execution_count": null,
   "metadata": {},
   "outputs": [],
   "source": [
    "counter = 0\n",
    "score_total = 0\n",
    "test_score = 0\n",
    "# != is \"Not Equal To\"\n",
    "#while nobody enters 999(quit msg)\n",
    "while test_score != 999:\n",
    "#convert text input to integer\n",
    "    test_score = int(input(\"Enter test score: \"))\n",
    "#check for valid range \n",
    "    if test_score >= 0 and test_score <= 100:\n",
    "#       score_total = score_total + test_score\n",
    "        score_total += test_score # add new score to sum of old scores\n",
    "        counter += 1 # add another counter increment\n",
    "#give graceful warning\n",
    "    else:\n",
    "        print(\"use numbers between 0 and 100\")\n",
    "#calculate average\n",
    "average_score = round(score_total / counter)\n",
    "#give feedback                \n",
    "print(\"Total Score: \" + str(score_total))\n",
    "print(\"Average Score: \" + str(average_score))\n",
    "print(\"Number of Scores: \" + str(counter))\n"
   ]
  },
  {
   "cell_type": "code",
   "execution_count": null,
   "metadata": {},
   "outputs": [],
   "source": [
    "calculateFutureValue?"
   ]
  },
  {
   "cell_type": "code",
   "execution_count": null,
   "metadata": {},
   "outputs": [],
   "source": [
    "children"
   ]
  },
  {
   "cell_type": "code",
   "execution_count": null,
   "metadata": {},
   "outputs": [],
   "source": [
    "print(children)"
   ]
  },
  {
   "cell_type": "code",
   "execution_count": 142,
   "metadata": {},
   "outputs": [],
   "source": [
    "junk = [ 4, \"boing\", 3.6]"
   ]
  },
  {
   "cell_type": "code",
   "execution_count": 145,
   "metadata": {},
   "outputs": [],
   "source": [
    "foo = {6:[4,4]}"
   ]
  },
  {
   "cell_type": "code",
   "execution_count": 143,
   "metadata": {},
   "outputs": [
    {
     "name": "stdout",
     "output_type": "stream",
     "text": [
      "[4, 'boing', 3.6]\n"
     ]
    }
   ],
   "source": [
    "print(junk)"
   ]
  },
  {
   "cell_type": "code",
   "execution_count": 146,
   "metadata": {},
   "outputs": [
    {
     "name": "stdout",
     "output_type": "stream",
     "text": [
      "4 boing 3.6 \n"
     ]
    }
   ],
   "source": [
    "a = str()\n",
    "for i in junk:\n",
    "    a+=str(i)+\" \"\n",
    "print(a)"
   ]
  },
  {
   "cell_type": "code",
   "execution_count": 147,
   "metadata": {},
   "outputs": [
    {
     "name": "stdout",
     "output_type": "stream",
     "text": [
      "Andrew Laura Joe\n"
     ]
    }
   ],
   "source": [
    "print(children[0],children[1],children[2])"
   ]
  },
  {
   "cell_type": "code",
   "execution_count": 148,
   "metadata": {},
   "outputs": [
    {
     "name": "stdout",
     "output_type": "stream",
     "text": [
      "Andrew Laura Joe jane \n"
     ]
    }
   ],
   "source": [
    "a = str()\n",
    "for i in children:\n",
    "    a+=str(i)+\" \"\n",
    "print(a)"
   ]
  },
  {
   "cell_type": "code",
   "execution_count": 149,
   "metadata": {},
   "outputs": [
    {
     "name": "stdout",
     "output_type": "stream",
     "text": [
      "Andrew\n",
      "Laura\n",
      "Joe!!!"
     ]
    }
   ],
   "source": [
    "print(children[0],children[1],children[2],sep=\"\\n\",end=\"!!!\",)"
   ]
  },
  {
   "cell_type": "code",
   "execution_count": 150,
   "metadata": {},
   "outputs": [
    {
     "name": "stdout",
     "output_type": "stream",
     "text": [
      "Andrew[4, 'boing', 3.6]Laura[4, 'boing', 3.6]Joe!!!"
     ]
    }
   ],
   "source": [
    "print(children[0],children[1],children[2],sep=str(junk),end=\"!!!\")"
   ]
  },
  {
   "cell_type": "code",
   "execution_count": 151,
   "metadata": {},
   "outputs": [],
   "source": [
    "newlist = [1,2,3,4]"
   ]
  },
  {
   "cell_type": "code",
   "execution_count": 152,
   "metadata": {},
   "outputs": [
    {
     "name": "stdout",
     "output_type": "stream",
     "text": [
      "[1, 2, 3, 4]\n"
     ]
    }
   ],
   "source": [
    "print(newlist)"
   ]
  },
  {
   "cell_type": "code",
   "execution_count": null,
   "metadata": {},
   "outputs": [],
   "source": [
    "print(\"What is your first name?\")\n",
    "first_name = input()"
   ]
  },
  {
   "cell_type": "code",
   "execution_count": null,
   "metadata": {},
   "outputs": [],
   "source": [
    "print(\"Hello, \" + first_name + \"!\")"
   ]
  },
  {
   "cell_type": "code",
   "execution_count": 154,
   "metadata": {},
   "outputs": [
    {
     "data": {
      "text/plain": [
       "3"
      ]
     },
     "execution_count": 154,
     "metadata": {},
     "output_type": "execute_result"
    }
   ],
   "source": [
    " len(len_list)"
   ]
  },
  {
   "cell_type": "code",
   "execution_count": 159,
   "metadata": {},
   "outputs": [
    {
     "data": {
      "text/plain": [
       "4"
      ]
     },
     "execution_count": 159,
     "metadata": {},
     "output_type": "execute_result"
    }
   ],
   "source": [
    "len(listuple)"
   ]
  },
  {
   "cell_type": "code",
   "execution_count": 160,
   "metadata": {},
   "outputs": [
    {
     "data": {
      "text/plain": [
       "0"
      ]
     },
     "execution_count": 160,
     "metadata": {},
     "output_type": "execute_result"
    }
   ],
   "source": [
    "len(listuple) & len(len_list)\n",
    "# 0b100 0b011"
   ]
  },
  {
   "cell_type": "code",
   "execution_count": 164,
   "metadata": {},
   "outputs": [
    {
     "data": {
      "text/plain": [
       "26"
      ]
     },
     "execution_count": 164,
     "metadata": {},
     "output_type": "execute_result"
    }
   ],
   "source": [
    "val = 0x01A\n",
    "# 16 * 1 + (1 * 10)\n",
    "#16 bit number\n",
    "val"
   ]
  },
  {
   "cell_type": "code",
   "execution_count": 166,
   "metadata": {},
   "outputs": [
    {
     "name": "stdout",
     "output_type": "stream",
     "text": [
      "512\n"
     ]
    }
   ],
   "source": [
    "print(0o01000)\n",
    "# 4 bits are a byte"
   ]
  },
  {
   "cell_type": "code",
   "execution_count": 161,
   "metadata": {},
   "outputs": [
    {
     "data": {
      "text/plain": [
       "3"
      ]
     },
     "execution_count": 161,
     "metadata": {},
     "output_type": "execute_result"
    }
   ],
   "source": [
    "num = 0b011\n",
    "num"
   ]
  },
  {
   "cell_type": "code",
   "execution_count": null,
   "metadata": {},
   "outputs": [],
   "source": [
    ">>> (min_age == 47)\n",
    "True\n",
    ">>> (min_age == 47) and (age == 40)\n",
    "True\n",
    ">>> not(active)\n",
    "True\n",
    ">>> (min_age == 47) and not(age == 40)\n",
    "False\n",
    ">>> (min_age == 47) and not(age == 47)\n",
    "True\n",
    ">>> (min_age == 47) and not(age == 47) or (age != min_age)\n",
    "True\n",
    ">>> ((min_age == 47) and not(age == 47)) or (age != min_age)\n",
    "True\n",
    ">>> "
   ]
  },
  {
   "cell_type": "code",
   "execution_count": 167,
   "metadata": {},
   "outputs": [
    {
     "name": "stdout",
     "output_type": "stream",
     "text": [
      "['Andrew', 'Laura', 'Joe', 'jane']\n"
     ]
    }
   ],
   "source": [
    "print(children)"
   ]
  },
  {
   "cell_type": "code",
   "execution_count": 168,
   "metadata": {},
   "outputs": [
    {
     "name": "stdout",
     "output_type": "stream",
     "text": [
      "['Andrew', 'Laura', 'Joe', 'jane']\n",
      "['andrew', 'laura', 'joe', 'jane']\n",
      "['ANDREW', 'LAURA', 'JOE', 'JANE']\n"
     ]
    }
   ],
   "source": [
    "child2 = str(children)\n",
    "print(child2)\n",
    "print(child2.lower())\n",
    "print(child2.upper())"
   ]
  },
  {
   "cell_type": "code",
   "execution_count": null,
   "metadata": {},
   "outputs": [],
   "source": [
    "type(child2)"
   ]
  },
  {
   "cell_type": "code",
   "execution_count": 169,
   "metadata": {},
   "outputs": [
    {
     "ename": "AttributeError",
     "evalue": "'list' object has no attribute 'upper'",
     "output_type": "error",
     "traceback": [
      "\u001b[1;31m---------------------------------------------------------------------------\u001b[0m",
      "\u001b[1;31mAttributeError\u001b[0m                            Traceback (most recent call last)",
      "\u001b[1;32m~\\AppData\\Local\\Temp\\ipykernel_93964\\1788377440.py\u001b[0m in \u001b[0;36m<module>\u001b[1;34m\u001b[0m\n\u001b[1;32m----> 1\u001b[1;33m \u001b[0mchildren\u001b[0m\u001b[1;33m.\u001b[0m\u001b[0mupper\u001b[0m\u001b[1;33m(\u001b[0m\u001b[1;33m)\u001b[0m\u001b[1;33m\u001b[0m\u001b[1;33m\u001b[0m\u001b[0m\n\u001b[0m",
      "\u001b[1;31mAttributeError\u001b[0m: 'list' object has no attribute 'upper'"
     ]
    }
   ],
   "source": [
    "children.upper()"
   ]
  },
  {
   "cell_type": "code",
   "execution_count": null,
   "metadata": {},
   "outputs": [],
   "source": [
    "#!/usr/bin/env python3\n",
    "\n",
    "#function defintion and input parameters\n",
    "def calculateFutureValue(monthlyInvestment, monthlyRate, months):\n",
    "# iterator for length of calculation cycle\n",
    "    futureValue = 0.0\n",
    "    for i in range(months):\n",
    "#business logic\n",
    "        futureValue = (\n",
    "                futureValue\n",
    "                + monthlyInvestment\n",
    "            ) \\\n",
    "            * \\\n",
    "            ( \\\n",
    "                1 \n",
    "                + monthlyRate/100\n",
    "            )\n",
    "#output of function\n",
    "    return str(round(futureValue,2))\n",
    "\n",
    "# display a welcome message\n",
    "print(\"Welcome to the Future Value Calculator\")\n",
    "print()\n",
    "\n",
    "# get input from the user\n",
    "monthlyInvestment = float(input(\"Configure Monthly Investment:\\t\"))\n",
    "monthlyRate = float(input(\"Configure Monthly Rate:\\t\"))\n",
    "ham = float(input(\"Configure Years of investment:\\t\"))\n",
    "\n",
    "def ytm(years):\n",
    "    return int(round(years*12,0))\n",
    "\n",
    "#calculate final value\n",
    "final_value = str(calculateFutureValue(monthlyInvestment, monthlyRate, ytm(ham)))\n",
    "\n",
    "# display the results\n",
    "print(\"final value: $\"+final_value)\n"
   ]
  },
  {
   "cell_type": "code",
   "execution_count": 171,
   "metadata": {},
   "outputs": [],
   "source": [
    "vart = range(0,100)\n",
    "for i in vart: \n",
    "    print (i)"
   ]
  },
  {
   "cell_type": "code",
   "execution_count": 180,
   "metadata": {},
   "outputs": [
    {
     "data": {
      "text/plain": [
       "['Andrew', 'Laura', 'Joe', 'jane']"
      ]
     },
     "execution_count": 180,
     "metadata": {},
     "output_type": "execute_result"
    }
   ],
   "source": [
    "children[0:4:1]"
   ]
  },
  {
   "cell_type": "code",
   "execution_count": null,
   "metadata": {},
   "outputs": [],
   "source": []
  }
 ],
 "metadata": {
  "kernelspec": {
   "display_name": "Python 3",
   "language": "python",
   "name": "python3"
  },
  "language_info": {
   "codemirror_mode": {
    "name": "ipython",
    "version": 3
   },
   "file_extension": ".py",
   "mimetype": "text/x-python",
   "name": "python",
   "nbconvert_exporter": "python",
   "pygments_lexer": "ipython3",
   "version": "3.7.11"
  }
 },
 "nbformat": 4,
 "nbformat_minor": 4
}
