{
 "metadata": {
  "language_info": {
   "codemirror_mode": {
    "name": "ipython",
    "version": 3
   },
   "file_extension": ".py",
   "mimetype": "text/x-python",
   "name": "python",
   "nbconvert_exporter": "python",
   "pygments_lexer": "ipython3",
   "version": "3.9.5"
  },
  "orig_nbformat": 2,
  "kernelspec": {
   "name": "python395jvsc74a57bd063fd5069d213b44bf678585dea6b12cceca9941eaf7f819626cde1f2670de90d",
   "display_name": "Python 3.9.5 64-bit"
  },
  "metadata": {
   "interpreter": {
    "hash": "63fd5069d213b44bf678585dea6b12cceca9941eaf7f819626cde1f2670de90d"
   }
  }
 },
 "nbformat": 4,
 "nbformat_minor": 2,
 "cells": [
  {
   "cell_type": "code",
   "execution_count": 3,
   "metadata": {},
   "outputs": [
    {
     "output_type": "stream",
     "name": "stdout",
     "text": [
      "[<sqlite3.Row object at 0x0000014B3B3056D0>]\n"
     ]
    }
   ],
   "source": [
    "cursor = conn.cursor()\n",
    "\n",
    "cursor.execute(\"SELECT name FROM sqlite_master WHERE type='table';\")\n",
    "print(str(cursor.fetchall()))"
   ]
  },
  {
   "cell_type": "code",
   "execution_count": 11,
   "metadata": {},
   "outputs": [
    {
     "output_type": "stream",
     "name": "stdout",
     "text": [
      "Customer Data Importer\n\nCSV file:   customers.csv\nDB file:    customers.sqlite\nTable name: Customer\n\n"
     ]
    }
   ],
   "source": [
    "import csv\n",
    "import sqlite3\n",
    "from contextlib import closing\n",
    "\n",
    "print(\"Customer Data Importer\")\n",
    "print()\n",
    "\n",
    "# specify filenames in the current directory\n",
    "csv_file = \"customers.csv\"\n",
    "db_file = \"customers.sqlite\"\n",
    "table_name = \"Customer\"\n",
    "\n",
    "# connect to the database and set the row factory\n",
    "conn = sqlite3.connect(\"customers.sqlite\")\n",
    "conn.row_factory = sqlite3.Row"
   ]
  },
  {
   "cell_type": "code",
   "execution_count": 7,
   "metadata": {},
   "outputs": [
    {
     "output_type": "error",
     "ename": "ProgrammingError",
     "evalue": "Cannot operate on a closed database.",
     "traceback": [
      "\u001b[1;31m---------------------------------------------------------------------------\u001b[0m",
      "\u001b[1;31mProgrammingError\u001b[0m                          Traceback (most recent call last)",
      "\u001b[1;32m<ipython-input-7-b7a9b34a6d76>\u001b[0m in \u001b[0;36m<module>\u001b[1;34m\u001b[0m\n\u001b[0;32m     28\u001b[0m \u001b[0mstmt3\u001b[0m \u001b[1;33m=\u001b[0m \u001b[1;34m'''INSERT INTO Customer VALUES (101,\"James\",\"Butt\",\"\",\"6649 N Blue Gum St\",\"New Orleans\",\"LA\",\"70116\");'''\u001b[0m\u001b[1;33m\u001b[0m\u001b[1;33m\u001b[0m\u001b[0m\n\u001b[0;32m     29\u001b[0m \u001b[1;33m\u001b[0m\u001b[0m\n\u001b[1;32m---> 30\u001b[1;33m \u001b[0mcreate_table\u001b[0m\u001b[1;33m(\u001b[0m\u001b[0mconn\u001b[0m\u001b[1;33m,\u001b[0m \u001b[0mstmt1\u001b[0m\u001b[1;33m)\u001b[0m\u001b[1;33m\u001b[0m\u001b[1;33m\u001b[0m\u001b[0m\n\u001b[0m\u001b[0;32m     31\u001b[0m \u001b[0mcreate_table\u001b[0m\u001b[1;33m(\u001b[0m\u001b[0mconn\u001b[0m\u001b[1;33m,\u001b[0m \u001b[0mstmt2\u001b[0m\u001b[1;33m)\u001b[0m\u001b[1;33m\u001b[0m\u001b[1;33m\u001b[0m\u001b[0m\n\u001b[0;32m     32\u001b[0m \u001b[0mcreate_table\u001b[0m\u001b[1;33m(\u001b[0m\u001b[0mconn\u001b[0m\u001b[1;33m,\u001b[0m \u001b[0mstmt3\u001b[0m\u001b[1;33m)\u001b[0m\u001b[1;33m\u001b[0m\u001b[1;33m\u001b[0m\u001b[0m\n",
      "\u001b[1;32m<ipython-input-7-b7a9b34a6d76>\u001b[0m in \u001b[0;36mcreate_table\u001b[1;34m(conn, create_table_sql)\u001b[0m\n\u001b[0;32m      6\u001b[0m     \"\"\"\n\u001b[0;32m      7\u001b[0m     \u001b[1;31m# try:\u001b[0m\u001b[1;33m\u001b[0m\u001b[1;33m\u001b[0m\u001b[1;33m\u001b[0m\u001b[0m\n\u001b[1;32m----> 8\u001b[1;33m     \u001b[0mc\u001b[0m \u001b[1;33m=\u001b[0m \u001b[0mconn\u001b[0m\u001b[1;33m.\u001b[0m\u001b[0mcursor\u001b[0m\u001b[1;33m(\u001b[0m\u001b[1;33m)\u001b[0m\u001b[1;33m\u001b[0m\u001b[1;33m\u001b[0m\u001b[0m\n\u001b[0m\u001b[0;32m      9\u001b[0m     \u001b[0mc\u001b[0m\u001b[1;33m.\u001b[0m\u001b[0mexecute\u001b[0m\u001b[1;33m(\u001b[0m\u001b[0mcreate_table_sql\u001b[0m\u001b[1;33m)\u001b[0m\u001b[1;33m\u001b[0m\u001b[1;33m\u001b[0m\u001b[0m\n\u001b[0;32m     10\u001b[0m     \u001b[1;31m# except Error as e:\u001b[0m\u001b[1;33m\u001b[0m\u001b[1;33m\u001b[0m\u001b[1;33m\u001b[0m\u001b[0m\n",
      "\u001b[1;31mProgrammingError\u001b[0m: Cannot operate on a closed database."
     ]
    }
   ],
   "source": [
    "def create_table(conn, create_table_sql):\n",
    "    \"\"\" create a table from the create_table_sql statement\n",
    "    :param conn: Connection object\n",
    "    :param create_table_sql: a CREATE TABLE statement\n",
    "    :return:\n",
    "    \"\"\"\n",
    "    # try:\n",
    "    c = conn.cursor()\n",
    "    c.execute(create_table_sql)\n",
    "    # except Error as e:\n",
    "    #     print(e)\n",
    "        \n",
    "stmt1 = \"\"\"\n",
    "DROP TABLE IF EXISTS Customer;\n",
    "\"\"\"\n",
    "stmt2 = \"\"\"\n",
    "CREATE TABLE Customer(\n",
    "    customerID  INTEGER PRIMARY KEY     NOT NULL,\n",
    "    firstName   TEXT                    NOT NULL,\n",
    "    lastName    TEXT                    NOT NULL,\n",
    "    companyName TEXT                    NULL,\n",
    "    address     TEXT                    NULL,\n",
    "    city        TEXT                    NULL,\n",
    "    state       TEXT                    NULL,\n",
    "    zip         TEXT                    NULL\n",
    ");\n",
    "\"\"\"\n",
    "stmt3 = '''INSERT INTO Customer VALUES (101,\"James\",\"Butt\",\"\",\"6649 N Blue Gum St\",\"New Orleans\",\"LA\",\"70116\");'''\n",
    "\n",
    "create_table(conn, stmt1)\n",
    "create_table(conn, stmt2)\n",
    "create_table(conn, stmt3)"
   ]
  },
  {
   "cell_type": "code",
   "execution_count": 9,
   "metadata": {},
   "outputs": [
    {
     "output_type": "stream",
     "name": "stdout",
     "text": [
      "<sqlite3.Row object at 0x0000014B3CC00D90>\n"
     ]
    }
   ],
   "source": [
    "c = conn.cursor()\n",
    "for row in c.execute(\"SELECT * from Customer\"):\n",
    "    print(row)\n",
    "\n",
    "# Be sure to close the connection\n",
    "conn.close()\n"
   ]
  },
  {
   "cell_type": "code",
   "execution_count": 19,
   "metadata": {},
   "outputs": [
    {
     "output_type": "execute_result",
     "data": {
      "text/plain": [
       "       name\n",
       "0  Customer\n",
       "1     users"
      ],
      "text/html": "<div>\n<style scoped>\n    .dataframe tbody tr th:only-of-type {\n        vertical-align: middle;\n    }\n\n    .dataframe tbody tr th {\n        vertical-align: top;\n    }\n\n    .dataframe thead th {\n        text-align: right;\n    }\n</style>\n<table border=\"1\" class=\"dataframe\">\n  <thead>\n    <tr style=\"text-align: right;\">\n      <th></th>\n      <th>name</th>\n    </tr>\n  </thead>\n  <tbody>\n    <tr>\n      <th>0</th>\n      <td>Customer</td>\n    </tr>\n    <tr>\n      <th>1</th>\n      <td>users</td>\n    </tr>\n  </tbody>\n</table>\n</div>"
     },
     "metadata": {},
     "execution_count": 19
    }
   ],
   "source": [
    "import pandas as pd\n",
    "import sqlite3\n",
    "\n",
    "# Read sqlite query results into a pandas DataFrame\n",
    "con = sqlite3.connect(\"customers.sqlite\")\n",
    "df = pd.read_sql_query(\"SELECT name FROM sqlite_master WHERE type='table';\", con)\n",
    "df"
   ]
  },
  {
   "cell_type": "code",
   "execution_count": 4,
   "metadata": {},
   "outputs": [
    {
     "output_type": "stream",
     "name": "stdout",
     "text": [
      "Customer Data Importer\n\nCSV file:   customers.csv\nDB file:    customers.sqlite\nTable name: Customer\n\nAll old rows deleted from Customer table.\n500 row(s) inserted into Customer table.\n"
     ]
    }
   ],
   "source": [
    "import csv\n",
    "import sqlite3\n",
    "from contextlib import closing\n",
    "\n",
    "print(\"Customer Data Importer\")\n",
    "print()\n",
    "\n",
    "# specify filenames in the current directory\n",
    "csv_file = \"customers.csv\"\n",
    "db_file = \"customers.sqlite\"\n",
    "table_name = \"Customer\"\n",
    "\n",
    "print(\"CSV file:   \" + csv_file)\n",
    "print(\"DB file:    \" + db_file)\n",
    "print(\"Table name: \" + table_name)\n",
    "print()\n",
    "\n",
    "# connect to the database and set the row factory\n",
    "conn = sqlite3.connect(\"customers.sqlite\")\n",
    "conn.row_factory = sqlite3.Row\n",
    "\n",
    "# delete old rows in database\n",
    "with closing(conn.cursor()) as c:\n",
    "    sql =  '''DELETE FROM Customer'''\n",
    "    c.execute(sql)\n",
    "    conn.commit()\n",
    "print(\"All old rows deleted from \" + table_name + \" table.\")\n",
    "\n",
    "# create SQL statement for inserting data into database\n",
    "sql = '''INSERT INTO Customer\n",
    "            (firstName, lastName, companyName, address, city, state, zip)\n",
    "         VALUES\n",
    "             (?, ?, ?, ?, ?, ?, ?)'''\n",
    "\n",
    "# read customer data from file\n",
    "with open(csv_file, \"r\", newline='') as infile:\n",
    "    reader = csv.reader(infile)\n",
    "    count = 0\n",
    "    for row in reader:\n",
    "        if count == 0:\n",
    "            pass\n",
    "        else:\n",
    "            first =    row[0].strip()\n",
    "            last =     row[1].strip()\n",
    "            company =  row[2].strip()\n",
    "            address =  row[3].strip()\n",
    "            city =     row[4].strip()\n",
    "            state =    row[5].strip()\n",
    "            zip =      row[6].strip()\n",
    "    \n",
    "            # write the data to the database\n",
    "            with closing(conn.cursor()) as c:            \n",
    "                c.execute(sql, (first, last, company, address, city, state, zip))\n",
    "        \n",
    "        count += 1\n",
    "        # print(\"Count:\", count) # for debugging\n",
    "\n",
    "conn.commit()\n",
    "conn.close()\n",
    "\n",
    "print(count-1, \"row(s) inserted into Customer table.\")\n"
   ]
  },
  {
   "cell_type": "code",
   "execution_count": 22,
   "metadata": {},
   "outputs": [],
   "source": [
    "def is_admin(connection, username: str) -> bool:\n",
    "    c = connection.cursor()\n",
    "    c.execute(\"\"\"\n",
    "        SELECT\n",
    "            admin\n",
    "        FROM\n",
    "            users\n",
    "        WHERE\n",
    "            username = '%s'\n",
    "    \"\"\" % username)\n",
    "    result = c.fetchone()\n",
    "\n",
    "    if result is None:\n",
    "        # User does not exist\n",
    "        return False\n",
    "\n",
    "    admin, = result\n",
    "    return admin"
   ]
  },
  {
   "cell_type": "code",
   "execution_count": 9,
   "metadata": {},
   "outputs": [],
   "source": [
    "usertest1=\"\"\" CREATE TABLE users (\n",
    "    username varchar(30),\n",
    "    admin boolean\n",
    ");\"\"\"\n",
    "\n",
    "usertest2=\"\"\"INSERT INTO users\n",
    "    (username, admin)\n",
    "VALUES\n",
    "    ('ran', true),\n",
    "    ('haki', false);\"\"\""
   ]
  },
  {
   "cell_type": "code",
   "execution_count": 12,
   "metadata": {},
   "outputs": [],
   "source": [
    "create_table(conn, usertest1)\n",
    "create_table(conn, usertest2)\n"
   ]
  },
  {
   "cell_type": "code",
   "execution_count": 23,
   "metadata": {},
   "outputs": [
    {
     "output_type": "execute_result",
     "data": {
      "text/plain": [
       "0"
      ]
     },
     "metadata": {},
     "execution_count": 23
    }
   ],
   "source": [
    "is_admin(conn,'haki')"
   ]
  },
  {
   "cell_type": "code",
   "execution_count": null,
   "metadata": {},
   "outputs": [],
   "source": [
    "is_admin(\"'; update users set admin = 'true' where username = 'haki'; select true; --\")"
   ]
  },
  {
   "cell_type": "code",
   "execution_count": 26,
   "metadata": {},
   "outputs": [],
   "source": [
    "def is_admin2(connection, username: str) -> bool:\n",
    "    c = connection.cursor()\n",
    "    c.execute(\"\"\"\n",
    "            SELECT\n",
    "                admin\n",
    "            FROM\n",
    "                users\n",
    "            WHERE\n",
    "                username = %(username)s\n",
    "        \"\"\", {\n",
    "            'username': username\n",
    "        })\n",
    "        result = c.fetchone()\n",
    "\n",
    "    if result is None:\n",
    "        # User does not exist\n",
    "        return False\n",
    "\n",
    "    admin, = result\n",
    "    return admin"
   ]
  },
  {
   "cell_type": "code",
   "execution_count": 25,
   "metadata": {},
   "outputs": [
    {
     "output_type": "stream",
     "name": "stderr",
     "text": [
      "'django-admin' is not recognized as an internal or external command,\noperable program or batch file.\n"
     ]
    }
   ],
   "source": []
  },
  {
   "cell_type": "code",
   "execution_count": null,
   "metadata": {},
   "outputs": [],
   "source": []
  }
 ]
}