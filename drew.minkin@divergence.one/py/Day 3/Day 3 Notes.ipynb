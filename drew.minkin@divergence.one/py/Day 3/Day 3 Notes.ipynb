{
 "cells": [
  {
   "cell_type": "markdown",
   "metadata": {},
   "source": [
    "## Numbers"
   ]
  },
  {
   "cell_type": "code",
   "execution_count": 3,
   "metadata": {},
   "outputs": [
    {
     "name": "stdout",
     "output_type": "stream",
     "text": [
      "Balance = 100.1\n",
      "Balance = 200.2\n",
      "Balance = 300.29999999999995\n",
      "Balance = 300.3\n"
     ]
    }
   ],
   "source": [
    "balance = 100.10\n",
    "print(\"Balance =\", balance)\n",
    "balance += 100.10\n",
    "print(\"Balance =\", balance)\n",
    "balance += 100.10\n",
    "print(\"Balance =\", balance)\n",
    "balance = round(balance, 2)\n",
    "print(\"Balance =\", balance)\n"
   ]
  },
  {
   "cell_type": "code",
   "execution_count": 12,
   "metadata": {},
   "outputs": [
    {
     "name": "stdout",
     "output_type": "stream",
     "text": [
      "pow(balance, pow):  375404.52006520296\n",
      "sqrt(balance):  17.329166165744965\n",
      "ceil(balance):  301\n",
      "floor(balance):  300\n"
     ]
    }
   ],
   "source": [
    "import math as m\n",
    "pw = 2.25\n",
    "print(\"pow(balance, pow): \",m.pow(balance, pw))\n",
    "print(\"sqrt(balance): \",m.sqrt(balance))\n",
    "print(\"ceil(balance): \",m.ceil(balance))\n",
    "print(\"floor(balance): \",m.floor(balance))\n"
   ]
  },
  {
   "cell_type": "code",
   "execution_count": 13,
   "metadata": {},
   "outputs": [],
   "source": [
    "radius = 12\n",
    "circumference = m.pi * radius * 2    # 75.39822368615503\n",
    "area = m.pi * m.pow(radius, 2)       # 452.3893421169302\n",
    "area = m.pi * radius**2              # 452.3893421169302\n"
   ]
  },
  {
   "cell_type": "code",
   "execution_count": 14,
   "metadata": {},
   "outputs": [
    {
     "name": "stdout",
     "output_type": "stream",
     "text": [
      "452.3893421169302 75.39822368615503\n"
     ]
    }
   ],
   "source": [
    "print(area,circumference)"
   ]
  },
  {
   "cell_type": "code",
   "execution_count": 27,
   "metadata": {},
   "outputs": [
    {
     "name": "stdout",
     "output_type": "stream",
     "text": [
      "area: 452.3893421169302, circumference: 75.39822368615503\n",
      "area: 75.39822368615503, circumference: 452.3893421169302\n",
      "45238.934212%\n"
     ]
    }
   ],
   "source": [
    "print(\"area: {}, circumference: {}\".format(area,circumference))\n",
    "print(\"area: {}, circumference: {}\".format(circumference,area))\n"
   ]
  },
  {
   "cell_type": "code",
   "execution_count": 26,
   "metadata": {},
   "outputs": [
    {
     "data": {
      "text/plain": [
       "452.3893421169302"
      ]
     },
     "execution_count": 26,
     "metadata": {},
     "output_type": "execute_result"
    }
   ],
   "source": [
    "area"
   ]
  },
  {
   "cell_type": "code",
   "execution_count": 37,
   "metadata": {},
   "outputs": [
    {
     "name": "stdout",
     "output_type": "stream",
     "text": [
      "basic float 452.39\n",
      "more decimal float 452.3893\n",
      "still more decimal float 452.389342\n",
      "still more  fancy format          452.39\n",
      "percentage 45238.934212%\n"
     ]
    }
   ],
   "source": [
    "print(\"basic float {:.2f}\".format(area))\n",
    "print(\"more decimal float {:.4f}\".format(area))\n",
    "print(\"still more decimal float {:.6f}\".format(area))\n",
    "print(\"still more  fancy format {:15,.2f}\".format(area))\n",
    "print(\"percentage {:2%}\".format(area))"
   ]
  },
  {
   "cell_type": "code",
   "execution_count": 41,
   "metadata": {},
   "outputs": [
    {
     "name": "stdout",
     "output_type": "stream",
     "text": [
      "integer basic 45200\n",
      "integer basic 45,200\n",
      "integer basic 45.200\n"
     ]
    }
   ],
   "source": [
    "arn = int(area)*100\n",
    "print(\"integer basic {:d}\".format(arn))\n",
    "print(\"integer basic {:,d}\".format(arn))\n",
    "print(\"integer basic {:,d}\".format(arn).replace(',','.'))\n"
   ]
  },
  {
   "cell_type": "code",
   "execution_count": 44,
   "metadata": {},
   "outputs": [
    {
     "name": "stdout",
     "output_type": "stream",
     "text": [
      "basic float 1.05e+20\n",
      "more decimal float 1.0522e+20\n",
      "still more decimal float 1.052184e+20\n"
     ]
    }
   ],
   "source": [
    "areabig = pow(area,circumference/10)\n",
    "print(\"basic float {:.2e}\".format(areabig))\n",
    "print(\"more decimal float {:.4e}\".format(areabig))\n",
    "print(\"still more decimal float {:.6e}\".format(areabig))"
   ]
  },
  {
   "cell_type": "code",
   "execution_count": 45,
   "metadata": {},
   "outputs": [
    {
     "name": "stdout",
     "output_type": "stream",
     "text": [
      "Description          Price   Qty\n",
      "Hammer                9.99     3\n",
      "Nails                14.50    10\n"
     ]
    }
   ],
   "source": [
    "print(\"{:15} {:>10} {:>5}\".format(\"Description\", \"Price\", \"Qty\"))\n",
    "print(\"{:15} {:10.2f} {:5d}\".format(\"Hammer\", 9.99, 3))\n",
    "print(\"{:15} {:10.2f} {:5d}\".format(\"Nails\", 14.5, 10))"
   ]
  },
  {
   "cell_type": "code",
   "execution_count": 47,
   "metadata": {},
   "outputs": [],
   "source": [
    "import locale as lc"
   ]
  },
  {
   "cell_type": "code",
   "execution_count": 49,
   "metadata": {},
   "outputs": [
    {
     "data": {
      "text/plain": [
       "'en_US'"
      ]
     },
     "execution_count": 49,
     "metadata": {},
     "output_type": "execute_result"
    }
   ],
   "source": [
    "#May have to do for Mac\n",
    "lc.setlocale(lc.LC_ALL,\"en_US\")"
   ]
  },
  {
   "cell_type": "code",
   "execution_count": 59,
   "metadata": {},
   "outputs": [
    {
     "data": {
      "text/plain": [
       "'English_United States.1252'"
      ]
     },
     "execution_count": 59,
     "metadata": {},
     "output_type": "execute_result"
    }
   ],
   "source": [
    "lc.setlocale(lc.LC_ALL,\"us\")"
   ]
  },
  {
   "cell_type": "code",
   "execution_count": 52,
   "metadata": {},
   "outputs": [
    {
     "name": "stdout",
     "output_type": "stream",
     "text": [
      "$34109.35\n",
      "$34,109.35\n"
     ]
    }
   ],
   "source": [
    "currency_val = area*circumference\n",
    "print(lc.currency(currency_val))\n",
    "print(lc.currency(currency_val,grouping=True))"
   ]
  },
  {
   "cell_type": "code",
   "execution_count": 55,
   "metadata": {},
   "outputs": [
    {
     "name": "stdout",
     "output_type": "stream",
     "text": [
      "¤34109.35\n",
      "¤34,109.35\n"
     ]
    }
   ],
   "source": [
    "lc.setlocale(lc.LC_ALL,\"en_UK\")\n",
    "currency_val = area*circumference\n",
    "print(lc.currency(currency_val))\n",
    "print(lc.currency(currency_val,grouping=True))\n",
    "lc.setlocale(lc.LC_ALL,\"us\")"
   ]
  },
  {
   "cell_type": "code",
   "execution_count": 63,
   "metadata": {},
   "outputs": [
    {
     "name": "stdout",
     "output_type": "stream",
     "text": [
      "34,109\n",
      "34,109.352810\n"
     ]
    }
   ],
   "source": [
    "print(lc.format_string(\"%d\",currency_val,grouping=True))\n",
    "print(lc.format_string(\"%2f\",currency_val,grouping=True))"
   ]
  },
  {
   "cell_type": "code",
   "execution_count": 68,
   "metadata": {},
   "outputs": [
    {
     "name": "stdin",
     "output_type": "stream",
     "text": [
      "Enter order total:  100.47\n"
     ]
    },
    {
     "name": "stdout",
     "output_type": "stream",
     "text": [
      "\n",
      "Order total:         100.47\n",
      "Discount amount:      10.05\n",
      "Subtotal:             90.42\n",
      "Sales tax:             4.52\n",
      "Invoice total:        94.94\n",
      "\n"
     ]
    }
   ],
   "source": [
    "order_total = float(input(\"Enter order total: \"))\n",
    "print()               \n",
    "\n",
    "# determine discount percent\n",
    "if order_total > 0 and order_total < 100:\n",
    "    discount_percent = 0\n",
    "elif order_total >= 100 and order_total < 250:\n",
    "    discount_percent = .1\n",
    "elif order_total >= 250:\n",
    "    discount_percent = .2\n",
    "\n",
    "# calculate the results\n",
    "discount = round(order_total * discount_percent,2)\n",
    "#discount = order_total * discount_percent\n",
    "subtotal = order_total - discount\n",
    "sales_tax = round(subtotal * .05,2)\n",
    "#sales_tax = subtotal * .05\n",
    "invoice_total = subtotal + sales_tax\n",
    "\n",
    "# display the results\n",
    "print(\"Order total:     {:10,.2f}\".format(order_total))\n",
    "print(\"Discount amount: {:10,.2f}\".format(discount))\n",
    "print(\"Subtotal:        {:10,.2f}\".format(subtotal))\n",
    "print(\"Sales tax:       {:10,.2f}\".format(sales_tax))\n",
    "print(\"Invoice total:   {:10,.2f}\".format(invoice_total))\n",
    "print()\n"
   ]
  },
  {
   "cell_type": "code",
   "execution_count": 69,
   "metadata": {},
   "outputs": [],
   "source": [
    "from decimal import Decimal"
   ]
  },
  {
   "cell_type": "code",
   "execution_count": 70,
   "metadata": {},
   "outputs": [
    {
     "name": "stdout",
     "output_type": "stream",
     "text": [
      "3410.935281016481894766911864\n"
     ]
    }
   ],
   "source": [
    "dec = Decimal(currency_val)\n",
    "disc = Decimal(\".1\")\n",
    "dsc = disc * dec\n",
    "print(dsc)"
   ]
  },
  {
   "cell_type": "code",
   "execution_count": 72,
   "metadata": {},
   "outputs": [
    {
     "name": "stdout",
     "output_type": "stream",
     "text": [
      "3410.935\n"
     ]
    }
   ],
   "source": [
    "dec = Decimal(\"34109.35\")\n",
    "disc = Decimal(\".1\")\n",
    "dsc = disc * dec\n",
    "print(dsc)\n",
    "\n",
    "\n"
   ]
  },
  {
   "cell_type": "code",
   "execution_count": 75,
   "metadata": {},
   "outputs": [
    {
     "name": "stdout",
     "output_type": "stream",
     "text": [
      "6821.870\n"
     ]
    },
    {
     "ename": "TypeError",
     "evalue": "unsupported operand type(s) for *: 'decimal.Decimal' and 'float'",
     "output_type": "error",
     "traceback": [
      "\u001b[1;31m---------------------------------------------------------------------------\u001b[0m",
      "\u001b[1;31mTypeError\u001b[0m                                 Traceback (most recent call last)",
      "\u001b[1;32m<ipython-input-75-8e8c24bf2cef>\u001b[0m in \u001b[0;36m<module>\u001b[1;34m\u001b[0m\n\u001b[0;32m      1\u001b[0m \u001b[0mprint\u001b[0m\u001b[1;33m(\u001b[0m\u001b[0mdsc\u001b[0m \u001b[1;33m*\u001b[0m \u001b[1;36m2\u001b[0m\u001b[1;33m)\u001b[0m\u001b[1;33m\u001b[0m\u001b[1;33m\u001b[0m\u001b[0m\n\u001b[1;32m----> 2\u001b[1;33m \u001b[0mprint\u001b[0m\u001b[1;33m(\u001b[0m\u001b[0mdsc\u001b[0m \u001b[1;33m*\u001b[0m \u001b[1;36m3.5\u001b[0m\u001b[1;33m)\u001b[0m\u001b[1;33m\u001b[0m\u001b[1;33m\u001b[0m\u001b[0m\n\u001b[0m",
      "\u001b[1;31mTypeError\u001b[0m: unsupported operand type(s) for *: 'decimal.Decimal' and 'float'"
     ]
    }
   ],
   "source": [
    "print(dsc * 2)\n",
    "print(dsc * 3.5)"
   ]
  },
  {
   "cell_type": "code",
   "execution_count": 89,
   "metadata": {},
   "outputs": [
    {
     "name": "stdout",
     "output_type": "stream",
     "text": [
      "<class 'decimal.Decimal'>\n",
      "3410.935\n",
      "3410.94\n"
     ]
    },
    {
     "ename": "NameError",
     "evalue": "name 'ROUND_CEILING' is not defined",
     "output_type": "error",
     "traceback": [
      "\u001b[1;31m---------------------------------------------------------------------------\u001b[0m",
      "\u001b[1;31mNameError\u001b[0m                                 Traceback (most recent call last)",
      "\u001b[1;32m<ipython-input-89-ac1e3d982386>\u001b[0m in \u001b[0;36m<module>\u001b[1;34m\u001b[0m\n\u001b[0;32m      3\u001b[0m \u001b[0mprint\u001b[0m\u001b[1;33m(\u001b[0m\u001b[0mdsc\u001b[0m\u001b[1;33m.\u001b[0m\u001b[0mquantize\u001b[0m\u001b[1;33m(\u001b[0m\u001b[0mDecimal\u001b[0m\u001b[1;33m(\u001b[0m\u001b[1;34m\"3.20\"\u001b[0m\u001b[1;33m)\u001b[0m\u001b[1;33m)\u001b[0m\u001b[1;33m)\u001b[0m\u001b[1;33m\u001b[0m\u001b[1;33m\u001b[0m\u001b[0m\n\u001b[0;32m      4\u001b[0m \u001b[1;33m\u001b[0m\u001b[0m\n\u001b[1;32m----> 5\u001b[1;33m \u001b[0mprint\u001b[0m\u001b[1;33m(\u001b[0m\u001b[1;34m\"ROUND_CEILING: \"\u001b[0m\u001b[1;33m,\u001b[0m\u001b[0mdsc\u001b[0m\u001b[1;33m.\u001b[0m\u001b[0mquantize\u001b[0m\u001b[1;33m(\u001b[0m\u001b[0mDecimal\u001b[0m\u001b[1;33m(\u001b[0m\u001b[1;34m\"3.20\"\u001b[0m\u001b[1;33m)\u001b[0m\u001b[1;33m,\u001b[0m\u001b[0mrounding\u001b[0m\u001b[1;33m=\u001b[0m\u001b[0mROUND_CEILING\u001b[0m\u001b[1;33m)\u001b[0m\u001b[1;33m)\u001b[0m\u001b[1;33m\u001b[0m\u001b[1;33m\u001b[0m\u001b[0m\n\u001b[0m\u001b[0;32m      6\u001b[0m \u001b[0mprint\u001b[0m\u001b[1;33m(\u001b[0m\u001b[1;34m\"ROUND_FLOOR: \"\u001b[0m\u001b[1;33m,\u001b[0m\u001b[0mdsc\u001b[0m\u001b[1;33m.\u001b[0m\u001b[0mquantize\u001b[0m\u001b[1;33m(\u001b[0m\u001b[0mDecimal\u001b[0m\u001b[1;33m(\u001b[0m\u001b[1;34m\"3.20\"\u001b[0m\u001b[1;33m)\u001b[0m\u001b[1;33m,\u001b[0m\u001b[0mrounding\u001b[0m\u001b[1;33m=\u001b[0m\u001b[0mROUND_FLOOR\u001b[0m\u001b[1;33m)\u001b[0m\u001b[1;33m)\u001b[0m\u001b[1;33m\u001b[0m\u001b[1;33m\u001b[0m\u001b[0m\n\u001b[0;32m      7\u001b[0m \u001b[0mprint\u001b[0m\u001b[1;33m(\u001b[0m\u001b[1;34m\"ROUND_UP: \"\u001b[0m\u001b[1;33m,\u001b[0m\u001b[0mdsc\u001b[0m\u001b[1;33m.\u001b[0m\u001b[0mquantize\u001b[0m\u001b[1;33m(\u001b[0m\u001b[0mDecimal\u001b[0m\u001b[1;33m(\u001b[0m\u001b[1;34m\"3.20\"\u001b[0m\u001b[1;33m)\u001b[0m\u001b[1;33m,\u001b[0m\u001b[0mrounding\u001b[0m\u001b[1;33m=\u001b[0m\u001b[0mROUND_UP\u001b[0m\u001b[1;33m)\u001b[0m\u001b[1;33m)\u001b[0m\u001b[1;33m\u001b[0m\u001b[1;33m\u001b[0m\u001b[0m\n",
      "\u001b[1;31mNameError\u001b[0m: name 'ROUND_CEILING' is not defined"
     ]
    }
   ],
   "source": [
    "print(type(dsc))\n",
    "print(dsc)\n",
    "print(dsc.quantize(Decimal(\"3.20\")))\n",
    "\n",
    "print(\"ROUND_CEILING: \",dsc.quantize(Decimal(\"3.20\"),rounding=ROUND_CEILING))\n",
    "print(\"ROUND_FLOOR: \",dsc.quantize(Decimal(\"3.20\"),rounding=ROUND_FLOOR))\n",
    "print(\"ROUND_UP: \",dsc.quantize(Decimal(\"3.20\"),rounding=ROUND_UP))\n",
    "print(\"ROUND_DOWN: \",dsc.quantize(Decimal(\"3.20\"),rounding=ROUND_DOWN))\n",
    "print(\"ROUND_HALF_UP: \",dsc.quantize(Decimal(\"3.20\"),rounding=ROUND_HALF_UP))\n",
    "print(\"ROUND_HALF_DOWN: \",dsc.quantize(Decimal(\"3.20\"),rounding=ROUND_HALF_DOWN))\n",
    "print(\"ROUND_HALF_EVEN: \",dsc.quantize(Decimal(\"3.20\"),rounding=ROUND_HALF_EVEN))\n",
    "print(\"ROUND_05UP: \",dsc.quantize(Decimal(\"3.20\"),rounding=ROUND_05UP))"
   ]
  },
  {
   "cell_type": "code",
   "execution_count": 86,
   "metadata": {},
   "outputs": [
    {
     "data": {
      "text/plain": [
       "\u001b[1;31mSignature:\u001b[0m \u001b[0mdsc\u001b[0m\u001b[1;33m.\u001b[0m\u001b[0mquantize\u001b[0m\u001b[1;33m(\u001b[0m\u001b[0mexp\u001b[0m\u001b[1;33m,\u001b[0m \u001b[0mrounding\u001b[0m\u001b[1;33m=\u001b[0m\u001b[1;32mNone\u001b[0m\u001b[1;33m,\u001b[0m \u001b[0mcontext\u001b[0m\u001b[1;33m=\u001b[0m\u001b[1;32mNone\u001b[0m\u001b[1;33m)\u001b[0m\u001b[1;33m\u001b[0m\u001b[1;33m\u001b[0m\u001b[0m\n",
       "\u001b[1;31mDocstring:\u001b[0m\n",
       "Return a value equal to the first operand after rounding and having the\n",
       "exponent of the second operand.\n",
       "\n",
       "    >>> Decimal('1.41421356').quantize(Decimal('1.000'))\n",
       "    Decimal('1.414')\n",
       "\n",
       "Unlike other operations, if the length of the coefficient after the quantize\n",
       "operation would be greater than precision, then an InvalidOperation is signaled.\n",
       "This guarantees that, unless there is an error condition, the quantized exponent\n",
       "is always equal to that of the right-hand operand.\n",
       "\n",
       "Also unlike other operations, quantize never signals Underflow, even if the\n",
       "result is subnormal and inexact.\n",
       "\n",
       "If the exponent of the second operand is larger than that of the first, then\n",
       "rounding may be necessary. In this case, the rounding mode is determined by the\n",
       "rounding argument if given, else by the given context argument; if neither\n",
       "argument is given, the rounding mode of the current thread's context is used.\n",
       "\u001b[1;31mType:\u001b[0m      builtin_function_or_method\n"
      ]
     },
     "metadata": {},
     "output_type": "display_data"
    }
   ],
   "source": [
    "dsc.quantize?"
   ]
  },
  {
   "cell_type": "code",
   "execution_count": null,
   "metadata": {},
   "outputs": [],
   "source": []
  },
  {
   "cell_type": "markdown",
   "metadata": {},
   "source": [
    "## Strings"
   ]
  },
  {
   "cell_type": "code",
   "execution_count": 90,
   "metadata": {},
   "outputs": [
    {
     "data": {
      "text/plain": [
       "'Andrew'"
      ]
     },
     "execution_count": 90,
     "metadata": {},
     "output_type": "execute_result"
    }
   ],
   "source": [
    "children = ['Andrew','Laura','Joseph']\n",
    "child = children[0]\n",
    "child"
   ]
  },
  {
   "cell_type": "code",
   "execution_count": 91,
   "metadata": {},
   "outputs": [
    {
     "data": {
      "text/plain": [
       "'w'"
      ]
     },
     "execution_count": 91,
     "metadata": {},
     "output_type": "execute_result"
    }
   ],
   "source": [
    "child[5]"
   ]
  },
  {
   "cell_type": "code",
   "execution_count": 93,
   "metadata": {},
   "outputs": [
    {
     "name": "stdout",
     "output_type": "stream",
     "text": [
      "119\n",
      "87\n"
     ]
    }
   ],
   "source": [
    "print(ord(child[5]))\n",
    "print(ord(child[5].upper()))"
   ]
  },
  {
   "cell_type": "code",
   "execution_count": 95,
   "metadata": {},
   "outputs": [
    {
     "name": "stdout",
     "output_type": "stream",
     "text": [
      "6\n",
      "3\n"
     ]
    }
   ],
   "source": [
    "#string len\n",
    "print(len(child))\n",
    "#list len\n",
    "print(len(children))"
   ]
  },
  {
   "cell_type": "code",
   "execution_count": 100,
   "metadata": {},
   "outputs": [
    {
     "name": "stdout",
     "output_type": "stream",
     "text": [
      "And\n",
      "dr\n",
      "ew\n",
      "Andre\n"
     ]
    }
   ],
   "source": [
    "print(child[:3])\n",
    "print(child[2:4])\n",
    "print(child[4:])\n",
    "print(child[:-1])"
   ]
  },
  {
   "cell_type": "code",
   "execution_count": 101,
   "metadata": {},
   "outputs": [
    {
     "name": "stdout",
     "output_type": "stream",
     "text": [
      "ewewewewewew\n"
     ]
    }
   ],
   "source": [
    "print(child[4:] * len(child))"
   ]
  },
  {
   "cell_type": "code",
   "execution_count": 103,
   "metadata": {},
   "outputs": [
    {
     "name": "stdout",
     "output_type": "stream",
     "text": [
      "False\n",
      "True\n"
     ]
    }
   ],
   "source": [
    "print('z' in child)\n",
    "print('w' in child)"
   ]
  },
  {
   "cell_type": "code",
   "execution_count": 115,
   "metadata": {},
   "outputs": [
    {
     "name": "stdout",
     "output_type": "stream",
     "text": [
      "False\n",
      "False\n",
      "False\n",
      "False\n",
      "False\n",
      "False\n",
      "      country  koolaid   \n",
      "      COUNTRY  KOOLAID   \n",
      "      Country  Koolaid   \n",
      "Country  koolaid   \n",
      "      Country  koolaid\n",
      "Country  koolaid\n",
      "      Country  koolaid   \n",
      "      Country  koolaid   \n",
      "      Country  koolaid   \n"
     ]
    },
    {
     "ename": "NameError",
     "evalue": "name 'k' is not defined",
     "output_type": "error",
     "traceback": [
      "\u001b[1;31m---------------------------------------------------------------------------\u001b[0m",
      "\u001b[1;31mNameError\u001b[0m                                 Traceback (most recent call last)",
      "\u001b[1;32m<ipython-input-115-70c9c2f162b6>\u001b[0m in \u001b[0;36m<module>\u001b[1;34m\u001b[0m\n\u001b[0;32m     16\u001b[0m \u001b[0mprint\u001b[0m\u001b[1;33m(\u001b[0m\u001b[0mstmt\u001b[0m\u001b[1;33m.\u001b[0m\u001b[0mcenter\u001b[0m\u001b[1;33m(\u001b[0m\u001b[1;36m20\u001b[0m\u001b[1;33m)\u001b[0m\u001b[1;33m)\u001b[0m\u001b[1;33m\u001b[0m\u001b[1;33m\u001b[0m\u001b[0m\n\u001b[0;32m     17\u001b[0m \u001b[1;33m\u001b[0m\u001b[0m\n\u001b[1;32m---> 18\u001b[1;33m \u001b[0mprint\u001b[0m \u001b[1;33m(\u001b[0m\u001b[0mstmt\u001b[0m\u001b[1;33m.\u001b[0m\u001b[0mfind\u001b[0m\u001b[1;33m(\u001b[0m\u001b[0mk\u001b[0m\u001b[1;33m)\u001b[0m\u001b[1;33m)\u001b[0m\u001b[1;33m\u001b[0m\u001b[1;33m\u001b[0m\u001b[0m\n\u001b[0m",
      "\u001b[1;31mNameError\u001b[0m: name 'k' is not defined"
     ]
    }
   ],
   "source": [
    "stmt = '      Country  koolaidy   '\n",
    "print(stmt.isalpha())\n",
    "print(stmt.islower())\n",
    "print(stmt.isupper())\n",
    "print(stmt.isdigit())\n",
    "print(stmt.startswith('e'))\n",
    "print(stmt.endswith('e'))\n",
    "print(stmt.lower())\n",
    "print(stmt.upper())\n",
    "print(stmt.title())\n",
    "print(stmt.lstrip())\n",
    "print(stmt.rstrip())\n",
    "print(stmt.strip())\n",
    "print(stmt.ljust(20))\n",
    "print(stmt.rjust(20))\n",
    "print(stmt.center(20))"
   ]
  },
  {
   "cell_type": "code",
   "execution_count": 119,
   "metadata": {},
   "outputs": [
    {
     "name": "stdout",
     "output_type": "stream",
     "text": [
      "15\n",
      "7\n",
      "12 9\n"
     ]
    }
   ],
   "source": [
    "print (stmt.find(\"k\"))\n",
    "print (stmt.find(\"o\"))\n",
    "#print (stmt.find(\"y\"),9)"
   ]
  },
  {
   "cell_type": "code",
   "execution_count": 126,
   "metadata": {},
   "outputs": [
    {
     "name": "stdout",
     "output_type": "stream",
     "text": [
      "string\n",
      " functions\n"
     ]
    }
   ],
   "source": [
    "str_a = \"string functions\"\n",
    "i = str_a.find(\" \")\n",
    "print(str_a[0:i])\n",
    "print(str_a[i:len(str_a)])"
   ]
  },
  {
   "cell_type": "code",
   "execution_count": 127,
   "metadata": {},
   "outputs": [
    {
     "data": {
      "text/plain": [
       "list"
      ]
     },
     "execution_count": 127,
     "metadata": {},
     "output_type": "execute_result"
    }
   ],
   "source": [
    "split_a = str_a.split()\n",
    "type(split_a)"
   ]
  },
  {
   "cell_type": "code",
   "execution_count": 128,
   "metadata": {},
   "outputs": [
    {
     "data": {
      "text/plain": [
       "['string', 'functions']"
      ]
     },
     "execution_count": 128,
     "metadata": {},
     "output_type": "execute_result"
    }
   ],
   "source": [
    "split_a"
   ]
  },
  {
   "cell_type": "code",
   "execution_count": 130,
   "metadata": {},
   "outputs": [
    {
     "ename": "IndexError",
     "evalue": "list index out of range",
     "output_type": "error",
     "traceback": [
      "\u001b[1;31m---------------------------------------------------------------------------\u001b[0m",
      "\u001b[1;31mIndexError\u001b[0m                                Traceback (most recent call last)",
      "\u001b[1;32m<ipython-input-130-3ff3eebec7dd>\u001b[0m in \u001b[0;36m<module>\u001b[1;34m\u001b[0m\n\u001b[1;32m----> 1\u001b[1;33m \u001b[0msplit_a\u001b[0m\u001b[1;33m[\u001b[0m\u001b[1;36m2\u001b[0m\u001b[1;33m]\u001b[0m\u001b[1;33m\u001b[0m\u001b[1;33m\u001b[0m\u001b[0m\n\u001b[0m",
      "\u001b[1;31mIndexError\u001b[0m: list index out of range"
     ]
    }
   ],
   "source": [
    "split_a[2]"
   ]
  },
  {
   "cell_type": "code",
   "execution_count": 131,
   "metadata": {},
   "outputs": [
    {
     "name": "stdout",
     "output_type": "stream",
     "text": [
      "['Andrew', 'Laura', 'Joseph']\n"
     ]
    }
   ],
   "source": [
    "print(children)"
   ]
  },
  {
   "cell_type": "code",
   "execution_count": 139,
   "metadata": {},
   "outputs": [
    {
     "data": {
      "text/plain": [
       "'Laura'"
      ]
     },
     "execution_count": 139,
     "metadata": {},
     "output_type": "execute_result"
    }
   ],
   "source": [
    "newsplit = \"Andrew|Laura|Joseph\".split(\"|\")\n",
    "newsplit[1]"
   ]
  },
  {
   "cell_type": "code",
   "execution_count": 142,
   "metadata": {},
   "outputs": [
    {
     "name": "stdout",
     "output_type": "stream",
     "text": [
      "AndrewLaura\n"
     ]
    }
   ],
   "source": [
    "join1 = \"\"\n",
    "join1  += newsplit[0]\n",
    "join1  += newsplit[1]\n",
    "print(join1)\n"
   ]
  },
  {
   "cell_type": "code",
   "execution_count": 143,
   "metadata": {},
   "outputs": [
    {
     "name": "stdout",
     "output_type": "stream",
     "text": [
      "AndrewLaura\n"
     ]
    }
   ],
   "source": [
    "join1  = newsplit[0] + \"\" + newsplit[1]\n",
    "print(join1)\n"
   ]
  },
  {
   "cell_type": "code",
   "execution_count": 144,
   "metadata": {},
   "outputs": [
    {
     "data": {
      "text/plain": [
       "['Andrew', 'Laura', 'Joseph']"
      ]
     },
     "execution_count": 144,
     "metadata": {},
     "output_type": "execute_result"
    }
   ],
   "source": [
    "children"
   ]
  },
  {
   "cell_type": "code",
   "execution_count": 145,
   "metadata": {},
   "outputs": [
    {
     "data": {
      "text/plain": [
       "'Andrew|Laura|Joseph'"
      ]
     },
     "execution_count": 145,
     "metadata": {},
     "output_type": "execute_result"
    }
   ],
   "source": [
    "\"|\".join(children)"
   ]
  },
  {
   "cell_type": "code",
   "execution_count": 146,
   "metadata": {},
   "outputs": [
    {
     "data": {
      "text/plain": [
       "'Andrew|Laura|Joseph'"
      ]
     },
     "execution_count": 146,
     "metadata": {},
     "output_type": "execute_result"
    }
   ],
   "source": [
    "tuple1 = ('Andrew', 'Laura', 'Joseph')\n",
    "\"|\".join(list(tuple1))"
   ]
  },
  {
   "cell_type": "code",
   "execution_count": 147,
   "metadata": {},
   "outputs": [
    {
     "data": {
      "text/plain": [
       "'Andrew'"
      ]
     },
     "execution_count": 147,
     "metadata": {},
     "output_type": "execute_result"
    }
   ],
   "source": [
    "child"
   ]
  },
  {
   "cell_type": "code",
   "execution_count": 148,
   "metadata": {},
   "outputs": [
    {
     "data": {
      "text/plain": [
       "'A!n!d!r!e!w'"
      ]
     },
     "execution_count": 148,
     "metadata": {},
     "output_type": "execute_result"
    }
   ],
   "source": [
    "\"!\".join(child)"
   ]
  },
  {
   "cell_type": "markdown",
   "metadata": {},
   "source": [
    "## Date and Time"
   ]
  },
  {
   "cell_type": "code",
   "execution_count": 152,
   "metadata": {},
   "outputs": [
    {
     "data": {
      "text/plain": [
       "datetime.date(2021, 5, 15)"
      ]
     },
     "execution_count": 152,
     "metadata": {},
     "output_type": "execute_result"
    }
   ],
   "source": [
    "from datetime import date,time,datetime\n"
   ]
  },
  {
   "cell_type": "code",
   "execution_count": 154,
   "metadata": {},
   "outputs": [
    {
     "data": {
      "text/plain": [
       "datetime.date(2021, 5, 15)"
      ]
     },
     "execution_count": 154,
     "metadata": {},
     "output_type": "execute_result"
    }
   ],
   "source": [
    "date.today()"
   ]
  },
  {
   "cell_type": "code",
   "execution_count": 158,
   "metadata": {},
   "outputs": [
    {
     "data": {
      "text/plain": [
       "datetime.datetime(2021, 5, 15, 10, 3, 24, 145570)"
      ]
     },
     "execution_count": 158,
     "metadata": {},
     "output_type": "execute_result"
    }
   ],
   "source": [
    "datetime.now()"
   ]
  },
  {
   "cell_type": "code",
   "execution_count": 159,
   "metadata": {},
   "outputs": [],
   "source": [
    "bigdate = date(1319,2,13)"
   ]
  },
  {
   "cell_type": "code",
   "execution_count": 160,
   "metadata": {},
   "outputs": [
    {
     "name": "stdout",
     "output_type": "stream",
     "text": [
      "1319-02-13\n"
     ]
    }
   ],
   "source": [
    "print(bigdate)"
   ]
  },
  {
   "cell_type": "code",
   "execution_count": 161,
   "metadata": {},
   "outputs": [
    {
     "data": {
      "text/plain": [
       "datetime.date(1319, 2, 13)"
      ]
     },
     "execution_count": 161,
     "metadata": {},
     "output_type": "execute_result"
    }
   ],
   "source": [
    "bigdate"
   ]
  },
  {
   "cell_type": "code",
   "execution_count": 166,
   "metadata": {},
   "outputs": [
    {
     "name": "stdout",
     "output_type": "stream",
     "text": [
      "2021-05-15 10:07:37\n",
      "2021-05-15 10:07:37\n"
     ]
    }
   ],
   "source": [
    "cur_time = str(datetime.now())\n",
    "#2021-05-15 10:07:37.810569\n",
    "print(datetime.strptime(\"2021-05-15 10:07:37\",\"%Y-%m-%d %H:%M:%S\"))\n",
    "print(datetime.strptime(\"05/15/21 100737\",\"%m/%d/%y %H%M%S\"))"
   ]
  },
  {
   "cell_type": "code",
   "execution_count": 179,
   "metadata": {},
   "outputs": [
    {
     "name": "stdout",
     "output_type": "stream",
     "text": [
      "2021-05-15 10:16:46\n",
      "05/15/21 101646\n",
      "Sat, May 05/15/21 101646\n",
      "Saturday, May 05/15/21 101646\n",
      "1016:46AM 815111\n"
     ]
    }
   ],
   "source": [
    "print(datetime.strftime(datetime.now(),\"%Y-%m-%d %H:%M:%S\"))\n",
    "print(datetime.strftime(datetime.now(),\"%m/%d/%y %H%M%S\"))\n",
    "print(datetime.strftime(datetime.now(),\"%a, %b %m/%d/%y %H%M%S\"))\n",
    "print(datetime.strftime(datetime.now(),\"%A, %B %m/%d/%y %H%M%S\"))\n",
    "print(datetime.strftime(datetime.now(),\"%I%M:%S%p %f\"))"
   ]
  },
  {
   "cell_type": "code",
   "execution_count": 180,
   "metadata": {},
   "outputs": [
    {
     "name": "stdout",
     "output_type": "stream",
     "text": [
      "5/15/2021 10:18:11 AM\n",
      "5/15/2021\n"
     ]
    }
   ],
   "source": [
    "#default for locale\n",
    "print(datetime.strftime(datetime.now(),\"%c\"))\n",
    "print(datetime.strftime(datetime.now(),\"%x\"))"
   ]
  },
  {
   "cell_type": "code",
   "execution_count": 182,
   "metadata": {},
   "outputs": [],
   "source": [
    "from datetime import timedelta"
   ]
  },
  {
   "cell_type": "code",
   "execution_count": 201,
   "metadata": {},
   "outputs": [],
   "source": [
    "#timespan\n",
    "wks_3 = timedelta(weeks=3)\n",
    "day_1 = timedelta(days=1)\n",
    "hour_4 = timedelta(hours=4)\n",
    "micro_47=timedelta(microseconds=47)"
   ]
  },
  {
   "cell_type": "code",
   "execution_count": 184,
   "metadata": {},
   "outputs": [
    {
     "data": {
      "text/plain": [
       "datetime.timedelta"
      ]
     },
     "execution_count": 184,
     "metadata": {},
     "output_type": "execute_result"
    }
   ],
   "source": [
    "type(wks_3)"
   ]
  },
  {
   "cell_type": "code",
   "execution_count": 185,
   "metadata": {},
   "outputs": [
    {
     "data": {
      "text/plain": [
       "datetime.date(2021, 5, 15)"
      ]
     },
     "execution_count": 185,
     "metadata": {},
     "output_type": "execute_result"
    }
   ],
   "source": [
    "date.today()"
   ]
  },
  {
   "cell_type": "code",
   "execution_count": 194,
   "metadata": {},
   "outputs": [
    {
     "name": "stdout",
     "output_type": "stream",
     "text": [
      "Sunday, June 06/06/21 062449 571334\n"
     ]
    }
   ],
   "source": [
    "#day2 =date.today()\n",
    "day2 =datetime.now()\n",
    "dtFuture = day2 +wks_3 + day_1 - hour_4\n",
    "print(datetime.strftime(dtFuture,\"%A, %B %m/%d/%y %H%M%S %f\"))"
   ]
  },
  {
   "cell_type": "code",
   "execution_count": 203,
   "metadata": {},
   "outputs": [
    {
     "name": "stdout",
     "output_type": "stream",
     "text": [
      "1886400.0\n",
      "47\n",
      "1886400047.0\n"
     ]
    }
   ],
   "source": [
    "print((wks_3 + day_1 - hour_4).total_seconds())\n",
    "print((wks_3 + day_1 - hour_4 + micro_47).microseconds)\n",
    "print(((wks_3 + day_1 - hour_4).total_seconds() * 1000) + (wks_3 + day_1 - hour_4 + micro_47).microseconds)\n"
   ]
  },
  {
   "cell_type": "code",
   "execution_count": 222,
   "metadata": {},
   "outputs": [
    {
     "name": "stdout",
     "output_type": "stream",
     "text": [
      "month:  5\n",
      "day:  15\n",
      "year:  2021\n"
     ]
    }
   ],
   "source": [
    "day3 = date.today()\n",
    "print(\"month: \",day3.month)\n",
    "print(\"day: \",day3.day)\n",
    "print(\"year: \",day3.year)\n"
   ]
  },
  {
   "cell_type": "code",
   "execution_count": 227,
   "metadata": {},
   "outputs": [
    {
     "name": "stdout",
     "output_type": "stream",
     "text": [
      "sec: 26\n",
      "hour: 10\n",
      "minute: 37\n",
      "microsec: 139501\n"
     ]
    }
   ],
   "source": [
    "day4= datetime.now()\n",
    "print(\"sec:\",day4.second)\n",
    "print(\"hour:\",day4.hour)\n",
    "print(\"minute:\",day4.minute)\n",
    "print(\"microsec:\",day4.microsecond)"
   ]
  },
  {
   "cell_type": "code",
   "execution_count": 234,
   "metadata": {},
   "outputs": [],
   "source": [
    "halloween = date(\n",
    "    date.today().year\n",
    "    ,10\n",
    "    ,31\n",
    ")"
   ]
  },
  {
   "cell_type": "code",
   "execution_count": 236,
   "metadata": {},
   "outputs": [
    {
     "data": {
      "text/plain": [
       "datetime.date(2021, 10, 31)"
      ]
     },
     "execution_count": 236,
     "metadata": {},
     "output_type": "execute_result"
    }
   ],
   "source": [
    "halloween"
   ]
  },
  {
   "cell_type": "code",
   "execution_count": 241,
   "metadata": {},
   "outputs": [
    {
     "name": "stdout",
     "output_type": "stream",
     "text": [
      "days to halloween:  14601600000\n"
     ]
    }
   ],
   "source": [
    "print(\"days to halloween: \",(halloween - day3).days * 24 *60 * 60 * 1000)"
   ]
  },
  {
   "cell_type": "code",
   "execution_count": 246,
   "metadata": {},
   "outputs": [],
   "source": [
    "def add_numbers(upper):\n",
    "    total = 0\n",
    "    for num in range(upper + 1):\n",
    "        total += num\n",
    "        #print(total)\n",
    "    return total"
   ]
  },
  {
   "cell_type": "code",
   "execution_count": 249,
   "metadata": {},
   "outputs": [
    {
     "data": {
      "text/plain": [
       "78"
      ]
     },
     "execution_count": 249,
     "metadata": {},
     "output_type": "execute_result"
    }
   ],
   "source": [
    "add_numbers(12)"
   ]
  },
  {
   "cell_type": "code",
   "execution_count": 252,
   "metadata": {},
   "outputs": [],
   "source": [
    "def add_numbers(upper):\n",
    "    if upper == 0:\n",
    "        return upper\n",
    "    else: \n",
    "        #print(upper + add_numbers(upper - 1))\n",
    "        return upper + add_numbers(upper - 1)"
   ]
  },
  {
   "cell_type": "code",
   "execution_count": 255,
   "metadata": {},
   "outputs": [
    {
     "data": {
      "text/plain": [
       "78"
      ]
     },
     "execution_count": 255,
     "metadata": {},
     "output_type": "execute_result"
    }
   ],
   "source": [
    "add_numbers(12)"
   ]
  },
  {
   "cell_type": "code",
   "execution_count": 259,
   "metadata": {},
   "outputs": [],
   "source": [
    "def factorial_numbers(upper):\n",
    "    if upper == 0:\n",
    "        return 1\n",
    "    else: \n",
    "        #print(upper + add_numbers(upper - 1))\n",
    "        return upper * factorial_numbers(upper - 1)"
   ]
  },
  {
   "cell_type": "code",
   "execution_count": 263,
   "metadata": {},
   "outputs": [
    {
     "data": {
      "text/plain": [
       "6227020800"
      ]
     },
     "execution_count": 263,
     "metadata": {},
     "output_type": "execute_result"
    }
   ],
   "source": [
    "factorial_numbers(13)"
   ]
  },
  {
   "cell_type": "code",
   "execution_count": 6,
   "metadata": {},
   "outputs": [],
   "source": [
    "def fib_numbers(upper):\n",
    "    if upper == 0:\n",
    "        return 0\n",
    "    if upper == 1:\n",
    "        return 1   \n",
    "    else: \n",
    "        #print( fib_numbers(upper - 1) + fib_numbers(upper - 2))\n",
    "        return fib_numbers(upper - 1) + fib_numbers(upper - 2)"
   ]
  },
  {
   "cell_type": "code",
   "execution_count": 5,
   "metadata": {},
   "outputs": [
    {
     "name": "stdout",
     "output_type": "stream",
     "text": [
      "0\n",
      "1\n",
      "1\n",
      "1\n",
      "1\n",
      "2\n",
      "1\n",
      "2\n",
      "1\n",
      "2\n",
      "1\n",
      "1\n",
      "3\n",
      "1\n",
      "2\n",
      "1\n",
      "1\n",
      "3\n",
      "1\n",
      "2\n",
      "1\n",
      "1\n",
      "3\n",
      "1\n",
      "2\n",
      "1\n",
      "1\n",
      "1\n",
      "2\n",
      "1\n",
      "5\n",
      "1\n",
      "2\n",
      "1\n",
      "1\n",
      "3\n",
      "1\n",
      "2\n",
      "1\n",
      "1\n",
      "1\n",
      "2\n",
      "1\n",
      "5\n"
     ]
    }
   ],
   "source": [
    "for i in range(0,6):\n",
    "    print(fib_numbers(i))"
   ]
  },
  {
   "cell_type": "code",
   "execution_count": 268,
   "metadata": {},
   "outputs": [
    {
     "data": {
      "text/plain": [
       "range(0, 13)"
      ]
     },
     "execution_count": 268,
     "metadata": {},
     "output_type": "execute_result"
    }
   ],
   "source": [
    "range(13)"
   ]
  },
  {
   "cell_type": "code",
   "execution_count": 7,
   "metadata": {},
   "outputs": [
    {
     "data": {
      "text/plain": [
       "'9'"
      ]
     },
     "execution_count": 7,
     "metadata": {},
     "output_type": "execute_result"
    }
   ],
   "source": [
    "\"9\".upper()"
   ]
  },
  {
   "cell_type": "code",
   "execution_count": 30,
   "metadata": {},
   "outputs": [
    {
     "name": "stdout",
     "output_type": "stream",
     "text": [
      "aardvark\n"
     ]
    }
   ],
   "source": [
    "import random\n",
    "words = [\n",
    "    \"aardvark\",\n",
    "    \"air\",\n",
    "    \"zipper\",\n",
    "    \"zoo\"\n",
    "    ]\n",
    "\n",
    "print(words[random.randint(0,len(words))])"
   ]
  },
  {
   "cell_type": "code",
   "execution_count": 31,
   "metadata": {},
   "outputs": [
    {
     "data": {
      "text/plain": [
       "\u001b[1;31mType:\u001b[0m        module\n",
       "\u001b[1;31mString form:\u001b[0m <module 'random' from 'C:\\\\Users\\\\andre\\\\anaconda3\\\\lib\\\\random.py'>\n",
       "\u001b[1;31mFile:\u001b[0m        c:\\users\\andre\\anaconda3\\lib\\random.py\n",
       "\u001b[1;31mDocstring:\u001b[0m  \n",
       "Random variable generators.\n",
       "\n",
       "    integers\n",
       "    --------\n",
       "           uniform within range\n",
       "\n",
       "    sequences\n",
       "    ---------\n",
       "           pick random element\n",
       "           pick random sample\n",
       "           pick weighted random sample\n",
       "           generate random permutation\n",
       "\n",
       "    distributions on the real line:\n",
       "    ------------------------------\n",
       "           uniform\n",
       "           triangular\n",
       "           normal (Gaussian)\n",
       "           lognormal\n",
       "           negative exponential\n",
       "           gamma\n",
       "           beta\n",
       "           pareto\n",
       "           Weibull\n",
       "\n",
       "    distributions on the circle (angles 0 to 2pi)\n",
       "    ---------------------------------------------\n",
       "           circular uniform\n",
       "           von Mises\n",
       "\n",
       "General notes on the underlying Mersenne Twister core generator:\n",
       "\n",
       "* The period is 2**19937-1.\n",
       "* It is one of the most extensively tested generators in existence.\n",
       "* The random() method is implemented in C, executes in a single Python step,\n",
       "  and is, therefore, threadsafe.\n"
      ]
     },
     "metadata": {},
     "output_type": "display_data"
    }
   ],
   "source": [
    "random?"
   ]
  },
  {
   "cell_type": "code",
   "execution_count": 20,
   "metadata": {},
   "outputs": [
    {
     "name": "stdout",
     "output_type": "stream",
     "text": [
      "<module 'random' from 'C:\\\\Users\\\\andre\\\\anaconda3\\\\lib\\\\random.py'>\n"
     ]
    }
   ],
   "source": [
    "print(random)"
   ]
  },
  {
   "cell_type": "code",
   "execution_count": 23,
   "metadata": {},
   "outputs": [
    {
     "data": {
      "text/plain": [
       "3"
      ]
     },
     "execution_count": 23,
     "metadata": {},
     "output_type": "execute_result"
    }
   ],
   "source": [
    "random.randint(0,4)"
   ]
  },
  {
   "cell_type": "code",
   "execution_count": null,
   "metadata": {},
   "outputs": [],
   "source": []
  },
  {
   "cell_type": "code",
   "execution_count": null,
   "metadata": {},
   "outputs": [],
   "source": []
  }
 ],
 "metadata": {
  "kernelspec": {
   "display_name": "Python 3",
   "language": "python",
   "name": "python3"
  },
  "language_info": {
   "codemirror_mode": {
    "name": "ipython",
    "version": 3
   },
   "file_extension": ".py",
   "mimetype": "text/x-python",
   "name": "python",
   "nbconvert_exporter": "python",
   "pygments_lexer": "ipython3",
   "version": "3.8.5"
  }
 },
 "nbformat": 4,
 "nbformat_minor": 4
}
