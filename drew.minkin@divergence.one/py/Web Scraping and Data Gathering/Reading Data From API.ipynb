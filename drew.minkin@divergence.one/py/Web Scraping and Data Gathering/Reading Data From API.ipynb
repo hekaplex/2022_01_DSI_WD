{
 "cells": [
  {
   "cell_type": "markdown",
   "metadata": {},
   "source": [
    "# Lesson 7: Advanced Web Scraping and Data Gathering\n",
    "## Topic 3: Reading data from an API\n",
    "This Notebook shows how to use a free API (no authorization or API key needed) to download some basic information about various countries around the world and put them in a DataFrame."
   ]
  },
  {
   "cell_type": "markdown",
   "metadata": {},
   "source": [
    "### Import libraries"
   ]
  },
  {
   "cell_type": "code",
   "execution_count": 1,
   "metadata": {},
   "outputs": [],
   "source": [
    "import urllib.request, urllib.parse\n",
    "from urllib.error import HTTPError,URLError\n",
    "import pandas as pd"
   ]
  },
  {
   "cell_type": "markdown",
   "metadata": {},
   "source": [
    "### Exercise 20: Define the base URL"
   ]
  },
  {
   "cell_type": "code",
   "execution_count": 2,
   "metadata": {},
   "outputs": [],
   "source": [
    "serviceurl = 'https://restcountries.eu/rest/v2/name/'"
   ]
  },
  {
   "cell_type": "markdown",
   "metadata": {},
   "source": [
    "### Exercise 21: Define a function to pull the country data from the API"
   ]
  },
  {
   "cell_type": "code",
   "execution_count": 3,
   "metadata": {},
   "outputs": [],
   "source": [
    "def get_country_data(country):\n",
    "    \"\"\"\n",
    "    Function to get data about a country from \"https://restcountries.eu\" API\n",
    "    \"\"\"\n",
    "    country_name=str(country)\n",
    "    url = serviceurl + country_name\n",
    "    \n",
    "    try: \n",
    "        uh = urllib.request.urlopen(url)\n",
    "    except HTTPError as e:\n",
    "        print(\"Sorry! Could not retrive anything on {}\".format(country_name))\n",
    "        return None\n",
    "    except URLError as e:\n",
    "        print('Failed to reach a server.')\n",
    "        print('Reason: ', e.reason)\n",
    "        return None\n",
    "    else:\n",
    "        data = uh.read().decode()\n",
    "        print(\"Retrieved data on {}. Total {} characters read.\".format(country_name,len(data)))\n",
    "        return data"
   ]
  },
  {
   "cell_type": "markdown",
   "metadata": {},
   "source": [
    "### Exercise 22: Test the function by passing a correct and an incorrect argument"
   ]
  },
  {
   "cell_type": "code",
   "execution_count": 4,
   "metadata": {},
   "outputs": [],
   "source": [
    "country_name = 'Switzerland'"
   ]
  },
  {
   "cell_type": "code",
   "execution_count": 5,
   "metadata": {},
   "outputs": [
    {
     "name": "stdout",
     "output_type": "stream",
     "text": [
      "Failed to reach a server.\n",
      "Reason:  [WinError 10060] A connection attempt failed because the connected party did not properly respond after a period of time, or established connection failed because connected host has failed to respond\n"
     ]
    }
   ],
   "source": [
    "data=get_country_data(country_name)"
   ]
  },
  {
   "cell_type": "code",
   "execution_count": 6,
   "metadata": {},
   "outputs": [],
   "source": [
    "country_name1 = 'Switzerland1'"
   ]
  },
  {
   "cell_type": "code",
   "execution_count": 7,
   "metadata": {},
   "outputs": [
    {
     "name": "stdout",
     "output_type": "stream",
     "text": [
      "Failed to reach a server.\n",
      "Reason:  [WinError 10060] A connection attempt failed because the connected party did not properly respond after a period of time, or established connection failed because connected host has failed to respond\n"
     ]
    }
   ],
   "source": [
    "data1=get_country_data(country_name1)"
   ]
  },
  {
   "cell_type": "markdown",
   "metadata": {},
   "source": [
    "### Exercise 23: Use the built-in `JSON` library to read and examine the data properly"
   ]
  },
  {
   "cell_type": "code",
   "execution_count": 8,
   "metadata": {},
   "outputs": [],
   "source": [
    "import json"
   ]
  },
  {
   "cell_type": "code",
   "execution_count": 9,
   "metadata": {},
   "outputs": [
    {
     "ename": "TypeError",
     "evalue": "the JSON object must be str, bytes or bytearray, not NoneType",
     "output_type": "error",
     "traceback": [
      "\u001b[1;31m---------------------------------------------------------------------------\u001b[0m",
      "\u001b[1;31mTypeError\u001b[0m                                 Traceback (most recent call last)",
      "\u001b[1;32m~\\AppData\\Local\\Temp/ipykernel_135096/518978746.py\u001b[0m in \u001b[0;36m<module>\u001b[1;34m\u001b[0m\n\u001b[0;32m      1\u001b[0m \u001b[1;31m# Load from string 'data'\u001b[0m\u001b[1;33m\u001b[0m\u001b[1;33m\u001b[0m\u001b[1;33m\u001b[0m\u001b[0m\n\u001b[1;32m----> 2\u001b[1;33m \u001b[0mx\u001b[0m\u001b[1;33m=\u001b[0m\u001b[0mjson\u001b[0m\u001b[1;33m.\u001b[0m\u001b[0mloads\u001b[0m\u001b[1;33m(\u001b[0m\u001b[0mdata\u001b[0m\u001b[1;33m)\u001b[0m\u001b[1;33m\u001b[0m\u001b[1;33m\u001b[0m\u001b[0m\n\u001b[0m",
      "\u001b[1;32m~\\anaconda3\\lib\\json\\__init__.py\u001b[0m in \u001b[0;36mloads\u001b[1;34m(s, cls, object_hook, parse_float, parse_int, parse_constant, object_pairs_hook, **kw)\u001b[0m\n\u001b[0;32m    339\u001b[0m     \u001b[1;32melse\u001b[0m\u001b[1;33m:\u001b[0m\u001b[1;33m\u001b[0m\u001b[1;33m\u001b[0m\u001b[0m\n\u001b[0;32m    340\u001b[0m         \u001b[1;32mif\u001b[0m \u001b[1;32mnot\u001b[0m \u001b[0misinstance\u001b[0m\u001b[1;33m(\u001b[0m\u001b[0ms\u001b[0m\u001b[1;33m,\u001b[0m \u001b[1;33m(\u001b[0m\u001b[0mbytes\u001b[0m\u001b[1;33m,\u001b[0m \u001b[0mbytearray\u001b[0m\u001b[1;33m)\u001b[0m\u001b[1;33m)\u001b[0m\u001b[1;33m:\u001b[0m\u001b[1;33m\u001b[0m\u001b[1;33m\u001b[0m\u001b[0m\n\u001b[1;32m--> 341\u001b[1;33m             raise TypeError(f'the JSON object must be str, bytes or bytearray, '\n\u001b[0m\u001b[0;32m    342\u001b[0m                             f'not {s.__class__.__name__}')\n\u001b[0;32m    343\u001b[0m         \u001b[0ms\u001b[0m \u001b[1;33m=\u001b[0m \u001b[0ms\u001b[0m\u001b[1;33m.\u001b[0m\u001b[0mdecode\u001b[0m\u001b[1;33m(\u001b[0m\u001b[0mdetect_encoding\u001b[0m\u001b[1;33m(\u001b[0m\u001b[0ms\u001b[0m\u001b[1;33m)\u001b[0m\u001b[1;33m,\u001b[0m \u001b[1;34m'surrogatepass'\u001b[0m\u001b[1;33m)\u001b[0m\u001b[1;33m\u001b[0m\u001b[1;33m\u001b[0m\u001b[0m\n",
      "\u001b[1;31mTypeError\u001b[0m: the JSON object must be str, bytes or bytearray, not NoneType"
     ]
    }
   ],
   "source": [
    "# Load from string 'data'\n",
    "x=json.loads(data)"
   ]
  },
  {
   "cell_type": "code",
   "execution_count": null,
   "metadata": {},
   "outputs": [],
   "source": [
    "# Load the only element\n",
    "y=x[0]"
   ]
  },
  {
   "cell_type": "code",
   "execution_count": null,
   "metadata": {},
   "outputs": [],
   "source": [
    "type(y)"
   ]
  },
  {
   "cell_type": "code",
   "execution_count": null,
   "metadata": {},
   "outputs": [],
   "source": [
    "y.keys()"
   ]
  },
  {
   "cell_type": "markdown",
   "metadata": {},
   "source": [
    "### Exercise 24: Can you print all the data elements one by one?"
   ]
  },
  {
   "cell_type": "code",
   "execution_count": null,
   "metadata": {},
   "outputs": [],
   "source": [
    "for k,v in y.items():\n",
    "    print(\"{}: {}\".format(k,v))"
   ]
  },
  {
   "cell_type": "markdown",
   "metadata": {},
   "source": [
    "### Exercise 25: The dictionary values are not of the same type - print all the languages spoken"
   ]
  },
  {
   "cell_type": "code",
   "execution_count": null,
   "metadata": {},
   "outputs": [],
   "source": [
    "for lang in y['languages']:\n",
    "    print(lang['name'])"
   ]
  },
  {
   "cell_type": "markdown",
   "metadata": {},
   "source": [
    "### Exercise 26: Write a function which can take a list of countries and return a DataFrame containing key info\n",
    "* Capital\n",
    "* Region\n",
    "* Sub-region\n",
    "* Population\n",
    "* lattitude/longitude\n",
    "* Area\n",
    "* Gini index\n",
    "* Timezones\n",
    "* Currencies\n",
    "* Languages"
   ]
  },
  {
   "cell_type": "code",
   "execution_count": null,
   "metadata": {},
   "outputs": [],
   "source": [
    "import pandas as pd\n",
    "import json\n",
    "def build_country_database(list_country):\n",
    "    \"\"\"\n",
    "    Takes a list of country names.\n",
    "    Output a DataFrame with key information about those countries.\n",
    "    \"\"\"\n",
    "    # Define an empty dictionary with keys\n",
    "    country_dict={'Country':[],'Capital':[],'Region':[],'Sub-region':[],'Population':[],\n",
    "                  'Lattitude':[],'Longitude':[],'Area':[],'Gini':[],'Timezones':[],\n",
    "                  'Currencies':[],'Languages':[]}\n",
    "    \n",
    "    for c in list_country:\n",
    "        data = get_country_data(c)\n",
    "        if data!=None:\n",
    "            x = json.loads(data)\n",
    "            y=x[0]\n",
    "            country_dict['Country'].append(y['name'])\n",
    "            country_dict['Capital'].append(y['capital'])\n",
    "            country_dict['Region'].append(y['region'])\n",
    "            country_dict['Sub-region'].append(y['subregion'])\n",
    "            country_dict['Population'].append(y['population'])\n",
    "            country_dict['Lattitude'].append(y['latlng'][0])\n",
    "            country_dict['Longitude'].append(y['latlng'][1])\n",
    "            country_dict['Area'].append(y['area'])\n",
    "            country_dict['Gini'].append(y['gini'])\n",
    "            # Note the code to handle possibility of multiple timezones as a list\n",
    "            if len(y['timezones'])>1:\n",
    "                country_dict['Timezones'].append(','.join(y['timezones']))\n",
    "            else:\n",
    "                country_dict['Timezones'].append(y['timezones'][0])\n",
    "            # Note the code to handle possibility of multiple currencies as dictionaries\n",
    "            if len(y['currencies'])>1:\n",
    "                lst_currencies = []\n",
    "                for i in y['currencies']:\n",
    "                    lst_currencies.append(i['name'])\n",
    "                country_dict['Currencies'].append(','.join(lst_currencies))\n",
    "            else:\n",
    "                country_dict['Currencies'].append(y['currencies'][0]['name'])\n",
    "            # Note the code to handle possibility of multiple languages as dictionaries\n",
    "            if len(y['languages'])>1:\n",
    "                lst_languages = []\n",
    "                for i in y['languages']:\n",
    "                    lst_languages.append(i['name'])\n",
    "                country_dict['Languages'].append(','.join(lst_languages))\n",
    "            else:\n",
    "                country_dict['Languages'].append(y['languages'][0]['name'])\n",
    "    \n",
    "    # Return as a Pandas DataFrame\n",
    "    return pd.DataFrame(country_dict)"
   ]
  },
  {
   "cell_type": "markdown",
   "metadata": {},
   "source": [
    "### Exercise 27: Test the function by building a small database of countries' info. Include an incorrect name too."
   ]
  },
  {
   "cell_type": "code",
   "execution_count": null,
   "metadata": {},
   "outputs": [],
   "source": [
    "df1=build_country_database(['Nigeria','Switzerland','France',\n",
    "                            'Turmeric','Russia','Kenya','Singapore'])"
   ]
  },
  {
   "cell_type": "code",
   "execution_count": null,
   "metadata": {},
   "outputs": [],
   "source": [
    "df1"
   ]
  }
 ],
 "metadata": {
  "kernelspec": {
   "display_name": "Python 3",
   "language": "python",
   "name": "python3"
  },
  "language_info": {
   "codemirror_mode": {
    "name": "ipython",
    "version": 3
   },
   "file_extension": ".py",
   "mimetype": "text/x-python",
   "name": "python",
   "nbconvert_exporter": "python",
   "pygments_lexer": "ipython3",
   "version": "3.8.5"
  },
  "latex_envs": {
   "LaTeX_envs_menu_present": true,
   "autoclose": false,
   "autocomplete": true,
   "bibliofile": "biblio.bib",
   "cite_by": "apalike",
   "current_citInitial": 1,
   "eqLabelWithNumbers": true,
   "eqNumInitial": 1,
   "hotkeys": {
    "equation": "Ctrl-E",
    "itemize": "Ctrl-I"
   },
   "labels_anchors": false,
   "latex_user_defs": false,
   "report_style_numbering": false,
   "user_envs_cfg": false
  }
 },
 "nbformat": 4,
 "nbformat_minor": 2
}
