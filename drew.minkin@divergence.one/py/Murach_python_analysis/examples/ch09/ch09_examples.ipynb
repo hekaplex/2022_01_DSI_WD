{
 "cells": [
  {
   "cell_type": "markdown",
   "id": "b039c07c",
   "metadata": {},
   "source": [
    "# Chapter 9: How to analyze time-series data"
   ]
  },
  {
   "cell_type": "code",
   "execution_count": 1,
   "id": "eef530bd",
   "metadata": {},
   "outputs": [],
   "source": [
    "import pandas as pd\n",
    "import seaborn as sns"
   ]
  },
  {
   "cell_type": "markdown",
   "id": "e02863c6",
   "metadata": {},
   "source": [
    "## How to generate time periods"
   ]
  },
  {
   "cell_type": "code",
   "execution_count": 2,
   "id": "ba75a303",
   "metadata": {},
   "outputs": [
    {
     "data": {
      "text/plain": [
       "DatetimeIndex(['2020-01-01', '2020-02-01', '2020-03-01', '2020-04-01',\n",
       "               '2020-05-01', '2020-06-01', '2020-07-01', '2020-08-01',\n",
       "               '2020-09-01', '2020-10-01', '2020-11-01', '2020-12-01'],\n",
       "              dtype='datetime64[ns]', freq='MS')"
      ]
     },
     "execution_count": 2,
     "metadata": {},
     "output_type": "execute_result"
    }
   ],
   "source": [
    "pd.date_range('01/01/2020','12/31/2020', freq='MS')"
   ]
  },
  {
   "cell_type": "code",
   "execution_count": 3,
   "id": "fca9ae42",
   "metadata": {},
   "outputs": [
    {
     "data": {
      "text/plain": [
       "DatetimeIndex(['2020-01-01', '2020-01-02', '2020-01-03', '2020-01-06',\n",
       "               '2020-01-07', '2020-01-08', '2020-01-09', '2020-01-10',\n",
       "               '2020-01-13', '2020-01-14', '2020-01-15', '2020-01-16',\n",
       "               '2020-01-17', '2020-01-20', '2020-01-21', '2020-01-22',\n",
       "               '2020-01-23', '2020-01-24', '2020-01-27', '2020-01-28',\n",
       "               '2020-01-29', '2020-01-30', '2020-01-31'],\n",
       "              dtype='datetime64[ns]', freq='B')"
      ]
     },
     "execution_count": 3,
     "metadata": {},
     "output_type": "execute_result"
    }
   ],
   "source": [
    "pd.date_range('01/01/2020', '01/31/2020', freq='B')"
   ]
  },
  {
   "cell_type": "code",
   "execution_count": 4,
   "id": "c43e7941-e73a-4def-b277-5075779d0bdc",
   "metadata": {},
   "outputs": [
    {
     "data": {
      "text/plain": [
       "DatetimeIndex(['2020-12-07', '2020-12-14', '2020-12-21', '2020-12-28'], dtype='datetime64[ns]', freq='W-MON')"
      ]
     },
     "execution_count": 4,
     "metadata": {},
     "output_type": "execute_result"
    }
   ],
   "source": [
    "pd.date_range('12/01/2020', '12/31/2020', freq='W-MON')"
   ]
  },
  {
   "cell_type": "code",
   "execution_count": 5,
   "id": "3a55e2fc-9718-4dc6-ba67-9048b4ffb8d2",
   "metadata": {},
   "outputs": [
    {
     "data": {
      "text/plain": [
       "DatetimeIndex(['2020-01-01 00:00:00', '2020-01-01 12:00:00',\n",
       "               '2020-01-02 00:00:00', '2020-01-02 12:00:00',\n",
       "               '2020-01-03 00:00:00', '2020-01-03 12:00:00',\n",
       "               '2020-01-04 00:00:00', '2020-01-04 12:00:00',\n",
       "               '2020-01-05 00:00:00', '2020-01-05 12:00:00',\n",
       "               '2020-01-06 00:00:00', '2020-01-06 12:00:00',\n",
       "               '2020-01-07 00:00:00', '2020-01-07 12:00:00',\n",
       "               '2020-01-08 00:00:00', '2020-01-08 12:00:00',\n",
       "               '2020-01-09 00:00:00', '2020-01-09 12:00:00',\n",
       "               '2020-01-10 00:00:00', '2020-01-10 12:00:00',\n",
       "               '2020-01-11 00:00:00', '2020-01-11 12:00:00',\n",
       "               '2020-01-12 00:00:00', '2020-01-12 12:00:00',\n",
       "               '2020-01-13 00:00:00', '2020-01-13 12:00:00',\n",
       "               '2020-01-14 00:00:00', '2020-01-14 12:00:00',\n",
       "               '2020-01-15 00:00:00', '2020-01-15 12:00:00',\n",
       "               '2020-01-16 00:00:00', '2020-01-16 12:00:00',\n",
       "               '2020-01-17 00:00:00', '2020-01-17 12:00:00',\n",
       "               '2020-01-18 00:00:00', '2020-01-18 12:00:00',\n",
       "               '2020-01-19 00:00:00', '2020-01-19 12:00:00',\n",
       "               '2020-01-20 00:00:00', '2020-01-20 12:00:00',\n",
       "               '2020-01-21 00:00:00', '2020-01-21 12:00:00',\n",
       "               '2020-01-22 00:00:00', '2020-01-22 12:00:00',\n",
       "               '2020-01-23 00:00:00', '2020-01-23 12:00:00',\n",
       "               '2020-01-24 00:00:00', '2020-01-24 12:00:00',\n",
       "               '2020-01-25 00:00:00', '2020-01-25 12:00:00',\n",
       "               '2020-01-26 00:00:00', '2020-01-26 12:00:00',\n",
       "               '2020-01-27 00:00:00', '2020-01-27 12:00:00',\n",
       "               '2020-01-28 00:00:00', '2020-01-28 12:00:00',\n",
       "               '2020-01-29 00:00:00', '2020-01-29 12:00:00',\n",
       "               '2020-01-30 00:00:00', '2020-01-30 12:00:00',\n",
       "               '2020-01-31 00:00:00'],\n",
       "              dtype='datetime64[ns]', freq='12H')"
      ]
     },
     "execution_count": 5,
     "metadata": {},
     "output_type": "execute_result"
    }
   ],
   "source": [
    "pd.date_range('01/01/2020', '01/31/2020', freq='12H')"
   ]
  },
  {
   "cell_type": "markdown",
   "id": "87cee740",
   "metadata": {},
   "source": [
    "## How to reindex with datetime indexes"
   ]
  },
  {
   "cell_type": "code",
   "execution_count": 6,
   "id": "2dfb1175-76f0-4dcb-9103-8891d3a8e059",
   "metadata": {},
   "outputs": [],
   "source": [
    "# get stock data\n",
    "stockData = pd.read_csv('AAPL.csv', usecols=['Date','Open','High','Low','Close'], \n",
    "                        parse_dates=['Date'])"
   ]
  },
  {
   "cell_type": "code",
   "execution_count": 7,
   "id": "0418b2bf",
   "metadata": {},
   "outputs": [
    {
     "data": {
      "text/html": [
       "<div>\n",
       "<style scoped>\n",
       "    .dataframe tbody tr th:only-of-type {\n",
       "        vertical-align: middle;\n",
       "    }\n",
       "\n",
       "    .dataframe tbody tr th {\n",
       "        vertical-align: top;\n",
       "    }\n",
       "\n",
       "    .dataframe thead th {\n",
       "        text-align: right;\n",
       "    }\n",
       "</style>\n",
       "<table border=\"1\" class=\"dataframe\">\n",
       "  <thead>\n",
       "    <tr style=\"text-align: right;\">\n",
       "      <th></th>\n",
       "      <th>Open</th>\n",
       "      <th>High</th>\n",
       "      <th>Low</th>\n",
       "      <th>Close</th>\n",
       "    </tr>\n",
       "    <tr>\n",
       "      <th>Date</th>\n",
       "      <th></th>\n",
       "      <th></th>\n",
       "      <th></th>\n",
       "      <th></th>\n",
       "    </tr>\n",
       "  </thead>\n",
       "  <tbody>\n",
       "    <tr>\n",
       "      <th>2020-01-02</th>\n",
       "      <td>74.059998</td>\n",
       "      <td>75.150002</td>\n",
       "      <td>73.797501</td>\n",
       "      <td>75.087502</td>\n",
       "    </tr>\n",
       "    <tr>\n",
       "      <th>2020-01-03</th>\n",
       "      <td>74.287498</td>\n",
       "      <td>75.144997</td>\n",
       "      <td>74.125000</td>\n",
       "      <td>74.357498</td>\n",
       "    </tr>\n",
       "    <tr>\n",
       "      <th>2020-01-06</th>\n",
       "      <td>73.447502</td>\n",
       "      <td>74.989998</td>\n",
       "      <td>73.187500</td>\n",
       "      <td>74.949997</td>\n",
       "    </tr>\n",
       "  </tbody>\n",
       "</table>\n",
       "</div>"
      ],
      "text/plain": [
       "                 Open       High        Low      Close\n",
       "Date                                                  \n",
       "2020-01-02  74.059998  75.150002  73.797501  75.087502\n",
       "2020-01-03  74.287498  75.144997  74.125000  74.357498\n",
       "2020-01-06  73.447502  74.989998  73.187500  74.949997"
      ]
     },
     "execution_count": 7,
     "metadata": {},
     "output_type": "execute_result"
    }
   ],
   "source": [
    "stockData.set_index('Date', inplace=True)\n",
    "stockData.head(3)"
   ]
  },
  {
   "cell_type": "code",
   "execution_count": 8,
   "id": "77add99e",
   "metadata": {},
   "outputs": [
    {
     "data": {
      "text/plain": [
       "DatetimeIndex(['2020-01-03', '2020-01-10', '2020-01-17', '2020-01-24',\n",
       "               '2020-01-31', '2020-02-07', '2020-02-14', '2020-02-21',\n",
       "               '2020-02-28', '2020-03-06', '2020-03-13', '2020-03-20',\n",
       "               '2020-03-27', '2020-04-03', '2020-04-10', '2020-04-17',\n",
       "               '2020-04-24', '2020-05-01', '2020-05-08', '2020-05-15',\n",
       "               '2020-05-22', '2020-05-29', '2020-06-05', '2020-06-12',\n",
       "               '2020-06-19', '2020-06-26', '2020-07-03', '2020-07-10',\n",
       "               '2020-07-17', '2020-07-24', '2020-07-31', '2020-08-07',\n",
       "               '2020-08-14', '2020-08-21', '2020-08-28', '2020-09-04',\n",
       "               '2020-09-11', '2020-09-18', '2020-09-25', '2020-10-02',\n",
       "               '2020-10-09', '2020-10-16', '2020-10-23', '2020-10-30',\n",
       "               '2020-11-06', '2020-11-13', '2020-11-20', '2020-11-27',\n",
       "               '2020-12-04', '2020-12-11', '2020-12-18', '2020-12-25'],\n",
       "              dtype='datetime64[ns]', freq='W-FRI')"
      ]
     },
     "execution_count": 8,
     "metadata": {},
     "output_type": "execute_result"
    }
   ],
   "source": [
    "fridays = pd.date_range('01/01/2020', '12/31/2020', freq='W-FRI')\n",
    "fridays"
   ]
  },
  {
   "cell_type": "code",
   "execution_count": 9,
   "id": "a51f9d44",
   "metadata": {},
   "outputs": [
    {
     "data": {
      "text/html": [
       "<div>\n",
       "<style scoped>\n",
       "    .dataframe tbody tr th:only-of-type {\n",
       "        vertical-align: middle;\n",
       "    }\n",
       "\n",
       "    .dataframe tbody tr th {\n",
       "        vertical-align: top;\n",
       "    }\n",
       "\n",
       "    .dataframe thead th {\n",
       "        text-align: right;\n",
       "    }\n",
       "</style>\n",
       "<table border=\"1\" class=\"dataframe\">\n",
       "  <thead>\n",
       "    <tr style=\"text-align: right;\">\n",
       "      <th></th>\n",
       "      <th>Open</th>\n",
       "      <th>High</th>\n",
       "      <th>Low</th>\n",
       "      <th>Close</th>\n",
       "    </tr>\n",
       "  </thead>\n",
       "  <tbody>\n",
       "    <tr>\n",
       "      <th>2020-01-03</th>\n",
       "      <td>74.287498</td>\n",
       "      <td>75.144997</td>\n",
       "      <td>74.1250</td>\n",
       "      <td>74.357498</td>\n",
       "    </tr>\n",
       "    <tr>\n",
       "      <th>2020-01-10</th>\n",
       "      <td>77.650002</td>\n",
       "      <td>78.167503</td>\n",
       "      <td>77.0625</td>\n",
       "      <td>77.582497</td>\n",
       "    </tr>\n",
       "    <tr>\n",
       "      <th>2020-01-17</th>\n",
       "      <td>79.067497</td>\n",
       "      <td>79.684998</td>\n",
       "      <td>78.7500</td>\n",
       "      <td>79.682503</td>\n",
       "    </tr>\n",
       "  </tbody>\n",
       "</table>\n",
       "</div>"
      ],
      "text/plain": [
       "                 Open       High      Low      Close\n",
       "2020-01-03  74.287498  75.144997  74.1250  74.357498\n",
       "2020-01-10  77.650002  78.167503  77.0625  77.582497\n",
       "2020-01-17  79.067497  79.684998  78.7500  79.682503"
      ]
     },
     "execution_count": 9,
     "metadata": {},
     "output_type": "execute_result"
    }
   ],
   "source": [
    "stockData.reindex(fridays).head(3)"
   ]
  },
  {
   "cell_type": "markdown",
   "id": "494146ec-e94f-44dd-96e9-259e5b2da320",
   "metadata": {},
   "source": [
    "## How to reindex with a semi-month index"
   ]
  },
  {
   "cell_type": "code",
   "execution_count": 10,
   "id": "c6911df9-c4fe-4c79-ac4c-327979c0bd7d",
   "metadata": {},
   "outputs": [
    {
     "data": {
      "text/plain": [
       "DatetimeIndex(['2020-01-01', '2020-01-15', '2020-02-01', '2020-02-15',\n",
       "               '2020-03-01', '2020-03-15', '2020-04-01', '2020-04-15',\n",
       "               '2020-05-01', '2020-05-15', '2020-06-01', '2020-06-15',\n",
       "               '2020-07-01', '2020-07-15', '2020-08-01', '2020-08-15',\n",
       "               '2020-09-01', '2020-09-15', '2020-10-01', '2020-10-15',\n",
       "               '2020-11-01', '2020-11-15', '2020-12-01', '2020-12-15'],\n",
       "              dtype='datetime64[ns]', freq='SMS-15')"
      ]
     },
     "execution_count": 10,
     "metadata": {},
     "output_type": "execute_result"
    }
   ],
   "source": [
    "semiMonths = pd.date_range('01/01/2020', '12/31/2020', freq='SMS')\n",
    "semiMonths"
   ]
  },
  {
   "cell_type": "code",
   "execution_count": 11,
   "id": "beaf82d3-d2cd-432a-a574-b4730aa52aad",
   "metadata": {},
   "outputs": [
    {
     "data": {
      "text/html": [
       "<div>\n",
       "<style scoped>\n",
       "    .dataframe tbody tr th:only-of-type {\n",
       "        vertical-align: middle;\n",
       "    }\n",
       "\n",
       "    .dataframe tbody tr th {\n",
       "        vertical-align: top;\n",
       "    }\n",
       "\n",
       "    .dataframe thead th {\n",
       "        text-align: right;\n",
       "    }\n",
       "</style>\n",
       "<table border=\"1\" class=\"dataframe\">\n",
       "  <thead>\n",
       "    <tr style=\"text-align: right;\">\n",
       "      <th></th>\n",
       "      <th>Open</th>\n",
       "      <th>High</th>\n",
       "      <th>Low</th>\n",
       "      <th>Close</th>\n",
       "    </tr>\n",
       "  </thead>\n",
       "  <tbody>\n",
       "    <tr>\n",
       "      <th>2020-01-01</th>\n",
       "      <td>NaN</td>\n",
       "      <td>NaN</td>\n",
       "      <td>NaN</td>\n",
       "      <td>NaN</td>\n",
       "    </tr>\n",
       "    <tr>\n",
       "      <th>2020-01-15</th>\n",
       "      <td>77.962502</td>\n",
       "      <td>78.875</td>\n",
       "      <td>77.387497</td>\n",
       "      <td>77.834999</td>\n",
       "    </tr>\n",
       "    <tr>\n",
       "      <th>2020-02-01</th>\n",
       "      <td>NaN</td>\n",
       "      <td>NaN</td>\n",
       "      <td>NaN</td>\n",
       "      <td>NaN</td>\n",
       "    </tr>\n",
       "    <tr>\n",
       "      <th>2020-02-15</th>\n",
       "      <td>NaN</td>\n",
       "      <td>NaN</td>\n",
       "      <td>NaN</td>\n",
       "      <td>NaN</td>\n",
       "    </tr>\n",
       "    <tr>\n",
       "      <th>2020-03-01</th>\n",
       "      <td>NaN</td>\n",
       "      <td>NaN</td>\n",
       "      <td>NaN</td>\n",
       "      <td>NaN</td>\n",
       "    </tr>\n",
       "  </tbody>\n",
       "</table>\n",
       "</div>"
      ],
      "text/plain": [
       "                 Open    High        Low      Close\n",
       "2020-01-01        NaN     NaN        NaN        NaN\n",
       "2020-01-15  77.962502  78.875  77.387497  77.834999\n",
       "2020-02-01        NaN     NaN        NaN        NaN\n",
       "2020-02-15        NaN     NaN        NaN        NaN\n",
       "2020-03-01        NaN     NaN        NaN        NaN"
      ]
     },
     "execution_count": 11,
     "metadata": {},
     "output_type": "execute_result"
    }
   ],
   "source": [
    "stockData.reindex(semiMonths).head()"
   ]
  },
  {
   "cell_type": "code",
   "execution_count": 12,
   "id": "327f2b88-332c-4521-9203-73d2deba14c7",
   "metadata": {},
   "outputs": [
    {
     "data": {
      "text/plain": [
       "<AxesSubplot:>"
      ]
     },
     "execution_count": 12,
     "metadata": {},
     "output_type": "execute_result"
    },
    {
     "data": {
      "image/png": "[encoded data removed]",
      "text/plain": [
       "<Figure size 432x288 with 1 Axes>"
      ]
     },
     "metadata": {
      "needs_background": "light"
     },
     "output_type": "display_data"
    }
   ],
   "source": [
    "stockData.reindex(semiMonths).plot()"
   ]
  },
  {
   "cell_type": "markdown",
   "id": "d7d7b67c-ee5a-4491-8213-cb47119bdda4",
   "metadata": {},
   "source": [
    "## How a user-defined function can improve a datetime index"
   ]
  },
  {
   "cell_type": "code",
   "execution_count": 13,
   "id": "daed3394-7551-4981-9010-9d4a14d02437",
   "metadata": {},
   "outputs": [],
   "source": [
    "import datetime as dt\n",
    "\n",
    "def adjustDate(date):\n",
    "    if date.weekday() < 5:\n",
    "        return date\n",
    "    elif date.weekday() == 5:\n",
    "        return date - dt.timedelta(days=1)\n",
    "    else:\n",
    "        return date + dt.timedelta(days=1)"
   ]
  },
  {
   "cell_type": "code",
   "execution_count": 14,
   "id": "f5fe3904-4bf6-4e45-ba2f-ecfd84bce785",
   "metadata": {},
   "outputs": [
    {
     "data": {
      "text/plain": [
       "2020-01-01   2020-01-01\n",
       "2020-01-15   2020-01-15\n",
       "2020-02-01   2020-01-31\n",
       "2020-02-15   2020-02-14\n",
       "2020-03-01   2020-03-02\n",
       "Freq: SMS-15, dtype: datetime64[ns]"
      ]
     },
     "execution_count": 14,
     "metadata": {},
     "output_type": "execute_result"
    }
   ],
   "source": [
    "semiMonths = pd.date_range('01/01/2020', '12/31/2020', freq='SMS')\n",
    "semiMonthsAdjusted = semiMonths.to_series().apply(adjustDate)\n",
    "semiMonthsAdjusted.head()"
   ]
  },
  {
   "cell_type": "code",
   "execution_count": 15,
   "id": "7499489c",
   "metadata": {},
   "outputs": [
    {
     "data": {
      "text/html": [
       "<div>\n",
       "<style scoped>\n",
       "    .dataframe tbody tr th:only-of-type {\n",
       "        vertical-align: middle;\n",
       "    }\n",
       "\n",
       "    .dataframe tbody tr th {\n",
       "        vertical-align: top;\n",
       "    }\n",
       "\n",
       "    .dataframe thead th {\n",
       "        text-align: right;\n",
       "    }\n",
       "</style>\n",
       "<table border=\"1\" class=\"dataframe\">\n",
       "  <thead>\n",
       "    <tr style=\"text-align: right;\">\n",
       "      <th></th>\n",
       "      <th>Open</th>\n",
       "      <th>High</th>\n",
       "      <th>Low</th>\n",
       "      <th>Close</th>\n",
       "    </tr>\n",
       "  </thead>\n",
       "  <tbody>\n",
       "    <tr>\n",
       "      <th>2020-01-01</th>\n",
       "      <td>NaN</td>\n",
       "      <td>NaN</td>\n",
       "      <td>NaN</td>\n",
       "      <td>NaN</td>\n",
       "    </tr>\n",
       "    <tr>\n",
       "      <th>2020-01-15</th>\n",
       "      <td>77.962502</td>\n",
       "      <td>78.875000</td>\n",
       "      <td>77.387497</td>\n",
       "      <td>77.834999</td>\n",
       "    </tr>\n",
       "    <tr>\n",
       "      <th>2020-01-31</th>\n",
       "      <td>80.232498</td>\n",
       "      <td>80.669998</td>\n",
       "      <td>77.072502</td>\n",
       "      <td>77.377502</td>\n",
       "    </tr>\n",
       "    <tr>\n",
       "      <th>2020-02-14</th>\n",
       "      <td>81.184998</td>\n",
       "      <td>81.495003</td>\n",
       "      <td>80.712502</td>\n",
       "      <td>81.237503</td>\n",
       "    </tr>\n",
       "    <tr>\n",
       "      <th>2020-03-02</th>\n",
       "      <td>70.570000</td>\n",
       "      <td>75.360001</td>\n",
       "      <td>69.430000</td>\n",
       "      <td>74.702499</td>\n",
       "    </tr>\n",
       "  </tbody>\n",
       "</table>\n",
       "</div>"
      ],
      "text/plain": [
       "                 Open       High        Low      Close\n",
       "2020-01-01        NaN        NaN        NaN        NaN\n",
       "2020-01-15  77.962502  78.875000  77.387497  77.834999\n",
       "2020-01-31  80.232498  80.669998  77.072502  77.377502\n",
       "2020-02-14  81.184998  81.495003  80.712502  81.237503\n",
       "2020-03-02  70.570000  75.360001  69.430000  74.702499"
      ]
     },
     "execution_count": 15,
     "metadata": {},
     "output_type": "execute_result"
    }
   ],
   "source": [
    "stockData.reindex(semiMonthsAdjusted).head()"
   ]
  },
  {
   "cell_type": "markdown",
   "id": "42a43412",
   "metadata": {},
   "source": [
    "## How reindexing with an improved index can improve plots"
   ]
  },
  {
   "cell_type": "code",
   "execution_count": 16,
   "id": "5830467e-1aca-4bcd-97b2-05390dd356b5",
   "metadata": {},
   "outputs": [
    {
     "data": {
      "text/html": [
       "<div>\n",
       "<style scoped>\n",
       "    .dataframe tbody tr th:only-of-type {\n",
       "        vertical-align: middle;\n",
       "    }\n",
       "\n",
       "    .dataframe tbody tr th {\n",
       "        vertical-align: top;\n",
       "    }\n",
       "\n",
       "    .dataframe thead th {\n",
       "        text-align: right;\n",
       "    }\n",
       "</style>\n",
       "<table border=\"1\" class=\"dataframe\">\n",
       "  <thead>\n",
       "    <tr style=\"text-align: right;\">\n",
       "      <th></th>\n",
       "      <th>Open</th>\n",
       "      <th>High</th>\n",
       "      <th>Low</th>\n",
       "      <th>Close</th>\n",
       "    </tr>\n",
       "  </thead>\n",
       "  <tbody>\n",
       "    <tr>\n",
       "      <th>2020-01-01</th>\n",
       "      <td>NaN</td>\n",
       "      <td>NaN</td>\n",
       "      <td>NaN</td>\n",
       "      <td>NaN</td>\n",
       "    </tr>\n",
       "    <tr>\n",
       "      <th>2020-01-15</th>\n",
       "      <td>77.962502</td>\n",
       "      <td>78.875</td>\n",
       "      <td>77.387497</td>\n",
       "      <td>77.834999</td>\n",
       "    </tr>\n",
       "    <tr>\n",
       "      <th>2020-02-01</th>\n",
       "      <td>NaN</td>\n",
       "      <td>NaN</td>\n",
       "      <td>NaN</td>\n",
       "      <td>NaN</td>\n",
       "    </tr>\n",
       "    <tr>\n",
       "      <th>2020-02-15</th>\n",
       "      <td>NaN</td>\n",
       "      <td>NaN</td>\n",
       "      <td>NaN</td>\n",
       "      <td>NaN</td>\n",
       "    </tr>\n",
       "    <tr>\n",
       "      <th>2020-03-01</th>\n",
       "      <td>NaN</td>\n",
       "      <td>NaN</td>\n",
       "      <td>NaN</td>\n",
       "      <td>NaN</td>\n",
       "    </tr>\n",
       "  </tbody>\n",
       "</table>\n",
       "</div>"
      ],
      "text/plain": [
       "                 Open    High        Low      Close\n",
       "2020-01-01        NaN     NaN        NaN        NaN\n",
       "2020-01-15  77.962502  78.875  77.387497  77.834999\n",
       "2020-02-01        NaN     NaN        NaN        NaN\n",
       "2020-02-15        NaN     NaN        NaN        NaN\n",
       "2020-03-01        NaN     NaN        NaN        NaN"
      ]
     },
     "execution_count": 16,
     "metadata": {},
     "output_type": "execute_result"
    }
   ],
   "source": [
    "stockData.reindex(semiMonths).head()"
   ]
  },
  {
   "cell_type": "code",
   "execution_count": 17,
   "id": "e38ee9e5-1280-4f70-9dd2-1ec222671e6c",
   "metadata": {},
   "outputs": [
    {
     "data": {
      "text/html": [
       "<div>\n",
       "<style scoped>\n",
       "    .dataframe tbody tr th:only-of-type {\n",
       "        vertical-align: middle;\n",
       "    }\n",
       "\n",
       "    .dataframe tbody tr th {\n",
       "        vertical-align: top;\n",
       "    }\n",
       "\n",
       "    .dataframe thead th {\n",
       "        text-align: right;\n",
       "    }\n",
       "</style>\n",
       "<table border=\"1\" class=\"dataframe\">\n",
       "  <thead>\n",
       "    <tr style=\"text-align: right;\">\n",
       "      <th></th>\n",
       "      <th>Open</th>\n",
       "      <th>High</th>\n",
       "      <th>Low</th>\n",
       "      <th>Close</th>\n",
       "    </tr>\n",
       "  </thead>\n",
       "  <tbody>\n",
       "    <tr>\n",
       "      <th>2020-01-01</th>\n",
       "      <td>NaN</td>\n",
       "      <td>NaN</td>\n",
       "      <td>NaN</td>\n",
       "      <td>NaN</td>\n",
       "    </tr>\n",
       "    <tr>\n",
       "      <th>2020-01-15</th>\n",
       "      <td>77.962502</td>\n",
       "      <td>78.875000</td>\n",
       "      <td>77.387497</td>\n",
       "      <td>77.834999</td>\n",
       "    </tr>\n",
       "    <tr>\n",
       "      <th>2020-01-31</th>\n",
       "      <td>80.232498</td>\n",
       "      <td>80.669998</td>\n",
       "      <td>77.072502</td>\n",
       "      <td>77.377502</td>\n",
       "    </tr>\n",
       "    <tr>\n",
       "      <th>2020-02-14</th>\n",
       "      <td>81.184998</td>\n",
       "      <td>81.495003</td>\n",
       "      <td>80.712502</td>\n",
       "      <td>81.237503</td>\n",
       "    </tr>\n",
       "    <tr>\n",
       "      <th>2020-03-02</th>\n",
       "      <td>70.570000</td>\n",
       "      <td>75.360001</td>\n",
       "      <td>69.430000</td>\n",
       "      <td>74.702499</td>\n",
       "    </tr>\n",
       "  </tbody>\n",
       "</table>\n",
       "</div>"
      ],
      "text/plain": [
       "                 Open       High        Low      Close\n",
       "2020-01-01        NaN        NaN        NaN        NaN\n",
       "2020-01-15  77.962502  78.875000  77.387497  77.834999\n",
       "2020-01-31  80.232498  80.669998  77.072502  77.377502\n",
       "2020-02-14  81.184998  81.495003  80.712502  81.237503\n",
       "2020-03-02  70.570000  75.360001  69.430000  74.702499"
      ]
     },
     "execution_count": 17,
     "metadata": {},
     "output_type": "execute_result"
    }
   ],
   "source": [
    "stockData.reindex(semiMonthsAdjusted).head()"
   ]
  },
  {
   "cell_type": "code",
   "execution_count": 18,
   "id": "9bec95ed",
   "metadata": {},
   "outputs": [
    {
     "data": {
      "text/plain": [
       "<AxesSubplot:>"
      ]
     },
     "execution_count": 18,
     "metadata": {},
     "output_type": "execute_result"
    },
    {
     "data": {
      "image/png": "[encoded data removed]",
      "text/plain": [
       "<Figure size 432x288 with 1 Axes>"
      ]
     },
     "metadata": {
      "needs_background": "light"
     },
     "output_type": "display_data"
    }
   ],
   "source": [
    "stockData.reindex(semiMonthsAdjusted).plot()"
   ]
  },
  {
   "cell_type": "markdown",
   "id": "2717c460",
   "metadata": {},
   "source": [
    "## How to use the resample() method"
   ]
  },
  {
   "cell_type": "code",
   "execution_count": 19,
   "id": "8f085a37",
   "metadata": {},
   "outputs": [
    {
     "data": {
      "text/html": [
       "<div>\n",
       "<style scoped>\n",
       "    .dataframe tbody tr th:only-of-type {\n",
       "        vertical-align: middle;\n",
       "    }\n",
       "\n",
       "    .dataframe tbody tr th {\n",
       "        vertical-align: top;\n",
       "    }\n",
       "\n",
       "    .dataframe thead th {\n",
       "        text-align: right;\n",
       "    }\n",
       "</style>\n",
       "<table border=\"1\" class=\"dataframe\">\n",
       "  <thead>\n",
       "    <tr style=\"text-align: right;\">\n",
       "      <th></th>\n",
       "      <th>acres_burned</th>\n",
       "    </tr>\n",
       "    <tr>\n",
       "      <th>discovery_date</th>\n",
       "      <th></th>\n",
       "    </tr>\n",
       "  </thead>\n",
       "  <tbody>\n",
       "    <tr>\n",
       "      <th>1992-01-01</th>\n",
       "      <td>1280.76</td>\n",
       "    </tr>\n",
       "    <tr>\n",
       "      <th>1992-01-02</th>\n",
       "      <td>122.50</td>\n",
       "    </tr>\n",
       "    <tr>\n",
       "      <th>1992-01-03</th>\n",
       "      <td>526.00</td>\n",
       "    </tr>\n",
       "  </tbody>\n",
       "</table>\n",
       "</div>"
      ],
      "text/plain": [
       "                acres_burned\n",
       "discovery_date              \n",
       "1992-01-01           1280.76\n",
       "1992-01-02            122.50\n",
       "1992-01-03            526.00"
      ]
     },
     "execution_count": 19,
     "metadata": {},
     "output_type": "execute_result"
    }
   ],
   "source": [
    "acresBurned = pd.read_pickle('acresBurned.pkl')\n",
    "acresBurned.head(3)"
   ]
  },
  {
   "cell_type": "code",
   "execution_count": 20,
   "id": "25d3c708",
   "metadata": {},
   "outputs": [
    {
     "data": {
      "text/html": [
       "<div>\n",
       "<style scoped>\n",
       "    .dataframe tbody tr th:only-of-type {\n",
       "        vertical-align: middle;\n",
       "    }\n",
       "\n",
       "    .dataframe tbody tr th {\n",
       "        vertical-align: top;\n",
       "    }\n",
       "\n",
       "    .dataframe thead th {\n",
       "        text-align: right;\n",
       "    }\n",
       "</style>\n",
       "<table border=\"1\" class=\"dataframe\">\n",
       "  <thead>\n",
       "    <tr style=\"text-align: right;\">\n",
       "      <th></th>\n",
       "      <th>acres_burned</th>\n",
       "    </tr>\n",
       "    <tr>\n",
       "      <th>discovery_date</th>\n",
       "      <th></th>\n",
       "    </tr>\n",
       "  </thead>\n",
       "  <tbody>\n",
       "    <tr>\n",
       "      <th>1992-01-31</th>\n",
       "      <td>26779.35</td>\n",
       "    </tr>\n",
       "    <tr>\n",
       "      <th>1992-02-29</th>\n",
       "      <td>73605.86</td>\n",
       "    </tr>\n",
       "    <tr>\n",
       "      <th>1992-03-31</th>\n",
       "      <td>115644.53</td>\n",
       "    </tr>\n",
       "  </tbody>\n",
       "</table>\n",
       "</div>"
      ],
      "text/plain": [
       "                acres_burned\n",
       "discovery_date              \n",
       "1992-01-31          26779.35\n",
       "1992-02-29          73605.86\n",
       "1992-03-31         115644.53"
      ]
     },
     "execution_count": 20,
     "metadata": {},
     "output_type": "execute_result"
    }
   ],
   "source": [
    "acresBurned.resample(rule='M').sum().head(3)"
   ]
  },
  {
   "cell_type": "code",
   "execution_count": 21,
   "id": "371d44d3-681c-4c92-a939-b5b0221fe6ff",
   "metadata": {},
   "outputs": [
    {
     "data": {
      "text/html": [
       "<div>\n",
       "<style scoped>\n",
       "    .dataframe tbody tr th:only-of-type {\n",
       "        vertical-align: middle;\n",
       "    }\n",
       "\n",
       "    .dataframe tbody tr th {\n",
       "        vertical-align: top;\n",
       "    }\n",
       "\n",
       "    .dataframe thead th {\n",
       "        text-align: right;\n",
       "    }\n",
       "</style>\n",
       "<table border=\"1\" class=\"dataframe\">\n",
       "  <thead>\n",
       "    <tr style=\"text-align: right;\">\n",
       "      <th></th>\n",
       "      <th>acres_burned</th>\n",
       "    </tr>\n",
       "    <tr>\n",
       "      <th>discovery_date</th>\n",
       "      <th></th>\n",
       "    </tr>\n",
       "  </thead>\n",
       "  <tbody>\n",
       "    <tr>\n",
       "      <th>1992-01-01 00:00:00</th>\n",
       "      <td>1280.76</td>\n",
       "    </tr>\n",
       "    <tr>\n",
       "      <th>1992-01-01 12:00:00</th>\n",
       "      <td>0.00</td>\n",
       "    </tr>\n",
       "    <tr>\n",
       "      <th>1992-01-02 00:00:00</th>\n",
       "      <td>122.50</td>\n",
       "    </tr>\n",
       "    <tr>\n",
       "      <th>1992-01-02 12:00:00</th>\n",
       "      <td>0.00</td>\n",
       "    </tr>\n",
       "  </tbody>\n",
       "</table>\n",
       "</div>"
      ],
      "text/plain": [
       "                     acres_burned\n",
       "discovery_date                   \n",
       "1992-01-01 00:00:00       1280.76\n",
       "1992-01-01 12:00:00          0.00\n",
       "1992-01-02 00:00:00        122.50\n",
       "1992-01-02 12:00:00          0.00"
      ]
     },
     "execution_count": 21,
     "metadata": {},
     "output_type": "execute_result"
    }
   ],
   "source": [
    "acresBurned.resample(rule='12H').sum().head(4)"
   ]
  },
  {
   "cell_type": "markdown",
   "id": "f5d1b7e8",
   "metadata": {},
   "source": [
    "## How to use the label and closed parameters when you downsample"
   ]
  },
  {
   "cell_type": "code",
   "execution_count": 22,
   "id": "3284abd4-5959-46bd-9041-423b5f6b0254",
   "metadata": {},
   "outputs": [
    {
     "data": {
      "text/html": [
       "<div>\n",
       "<style scoped>\n",
       "    .dataframe tbody tr th:only-of-type {\n",
       "        vertical-align: middle;\n",
       "    }\n",
       "\n",
       "    .dataframe tbody tr th {\n",
       "        vertical-align: top;\n",
       "    }\n",
       "\n",
       "    .dataframe thead th {\n",
       "        text-align: right;\n",
       "    }\n",
       "</style>\n",
       "<table border=\"1\" class=\"dataframe\">\n",
       "  <thead>\n",
       "    <tr style=\"text-align: right;\">\n",
       "      <th></th>\n",
       "      <th>acres_burned</th>\n",
       "    </tr>\n",
       "    <tr>\n",
       "      <th>discovery_date</th>\n",
       "      <th></th>\n",
       "    </tr>\n",
       "  </thead>\n",
       "  <tbody>\n",
       "    <tr>\n",
       "      <th>1992-01-01</th>\n",
       "      <td>1280.76</td>\n",
       "    </tr>\n",
       "    <tr>\n",
       "      <th>1992-01-02</th>\n",
       "      <td>122.50</td>\n",
       "    </tr>\n",
       "    <tr>\n",
       "      <th>1992-01-03</th>\n",
       "      <td>526.00</td>\n",
       "    </tr>\n",
       "  </tbody>\n",
       "</table>\n",
       "</div>"
      ],
      "text/plain": [
       "                acres_burned\n",
       "discovery_date              \n",
       "1992-01-01           1280.76\n",
       "1992-01-02            122.50\n",
       "1992-01-03            526.00"
      ]
     },
     "execution_count": 22,
     "metadata": {},
     "output_type": "execute_result"
    }
   ],
   "source": [
    "acresBurned.head(3)"
   ]
  },
  {
   "cell_type": "code",
   "execution_count": 23,
   "id": "f06eff12",
   "metadata": {},
   "outputs": [
    {
     "data": {
      "text/html": [
       "<div>\n",
       "<style scoped>\n",
       "    .dataframe tbody tr th:only-of-type {\n",
       "        vertical-align: middle;\n",
       "    }\n",
       "\n",
       "    .dataframe tbody tr th {\n",
       "        vertical-align: top;\n",
       "    }\n",
       "\n",
       "    .dataframe thead th {\n",
       "        text-align: right;\n",
       "    }\n",
       "</style>\n",
       "<table border=\"1\" class=\"dataframe\">\n",
       "  <thead>\n",
       "    <tr style=\"text-align: right;\">\n",
       "      <th></th>\n",
       "      <th>acres_burned</th>\n",
       "    </tr>\n",
       "    <tr>\n",
       "      <th>discovery_date</th>\n",
       "      <th></th>\n",
       "    </tr>\n",
       "  </thead>\n",
       "  <tbody>\n",
       "    <tr>\n",
       "      <th>1992-03-31</th>\n",
       "      <td>216029.74</td>\n",
       "    </tr>\n",
       "    <tr>\n",
       "      <th>1992-06-30</th>\n",
       "      <td>485118.67</td>\n",
       "    </tr>\n",
       "    <tr>\n",
       "      <th>1992-09-30</th>\n",
       "      <td>1293714.71</td>\n",
       "    </tr>\n",
       "    <tr>\n",
       "      <th>1992-12-31</th>\n",
       "      <td>129026.79</td>\n",
       "    </tr>\n",
       "    <tr>\n",
       "      <th>1993-03-31</th>\n",
       "      <td>141047.95</td>\n",
       "    </tr>\n",
       "  </tbody>\n",
       "</table>\n",
       "</div>"
      ],
      "text/plain": [
       "                acres_burned\n",
       "discovery_date              \n",
       "1992-03-31         216029.74\n",
       "1992-06-30         485118.67\n",
       "1992-09-30        1293714.71\n",
       "1992-12-31         129026.79\n",
       "1993-03-31         141047.95"
      ]
     },
     "execution_count": 23,
     "metadata": {},
     "output_type": "execute_result"
    }
   ],
   "source": [
    "acresBurned.resample(rule='Q', label='right', closed='right').sum().head()"
   ]
  },
  {
   "cell_type": "code",
   "execution_count": 24,
   "id": "231b8a37",
   "metadata": {},
   "outputs": [
    {
     "data": {
      "text/html": [
       "<div>\n",
       "<style scoped>\n",
       "    .dataframe tbody tr th:only-of-type {\n",
       "        vertical-align: middle;\n",
       "    }\n",
       "\n",
       "    .dataframe tbody tr th {\n",
       "        vertical-align: top;\n",
       "    }\n",
       "\n",
       "    .dataframe thead th {\n",
       "        text-align: right;\n",
       "    }\n",
       "</style>\n",
       "<table border=\"1\" class=\"dataframe\">\n",
       "  <thead>\n",
       "    <tr style=\"text-align: right;\">\n",
       "      <th></th>\n",
       "      <th>acres_burned</th>\n",
       "    </tr>\n",
       "    <tr>\n",
       "      <th>discovery_date</th>\n",
       "      <th></th>\n",
       "    </tr>\n",
       "  </thead>\n",
       "  <tbody>\n",
       "    <tr>\n",
       "      <th>1991-12-31</th>\n",
       "      <td>213086.74</td>\n",
       "    </tr>\n",
       "    <tr>\n",
       "      <th>1992-03-31</th>\n",
       "      <td>487341.67</td>\n",
       "    </tr>\n",
       "    <tr>\n",
       "      <th>1992-06-30</th>\n",
       "      <td>1290628.71</td>\n",
       "    </tr>\n",
       "    <tr>\n",
       "      <th>1992-09-30</th>\n",
       "      <td>132765.79</td>\n",
       "    </tr>\n",
       "    <tr>\n",
       "      <th>1992-12-31</th>\n",
       "      <td>139471.71</td>\n",
       "    </tr>\n",
       "  </tbody>\n",
       "</table>\n",
       "</div>"
      ],
      "text/plain": [
       "                acres_burned\n",
       "discovery_date              \n",
       "1991-12-31         213086.74\n",
       "1992-03-31         487341.67\n",
       "1992-06-30        1290628.71\n",
       "1992-09-30         132765.79\n",
       "1992-12-31         139471.71"
      ]
     },
     "execution_count": 24,
     "metadata": {},
     "output_type": "execute_result"
    }
   ],
   "source": [
    "acresBurned.resample(rule='Q', label='left', closed='left').sum().head()"
   ]
  },
  {
   "cell_type": "markdown",
   "id": "0dfab35c-8cab-4781-a0e9-8e0c575c3a58",
   "metadata": {},
   "source": [
    "## How downsampling can improve plots"
   ]
  },
  {
   "cell_type": "code",
   "execution_count": 25,
   "id": "c5b2e68f-01af-4f07-bc12-9b4522b6843f",
   "metadata": {},
   "outputs": [
    {
     "data": {
      "text/html": [
       "<div>\n",
       "<style scoped>\n",
       "    .dataframe tbody tr th:only-of-type {\n",
       "        vertical-align: middle;\n",
       "    }\n",
       "\n",
       "    .dataframe tbody tr th {\n",
       "        vertical-align: top;\n",
       "    }\n",
       "\n",
       "    .dataframe thead th {\n",
       "        text-align: right;\n",
       "    }\n",
       "</style>\n",
       "<table border=\"1\" class=\"dataframe\">\n",
       "  <thead>\n",
       "    <tr style=\"text-align: right;\">\n",
       "      <th></th>\n",
       "      <th>Open</th>\n",
       "      <th>High</th>\n",
       "      <th>Low</th>\n",
       "      <th>Close</th>\n",
       "    </tr>\n",
       "    <tr>\n",
       "      <th>Date</th>\n",
       "      <th></th>\n",
       "      <th></th>\n",
       "      <th></th>\n",
       "      <th></th>\n",
       "    </tr>\n",
       "  </thead>\n",
       "  <tbody>\n",
       "    <tr>\n",
       "      <th>2020-01-02</th>\n",
       "      <td>74.059998</td>\n",
       "      <td>75.150002</td>\n",
       "      <td>73.797501</td>\n",
       "      <td>75.087502</td>\n",
       "    </tr>\n",
       "    <tr>\n",
       "      <th>2020-01-03</th>\n",
       "      <td>74.287498</td>\n",
       "      <td>75.144997</td>\n",
       "      <td>74.125000</td>\n",
       "      <td>74.357498</td>\n",
       "    </tr>\n",
       "  </tbody>\n",
       "</table>\n",
       "</div>"
      ],
      "text/plain": [
       "                 Open       High        Low      Close\n",
       "Date                                                  \n",
       "2020-01-02  74.059998  75.150002  73.797501  75.087502\n",
       "2020-01-03  74.287498  75.144997  74.125000  74.357498"
      ]
     },
     "execution_count": 25,
     "metadata": {},
     "output_type": "execute_result"
    }
   ],
   "source": [
    "stockData.head(2)"
   ]
  },
  {
   "cell_type": "code",
   "execution_count": 26,
   "id": "e4490337-69fa-4cac-8b45-cb1f20632e39",
   "metadata": {},
   "outputs": [
    {
     "data": {
      "text/plain": [
       "<AxesSubplot:xlabel='Date'>"
      ]
     },
     "execution_count": 26,
     "metadata": {},
     "output_type": "execute_result"
    },
    {
     "data": {
      "image/png": "[encoded data removed]",
      "text/plain": [
       "<Figure size 432x288 with 1 Axes>"
      ]
     },
     "metadata": {
      "needs_background": "light"
     },
     "output_type": "display_data"
    }
   ],
   "source": [
    "stockData.plot(y='Close')"
   ]
  },
  {
   "cell_type": "code",
   "execution_count": 27,
   "id": "6e65b9c5-5e92-431a-a980-b3884e053566",
   "metadata": {},
   "outputs": [
    {
     "data": {
      "text/plain": [
       "<AxesSubplot:xlabel='Date'>"
      ]
     },
     "execution_count": 27,
     "metadata": {},
     "output_type": "execute_result"
    },
    {
     "data": {
      "image/png": "[encoded data removed]",
      "text/plain": [
       "<Figure size 432x288 with 1 Axes>"
      ]
     },
     "metadata": {
      "needs_background": "light"
     },
     "output_type": "display_data"
    }
   ],
   "source": [
    "stockData.resample(rule='W').mean().plot(y='Close')"
   ]
  },
  {
   "cell_type": "markdown",
   "id": "0698a89c",
   "metadata": {},
   "source": [
    "## The concept of rolling windows"
   ]
  },
  {
   "cell_type": "code",
   "execution_count": 28,
   "id": "73b3efa5",
   "metadata": {},
   "outputs": [
    {
     "data": {
      "image/png": "[encoded data removed]",
      "text/plain": [
       "<Figure size 419.125x360 with 1 Axes>"
      ]
     },
     "metadata": {
      "needs_background": "light"
     },
     "output_type": "display_data"
    }
   ],
   "source": [
    "df = stockData[['High','Low']].query('Date <= \"01/31/2020\"')\n",
    "\n",
    "g = sns.relplot(data=df, kind='line', markers=True)\n",
    "for ax in g.axes.flat:\n",
    "    ax.tick_params('x',labelrotation=90)\n",
    "    ax.set_xticks(pd.date_range(start='01/02/2020', end='01/31/2020', \n",
    "                                freq='B'))\n",
    "    ax.set_xticklabels(pd.date_range(start='01/02/2020', end='01/31/2020', \n",
    "                                     freq='B').strftime('%m-%d'))"
   ]
  },
  {
   "cell_type": "code",
   "execution_count": 29,
   "id": "0d710285-4850-4d8f-84dd-650c3f70e3c4",
   "metadata": {},
   "outputs": [
    {
     "data": {
      "image/png": "[encoded data removed]",
      "text/plain": [
       "<Figure size 419.125x360 with 1 Axes>"
      ]
     },
     "metadata": {
      "needs_background": "light"
     },
     "output_type": "display_data"
    }
   ],
   "source": [
    "df = stockData[['High','Low']].query('Date <= \"01/31/2020\"') \\\n",
    "                              .rolling(window=7, min_periods=7).mean()\n",
    "\n",
    "g = sns.relplot(data=df, kind='line', markers=True)\n",
    "for ax in g.axes.flat:\n",
    "    ax.tick_params('x',labelrotation=90)\n",
    "    ax.set_xticks(pd.date_range(start='01/02/2020', end='01/31/2020', \n",
    "                                freq='B'))\n",
    "    ax.set_xticklabels(pd.date_range(start='01/02/2020', end='01/31/2020', \n",
    "                                     freq='B').strftime('%m-%d'))"
   ]
  },
  {
   "cell_type": "markdown",
   "id": "6736b38d-c052-41ec-8838-a0ad4d01ed02",
   "metadata": {},
   "source": [
    "## How to create rolling windows"
   ]
  },
  {
   "cell_type": "code",
   "execution_count": 30,
   "id": "6868b6f3",
   "metadata": {},
   "outputs": [
    {
     "data": {
      "text/html": [
       "<div>\n",
       "<style scoped>\n",
       "    .dataframe tbody tr th:only-of-type {\n",
       "        vertical-align: middle;\n",
       "    }\n",
       "\n",
       "    .dataframe tbody tr th {\n",
       "        vertical-align: top;\n",
       "    }\n",
       "\n",
       "    .dataframe thead th {\n",
       "        text-align: right;\n",
       "    }\n",
       "</style>\n",
       "<table border=\"1\" class=\"dataframe\">\n",
       "  <thead>\n",
       "    <tr style=\"text-align: right;\">\n",
       "      <th></th>\n",
       "      <th>High</th>\n",
       "      <th>Low</th>\n",
       "    </tr>\n",
       "    <tr>\n",
       "      <th>Date</th>\n",
       "      <th></th>\n",
       "      <th></th>\n",
       "    </tr>\n",
       "  </thead>\n",
       "  <tbody>\n",
       "    <tr>\n",
       "      <th>2020-01-02</th>\n",
       "      <td>NaN</td>\n",
       "      <td>NaN</td>\n",
       "    </tr>\n",
       "    <tr>\n",
       "      <th>2020-01-03</th>\n",
       "      <td>NaN</td>\n",
       "      <td>NaN</td>\n",
       "    </tr>\n",
       "    <tr>\n",
       "      <th>2020-01-06</th>\n",
       "      <td>NaN</td>\n",
       "      <td>NaN</td>\n",
       "    </tr>\n",
       "    <tr>\n",
       "      <th>2020-01-07</th>\n",
       "      <td>NaN</td>\n",
       "      <td>NaN</td>\n",
       "    </tr>\n",
       "    <tr>\n",
       "      <th>2020-01-08</th>\n",
       "      <td>NaN</td>\n",
       "      <td>NaN</td>\n",
       "    </tr>\n",
       "    <tr>\n",
       "      <th>2020-01-09</th>\n",
       "      <td>NaN</td>\n",
       "      <td>NaN</td>\n",
       "    </tr>\n",
       "    <tr>\n",
       "      <th>2020-01-10</th>\n",
       "      <td>76.056428</td>\n",
       "      <td>74.768930</td>\n",
       "    </tr>\n",
       "    <tr>\n",
       "      <th>2020-01-13</th>\n",
       "      <td>76.644642</td>\n",
       "      <td>75.338929</td>\n",
       "    </tr>\n",
       "  </tbody>\n",
       "</table>\n",
       "</div>"
      ],
      "text/plain": [
       "                 High        Low\n",
       "Date                            \n",
       "2020-01-02        NaN        NaN\n",
       "2020-01-03        NaN        NaN\n",
       "2020-01-06        NaN        NaN\n",
       "2020-01-07        NaN        NaN\n",
       "2020-01-08        NaN        NaN\n",
       "2020-01-09        NaN        NaN\n",
       "2020-01-10  76.056428  74.768930\n",
       "2020-01-13  76.644642  75.338929"
      ]
     },
     "execution_count": 30,
     "metadata": {},
     "output_type": "execute_result"
    }
   ],
   "source": [
    "df = stockData[['High','Low']]. \\\n",
    "    query('Date <= \"01/31/2020\"').rolling(window=7).mean()\n",
    "df.head(8)"
   ]
  },
  {
   "cell_type": "code",
   "execution_count": 31,
   "id": "f95ee1c2",
   "metadata": {},
   "outputs": [
    {
     "data": {
      "text/html": [
       "<div>\n",
       "<style scoped>\n",
       "    .dataframe tbody tr th:only-of-type {\n",
       "        vertical-align: middle;\n",
       "    }\n",
       "\n",
       "    .dataframe tbody tr th {\n",
       "        vertical-align: top;\n",
       "    }\n",
       "\n",
       "    .dataframe thead th {\n",
       "        text-align: right;\n",
       "    }\n",
       "</style>\n",
       "<table border=\"1\" class=\"dataframe\">\n",
       "  <thead>\n",
       "    <tr style=\"text-align: right;\">\n",
       "      <th></th>\n",
       "      <th>High</th>\n",
       "      <th>Low</th>\n",
       "    </tr>\n",
       "    <tr>\n",
       "      <th>Date</th>\n",
       "      <th></th>\n",
       "      <th></th>\n",
       "    </tr>\n",
       "  </thead>\n",
       "  <tbody>\n",
       "    <tr>\n",
       "      <th>2020-01-02</th>\n",
       "      <td>75.150002</td>\n",
       "      <td>73.797501</td>\n",
       "    </tr>\n",
       "    <tr>\n",
       "      <th>2020-01-03</th>\n",
       "      <td>75.147500</td>\n",
       "      <td>73.961251</td>\n",
       "    </tr>\n",
       "    <tr>\n",
       "      <th>2020-01-06</th>\n",
       "      <td>75.094999</td>\n",
       "      <td>73.703334</td>\n",
       "    </tr>\n",
       "    <tr>\n",
       "      <th>2020-01-07</th>\n",
       "      <td>75.127499</td>\n",
       "      <td>73.870001</td>\n",
       "    </tr>\n",
       "    <tr>\n",
       "      <th>2020-01-08</th>\n",
       "      <td>75.323999</td>\n",
       "      <td>73.954001</td>\n",
       "    </tr>\n",
       "    <tr>\n",
       "      <th>2020-01-09</th>\n",
       "      <td>75.704582</td>\n",
       "      <td>74.386668</td>\n",
       "    </tr>\n",
       "    <tr>\n",
       "      <th>2020-01-10</th>\n",
       "      <td>76.056428</td>\n",
       "      <td>74.768930</td>\n",
       "    </tr>\n",
       "    <tr>\n",
       "      <th>2020-01-13</th>\n",
       "      <td>76.644642</td>\n",
       "      <td>75.338929</td>\n",
       "    </tr>\n",
       "  </tbody>\n",
       "</table>\n",
       "</div>"
      ],
      "text/plain": [
       "                 High        Low\n",
       "Date                            \n",
       "2020-01-02  75.150002  73.797501\n",
       "2020-01-03  75.147500  73.961251\n",
       "2020-01-06  75.094999  73.703334\n",
       "2020-01-07  75.127499  73.870001\n",
       "2020-01-08  75.323999  73.954001\n",
       "2020-01-09  75.704582  74.386668\n",
       "2020-01-10  76.056428  74.768930\n",
       "2020-01-13  76.644642  75.338929"
      ]
     },
     "execution_count": 31,
     "metadata": {},
     "output_type": "execute_result"
    }
   ],
   "source": [
    "df = stockData[['High','Low']]. \\\n",
    "    query('Date <= \"01/31/2020\"').rolling(window=7, min_periods=1).mean()\n",
    "df.head(8)"
   ]
  },
  {
   "cell_type": "markdown",
   "id": "7fd51ea4-6b77-4ff7-b284-2363bb58616d",
   "metadata": {},
   "source": [
    "## How to plot rolling window data"
   ]
  },
  {
   "cell_type": "code",
   "execution_count": 32,
   "id": "52124ab5-11b9-4fc4-83a7-9065730d7ee0",
   "metadata": {},
   "outputs": [
    {
     "data": {
      "image/png": "[encoded data removed]",
      "text/plain": [
       "<Figure size 419.125x360 with 1 Axes>"
      ]
     },
     "metadata": {
      "needs_background": "light"
     },
     "output_type": "display_data"
    }
   ],
   "source": [
    "df = stockData[['High','Low']]. \\\n",
    "    query('Date <= \"01/31/2020\"').rolling(window=7, min_periods=7).mean()\n",
    "\n",
    "g = sns.relplot(data=df, kind='line', markers=True)\n",
    "for ax in g.axes.flat:\n",
    "    ax.tick_params('x', labelrotation=90)\n",
    "    ax.set_xticks(pd.date_range(start='01/10/2020', end='01/31/2020',\n",
    "        freq='B'))\n",
    "    ax.set_xticklabels(pd.date_range(start='01/10/2020', end='01/31/2020',\n",
    "        freq='B').strftime('%Y-%m-%d'))"
   ]
  },
  {
   "cell_type": "markdown",
   "id": "85ba2047",
   "metadata": {},
   "source": [
    "## How to create running totals"
   ]
  },
  {
   "cell_type": "code",
   "execution_count": 33,
   "id": "aa9a8efe",
   "metadata": {},
   "outputs": [
    {
     "data": {
      "text/html": [
       "<div>\n",
       "<style scoped>\n",
       "    .dataframe tbody tr th:only-of-type {\n",
       "        vertical-align: middle;\n",
       "    }\n",
       "\n",
       "    .dataframe tbody tr th {\n",
       "        vertical-align: top;\n",
       "    }\n",
       "\n",
       "    .dataframe thead th {\n",
       "        text-align: right;\n",
       "    }\n",
       "</style>\n",
       "<table border=\"1\" class=\"dataframe\">\n",
       "  <thead>\n",
       "    <tr style=\"text-align: right;\">\n",
       "      <th></th>\n",
       "      <th>acres_burned</th>\n",
       "    </tr>\n",
       "    <tr>\n",
       "      <th>discovery_date</th>\n",
       "      <th></th>\n",
       "    </tr>\n",
       "  </thead>\n",
       "  <tbody>\n",
       "    <tr>\n",
       "      <th>1992-01-01</th>\n",
       "      <td>1280.76</td>\n",
       "    </tr>\n",
       "    <tr>\n",
       "      <th>1992-01-02</th>\n",
       "      <td>122.50</td>\n",
       "    </tr>\n",
       "    <tr>\n",
       "      <th>1992-01-03</th>\n",
       "      <td>526.00</td>\n",
       "    </tr>\n",
       "    <tr>\n",
       "      <th>1992-01-04</th>\n",
       "      <td>1150.13</td>\n",
       "    </tr>\n",
       "    <tr>\n",
       "      <th>1992-01-05</th>\n",
       "      <td>408.00</td>\n",
       "    </tr>\n",
       "  </tbody>\n",
       "</table>\n",
       "</div>"
      ],
      "text/plain": [
       "                acres_burned\n",
       "discovery_date              \n",
       "1992-01-01           1280.76\n",
       "1992-01-02            122.50\n",
       "1992-01-03            526.00\n",
       "1992-01-04           1150.13\n",
       "1992-01-05            408.00"
      ]
     },
     "execution_count": 33,
     "metadata": {},
     "output_type": "execute_result"
    }
   ],
   "source": [
    "acresBurned = pd.read_pickle('acresBurned.pkl')\n",
    "acresBurned.head()"
   ]
  },
  {
   "cell_type": "code",
   "execution_count": 34,
   "id": "abd98bf8",
   "metadata": {},
   "outputs": [
    {
     "data": {
      "text/html": [
       "<div>\n",
       "<style scoped>\n",
       "    .dataframe tbody tr th:only-of-type {\n",
       "        vertical-align: middle;\n",
       "    }\n",
       "\n",
       "    .dataframe tbody tr th {\n",
       "        vertical-align: top;\n",
       "    }\n",
       "\n",
       "    .dataframe thead th {\n",
       "        text-align: right;\n",
       "    }\n",
       "</style>\n",
       "<table border=\"1\" class=\"dataframe\">\n",
       "  <thead>\n",
       "    <tr style=\"text-align: right;\">\n",
       "      <th></th>\n",
       "      <th>acres_burned</th>\n",
       "      <th>running_total</th>\n",
       "    </tr>\n",
       "    <tr>\n",
       "      <th>discovery_date</th>\n",
       "      <th></th>\n",
       "      <th></th>\n",
       "    </tr>\n",
       "  </thead>\n",
       "  <tbody>\n",
       "    <tr>\n",
       "      <th>1992-01-01</th>\n",
       "      <td>1280.76</td>\n",
       "      <td>1280.76</td>\n",
       "    </tr>\n",
       "    <tr>\n",
       "      <th>1992-01-02</th>\n",
       "      <td>122.50</td>\n",
       "      <td>1403.26</td>\n",
       "    </tr>\n",
       "    <tr>\n",
       "      <th>1992-01-03</th>\n",
       "      <td>526.00</td>\n",
       "      <td>1929.26</td>\n",
       "    </tr>\n",
       "    <tr>\n",
       "      <th>1992-01-04</th>\n",
       "      <td>1150.13</td>\n",
       "      <td>3079.39</td>\n",
       "    </tr>\n",
       "    <tr>\n",
       "      <th>1992-01-05</th>\n",
       "      <td>408.00</td>\n",
       "      <td>3487.39</td>\n",
       "    </tr>\n",
       "  </tbody>\n",
       "</table>\n",
       "</div>"
      ],
      "text/plain": [
       "                acres_burned  running_total\n",
       "discovery_date                             \n",
       "1992-01-01           1280.76        1280.76\n",
       "1992-01-02            122.50        1403.26\n",
       "1992-01-03            526.00        1929.26\n",
       "1992-01-04           1150.13        3079.39\n",
       "1992-01-05            408.00        3487.39"
      ]
     },
     "execution_count": 34,
     "metadata": {},
     "output_type": "execute_result"
    }
   ],
   "source": [
    "acresBurned['running_total'] = acresBurned.expanding().sum()\n",
    "acresBurned.head()"
   ]
  },
  {
   "cell_type": "markdown",
   "id": "00213cbd",
   "metadata": {},
   "source": [
    "## How to plot the running totals"
   ]
  },
  {
   "cell_type": "code",
   "execution_count": 35,
   "id": "2e870f05-81cf-4381-9f9b-ac444db758f9",
   "metadata": {},
   "outputs": [],
   "source": [
    "# get the first 10 days\n",
    "acresBurned = acresBurned.head(10)"
   ]
  },
  {
   "cell_type": "code",
   "execution_count": 36,
   "id": "623da872-ab60-4863-b1b8-20612c7dc02c",
   "metadata": {},
   "outputs": [
    {
     "data": {
      "text/html": [
       "<div>\n",
       "<style scoped>\n",
       "    .dataframe tbody tr th:only-of-type {\n",
       "        vertical-align: middle;\n",
       "    }\n",
       "\n",
       "    .dataframe tbody tr th {\n",
       "        vertical-align: top;\n",
       "    }\n",
       "\n",
       "    .dataframe thead th {\n",
       "        text-align: right;\n",
       "    }\n",
       "</style>\n",
       "<table border=\"1\" class=\"dataframe\">\n",
       "  <thead>\n",
       "    <tr style=\"text-align: right;\">\n",
       "      <th></th>\n",
       "      <th>discovery_date</th>\n",
       "      <th>acres_burned</th>\n",
       "      <th>running_total</th>\n",
       "    </tr>\n",
       "  </thead>\n",
       "  <tbody>\n",
       "    <tr>\n",
       "      <th>0</th>\n",
       "      <td>1992-01-01</td>\n",
       "      <td>1280.76</td>\n",
       "      <td>1280.76</td>\n",
       "    </tr>\n",
       "    <tr>\n",
       "      <th>1</th>\n",
       "      <td>1992-01-02</td>\n",
       "      <td>122.50</td>\n",
       "      <td>1403.26</td>\n",
       "    </tr>\n",
       "    <tr>\n",
       "      <th>2</th>\n",
       "      <td>1992-01-03</td>\n",
       "      <td>526.00</td>\n",
       "      <td>1929.26</td>\n",
       "    </tr>\n",
       "  </tbody>\n",
       "</table>\n",
       "</div>"
      ],
      "text/plain": [
       "  discovery_date  acres_burned  running_total\n",
       "0     1992-01-01       1280.76        1280.76\n",
       "1     1992-01-02        122.50        1403.26\n",
       "2     1992-01-03        526.00        1929.26"
      ]
     },
     "execution_count": 36,
     "metadata": {},
     "output_type": "execute_result"
    }
   ],
   "source": [
    "acresBurned.reset_index(inplace=True)\n",
    "acresBurned.head(3)"
   ]
  },
  {
   "cell_type": "code",
   "execution_count": 37,
   "id": "4b9d4d55",
   "metadata": {},
   "outputs": [
    {
     "data": {
      "text/html": [
       "<div>\n",
       "<style scoped>\n",
       "    .dataframe tbody tr th:only-of-type {\n",
       "        vertical-align: middle;\n",
       "    }\n",
       "\n",
       "    .dataframe tbody tr th {\n",
       "        vertical-align: top;\n",
       "    }\n",
       "\n",
       "    .dataframe thead th {\n",
       "        text-align: right;\n",
       "    }\n",
       "</style>\n",
       "<table border=\"1\" class=\"dataframe\">\n",
       "  <thead>\n",
       "    <tr style=\"text-align: right;\">\n",
       "      <th></th>\n",
       "      <th>discovery_date</th>\n",
       "      <th>value_type</th>\n",
       "      <th>value</th>\n",
       "    </tr>\n",
       "  </thead>\n",
       "  <tbody>\n",
       "    <tr>\n",
       "      <th>0</th>\n",
       "      <td>1992-01-01</td>\n",
       "      <td>acres_burned</td>\n",
       "      <td>1280.76</td>\n",
       "    </tr>\n",
       "    <tr>\n",
       "      <th>1</th>\n",
       "      <td>1992-01-02</td>\n",
       "      <td>acres_burned</td>\n",
       "      <td>122.50</td>\n",
       "    </tr>\n",
       "    <tr>\n",
       "      <th>2</th>\n",
       "      <td>1992-01-03</td>\n",
       "      <td>acres_burned</td>\n",
       "      <td>526.00</td>\n",
       "    </tr>\n",
       "  </tbody>\n",
       "</table>\n",
       "</div>"
      ],
      "text/plain": [
       "  discovery_date    value_type    value\n",
       "0     1992-01-01  acres_burned  1280.76\n",
       "1     1992-01-02  acres_burned   122.50\n",
       "2     1992-01-03  acres_burned   526.00"
      ]
     },
     "execution_count": 37,
     "metadata": {},
     "output_type": "execute_result"
    }
   ],
   "source": [
    "acresMelted = pd.melt(acresBurned, id_vars='discovery_date', \n",
    "              value_vars=['acres_burned','running_total'], var_name='value_type')\n",
    "acresMelted.head(3)"
   ]
  },
  {
   "cell_type": "code",
   "execution_count": 38,
   "id": "cd9f7d77",
   "metadata": {},
   "outputs": [
    {
     "data": {
      "image/png": "[encoded data removed]",
      "text/plain": [
       "<Figure size 643.375x360 with 1 Axes>"
      ]
     },
     "metadata": {
      "needs_background": "light"
     },
     "output_type": "display_data"
    }
   ],
   "source": [
    "g = sns.catplot(data=acresMelted, kind='bar', \n",
    "                x='discovery_date', y='value', hue='value_type', aspect=1.5)\n",
    "for ax in g.axes.flat:\n",
    "    ax.tick_params('x', labelrotation=90)\n",
    "    ax.set_xticklabels(acresMelted.discovery_date.drop_duplicates().astype(str))"
   ]
  },
  {
   "cell_type": "code",
   "execution_count": null,
   "id": "dead8858",
   "metadata": {},
   "outputs": [],
   "source": []
  }
 ],
 "metadata": {
  "kernelspec": {
   "display_name": "Python 3",
   "language": "python",
   "name": "python3"
  },
  "language_info": {
   "codemirror_mode": {
    "name": "ipython",
    "version": 3
   },
   "file_extension": ".py",
   "mimetype": "text/x-python",
   "name": "python",
   "nbconvert_exporter": "python",
   "pygments_lexer": "ipython3",
   "version": "3.8.8"
  }
 },
 "nbformat": 4,
 "nbformat_minor": 5
}
