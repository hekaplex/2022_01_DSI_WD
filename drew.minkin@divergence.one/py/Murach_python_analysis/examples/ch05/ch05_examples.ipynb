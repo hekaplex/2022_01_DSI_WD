{
 "cells": [
  {
   "cell_type": "markdown",
   "metadata": {},
   "source": [
    "# Chapter 5: How to get the data"
   ]
  },
  {
   "cell_type": "raw",
   "metadata": {},
   "source": [
    "Before you run the examples in this Notebook, make sure you run this Notebook:\n",
    "\n",
    "python_analysis/data/download_more_data.ipynb\n",
    "\n",
    "This is described in appendixes A and B, and it downloads several large data files that are used by this Notebook."
   ]
  },
  {
   "cell_type": "code",
   "execution_count": 1,
   "metadata": {},
   "outputs": [],
   "source": [
    "import pandas as pd"
   ]
  },
  {
   "cell_type": "markdown",
   "metadata": {},
   "source": [
    "## How to import a CSV file from a website"
   ]
  },
  {
   "cell_type": "code",
   "execution_count": 2,
   "metadata": {},
   "outputs": [],
   "source": [
    "mortality_url = \"https://data.cdc.gov/api/views/v6ab-adf5/rows.csv?accessType=DOWNLOAD\"\n",
    "mortality_data = pd.read_csv(mortality_url)"
   ]
  },
  {
   "cell_type": "markdown",
   "metadata": {},
   "source": [
    "## How to import the first sheet of an Excel file"
   ]
  },
  {
   "cell_type": "code",
   "execution_count": 3,
   "metadata": {},
   "outputs": [],
   "source": [
    "# NOTE: This code example is presented later in this Notebook, after the Excel file has been downloaded"
   ]
  },
  {
   "cell_type": "markdown",
   "metadata": {},
   "source": [
    "## How to download a file to disk before importing it"
   ]
  },
  {
   "cell_type": "code",
   "execution_count": 4,
   "metadata": {},
   "outputs": [
    {
     "data": {
      "text/plain": [
       "('president_polls_2016.csv', <http.client.HTTPMessage at 0x241aca67850>)"
      ]
     },
     "execution_count": 4,
     "metadata": {},
     "output_type": "execute_result"
    }
   ],
   "source": [
    "from urllib import request\n",
    "polls_url = \\\n",
    "    'http://projects.fivethirtyeight.com/general-model/president_general_polls_2016.csv'\n",
    "request.urlretrieve(polls_url, filename='president_polls_2016.csv')"
   ]
  },
  {
   "cell_type": "code",
   "execution_count": 5,
   "metadata": {},
   "outputs": [
    {
     "data": {
      "text/html": [
       "<div>\n",
       "<style scoped>\n",
       "    .dataframe tbody tr th:only-of-type {\n",
       "        vertical-align: middle;\n",
       "    }\n",
       "\n",
       "    .dataframe tbody tr th {\n",
       "        vertical-align: top;\n",
       "    }\n",
       "\n",
       "    .dataframe thead th {\n",
       "        text-align: right;\n",
       "    }\n",
       "</style>\n",
       "<table border=\"1\" class=\"dataframe\">\n",
       "  <thead>\n",
       "    <tr style=\"text-align: right;\">\n",
       "      <th></th>\n",
       "      <th>cycle</th>\n",
       "      <th>branch</th>\n",
       "      <th>type</th>\n",
       "      <th>matchup</th>\n",
       "      <th>forecastdate</th>\n",
       "      <th>state</th>\n",
       "      <th>startdate</th>\n",
       "      <th>enddate</th>\n",
       "      <th>pollster</th>\n",
       "      <th>grade</th>\n",
       "      <th>...</th>\n",
       "      <th>adjpoll_clinton</th>\n",
       "      <th>adjpoll_trump</th>\n",
       "      <th>adjpoll_johnson</th>\n",
       "      <th>adjpoll_mcmullin</th>\n",
       "      <th>multiversions</th>\n",
       "      <th>url</th>\n",
       "      <th>poll_id</th>\n",
       "      <th>question_id</th>\n",
       "      <th>createddate</th>\n",
       "      <th>timestamp</th>\n",
       "    </tr>\n",
       "  </thead>\n",
       "  <tbody>\n",
       "    <tr>\n",
       "      <th>0</th>\n",
       "      <td>2016</td>\n",
       "      <td>President</td>\n",
       "      <td>polls-plus</td>\n",
       "      <td>Clinton vs. Trump vs. Johnson</td>\n",
       "      <td>11/8/16</td>\n",
       "      <td>U.S.</td>\n",
       "      <td>11/3/2016</td>\n",
       "      <td>11/6/2016</td>\n",
       "      <td>ABC News/Washington Post</td>\n",
       "      <td>A+</td>\n",
       "      <td>...</td>\n",
       "      <td>45.20163</td>\n",
       "      <td>41.72430</td>\n",
       "      <td>4.626221</td>\n",
       "      <td>NaN</td>\n",
       "      <td>NaN</td>\n",
       "      <td>https://www.washingtonpost.com/news/the-fix/wp...</td>\n",
       "      <td>48630</td>\n",
       "      <td>76192</td>\n",
       "      <td>11/7/16</td>\n",
       "      <td>09:35:33  8 Nov 2016</td>\n",
       "    </tr>\n",
       "    <tr>\n",
       "      <th>1</th>\n",
       "      <td>2016</td>\n",
       "      <td>President</td>\n",
       "      <td>polls-plus</td>\n",
       "      <td>Clinton vs. Trump vs. Johnson</td>\n",
       "      <td>11/8/16</td>\n",
       "      <td>U.S.</td>\n",
       "      <td>11/1/2016</td>\n",
       "      <td>11/7/2016</td>\n",
       "      <td>Google Consumer Surveys</td>\n",
       "      <td>B</td>\n",
       "      <td>...</td>\n",
       "      <td>43.34557</td>\n",
       "      <td>41.21439</td>\n",
       "      <td>5.175792</td>\n",
       "      <td>NaN</td>\n",
       "      <td>NaN</td>\n",
       "      <td>https://datastudio.google.com/u/0/#/org//repor...</td>\n",
       "      <td>48847</td>\n",
       "      <td>76443</td>\n",
       "      <td>11/7/16</td>\n",
       "      <td>09:35:33  8 Nov 2016</td>\n",
       "    </tr>\n",
       "  </tbody>\n",
       "</table>\n",
       "<p>2 rows × 27 columns</p>\n",
       "</div>"
      ],
      "text/plain": [
       "   cycle     branch        type                        matchup forecastdate  \\\n",
       "0   2016  President  polls-plus  Clinton vs. Trump vs. Johnson      11/8/16   \n",
       "1   2016  President  polls-plus  Clinton vs. Trump vs. Johnson      11/8/16   \n",
       "\n",
       "  state  startdate    enddate                  pollster grade  ...  \\\n",
       "0  U.S.  11/3/2016  11/6/2016  ABC News/Washington Post    A+  ...   \n",
       "1  U.S.  11/1/2016  11/7/2016   Google Consumer Surveys     B  ...   \n",
       "\n",
       "   adjpoll_clinton adjpoll_trump  adjpoll_johnson  adjpoll_mcmullin  \\\n",
       "0         45.20163      41.72430         4.626221               NaN   \n",
       "1         43.34557      41.21439         5.175792               NaN   \n",
       "\n",
       "   multiversions                                                url  poll_id  \\\n",
       "0            NaN  https://www.washingtonpost.com/news/the-fix/wp...    48630   \n",
       "1            NaN  https://datastudio.google.com/u/0/#/org//repor...    48847   \n",
       "\n",
       "   question_id  createddate             timestamp  \n",
       "0        76192      11/7/16  09:35:33  8 Nov 2016  \n",
       "1        76443      11/7/16  09:35:33  8 Nov 2016  \n",
       "\n",
       "[2 rows x 27 columns]"
      ]
     },
     "execution_count": 5,
     "metadata": {},
     "output_type": "execute_result"
    }
   ],
   "source": [
    "polls = pd.read_csv('president_polls_2016.csv')\n",
    "polls.head(2)"
   ]
  },
  {
   "cell_type": "markdown",
   "metadata": {},
   "source": [
    "## How to work with a zip file on disk"
   ]
  },
  {
   "cell_type": "markdown",
   "metadata": {},
   "source": [
    "### Download the zip file to disk"
   ]
  },
  {
   "cell_type": "code",
   "execution_count": 6,
   "metadata": {},
   "outputs": [
    {
     "data": {
      "text/plain": [
       "('oesm18all.zip', <http.client.HTTPMessage at 0x241acaad700>)"
      ]
     },
     "execution_count": 6,
     "metadata": {},
     "output_type": "execute_result"
    }
   ],
   "source": [
    "# NOTE: This code may take a long time to run\n",
    "from urllib import request\n",
    "zip_url = 'https://www.bls.gov/oes/special.requests/oesm18all.zip'\n",
    "request.urlretrieve(zip_url, filename='oesm18all.zip')"
   ]
  },
  {
   "cell_type": "markdown",
   "metadata": {},
   "source": [
    "### Extract the files and list their names"
   ]
  },
  {
   "cell_type": "code",
   "execution_count": 7,
   "metadata": {},
   "outputs": [
    {
     "name": "stdout",
     "output_type": "stream",
     "text": [
      "oesm18all/all_data_M_2018.xlsx 70296790 71834374\n"
     ]
    }
   ],
   "source": [
    "from zipfile import ZipFile\n",
    "file_names = list() \n",
    "with ZipFile('oesm18all.zip', mode='r') as zip:\n",
    "    zip.extractall()\n",
    "    for file in zip.infolist():\n",
    "        file_names.append(file.filename)\n",
    "        print(file.filename, file.compress_size, file.file_size)"
   ]
  },
  {
   "cell_type": "markdown",
   "metadata": {},
   "source": [
    "### Two ways to read an extracted file into a DataFrame"
   ]
  },
  {
   "cell_type": "code",
   "execution_count": 8,
   "metadata": {},
   "outputs": [],
   "source": [
    "# NOTE: This code may take a long time to run\n",
    "jobs = pd.read_excel(\"oesm18all/all_data_M_2018.xlsx\")"
   ]
  },
  {
   "cell_type": "code",
   "execution_count": 9,
   "metadata": {},
   "outputs": [],
   "source": [
    "# NOTE: This code may take a long time to run\n",
    "jobs = pd.read_excel(file_names[0])"
   ]
  },
  {
   "cell_type": "markdown",
   "metadata": {},
   "source": [
    "## How to run queries against a database"
   ]
  },
  {
   "cell_type": "code",
   "execution_count": 10,
   "metadata": {},
   "outputs": [],
   "source": [
    "import sqlite3\n",
    "fires_con = sqlite3.connect('../../data/Data/FPA_FOD_20170508.sqlite')\n",
    "fires_cur = fires_con.cursor()"
   ]
  },
  {
   "cell_type": "code",
   "execution_count": 11,
   "metadata": {},
   "outputs": [
    {
     "data": {
      "text/plain": [
       "[('spatial_ref_sys',),\n",
       " ('spatialite_history',),\n",
       " ('sqlite_sequence',),\n",
       " ('geometry_columns',),\n",
       " ('spatial_ref_sys_aux',),\n",
       " ('views_geometry_columns',),\n",
       " ('virts_geometry_columns',),\n",
       " ('geometry_columns_statistics',),\n",
       " ('views_geometry_columns_statistics',),\n",
       " ('virts_geometry_columns_statistics',),\n",
       " ('geometry_columns_field_infos',),\n",
       " ('views_geometry_columns_field_infos',),\n",
       " ('virts_geometry_columns_field_infos',),\n",
       " ('geometry_columns_time',),\n",
       " ('geometry_columns_auth',),\n",
       " ('views_geometry_columns_auth',),\n",
       " ('virts_geometry_columns_auth',),\n",
       " ('sql_statements_log',),\n",
       " ('SpatialIndex',),\n",
       " ('ElementaryGeometries',),\n",
       " ('KNN',),\n",
       " ('Fires',),\n",
       " ('idx_Fires_Shape',),\n",
       " ('idx_Fires_Shape_node',),\n",
       " ('idx_Fires_Shape_rowid',),\n",
       " ('idx_Fires_Shape_parent',),\n",
       " ('NWCG_UnitIDActive_20170109',)]"
      ]
     },
     "execution_count": 11,
     "metadata": {},
     "output_type": "execute_result"
    }
   ],
   "source": [
    "fires_cur.execute(\n",
    "    'SELECT name FROM sqlite_master WHERE type=\"table\"').fetchall()"
   ]
  },
  {
   "cell_type": "markdown",
   "metadata": {},
   "source": [
    "## How to use a SQL query to import data into a DataFrame"
   ]
  },
  {
   "cell_type": "markdown",
   "metadata": {},
   "source": [
    "### Get information about a table"
   ]
  },
  {
   "cell_type": "code",
   "execution_count": 12,
   "metadata": {},
   "outputs": [
    {
     "data": {
      "text/plain": [
       "[(0, 'OBJECTID', 'integer', 1, None, 1),\n",
       " (1, 'FOD_ID', 'int32', 0, None, 0),\n",
       " (2, 'FPA_ID', 'text(100)', 0, None, 0),\n",
       " (3, 'SOURCE_SYSTEM_TYPE', 'text(255)', 0, None, 0),\n",
       " (4, 'SOURCE_SYSTEM', 'text(30)', 0, None, 0),\n",
       " (5, 'NWCG_REPORTING_AGENCY', 'text(255)', 0, None, 0),\n",
       " (6, 'NWCG_REPORTING_UNIT_ID', 'text(255)', 0, None, 0),\n",
       " (7, 'NWCG_REPORTING_UNIT_NAME', 'text(255)', 0, None, 0),\n",
       " (8, 'SOURCE_REPORTING_UNIT', 'text(30)', 0, None, 0),\n",
       " (9, 'SOURCE_REPORTING_UNIT_NAME', 'text(255)', 0, None, 0),\n",
       " (10, 'LOCAL_FIRE_REPORT_ID', 'text(255)', 0, None, 0),\n",
       " (11, 'LOCAL_INCIDENT_ID', 'text(255)', 0, None, 0),\n",
       " (12, 'FIRE_CODE', 'text(10)', 0, None, 0),\n",
       " (13, 'FIRE_NAME', 'text(255)', 0, None, 0),\n",
       " (14, 'ICS_209_INCIDENT_NUMBER', 'text(255)', 0, None, 0),\n",
       " (15, 'ICS_209_NAME', 'text(255)', 0, None, 0),\n",
       " (16, 'MTBS_ID', 'text(255)', 0, None, 0),\n",
       " (17, 'MTBS_FIRE_NAME', 'text(50)', 0, None, 0),\n",
       " (18, 'COMPLEX_NAME', 'text(255)', 0, None, 0),\n",
       " (19, 'FIRE_YEAR', 'int16', 0, None, 0),\n",
       " (20, 'DISCOVERY_DATE', 'realdate', 0, None, 0),\n",
       " (21, 'DISCOVERY_DOY', 'int32', 0, None, 0),\n",
       " (22, 'DISCOVERY_TIME', 'text(4)', 0, None, 0),\n",
       " (23, 'STAT_CAUSE_CODE', 'float64', 0, None, 0),\n",
       " (24, 'STAT_CAUSE_DESCR', 'text(100)', 0, None, 0),\n",
       " (25, 'CONT_DATE', 'realdate', 0, None, 0),\n",
       " (26, 'CONT_DOY', 'int32', 0, None, 0),\n",
       " (27, 'CONT_TIME', 'text(4)', 0, None, 0),\n",
       " (28, 'FIRE_SIZE', 'float64', 0, None, 0),\n",
       " (29, 'FIRE_SIZE_CLASS', 'text(1)', 0, None, 0),\n",
       " (30, 'LATITUDE', 'float64', 0, None, 0),\n",
       " (31, 'LONGITUDE', 'float64', 0, None, 0),\n",
       " (32, 'OWNER_CODE', 'float64', 0, None, 0),\n",
       " (33, 'OWNER_DESCR', 'text(100)', 0, None, 0),\n",
       " (34, 'STATE', 'text(255)', 0, None, 0),\n",
       " (35, 'COUNTY', 'text(255)', 0, None, 0),\n",
       " (36, 'FIPS_CODE', 'text(255)', 0, None, 0),\n",
       " (37, 'FIPS_NAME', 'text(255)', 0, None, 0),\n",
       " (38, 'Shape', 'POINT', 1, None, 0)]"
      ]
     },
     "execution_count": 12,
     "metadata": {},
     "output_type": "execute_result"
    }
   ],
   "source": [
    "fires_cur.execute('PRAGMA table_info(Fires)').fetchall()"
   ]
  },
  {
   "cell_type": "markdown",
   "metadata": {},
   "source": [
    "### Import the data from a query into a DataFrame"
   ]
  },
  {
   "cell_type": "code",
   "execution_count": 13,
   "metadata": {},
   "outputs": [
    {
     "data": {
      "text/html": [
       "<div>\n",
       "<style scoped>\n",
       "    .dataframe tbody tr th:only-of-type {\n",
       "        vertical-align: middle;\n",
       "    }\n",
       "\n",
       "    .dataframe tbody tr th {\n",
       "        vertical-align: top;\n",
       "    }\n",
       "\n",
       "    .dataframe thead th {\n",
       "        text-align: right;\n",
       "    }\n",
       "</style>\n",
       "<table border=\"1\" class=\"dataframe\">\n",
       "  <thead>\n",
       "    <tr style=\"text-align: right;\">\n",
       "      <th></th>\n",
       "      <th>STATE</th>\n",
       "      <th>FIRE_YEAR</th>\n",
       "      <th>DISCOVERY_DATE</th>\n",
       "      <th>FIRE_NAME</th>\n",
       "      <th>FIRE_SIZE</th>\n",
       "      <th>LATITUDE</th>\n",
       "      <th>LONGITUDE</th>\n",
       "    </tr>\n",
       "  </thead>\n",
       "  <tbody>\n",
       "    <tr>\n",
       "      <th>0</th>\n",
       "      <td>CA</td>\n",
       "      <td>2005</td>\n",
       "      <td>2005-02-02 00:00:00</td>\n",
       "      <td>FOUNTAIN</td>\n",
       "      <td>0.10</td>\n",
       "      <td>40.036944</td>\n",
       "      <td>-121.005833</td>\n",
       "    </tr>\n",
       "    <tr>\n",
       "      <th>1</th>\n",
       "      <td>CA</td>\n",
       "      <td>2004</td>\n",
       "      <td>2004-05-12 00:00:00</td>\n",
       "      <td>PIGEON</td>\n",
       "      <td>0.25</td>\n",
       "      <td>38.933056</td>\n",
       "      <td>-120.404444</td>\n",
       "    </tr>\n",
       "    <tr>\n",
       "      <th>2</th>\n",
       "      <td>CA</td>\n",
       "      <td>2004</td>\n",
       "      <td>2004-05-31 00:00:00</td>\n",
       "      <td>SLACK</td>\n",
       "      <td>0.10</td>\n",
       "      <td>38.984167</td>\n",
       "      <td>-120.735556</td>\n",
       "    </tr>\n",
       "    <tr>\n",
       "      <th>3</th>\n",
       "      <td>CA</td>\n",
       "      <td>2004</td>\n",
       "      <td>2004-06-28 00:00:00</td>\n",
       "      <td>DEER</td>\n",
       "      <td>0.10</td>\n",
       "      <td>38.559167</td>\n",
       "      <td>-119.913333</td>\n",
       "    </tr>\n",
       "    <tr>\n",
       "      <th>4</th>\n",
       "      <td>CA</td>\n",
       "      <td>2004</td>\n",
       "      <td>2004-06-28 00:00:00</td>\n",
       "      <td>STEVENOT</td>\n",
       "      <td>0.10</td>\n",
       "      <td>38.559167</td>\n",
       "      <td>-119.933056</td>\n",
       "    </tr>\n",
       "  </tbody>\n",
       "</table>\n",
       "</div>"
      ],
      "text/plain": [
       "  STATE  FIRE_YEAR       DISCOVERY_DATE FIRE_NAME  FIRE_SIZE   LATITUDE  \\\n",
       "0    CA       2005  2005-02-02 00:00:00  FOUNTAIN       0.10  40.036944   \n",
       "1    CA       2004  2004-05-12 00:00:00    PIGEON       0.25  38.933056   \n",
       "2    CA       2004  2004-05-31 00:00:00     SLACK       0.10  38.984167   \n",
       "3    CA       2004  2004-06-28 00:00:00      DEER       0.10  38.559167   \n",
       "4    CA       2004  2004-06-28 00:00:00  STEVENOT       0.10  38.559167   \n",
       "\n",
       "    LONGITUDE  \n",
       "0 -121.005833  \n",
       "1 -120.404444  \n",
       "2 -120.735556  \n",
       "3 -119.913333  \n",
       "4 -119.933056  "
      ]
     },
     "execution_count": 13,
     "metadata": {},
     "output_type": "execute_result"
    }
   ],
   "source": [
    "# NOTE: This code may take a long time to run\n",
    "fires = pd.read_sql_query(\n",
    "    '''SELECT STATE, FIRE_YEAR, DATETIME(DISCOVERY_DATE) AS DISCOVERY_DATE,\n",
    "       FIRE_NAME, FIRE_SIZE, LATITUDE, LONGITUDE\n",
    "    FROM Fires''', fires_con)\n",
    "fires.head()"
   ]
  },
  {
   "cell_type": "markdown",
   "metadata": {},
   "source": [
    "## How to build DataFrames for the metadata and the data in a Stata file"
   ]
  },
  {
   "cell_type": "markdown",
   "metadata": {},
   "source": [
    "### Get metadata from a Stata file"
   ]
  },
  {
   "cell_type": "code",
   "execution_count": 14,
   "metadata": {},
   "outputs": [
    {
     "data": {
      "text/plain": [
       "pyreadstat._readstat_parser.metadata_container"
      ]
     },
     "execution_count": 14,
     "metadata": {},
     "output_type": "execute_result"
    }
   ],
   "source": [
    "import pyreadstat\n",
    "gss_stata_filename = '../../data/GSS7218_R3.DTA'\n",
    "gss_empty, gss_meta = pyreadstat.read_dta(\n",
    "    gss_stata_filename,\n",
    "    metadataonly=True)\n",
    "type(gss_meta)"
   ]
  },
  {
   "cell_type": "markdown",
   "metadata": {},
   "source": [
    "### What the attributes of the metadata container can tell you"
   ]
  },
  {
   "cell_type": "code",
   "execution_count": 15,
   "metadata": {},
   "outputs": [
    {
     "name": "stdout",
     "output_type": "stream",
     "text": [
      "Number of columns: 6110\n",
      "Number of rows: 64814\n",
      "Column names: ['year', 'id', 'wrkstat', 'hrs1', 'hrs2', 'evwork', 'occ', 'prestige', 'wrkslf', 'wrkgovt', 'commute', 'industry', 'occ80', 'prestg80', 'indus80', 'indus07', 'occonet', 'found', 'occ10', 'occindv', 'occstatus', 'occtag', 'prestg10', 'prestg105plus', 'indus10', 'indstatus', 'indtag', 'marital', 'martype', 'agewed', 'divorce', 'widowed', 'spwrksta', 'sphrs1', 'sphrs2', 'spevwork', 'cowrksta', 'cowrkslf', 'coevwork', 'cohrs1', 'cohrs2', 'spocc', 'sppres', 'spwrkslf', 'spind', 'spocc80', 'sppres80', 'spind80', 'spocc10', 'spoccindv', 'spoccstatus', 'spocctag', 'sppres10', 'sppres105plus', 'spind10', 'spindstatus', 'spindtag', 'coocc10', 'coind10', 'paocc16', 'papres16', 'pawrkslf', 'paind16', 'paocc80', 'papres80', 'paind80', 'paocc10', 'paoccindv', 'paoccstatus', 'paocctag', 'papres10', 'papres105plus', 'paind10', 'paindstatus', 'paindtag', 'maocc80', 'mapres80', 'mawrkslf', 'maind80', 'maocc10', 'maoccindv', 'maoccstatus', 'maocctag', 'mapres10', 'mapres105plus', 'maind10', 'maindstatus', 'maindtag', 'sibs', 'childs', 'age', 'agekdbrn', 'educ', 'paeduc', 'maeduc', 'speduc', 'coeduc', 'codeg', 'degree', 'padeg', 'madeg', 'spdeg', 'major1', 'major2', 'dipged', 'spdipged', 'codipged', 'cosector', 'whenhs', 'whencol', 'sector', 'eftotlt', 'barate', 'gradtounder', 'voedcol', 'voednme1', 'voedncol', 'voednme2', 'spsector', 'speftotlt', 'spbarate', 'spgradtounder', 'cobarate', 'cogradtounder', 'coeftotlt', 'sex', 'race', 'res16', 'reg16', 'mobile16', 'family16', 'famdif16', 'mawork', 'mawkbaby', 'mawkborn', 'mawk16', 'mawrkgrw', 'incom16', 'born', 'parborn', 'granborn', 'hompop', 'babies', 'preteen', 'teens', 'adults', 'unrelat', 'earnrs', 'income', 'rincome', 'income72', 'income77', 'rincom77', 'income82', 'rincom82', 'income86', 'rincom86', 'income91', 'rincom91', 'income98', 'rincom98', 'income06', 'rincom06', 'income16', 'rincom16', 'region', 'xnorcsiz', 'srcbelt', 'size', 'dotdata', 'dotpeop', 'dotthng', 'dotged', 'dotsvp', 'dotpres', 'spdotdat', 'spdotpeo', 'spdotthn', 'spdotged', 'spdotsvp', 'spdotpre', 'padotdat', 'padotpeo', 'padotthn', 'padotged', 'padotsvp', 'padotpre', 'partyid', 'vote68', 'pres68', 'if68who', 'vote72', 'pres72', 'if72who', 'vote76', 'pres76', 'if76who', 'vote80', 'pres80', 'if80who', 'vote84', 'pres84', 'if84who', 'vote88', 'pres88', 'if88who', 'vote92', 'pres92', 'if92who', 'vote96', 'pres96', 'if96who', 'vote00', 'pres00', 'if00who', 'vote04', 'pres04', 'if04who', 'vote08', 'pres08', 'if08who', 'vote12', 'pres12', 'if12who', 'vote16', 'pres16', 'if16who', 'polviews', 'polviewy', 'polviewx', 'natspac', 'natenvir', 'natheal', 'natcity', 'natcrime', 'natdrug', 'nateduc', 'natrace', 'natarms', 'nataid', 'natfare', 'natroad', 'natsoc', 'natmass', 'natpark', 'natchld', 'natsci', 'natenrgy', 'natspacy', 'natenviy', 'nathealy', 'natcityy', 'natcrimy', 'natdrugy', 'nateducy', 'natracey', 'natarmsy', 'nataidy', 'natfarey', 'natspacz', 'natenviz', 'nathealz', 'natcityz', 'natcrimz', 'natdrugz', 'nateducz', 'natracez', 'natarmsz', 'nataidz', 'natfarez', 'natroadz', 'natsocz', 'natmassz', 'natparkz', 'equal1', 'equal2', 'equal3', 'equal4', 'equal5', 'equal6', 'equal7', 'equal8', 'usclass1', 'usclass2', 'usclass3', 'usclass4', 'usclass5', 'usclass6', 'usclass7', 'usclass8', 'educop', 'govcare', 'eqwlth', 'eqwlthy', 'tax', 'spkath', 'colath', 'libath', 'spksoc', 'colsoc', 'libsoc', 'spkrac', 'colrac', 'librac', 'spkcom', 'colcom', 'libcom', 'spkmil', 'colmil', 'libmil', 'spkhomo', 'colhomo', 'libhomo', 'spkmslm', 'colmslm', 'libmslm', 'cappun2', 'cappun', 'capimp', 'capinfo', 'capfirm', 'gunlaw', 'gunimp', 'guninfo', 'gunfirm', 'courts', 'courtsy', 'crimimp', 'criminfo', 'crimfirm', 'lawimp', 'lawinfo', 'lawfirm', 'wirtap', 'grass', 'grassy', 'relig', 'denom', 'other', 'othjew', 'jew', 'jewaj', 'fund', 'attend', 'maattend', 'paattend', 'spattend', 'reliten', 'relitena', 'postlife', 'postlf1', 'postlf2', 'postlf3', 'postlf4', 'postlf5', 'postlf6', 'postlf7', 'postlf8', 'postlf9', 'postlf10', 'likediff', 'mindbody', 'restact', 'palefull', 'pray', 'dejavu', 'esp', 'visions', 'spirits', 'grace', 'neargod', 'judge', 'redeemer', 'lover', 'master', 'mother', 'creator', 'father', 'spouse', 'friend', 'king', 'liberatr', 'healer', 'mapa', 'mastersp', 'judgeluv', 'frndking', 'crtrheal', 'rdeemlib', 'popespks', 'relig16', 'denom16', 'oth16', 'othjew16', 'jew16', 'jew16aj', 'fund16', 'sprel', 'spden', 'spother', 'spothjew', 'spjew', 'spjewaj', 'spfund', 'sprel16', 'spden16', 'spoth16', 'spjew16', 'spfund16', 'corel', 'coden', 'coother', 'cojew', 'cofund', 'tithing', 'prayer', 'prayery', 'prayerx', 'bible', 'bibley', 'world1', 'world2', 'world3', 'world4', 'world5', 'world6', 'world7', 'libtemp', 'contemp', 'prottemp', 'cathtemp', 'jewtemp', 'mslmtemp', 'fepriest', 'feclergy', 'relgrade', 'racmar', 'racmar10', 'racdin', 'racpush', 'racseg', 'racopen', 'raclive', 'racclos', 'racdis', 'racinteg', 'racobjct', 'rachome', 'racschol', 'racfew', 'rachaf', 'racmost', 'busing', 'busing10', 'racpres', 'racjob', 'racchurh', 'color', 'racname', 'rachisch', 'racmix', 'racneigh', 'racnobuy', 'ractrust', 'racparty', 'racocc', 'racinc', 'racopnow', 'racopwil', 'racimp', 'racinfo', 'racfirm', 'raccare', 'racthink', 'racwrite', 'racgive', 'racjoin', 'affrmact', 'wrkwayup', 'blksimp', 'closeblk', 'closewht', 'alienat1', 'alienat2', 'alienat3', 'alienat4', 'alienat5', 'alienat6', 'happy', 'hapmar', 'hapcohab', 'health', 'life', 'helpful', 'fair', 'trust', 'trusty', 'trust1', 'satcity', 'sathobby', 'satfam', 'satfrnd', 'sathealt', 'confinan', 'conbus', 'conclerg', 'coneduc', 'confed', 'conlabor', 'conpress', 'conmedic', 'contv', 'conjudge', 'consci', 'conlegis', 'conarmy', 'confinay', 'conbusy', 'conclery', 'coneducy', 'confedy', 'conlaboy', 'conpresy', 'conmediy', 'contvy', 'conjudgy', 'consciy', 'conlegiy', 'conarmyy', 'manners', 'success', 'honest', 'clean', 'judgment', 'control', 'role', 'amicable', 'obeys', 'responsi', 'consider', 'interest', 'studious', 'mannersy', 'successy', 'honesty', 'cleany', 'judgmeny', 'controly', 'roley', 'amicably', 'obeysy', 'responsy', 'considey', 'interesy', 'studiouy', 'mannersz', 'successz', 'honestz', 'cleanz', 'judgmenz', 'controlz', 'rolez', 'amicablz', 'obeysz', 'responsz', 'considez', 'interesz', 'studiouz', 'obey', 'popular', 'thnkself', 'workhard', 'helpoth', 'chldsex', 'chldsex1', 'youngen', 'socrel', 'socommun', 'socfrend', 'socbar', 'socpars', 'socsibs', 'aged', 'agedpar', 'agedchld', 'weekswrk', 'partfull', 'drink', 'drunk', 'smoke', 'quitsmk', 'smokecig', 'cigweek', 'evsmoke', 'anomia1', 'anomia2', 'anomia3', 'anomia4', 'anomia5', 'anomia6', 'anomia7', 'anomia8', 'anomia9', 'joblose', 'jobfind', 'satjob', 'satjobhv', 'richwork', 'jobinc', 'jobsec', 'jobhour', 'jobpromo', 'jobmeans', 'jobkeep', 'jobpay', 'jobrise', 'jobhonor', 'joboff', 'jobinter', 'jobindep', 'jobresp', 'jobpeop', 'jobhelp', 'jobsoc', 'jobaccmp', 'jobsafe', 'class', 'classy', 'rank', 'rank10', 'satfin', 'finalter', 'finrela', 'incneed', 'mininc', 'wksub', 'wksubs', 'wksub1', 'wksubs1', 'wksup', 'wksups', 'wksup1', 'wksups1', 'unemp', 'govaid', 'getaid', 'union', 'union1', 'getahead', 'parsol', 'kidssol', 'fehome', 'fework', 'fepres', 'fepol', 'fepoly', 'feimp', 'feinfo', 'fefirm', 'fecare', 'fethink', 'fewrite', 'fegive', 'fejoin', 'abdefect', 'abnomore', 'abhlth', 'abpoor', 'abrape', 'absingle', 'abany', 'aborct', 'abpro1', 'abpro2', 'abpro3', 'abcon1', 'abcon2', 'abcon3', 'abimp', 'abinfo', 'abfirm', 'abcare', 'chldidel', 'chldmore', 'chldnum', 'chldsoon', 'pill', 'teenpill', 'pillok', 'sexeduc', 'divlaw', 'divlawy', 'spdue', 'sppaid', 'premarsx', 'teensex', 'xmarsex', 'homosex', 'homochng', 'porninf', 'pornmorl', 'pornrape', 'pornout', 'pornlaw', 'xmovie', 'xmovie1', 'pornimp', 'porninfo', 'pornfirm', 'spanking', 'letdie1', 'letdie2', 'suicide1', 'suicide2', 'suicide3', 'suicide4', 'suinum', 'suinum1', 'suirel1', 'suineg1', 'suiclse1', 'suitime1', 'suimths1', 'suiyrs1', 'suirel2', 'suineg2', 'suiclse2', 'suitime2', 'suimths2', 'suiyrs2', 'strike', 'civright', 'antiwar', 'prowar', 'school', 'hit', 'hitage', 'hitnum', 'gun', 'gunage', 'gunnum', 'hitok', 'hitmarch', 'hitdrunk', 'hitchild', 'hitbeatr', 'hitrobbr', 'polhitok', 'polabuse', 'polmurdr', 'polescap', 'polattak', 'fear', 'fearhome', 'burglr', 'robbry', 'owngun', 'pistol', 'shotgun', 'rifle', 'rowngun', 'ticket', 'arrest', 'convictd', 'lockedup', 'hunt', 'hunt1', 'huntothr', 'news', 'tvhours', 'radiohrs', 'phone', 'coop2', 'coop', 'comprend', 'form', 'random', 'abspno', 'abhave1', 'abhave2', 'abhave3', 'ablegal', 'fechld', 'fehelp', 'fepresch', 'fefam', 'eraread', 'erameans', 'era', 'eratell', 'erawhy1', 'erawhy2', 'erawhy3', 'eraimp', 'erainfo', 'erafirm', 'febear', 'feworkif', 'racsubs', 'racsubgv', 'racmarel', 'racmarpr', 'racsups', 'racteach', 'racavoid', 'racchng', 'racquit', 'racdif1', 'racdif2', 'racdif3', 'racdif4', 'salfergt', 'sallabor', 'salsatfn', 'salabort', 'salsci', 'divorce5', 'divrel1', 'divrel4', 'unemp5', 'unrel1', 'unrel4', 'hosdis5', 'hosrel1', 'hosrel4', 'death5', 'death16', 'padeath', 'madeath', 'chlddth', 'sibdeath', 'spdeath', 'trauma1', 'trauma5', 'trarel1', 'trarel5', 'tratot1', 'tratot5', 'defspdr', 'defspdfg', 'hlpminr', 'hlpminfg', 'cutspdr', 'cutspdfg', 'impfam', 'impwork', 'imprelax', 'impfrend', 'impkin', 'impchurh', 'imppol', 'privacy', 'civic', 'rushed', 'bored', 'stresswk', 'pollgood', 'polltrue', 'feserve', 'meserve', 'taxserve', 'milqual', 'milpay', 'fenumok', 'hinumok', 'blnumok', 'hinumoky', 'blnumoky', 'milvolok', 'fightair', 'mechanic', 'nurse', 'typist', 'brass', 'fightlnd', 'transair', 'gunner', 'fightsea', 'fefight', 'fedirty', 'febrass', 'fehlpmil', 'draft', 'draftfe', 'draftem', 'draftfem', 'draftcol', 'draftmar', 'draftpar', 'draftgay', 'draftco', 'draftdef', 'vetfam', 'vetfamnw', 'minmilop', 'femilop', 'copunish', 'cojail', 'milokme', 'milokfe', 'upgrade', 'jobtrain', 'nukewar', 'landwar', 'morenuke', 'lessnuke', 'nonuke', 'guerilla', 'vetaid', 'defwrkev', 'defwrknw', 'milwrkev', 'milwrknw', 'resdefwk', 'obvote', 'obvol', 'objury', 'ob911', 'obeng', 'obknow', 'obmepax', 'obmewar', 'obfepax', 'obfewar', 'helppoor', 'helpnot', 'helpsick', 'helpblk', 'numgiven', 'eqclose', 'rclose1', 'rclose2', 'rclose3', 'rclose4', 'rclose5', 'close12', 'close13', 'close14', 'close15', 'close23', 'close24', 'close25', 'close34', 'close35', 'close45', 'sex1', 'sex2', 'sex3', 'sex4', 'sex5', 'race1', 'race2', 'race3', 'race4', 'race5', 'spouse1', 'spouse2', 'spouse3', 'spouse4', 'spouse5', 'parent1', 'parent2', 'parent3', 'parent4', 'parent5', 'sibling1', 'sibling2', 'sibling3', 'sibling4', 'sibling5', 'child1', 'child2', 'child3', 'child4', 'child5', 'othfam1', 'othfam2', 'othfam3', 'othfam4', 'othfam5', 'cowork1', 'cowork2', 'cowork3', 'cowork4', 'cowork5', 'memgrp1', 'memgrp2', 'memgrp3', 'memgrp4', 'memgrp5', 'neighbr1', 'neighbr2', 'neighbr3', 'neighbr4', 'neighbr5', 'friend1', 'friend2', 'friend3', 'friend4', 'friend5', 'advisor1', 'advisor2', 'advisor3', 'advisor4', 'advisor5', 'other1', 'other2', 'other3', 'other4', 'other5', 'talkto1', 'talkto2', 'talkto3', 'talkto4', 'talkto5', 'known1', 'known2', 'known3', 'known4', 'known5', 'educ1', 'educ2', 'educ3', 'educ4', 'educ5', 'age1', 'age2', 'age3', 'age4', 'age5', 'relig1', 'relig2', 'relig3', 'relig4', 'relig5', 'partyid1', 'partyid2', 'partyid3', 'talkpol1', 'talkpol2', 'talkpol3', 'talkpol', 'frndknow', 'memfrat', 'memserv', 'memvet', 'mempolit', 'memunion', 'memsport', 'memyouth', 'memschl', 'memhobby', 'memgreek', 'memnat', 'memfarm', 'memlit', 'memprof', 'memchurh', 'memother', 'memnum', 'solfrat', 'solserv', 'solvet', 'solpolit', 'solunion', 'solsport', 'solyouth', 'solschl', 'solhobby', 'solgreek', 'solnat', 'solfarm', 'sollit', 'solprof', 'solchurh', 'solother', 'actfrat', 'actserv', 'actvet', 'actpolit', 'actunion', 'actsport', 'actyouth', 'actschl', 'acthobby', 'actgreek', 'actnat', 'actfarm', 'actlit', 'actprof', 'actchurh', 'actother', 'churhgrp', 'mostact', 'caregrp', 'servegrp', 'leadgrp', 'givegrp', 'attndgrp', 'writegrp', 'lobbygrp', 'loclived', 'loctrust', 'locinflu', 'locprob', 'locgrp', 'loccare', 'intpol', 'swayvote', 'workpol', 'polrally', 'loclobby', 'locself', 'othlobby', 'othself', 'governor', 'usrep', 'schlhead', 'fedtrust', 'locvote', 'gavepol', 'blkinflu', 'blkgains', 'feinflu', 'fegains', 'scisolve', 'scichng', 'scipry', 'scimoral', 'switched', 'switch1', 'switch2', 'switch3', 'switnum', 'switage1', 'switage2', 'switwhy1', 'switwhy2', 'marelig', 'maden', 'maoth', 'majew', 'mafund', 'parelig', 'paden', 'paoth', 'pajew', 'pafund', 'churhsch', 'sunsch16', 'grace16', 'join16', 'lapsed', 'churhmem', 'churhact', 'tvrelig', 'god', 'reborn', 'savesoul', 'saygrace', 'readword', 'punsin', 'blkwhite', 'rotapple', 'permoral', 'decbible', 'decoths', 'decchurh', 'decself', 'gochurch', 'believe', 'follow', 'goownway', 'myfaith', 'madatgod', 'doubts1', 'doubts2', 'doubts3', 'doubts4', 'faith1', 'faith2', 'faith3', 'faith4', 'frndcon1', 'frndcon2', 'frndcon3', 'frndcon4', 'frndcon5', 'frndrel1', 'frndrel2', 'frndrel3', 'frndrel4', 'frndrel5', 'frndden1', 'frndden2', 'frndden3', 'frndden4', 'frndden5', 'frndoth1', 'frndoth2', 'frndoth3', 'frndoth4', 'frndoth5', 'frndfnd1', 'frndfnd2', 'frndfnd3', 'frndfnd4', 'frndfnd5', 'frndrac1', 'frndrac2', 'frndrac3', 'frndrac4', 'frndrac5', 'friends', 'numfrend', 'numbwfrd', 'bwfriend', 'godsells', 'godsport', 'givecong', 'giverel', 'giveoth', 'givearts', 'relhrs1', 'relhrs2', 'numcong', 'kid5up', 'pubsch', 'homesch', 'cathsch', 'chrissch', 'denomsch', 'relsch', 'privsch', 'othsch', 'shoprel', 'shopmove', 'shopnum', 'othchrch', 'implives', 'obeytch', 'preach', 'ferespct', 'sympcoun', 'wrkyoung', 'worship', 'ownthing', 'talkback', 'twoclass', 'openmind', 'whypoor1', 'whypoor2', 'whypoor3', 'whypoor4', 'socdif1', 'socdif2', 'socdif3', 'socdif4', 'wlthwhts', 'wlthjews', 'wlthblks', 'wlthasns', 'wlthhsps', 'wlthso', 'workwhts', 'workjews', 'workblks', 'workasns', 'workhsps', 'workso', 'violwhts', 'violjews', 'violblks', 'violasns', 'violhsps', 'violso', 'intlwhts', 'intljews', 'intlblks', 'intlasns', 'intlhsps', 'intlso', 'farewhts', 'farejews', 'fareblks', 'fareasns', 'farehsps', 'fareso', 'patrwhts', 'patrjews', 'patrblks', 'patrasns', 'patrhsps', 'patrso', 'livejews', 'liveblks', 'liveasns', 'livehsps', 'liveno', 'liveso', 'livewhts', 'marjew', 'marblk', 'marasian', 'marhisp', 'marno', 'marso', 'marwht', 'workfare', 'lessfare', 'povzone', 'povschs', 'povcol', 'blkzone', 'blkschs', 'blkcol', 'racquota', 'influwht', 'influjew', 'influblk', 'influasn', 'influhsp', 'influso', 'hspjobs', 'blkjobs', 'asnjobs', 'hsphouse', 'blkhouse', 'asnhouse', 'racwork', 'affact', 'discaff', 'discwhy1', 'discwhy2', 'discwhy3', 'discwhy4', 'discwhy5', 'discwhy6', 'genejob', 'genehire', 'genecanx', 'genecany', 'genegets', 'profits1', 'profits2', 'unpower', 'unprog', 'outofbiz', 'merged', 'reorg', 'orgfin', 'wrkyears', 'evunemp', 'numunemp', 'totunemp', 'empyears', 'fndjob1', 'fndjob2', 'fndjob3', 'fndjob4', 'fndjob5', 'fndjob6', 'fndjob7', 'fndjob8', 'fndjob9', 'intltest', 'skiltest', 'drugtest', 'physical', 'ltrsref', 'samejob', 'jobyears', 'thisjob1', 'thisjob2', 'thisjob3', 'thisjob4', 'thisjob5', 'thisjob6', 'thisjob7', 'promotng', 'promoted', 'numpromo', 'imppromo', 'futpromo', 'sexpromo', 'racpromo', 'advances', 'jobcntrl', 'wrkindep', 'lottosay', 'idecide', 'automatn', 'monitred', 'offsup', 'yousup', 'spwksup', 'supothrs', 'levels', 'totsup', 'supduty1', 'supduty2', 'supduty3', 'supduty4', 'supduty5', 'supduty6', 'supduty7', 'othduty1', 'othduty2', 'othduty3', 'othduty4', 'othduty5', 'othduty6', 'othduty7', 'orgmoney', 'totmoney', 'youmoney', 'jobjudge', 'quantity', 'quality', 'wrkwell', 'wrkmuch', 'imatter', 'helporg', 'notloyal', 'stayorg1', 'samevals', 'proudorg', 'stayorg2', 'noticed', 'chngeorg', 'othpay', 'raiseall', 'raisehrd', 'raisefav', 'fringe1', 'fringe2', 'fringe3', 'fringe4', 'fringe5', 'fringe6', 'fringe7', 'fringe8', 'fringe9', 'fringe10', 'fringe11', 'jobvshme', 'unvote', 'unmanrel', 'cowrkrel', 'schoolng', 'training', 'learning', 'exptrain', 'wherewrk', 'findout', 'baseofop', 'splocnum', 'standup', 'selfirst', 'richpoor', 'opoutcme', 'united', 'obtohelp', 'lfegod', 'lfegenes', 'lfesocty', 'lfehrdwk', 'lfechnce', 'bigband', 'blugrass', 'country', 'blues', 'musicals', 'classicl', 'folk', 'gospel', 'jazz', 'latin', 'moodeasy', 'newage', 'opera', 'rap', 'reggae', 'conrock', 'oldies', 'hvymetal', 'attsprts', 'visitart', 'makeart', 'autorace', 'camping', 'garden', 'dance', 'gomusic', 'huntfish', 'perform', 'dosports', 'seemovie', 'usevcr', 'plymusic', 'tvshows', 'tvnews', 'tvpbs', 'judgeart', 'trstprof', 'classics', 'grtbooks', 'modpaint', 'english', 'pclit', 'excelart', 'hosthome', 'frdcreat', 'frdcultr', 'frddynam', 'frdfun', 'frdhonst', 'frdintel', 'frdresp', 'impfinan', 'impmar', 'impkids', 'impgod', 'impthngs', 'impcultr', 'impjob', 'impself', 'mostimp1', 'mostimp2', 'mostimp3', 'mostimp4', 'colmajr1', 'colmajr2', 'hsclass1', 'hsclass2', 'malive1', 'mayrborn', 'mayrdied', 'palive1', 'payrborn', 'payrdied', 'datesch', 'neverwk', 'occfirst', 'presfrst', 'wrkslfst', 'indfirst', 'datefrst', 'alike1', 'alike2', 'alike3', 'alike4', 'alike5', 'alike6', 'alike7', 'alike8', 'marnum', 'fstspyr', 'fstspedc', 'fstspdeg', 'fstspped', 'fstspmed', 'agewedcr', 'spyrborn', 'spmarnum', 'spfam16', 'sppaeduc', 'spmaeduc', 'sphedocc', 'sphedpre', 'sphedslf', 'sphedind', 'sphedocc10', 'sphedoccindv', 'sphedoccstatus', 'sphedocctag', 'sphedind10', 'sphedindstatus', 'sphedindtag', 'sphedpre10', 'sphedpre105plus', 'spsibs', 'kdsex1', 'kdsex2', 'kdsex3', 'kdsex4', 'kdsex5', 'kdsex6', 'kdsex7', 'kdsex8', 'kdsex9', 'kdyrbrn1', 'kdyrbrn2', 'kdyrbrn3', 'kdyrbrn4', 'kdyrbrn5', 'kdyrbrn6', 'kdyrbrn7', 'kdyrbrn8', 'kdyrbrn9', 'kdrel1', 'kdrel2', 'kdrel3', 'kdrel4', 'kdrel5', 'kdrel6', 'kdrel7', 'kdrel8', 'kdrel9', 'kdalive1', 'kdalive2', 'kdalive3', 'kdalive4', 'kdalive5', 'kdalive6', 'kdalive7', 'kdalive8', 'kdalive9', 'kdeduc1', 'kdeduc2', 'kdeduc3', 'kdeduc4', 'kdeduc5', 'kdeduc6', 'kdeduc7', 'kdeduc8', 'kdeduc9', 'kdpicked', 'kdwork1', 'kdwork2', 'kdevwork', 'kdocc80', 'kdpres80', 'kdwrkslf', 'kdind80', 'kdocc10', 'kdoccindv', 'kdoccstatus', 'kdocctag', 'kdind10', 'kdindstatus', 'kdindtag', 'kdpres10', 'kdpres105plus', 'sbsex1', 'sbsex2', 'sbsex3', 'sbsex4', 'sbsex5', 'sbsex6', 'sbsex7', 'sbsex8', 'sbsex9', 'sbyrbrn1', 'sbyrbrn2', 'sbyrbrn3', 'sbyrbrn4', 'sbyrbrn5', 'sbyrbrn6', 'sbyrbrn7', 'sbyrbrn8', 'sbyrbrn9', 'sbrel1', 'sbrel2', 'sbrel3', 'sbrel4', 'sbrel5', 'sbrel6', 'sbrel7', 'sbrel8', 'sbrel9', 'sbalive1', 'sbalive2', 'sbalive3', 'sbalive4', 'sbalive5', 'sbalive6', 'sbalive7', 'sbalive8', 'sbalive9', 'sbpicked', 'sbeduc', 'sbdeg', 'sbwork1', 'sbwork2', 'sbevwork', 'sbocc80', 'sbpres80', 'sbwrkslf', 'sbind80', 'sbocc10', 'sboccindv', 'sboccstatus', 'sbocctag', 'sbind10', 'sbindstatus', 'sbindtag', 'sbpres10', 'sbpres105plus', 'ethid', 'amissue', 'ethissue', 'ethid1', 'amissue1', 'ethissu1', 'amrank', 'amproud', 'meltpot', 'gvtapart', 'gvtmelt', 'ethorgs', 'ethspkok', 'ethspkno', 'symptblk', 'admirblk', 'bilinged', 'engteach', 'engballt', 'engoffcl', 'letin', 'hspasn10', 'immecon', 'immunemp', 'immunite', 'immfare', 'undocwrk', 'undoccol', 'undockid', 'immpush', 'immwrkup', 'colaff', 'colaffy', 'discaffy', 'jobaff', 'owneth', 'congeth', 'teacheth', 'schleth', 'ethhist', 'whoteach', 'whtgovt', 'blkgovt', 'hspgovt', 'asngovt', 'wlthimm', 'wlthundc', 'workimm', 'workundc', 'obrespct', 'econpast', 'pastup', 'pastdown', 'econfutr', 'futrup', 'futrdown', 'rdiscaff', 'rimmdisc', 'romance', 'livewith', 'haprom', 'willwed1', 'willwed2', 'hapgirls', 'hapboys', 'fejobaff', 'tradmod', 'sharesep', 'emoteoth', 'rhmewrk', 'sphmewrk', 'fairhwrk', 'earnmore', 'famlife', 'worklife', 'balwkfam', 'refpromo', 'refmorwk', 'refxhour', 'workless', 'noathome', 'nonurse', 'nohmewrk', 'discaffm', 'discaffw', 'flextime', 'parleave', 'menben', 'womenben', 'chldben', 'allben', 'nooneben', 'menhrt', 'womenhrt', 'chldhrt', 'allhrt', 'noonehrt', 'feless1', 'feless2', 'feless3', 'fekids1', 'fekids2', 'fekids3', 'fekids4', 'fekids5', 'mebear', 'fehire', 'feminist', 'fenews', 'hmemaker', 'wrkclass', 'manprof', 'men', 'children', 'yourself', 'shakeblu', 'calm', 'outraged', 'hapfeel', 'sad', 'ashamed', 'excited', 'lonely', 'fearful', 'ovrjoyed', 'worried', 'contentd', 'anxious', 'restless', 'madat', 'atease', 'angry', 'embarrss', 'proud', 'noplan', 'badbrks', 'mostluck', 'litcntrl', 'showangr', 'showfeel', 'noemote', 'notupset', 'beplesnt', 'notworry', 'angrywrk', 'angryfam', 'angrygvt', 'angrywhy', 'angryev', 'whnangry', 'madat1', 'madat2', 'madat3', 'madat4', 'madat5', 'madat6', 'madat7', 'madat8', 'madat9', 'madat10', 'madat11', 'madat12', 'madat13', 'madat14', 'madat15', 'madat16', 'madat17', 'madat18', 'madat19', 'madat20', 'madat21', 'madat22', 'madat23', 'howangry', 'angrlast', 'thnkangr', 'chnang1', 'chnang2', 'chnang3', 'chnang4', 'chnang5', 'chnang6', 'chnang7', 'chnang8', 'chnang9', 'chnang10', 'chnang11', 'chnang12', 'chnang13', 'chnang14', 'chnang15', 'chnang16', 'reactok', 'othresp', 'selfresp', 'likeoth', 'amimp', 'notam', 'usworry', 'ussat', 'usfrustr', 'usenthus', 'usangry', 'ushopefl', 'usupset', 'carprivt', 'relprivt', 'warrntyc', 'cardealr', 'newused', 'typdealr', 'carbuya', 'carbuyb', 'carbuyc', 'carbuyd', 'carbuye', 'carbuyf', 'carbuyg', 'carbuy1', 'reldealr', 'satcar', 'evbuyhme', 'homeyear', 'learnhme', 'newowned', 'relhome', 'whosold', 'realtora', 'realtorb', 'realtorc', 'realtord', 'realtore', 'realtorf', 'realtor1', 'relagent', 'warrntyh', 'sathome', 'lawyer', 'lawyera', 'lawyerb', 'lawyerc', 'lawyerd', 'lawyere', 'lawyerf', 'lawyerg', 'lawyer1', 'rellaw', 'satlawyr', 'fixhome', 'fixera', 'fixerb', 'fixerc', 'fixerd', 'fixere', 'fixerf', 'fixer1', 'relfixer', 'satfixes', 'borrowed', 'wholoand', 'sellbed', 'sellauto', 'sellhome', 'transoth', 'loaned', 'loanedto', 'buybed', 'buyauto', 'buylaw', 'buyfixes', 'buyhome', 'transrel', 'frnddeal', 'frndawk', 'tablprce', 'organsb', 'organsw', 'sellorgn', 'adoption', 'sellbaby', 'sellsex', 'reqinfo', 'natrecon', 'tagsales', 'haggle', 'wkfambiz', 'hrfambiz', 'fambiz', 'econsys', 'famfinan', 'decauto', 'decbed', 'decgift', 'layoffs', 'volhlth', 'voleduc', 'volrelig', 'volhuman', 'volenvir', 'volpub', 'volrec', 'volart', 'volwork', 'volpol', 'volyouth', 'volfound', 'volintl', 'volinfrm', 'voloth', 'monhlth', 'moneduc', 'monrelig', 'monhuman', 'monenvir', 'monpub', 'monrec', 'monart', 'monwork', 'monpol', 'monyouth', 'monfound', 'monintl', 'moninfrm', 'monoth', 'hrshlth', 'hrseduc', 'hrsrelig', 'hrshuman', 'hrsenvir', 'hrspub', 'hrsrec', 'hrsart', 'hrswork', 'hrspol', 'hrsyouth', 'hrsfound', 'hrsintl', 'hrsinfrm', 'hrsoth', 'givhlth', 'giveduc', 'givrelig', 'givhuman', 'givenvir', 'givpub', 'givrec', 'givart', 'givwork', 'givpol', 'givyouth', 'givfound', 'givintl', 'givinfrm', 'givoth', 'tothlth', 'toteduc', 'totrelig', 'tothuman', 'totenvir', 'totpub', 'totrec', 'totart', 'totwork', 'totpol', 'totyouth', 'totfound', 'totintl', 'totinfrm', 'tototh', 'valhlth', 'valeduc', 'valrelig', 'valhuman', 'valenvir', 'valpub', 'valrec', 'valart', 'valwork', 'valpol', 'valyouth', 'valfound', 'valintl', 'valinfrm', 'valoth', 'homeless', 'needynei', 'needyrel', 'needyfrd', 'needyoth', 'probfix1', 'probfix2', 'probfix3', 'probhlp1', 'probhlp2', 'probhlp3', 'vigversn', 'seriousp', 'charactr', 'imbalnce', 'wayraise', 'stresses', 'genetics', 'godswill', 'upsdowns', 'breakdwn', 'mentlill', 'physill', 'viglabel', 'dectreat', 'decmoney', 'imprvown', 'imprvtrt', 'vignei', 'vigsoc', 'vigfrnd', 'vigwork', 'viggrp', 'vigmar', 'hurtoth', 'hurtself', 'tlkfam', 'tlkclrgy', 'meddoc', 'mentldoc', 'mentloth', 'sphealer', 'selfhelp', 'otcmed', 'rxmed', 'mentlhos', 'dofirst', 'ortlkfm', 'ortlkclr', 'ormeddoc', 'ormntldc', 'ormntlot', 'orhealer', 'orslfhlp', 'orotcmed', 'orrxmed', 'ormntlhs', 'mustdoc', 'mustmed', 'musthosp', 'dangrslf', 'dangroth', 'medcare1', 'medcare2', 'spmentl', 'govmentl', 'mntlas1', 'mntlas2', 'mntlimp1', 'mntlimp2', 'mntlimp3', 'mntlsym1', 'mntlsym2', 'mntlsym3', 'mntloth', 'brkdas1', 'brkdas2', 'brkdimp1', 'brkdimp2', 'brkdimp3', 'brkdsym1', 'brkdsym2', 'brkdsym3', 'brkdoth', 'knwmhosp', 'relmhsp1', 'relmhsp2', 'relmhsp3', 'relmhsp4', 'relmhsp5', 'relmhsp6', 'knwpatnt', 'evbrkdwn', 'brkdwhy1', 'brkdwhy2', 'brkdwhy3', 'brkddo1', 'brkddo2', 'brkddo3', 'brkdhlp1', 'brkdhlp2', 'brkdhlp3', 'brkdtime', 'brkddur', 'evmhp', 'mnilwhy1', 'mnilwhy2', 'mnilwhy3', 'mnildo1', 'mnildo2', 'mnildo3', 'mnilhlp1', 'mnilhlp2', 'mnilhlp3', 'mniltime', 'mnildur', 'knwmw1', 'knwmw2', 'knwmw3', 'knwmw4', 'knwmw5', 'mhp1r1', 'mhp1r2', 'mhp2r1', 'mhp2r2', 'mhp3r1', 'mhp3r2', 'mhp4r1', 'mhp4r2', 'mhp5r1', 'mhp5r2', 'closeto1', 'closeto2', 'closeto3', 'closeto4', 'closeto5', 'seetalk1', 'seetalk2', 'seetalk3', 'seetalk4', 'seetalk5', 'mhtreat1', 'mhtreat2', 'mhtreat3', 'mhtreat4', 'mhtreat5', 'myprobs1', 'myprobs2', 'myprobs3', 'myprobs4', 'myprobs5', 'severe1', 'severe2', 'severe3', 'severe4', 'severe5', 'dangoth1', 'dangoth2', 'dangoth3', 'dangoth4', 'dangoth5', 'dangslf1', 'dangslf2', 'dangslf3', 'dangslf4', 'dangslf5', 'fammhneg', 'othmhneg', 'diagnosd', 'mhtreatd', 'mcsds1', 'mcsds2', 'mcsds3', 'mcsds4', 'mcsds5', 'mcsds6', 'mcsds7', 'privpray', 'meditate', 'conghlp1', 'conghlp2', 'conghrm1', 'conghrm2', 'cope1', 'cope2', 'cope3', 'cope4', 'cope5', 'cope6', 'godwatch', 'lesspain', 'rellife', 'forgive1', 'forgive2', 'forgive3', 'feelgod', 'relcmfrt', 'harmony', 'uniongod', 'godlove', 'beausprt', 'nocheer', 'nervous', 'fidgety', 'hopeless', 'effort', 'wrthless', 'lotr1', 'lotr2', 'lotr3', 'lotr4', 'lotr5', 'lotr6', 'hope1', 'hope2', 'hope3', 'hope4', 'hope5', 'hope6', 'relpersn', 'sprtprsn', 'relexp', 'natarts', 'artgod', 'artists', 'irrelart', 'irreloff', 'aimofart', 'readfict', 'popmusic', 'drama', 'relart', 'volarts', 'natlart', 'stateart', 'localart', 'prfmnce', 'artexbt', 'prfmmus', 'prfmdan', 'prfmthe', 'prfmatt', 'prfmatt1', 'prfmatt2', 'prfmatt3', 'prfmatt4', 'prfmatt5', 'prfmfree', 'prfmwhy1', 'prfmwhy2', 'prfmwhy3', 'prfmwhy4', 'prfmwhy5', 'prfmwhy6', 'prfmwhy7', 'prfmwhy8', 'prfmwhy9', 'prfmwhy0', 'artatt', 'artatt1', 'artatt2', 'artatt3', 'artatt4', 'artatt5', 'artfree', 'artwhy1', 'artwhy2', 'artwhy3', 'artwhy4', 'artwhy5', 'artwhy6', 'artwhy7', 'artwhy8', 'artwhy9', 'nogo', 'nogo1', 'prfmcost', 'prfmint', 'prfmtrvl', 'prfmgst', 'prfmtime', 'prfmloc', 'prfmothr', 'prfmothr1', 'artcost', 'artint', 'arttrvl', 'artgst', 'arttime', 'artloc', 'artothr', 'prfmmostoth', 'artmostoth', 'occyrs', 'occtrain', 'trainsch', 'typeorg', 'wrkoth', 'othyrs', 'partorg', 'orgsize', 'genderwk', 'locyrs', 'samework', 'siteyrs', 'otjtrain', 'formltrn', 'formlfin', 'formldys', 'formlhrs', 'doingtrn', 'doingfin', 'doingdys', 'wojob', 'wojobyrs', 'numemp', 'howpaid', 'hourly', 'daily', 'weekly', 'monthly', 'yearly', 'trusting', 'seenmntl', 'psycmed1', 'psycmed2', 'psycmed3', 'psycmed4', 'psycmed5', 'psycmed6', 'psycmed7', 'usepsyc1', 'usepsyc2', 'usepsyc3', 'usepsyc4', 'psyckid1', 'psyckid2', 'psyckid3', 'psycdrct', 'psycfdoc', 'psycpsyc', 'hlthinsr', 'doclist', 'anydoc', 'swithlth', 'usedmntl', 'mntlcare', 'mntldif', 'mntldeny', 'hmo1', 'hmo2', 'hmo3', 'hmo4', 'hmo5', 'hmo6', 'hmo7', 'doc1', 'doc2', 'doc3', 'doc4', 'doc5', 'doc6', 'doc7', 'doc8', 'doc9', 'doc10', 'doc11', 'doc12', 'doc13', 'doc14', 'doc15', 'doc16', 'doc17', 'doc18', 'doc19', 'doc20', 'prozac', 'usedproz', 'knwnproz', 'prozfor1', 'prozfor2', 'prozfor3', 'proz1', 'proz2', 'proz3', 'proz4', 'proz5', 'proz6', 'proz7', 'proz8', 'proz9', 'prozslf1', 'prozslf2', 'prozslf3', 'prozslf4', 'prozkid1', 'prozkid2', 'prozkid3', 'socsecrt', 'socsecfx', 'socsecnu', 'terminal', 'termecon', 'termrel', 'termemot', 'termpain', 'termpay', 'trustfam', 'trustdoc', 'trustcrt', 'termvig', 'rightref', 'notreat', 'instrctn', 'hospice', 'painmed', 'docsui', 'famwhts', 'famblks', 'famjews', 'famhsps', 'famasns', 'fairwhts', 'fairblks', 'fairjews', 'fairhsps', 'fairasns', 'conteng', 'contitl', 'contchn', 'contjew', 'contblk', 'contmex', 'contvn', 'contcuba', 'contirsh', 'contpr', 'contjpn', 'contmslm', 'othlang', 'othlang1', 'othlang2', 'othbest', 'spklang', 'uselang', 'getlang', 'parlang', 'granlang', 'langcom', 'langwrk', 'engoff1', 'twolang', 'nobiling', 'engunite', 'forlang1', 'engthrtn', 'engvote', 'othhome', 'betrlang', 'spklangw', 'letinhsp', 'letinasn', 'letineur', 'immcrmup', 'immnew', 'immnojob', 'uswht', 'usblk', 'usjews', 'ushisp', 'usasn', 'usamind', 'usmixed', 'whtchng', 'blkchng', 'jewschng', 'hispchng', 'asnchng', 'ethchng', 'comwht', 'comblk', 'comjews', 'comhisp', 'comasn', 'comamind', 'hispwork', 'knwwht', 'knwblk', 'knwjew', 'knwhisp', 'knwasn', 'whtschl', 'whtcom', 'whtrel', 'whtwrk', 'whtcls', 'blkschl', 'blkcom', 'blkrel', 'blkwrk', 'blkcls', 'jewsschl', 'jewscom', 'jewsrel', 'jewswrk', 'jewscls', 'hispschl', 'hispcom', 'hisprel', 'hispwrk', 'hispcls', 'asnschl', 'asncom', 'asnrel', 'asnwrk', 'asncls', 'mostcom', 'leastcom', 'neieth1', 'neieth2', 'neieth3', 'neieth4', 'neieth5', 'neieth6', 'neieth7', 'neieth8', 'neieth9', 'neieth10', 'neieth11', 'neieth12', 'neieth13', 'neieth14', 'hswht', 'hseth', 'compuse', 'webtv', 'webmob', 'emailmin', 'emailhr', 'usewww', 'wwwhr', 'wwwmin', 'chathr', 'chatmin', 'drctlink', 'typeurl', 'srcheng', 'bookmark', 'catdrcty', 'hyperlnk', 'emaillnk', 'fin30', 'schl30', 'educ30', 'work30', 'news30', 'govt30', 'pol30', 'travel30', 'sports30', 'music30', 'art30', 'tvmov30', 'health30', 'relig30', 'games30', 'humor30', 'porn30', 'person30', 'sci30', 'hobby30', 'cook30', 'work12', 'hmefin12', 'buyinf12', 'buyit12', 'invest12', 'people12', 'health12', 'travel12', 'locate12', 'game12', 'newjob12', 'chat12', 'polinf12', 'econ12', 'abort12', 'moral12', 'foraff12', 'racrel12', 'enviro12', 'polcam12', 'gun12', 'taxes12', 'fe12', 'news12', 'polagree', 'polneutl', 'poldsagr', 'petition', 'contact', 'meeting', 'polnew', 'votefor', 'polchnge', 'polforms', 'polconf', 'polalter', 'poltough', 'artsmin', 'artshr', 'artschat', 'artsnew', 'artschng', 'wwwmusic', 'musicinf', 'musicget', 'musiclst', 'musicbuy', 'wwwclass', 'wwwcntry', 'wwwgthic', 'wwwjazz', 'wwwoldie', 'wwwrap', 'wwwrelig', 'wwwrock', 'wwwworld', 'musiclke', 'musicdif', 'musicnew', 'wwwart', 'artmus1', 'artmus2', 'artview', 'artinfo', 'artmus3', 'wwwlit', 'litsite', 'litget', 'litauth', 'litread', 'wwwpersn', 'wwwsp', 'wwwgfbf', 'wwwcowrk', 'wwwbiz', 'wwwnei', 'wwwfrnd', 'wwwvol', 'online', 'manual', 'callcomp', 'askwork', 'askother', 'payother', 'doonown', 'advsp', 'advchld', 'advpar', 'advsib', 'advfam', 'advtchr', 'advstu', 'advsup', 'advcowrk', 'advcfrnd', 'advofrnd', 'advlib', 'srcheng1', 'srcheng2', 'download', 'upload', 'cmpvirus', 'hlthinfo', 'hlthpapr', 'hlthmag1', 'hlthmag2', 'hlthdoc', 'hlthfrel', 'hlthtv', 'hlthwww', 'polinfo', 'polpapr', 'polmag1', 'polmag2', 'poltv', 'polfrel', 'polcamp', 'polwww', 'buyinfgn', 'investgn', 'travelgn', 'peoplegn', 'gamegn', 'newjobgn', 'poldisgn', 'polinfgn', 'perfrmgn', 'artgn', 'polcangn', 'numcntct', 'inperson', 'byphone', 'letters', 'meetings', 'byemail', 'comphome', 'usehome', 'numhome', 'wwwhome', 'paywww', 'wwwline1', 'wwwline2', 'ecomminh', 'ecomhrh', 'perminh', 'perhrh', 'wrkminh', 'wrkhrh', 'emminh', 'emhrh', 'wwwminh', 'wwwhrh', 'compwork', 'jobminw', 'jobhrw', 'incminw', 'inchrw', 'ecomminw', 'ecomhrw', 'perminw', 'perhrw', 'emminw', 'emhrw', 'wwwminw', 'wwwhrw', 'compoth', 'compschl', 'complib', 'compfri', 'compelse', 'mostloc', 'ecommino', 'ecomhro', 'permino', 'perhro', 'wrkmino', 'wrkhro', 'emmino', 'emhro', 'wwwmino', 'wwwhro', 'emsent', 'emsentp', 'emget', 'emgetp', 'emwrkloc', 'emwrkawy', 'emfamloc', 'emfamoth', 'emfri', 'emchurch', 'emgroups', 'intuse', 'intstart', 'intmbile', 'intrecnt', 'twitter', 'facebook', 'instagrm', 'linkedin', 'snapchat', 'tumblr', 'whatsapp', 'googlesn', 'pinterst', 'flickr', 'vine', 'clssmtes', 'snsmoth1', 'snsmot2a', 'snsmot2b', 'snsmot2c', 'snsmnew', 'snsmyear', 'snsmfrst', 'intwkdym', 'intwkdyh', 'intwkenm', 'intwkenh', 'numprobs', 'byemprob', 'intaccss', 'jobinfo', 'jobpaper', 'jobpub', 'jobcowrk', 'jobcntct', 'jobfrnds', 'jobplace', 'jobtvrad', 'jobonwww', 'emailyr', 'webyr', 'webable', 'manbook', 'cussup', 'tecsup', 'askwksch', 'askelse', 'payelse', 'doself', 'processr', 'browser1', 'browser2', 'browser3', 'advsrch', 'mp3', 'ezines', 'prefsets', 'newsgrps', 'timekid1', 'timekid2', 'timekid3', 'timekid4', 'sptmkid1', 'sptmkid2', 'sptmkid3', 'sptmkid4', 'kdtmkid1', 'kdtmkid2', 'kdtmkid3', 'kdtmkid4', 'knowkid1', 'knowkid2', 'knowkid3', 'knowkid4', 'huclean', 'homeband', 'freemns1', 'freemns2', 'freemns3', 'freeexp1', 'freeexp2', 'freeexp3', 'howfree', 'rhowfree', 'freenow', 'rfreenow', 'satdemoc', 'leftlone', 'nogovt', 'inpeace', 'partpol', 'choice', 'expunpop', 'freeprss', 'wlthpov', 'cntrlife', 'modact', 'stairs', 'didlessp', 'limitedp', 'didlesse', 'crelesse', 'pain', 'peaceful', 'energy', 'downblue', 'socacts', 'treat1', 'treat2', 'treat3', 'treat4', 'treat5', 'treat6', 'treat7', 'treat8', 'treat9', 'treat10', 'treat11', 'wait1', 'wait2', 'wait3', 'wait4', 'wait5', 'wait6', 'wait7', 'wait8', 'wait9', 'wait10', 'wait11', 'downqol', 'downfam', 'downcure', 'downrely', 'downfeel', 'painqol', 'painfam', 'paincure', 'painrely', 'painfeel', 'emotqol', 'emotfam', 'emotcure', 'emotrely', 'emotfeel', 'ethimp', 'ethignor', 'ethnofit', 'ethtrads', 'ethadapt', 'feelblks', 'feelasns', 'feelhsps', 'feelwhts', 'ethsame', 'ethdiff', 'whtsdiff', 'docvig', 'regdoc', 'regdocyr', 'docaskme', 'docdecid', 'docrely', 'hlthplan', 'chosedoc', 'insrlmts', 'diffcare', 'fininc', 'fininc1', 'fininc2', 'fininc3', 'fininc4', 'belvedoc', 'docinfo', 'docnomri', 'docsat', 'doccosts', 'docswtch', 'insrchng', 'secopin', 'paidhow', 'usualhrs', 'mosthrs', 'leasthrs', 'sethrs', 'advsched', 'wrktype', 'yearsjob', 'waypaid', 'wrksched', 'moredays', 'mustwork', 'chngtme', 'wrkhome', 'whywkhme', 'famwkoff', 'wkvsfam', 'famvswk', 'hrsrelax', 'secondwk', 'learnnew', 'workfast', 'workdiff', 'lotofsay', 'wktopsat', 'overwork', 'knowwhat', 'myskills', 'respect', 'trustman', 'safetywk', 'safefrst', 'teamsafe', 'safehlth', 'proudemp', 'prodctiv', 'wksmooth', 'trdunion', 'partteam', 'wkdecide', 'setthngs', 'toofewwk', 'promteok', 'opdevel', 'hlpequip', 'haveinfo', 'wkfreedm', 'fringeok', 'supcares', 'condemnd', 'promtefr', 'cowrkint', 'jobsecok', 'suphelp', 'wrktime', 'cowrkhlp', 'trainops', 'manvsemp', 'hvylift', 'handmove', 'wkpraise', 'wkbonus', 'fairearn', 'rincblls', 'laidoff', 'jobfind1', 'trynewjb', 'wkageism', 'wkracism', 'wksexism', 'wkharsex', 'wkharoth', 'health1', 'physhlth', 'mntlhlth', 'hlthdays', 'usedup', 'backpain', 'painarms', 'hurtatwk', 'spvtrfair', 'strredpg', 'phyeffrt', 'slpprblm', 'satjob1', 'knowschd', 'usetech', 'stress12', 'hyperten', 'arthrtis', 'diabetes', 'depress', 'weight', 'height', 'ntwkhard', 'misswork', 'lifenow', 'lifein5', 'cesd1', 'cesd2', 'cesd3', 'cesd4', 'cesd5', 'disrspct', 'poorserv', 'notsmart', 'afraidof', 'threaten', 'quallife', 'hlthphys', 'hlthmntl', 'satsoc', 'actssoc', 'physacts', 'emoprobs', 'fatigue', 'ratepain', 'abfelegl', 'abmelegl', 'abmoral', 'abstate1', 'abstate2', 'abhelp1', 'abhelp2', 'abhelp3', 'abhelp4', 'abmedgov1', 'abmedgov2', 'abinspay', 'natnotice', 'natviews', 'nataccess', 'nattime', 'natsat', 'natrelax', 'natactive', 'natmeet', 'nattimeok', 'natlack', 'numpets', 'whynopet', 'petb4', 'dog', 'cat', 'smammal', 'bird', 'fish', 'reptile', 'horse', 'pig', 'goat', 'othpet', 'petplay', 'petcmfrt', 'petfam', 'dogb4', 'catb4', 'smammalb4', 'birdb4', 'fishb4', 'reptileb4', 'horseb4', 'pigb4', 'goatb4', 'othpetb4', 'petb4ply', 'petb4cmfrt', 'petb4fam', 'workfor', 'workfor1', 'ownstock', 'stockval', 'stockops', 'extrapay', 'compperf', 'deptperf', 'indperf', 'extr2001', 'extr2017', 'extraval', 'extrayr', 'yearval', 'seecowrk', 'cowrkhrd', 'talkemp', 'talksup', 'donothng', 'lastwkmo', 'lastwkyr', 'empathy1', 'empathy2', 'empathy3', 'empathy4', 'empathy5', 'empathy6', 'empathy7', 'givblood', 'givhmlss', 'retchnge', 'cutahead', 'volchrty', 'givchrty', 'givseat', 'helpaway', 'carried', 'directns', 'loanitem', 'selfless', 'accptoth', 'othshelp', 'careself', 'peoptrbl', 'selffrst', 'volmonth', 'valgiven', 'finind', 'finind1', 'ownhh', 'ownhh1', 'eddone', 'eddone1', 'ftwork', 'ftwork1', 'supfam', 'supfam1', 'havchld', 'havchld1', 'getmar', 'getmar1', 'boycott', 'signpet', 'protest', 'conoffcl', 'givchng', 'hlpneedy', 'partthon', 'chldvig', 'chldprb', 'chldprob', 'chldhlp', 'badchar', 'chembal', 'stressfl', 'geneprob', 'raised', 'violtv', 'discipln', 'allergic', 'bettrown', 'imprvdis', 'imprveat', 'imprvmed', 'nextdoor', 'spendeve', 'chldfrnd', 'chldsch', 'adfam', 'adfammed', 'adtch', 'adtchmed', 'addoc', 'addocmed', 'adcou', 'adcoumed', 'adpsy', 'adpsymed', 'adhos', 'adhosmed', 'forcedoc', 'forcemed', 'forcehos', 'grwingup', 'mntlill', 'illphys', 'violpeop', 'violself', 'outsider', 'sufadult', 'comknows', 'failure', 'ovrmedkd', 'medkdneg', 'putsoff', 'trbllaw', 'medsavtx', 'zombies', 'pryntfam', 'adhdknow', 'adhdknw', 'adhdreal', 'adhdcon', 'adhdmed', 'mntlrel', 'medsymps', 'medaddct', 'medweak', 'medunacc', 'solveown', 'doc15a', 'doc16a', 'doc18a', 'doc19a', 'doc20a', 'caninf1', 'caninf2', 'caninf3', 'caninf4', 'caninf5', 'caninf6', 'caninf7', 'caninf8', 'caninf9', 'caninf10', 'caninf11', 'caninf12', 'caninf13', 'caninf14', 'difstand', 'rptprobs', 'othcredt', 'putdown', 'lackinfo', 'perspace', 'physharm', 'actupset', 'shout', 'hotargus', 'reliedon', 'gdjobsec', 'treatres', 'lookaway', 'skipwork', 'numemps', 'wrkslffam', 'ignorwk', 'rumorwk', 'jokeswk', 'eharaswk', 'rudewk', 'liedcwkr', 'denyrais', 'wkbhvrs', 'wkrspns', 'natborn', 'bornhome', 'travelus', 'immstats', 'rundrstd', 'robject', 'genevig1', 'genevig2', 'genenvo1', 'genenvo2', 'genenvo3', 'genenvo4', 'satself', 'afailure', 'slfrspct', 'ofworth', 'nogood', 'optimist', 'pessimst', 'notcount', 'moregood', 'owndoing', 'geneexps', 'depndabl', 'sadblue', 'athletic', 'kindpers', 'selfish', 'intrwght', 'agape1', 'agape2', 'agape3', 'agape4', 'hgunlaw', 'hguncrim', 'crimup', 'crimdown', 'numrelex', 'agerelex', 'chngrel', 'numrborn', 'agerborn', 'chngrbrn', 'entity', 'expchng1', 'expchng2', 'expchng3', 'whychng1', 'whychng2', 'whychng3', 'changed1', 'changed2', 'changed3', 'relalt1', 'relalt2', 'relalt3', 'relalt4', 'relalt5', 'relalt6', 'alloflfe', 'joylifts', 'relsprt1', 'relsprt2', 'godhelp', 'godguide', 'godlvdir', 'godlvoth', 'blessngs', 'closrgod', 'godclose', 'idols', 'rosaries', 'notthink', 'evdrink', 'drinkyr', 'drinkday', 'drink6up', 'drinkmax', 'drink12', 'drink8', 'drink5', 'drink3', 'drink1', 'drinkmin', 'churchtx', 'infrmgrp', 'typfrat', 'typserv', 'typvet', 'typpolit', 'typunion', 'typsport', 'typyouth', 'typschl', 'typhobby', 'typgreek', 'typnat', 'typfarm', 'typlit', 'typprof', 'typchurh', 'typother', 'typinfrm', 'numfrat', 'numserv', 'numvet', 'numpolit', 'numunion', 'numsport', 'numyouth', 'numschl', 'numhobby', 'numgreek', 'numnat', 'numfarm', 'numlit', 'numprof', 'numchurh', 'numother', 'numinfrm', 'yrfrat1', 'yrfrat2', 'yrfrat3', 'yrfrat4', 'yrserv1', 'yrserv2', 'yrserv3', 'yrserv4', 'yrserv5', 'yrserv6', 'yrserv7', 'yrserv8', 'yrvet1', 'yrvet2', 'yrvet3', 'yrvet4', 'yrvet5', 'yrpolit1', 'yrpolit2', 'yrpolit3', 'yrunion1', 'yrunion2', 'yrunion3', 'yrunion4', 'yrsport1', 'yrsport2', 'yrsport3', 'yrsport4', 'yrsport5', 'yrsport6', 'yryouth1', 'yryouth2', 'yryouth3', 'yryouth4', 'yryouth5', 'yrschl1', 'yrschl2', 'yrschl3', 'yrschl4', 'yrhobby1', 'yrhobby2', 'yrhobby3', 'yrgreek1', 'yrgreek2', 'yrgreek3', 'yrnat1', 'yrnat2', 'yrnat3', 'yrfarm1', 'yrfarm2', 'yrfarm3', 'yrlit1', 'yrlit2', 'yrlit3', 'yrlit4', 'yrprof1', 'yrprof2', 'yrprof3', 'yrprof4', 'yrprof5', 'yrprof6', 'yrchurh1', 'yrchurh2', 'yrchurh3', 'yrchurh4', 'yrchurh5', 'yrchurh6', 'yrother1', 'yrother2', 'yrother3', 'yrother4', 'yrother5', 'yrinfrm1', 'yrinfrm2', 'yrinfrm3', 'yrinfrm4', 'yrinfrm5', 'mtfrat1', 'mtfrat2', 'mtfrat3', 'mtfrat4', 'mtserv1', 'mtserv2', 'mtserv3', 'mtserv4', 'mtserv5', 'mtserv6', 'mtserv7', 'mtserv8', 'mtvet1', 'mtvet2', 'mtvet3', 'mtvet4', 'mtvet5', 'mtpolit1', 'mtpolit2', 'mtpolit3', 'mtunion1', 'mtunion2', 'mtunion3', 'mtunion4', 'mtsport1', 'mtsport2', 'mtsport3', 'mtsport4', 'mtsport5', 'mtsport6', 'mtyouth1', 'mtyouth2', 'mtyouth3', 'mtyouth4', 'mtyouth5', 'mtschl1', 'mtschl2', 'mtschl3', 'mtschl4', 'mthobby1', 'mthobby2', 'mthobby3', 'mtgreek1', 'mtgreek2', 'mtgreek3', 'mtnat1', 'mtnat2', 'mtnat3', 'mtfarm1', 'mtfarm2', 'mtfarm3', 'mtlit1', 'mtlit2', 'mtlit3', 'mtlit4', 'mtprof1', 'mtprof2', 'mtprof3', 'mtprof4', 'mtprof5', 'mtprof6', 'mtchurh1', 'mtchurh2', 'mtchurh3', 'mtchurh4', 'mtchurh5', 'mtchurh6', 'mtother1', 'mtother2', 'mtother3', 'mtother4', 'mtother5', 'mtinfrm1', 'mtinfrm2', 'mtinfrm3', 'mtinfrm4', 'mtinfrm5', 'grpboth1', 'grpboth2', 'grpboth3', 'grpboth4', 'grpboth5', 'frstmet1', 'frstmet2', 'frstmet3', 'frstmet4', 'frstmet5', 'yrskwn1', 'yrskwn2', 'yrskwn3', 'yrskwn4', 'yrskwn5', 'relneg', 'newsfrom', 'scifrom', 'seeksci', 'nextgen', 'toofast', 'bettrlfe', 'advfront', 'scispec', 'leadsci', 'whichsci', 'astrolgy', 'astrosci', 'scibnfts', 'balpos', 'balneg', 'scistudy', 'scitext', 'expdesgn', 'exptext', 'odds1', 'odds2', 'hotcore', 'radioact', 'boyorgrl', 'lasers', 'electron', 'viruses', 'bigbang', 'bigbang1', 'bigbang2', 'condrift', 'evolved', 'evolved1', 'evolved2', 'earthsun', 'solarrev', 'tomatoes', 'intrhome', 'coldeg1', 'majorcol', 'colsci', 'colscinm', 'hsmath', 'hsbio', 'hschem', 'hsphys', 'gwsci', 'gwpol', 'gwbiz', 'sciagrgw', 'sciinfgw', 'polinfgw', 'bizinfgw', 'scibstgw', 'polbstgw', 'bizbstgw', 'gasregs', 'scmed', 'screlig', 'scpol', 'medagrsc', 'medinfsc', 'relinfsc', 'polinfsc', 'medbstsc', 'relbstsc', 'polbstsc', 'scresrch', 'txeco', 'txbiz', 'txpol', 'ecoagree', 'ecoinftx', 'bizinftx', 'polinftx', 'ecobsttx', 'bizbsttx', 'polbsttx', 'gmmed', 'gmpol', 'gmbiz', 'medagrgm', 'medinfgm', 'polinfgm', 'bizinfgm', 'medbstgm', 'polbstgm', 'bizbstgm', 'eatgm', 'sciimp1', 'sciimp2', 'sciimp3', 'sciimp4', 'sciimp5', 'sciimp6', 'sciimp7', 'sciimp8', 'socsci', 'physcsci', 'histsci', 'accntsci', 'biosci', 'econsci', 'medsci', 'engnrsci', 'knwforgn', 'knwecon', 'knwsci', 'knwgw', 'knwpolar', 'tvbears', 'tvinuit', 'tvozone', 'tvmeltng', 'tvoil', 'polaryr1', 'polaryr2', 'polaryr3', 'polaryr4', 'polaryr5', 'polaryr6', 'polaryr7', 'polaryr8', 'icesheet', 'nosun', 'inuit', 'huntbear', 'icecaps', 'comorsci', 'extinct', 'sealevel', 'artseals', 'penguins', 'inuitway', 'noicecap', 'caremost', 'nanotech', 'nanoknw1', 'nanoknw2', 'nanowill', 'nanoben', 'nanoharm', 'scimode', 'intintl', 'intfarm', 'inteduc', 'intsci', 'intecon', 'inttech', 'intmed', 'intspace', 'intenvir', 'intmil', 'sciintro', 'visart', 'visnhist', 'viszoo', 'vissci', 'vislib', 'scimath', 'anscitst', 'maboygrl', 'h2olife', 'anheat', 'lftplane', 'stormtxt', 'litmstxt', 'goldfish', 'salth2o', 'erosion', 'genes', 'gills', 'upbreath', 'daynight', 'weighing', 'seesand', 'fishexp1', 'fishexp2', 'morempg', 'polnuke', 'biznuke', 'engnuke', 'engagrnk', 'enhinfnk', 'polinfnk', 'bizinfnk', 'engbstnk', 'polbstnk', 'bizbstnk', 'nukeelec', 'cloning', 'scinews1', 'scinews2', 'scinews3', 'newsfrmy', 'scifromy', 'seeksciy', 'sciinfgo', 'scientda', 'scientsn', 'scientr', 'scientdo', 'sciental', 'scientdn', 'scientgo', 'scientfu', 'scienthe', 'scientod', 'scientbe', 'scientre', 'scientwk', 'scientmo', 'scientbr', 'engda', 'engson', 'engresp', 'engdo', 'englone', 'engdgr', 'enggood', 'engfun', 'engprob', 'engodd', 'engbtr', 'engrel', 'engint', 'engearn', 'engbrng', 'farming', 'journlsm', 'fireftng', 'marrcoun', 'medtreat', 'architct', 'lawenfrc', 'engnring', 'slsmnshp', 'cmprgmng', 'finlcoun', 'buyvalue', 'ops2005', 'extr2005', 'compwage', 'talkteam', 'numorg', 'empinput', 'slfmangd', 'emptrain', 'wealth', 'esop', 'defpensn', 'trdestck', 'buyesop', 'esopnot', 'company', 'viglab06', 'mhtrtoth', 'mhothyou', 'mhothrel', 'seemhpub', 'gesttalk', 'avoidmh', 'numknown', 'acqkevin', 'acqkaren', 'acqshawn', 'acqbrnda', 'acqkeith', 'acqrachl', 'acqmark', 'acqlinda', 'acqjose', 'acqmaria', 'acqunemp', 'acqhome', 'acqprisn', 'acqasian', 'acqblack', 'acqhisp', 'acqwhite', 'acqgay', 'acqcohab', 'acqgoatt', 'acqnoatt', 'acqlib', 'acqcon', 'acqcops', 'acqlaws', 'acqsocs', 'acqjans', 'acqchild', 'acqelecs', 'acqmils', 'acqfmmrk', 'acqfmlin', 'acqfmune', 'acqfmhme', 'acqfmpri', 'acqfmasn', 'acqfmblk', 'acqfmhsp', 'acqfmwht', 'acqfmgay', 'acqfmgo', 'acqfmno', 'acqfmlib', 'acqfmcon', 'acqfmcoh', 'acqnhmrk', 'acqnhlin', 'acqnhune', 'acqnhhme', 'acqnhpri', 'acqnhasn', 'acqnhblk', 'acqnhhsp', 'acqnhwht', 'acqnhgay', 'acqnhgo', 'acqnhno', 'acqnhlib', 'acqnhcon', 'acqnhcoh', 'acqwkmrk', 'acqwklin', 'acqwkune', 'acqwkhme', 'acqwkpri', 'acqwkasn', 'acqwkblk', 'acqwkhsp', 'acqwkwht', 'acqwkgay', 'acqwkgo', 'acqwkno', 'acqwklib', 'acqwkcon', 'acqwkcoh', 'acqvamrk', 'acqvalin', 'acqvaune', 'acqvahme', 'acqvapri', 'acqvaasn', 'acqvablk', 'acqvahsp', 'acqvawht', 'acqvagay', 'acqvago', 'acqvano', 'acqvalib', 'acqvacon', 'acqvacoh', 'acqreps', 'acqdems', 'acqattnd', 'acqmyrac', 'trtkevin', 'trtkaren', 'trtshawn', 'trtbrnda', 'trtkeith', 'trtrachl', 'trtmark', 'trtlinda', 'trtjose', 'trtmaria', 'trtcops', 'trtlaws', 'trtsocs', 'trtjans', 'trtchild', 'trtelecs', 'trtmils', 'trtunemp', 'trthome', 'trtprisn', 'trtasian', 'trtblack', 'trthisp', 'trtwhite', 'trtgay', 'trtcohab', 'trtgoatt', 'trtnoatt', 'trtlib', 'trtcon', 'trtreps', 'trtdems', 'trtattnd', 'trtmyrac', 'gunsales', 'gunsdrug', 'semiguns', 'guns911', 'rifles50', 'othguns', 'gunsdrnk', 'spnatdis', 'natdisin', 'natdiscm', 'newsprnt', 'getaheay', 'disabld1', 'disabld2', 'disabld3', 'disabld4', 'disabld5', 'disabld6', 'disabld7', 'vigvermy', 'mhproblm', 'mhdofam', 'mhdofrnd', 'mhdorel', 'mhdodoc', 'mhdopsyc', 'mhdomhp', 'mhdoheal', 'mhdootc', 'mhdorx', 'mhdohosp', 'mhdopray', 'mhdolife', 'mhdoherb', 'mhdofrgt', 'mhdoactv', 'mhdogrp', 'mhdodiet', 'mhdoexrc', 'mhdomove', 'mhdooth', 'mhdonone', 'mhchrctr', 'mhbrain', 'mhraised', 'mhstress', 'mhgenes', 'mhgod', 'mhluck', 'mhupdown', 'mhillnss', 'mhphyscl', 'mhneihbr', 'mhsocial', 'mhkdcare', 'mhfriend', 'mhwkwith', 'mhwedrel', 'mhimpown', 'mhimptrt', 'mhdecslf', 'mhmoney', 'mhoutsdr', 'mhlosefr', 'mhlessop', 'mhuneasy', 'mhunsure', 'mhintl', 'mhnotpol', 'mhhrdtlk', 'mhnokids', 'mhcreatv', 'mhnervs', 'mhprdctv', 'mhfeelem', 'mhtrusty', 'mhaccptd', 'mhhired', 'mhnotell', 'mhsecret', 'mhsupwrk', 'mhnotch', 'mhhlpfam', 'mhhlpfrd', 'mhhlprel', 'mhhlpgp', 'mhhlppsy', 'mhhlpmhp', 'mhgvtjob', 'mhgvthlt', 'mhgvthme', 'mhgvtedc', 'mhgvtdis', 'mhslfshm', 'mhfamshm', 'mhseedoc', 'mhmeds', 'mhhsptrt', 'mhmnthsp', 'mhviooth', 'mhvioslf', 'mhcause', 'mhtrtot2', 'mhdiagno', 'mhclsoth', 'mhseroth', 'mhhlpoth', 'mhresoth', 'mhdisoth', 'mhreloth', 'mhexpoth', 'mhtrtslf', 'mhseepub', 'mhfright', 'mhsymp', 'startbiz', 'ownbiz', 'numown', 'yearbiz', 'paidemps', 'bizgross', 'bizshare', 'owninc', 'whybiz', 'numemps5', 'spjrel16', 'spjoth16', 'majwoth', 'pajwoth', 'bmitzvah', 'synmem', 'kd1relig', 'kd2relig', 'kd3relig', 'kd4relig', 'kd5relig', 'kd6relig', 'kd7relig', 'kd8relig', 'kd1jwoth', 'kd2jwoth', 'kd3jwoth', 'kd4jwoth', 'kd5jwoth', 'done911a', 'eff911a', 'done911b', 'eff911b', 'done911c', 'eff911c', 'done911d', 'eff911d', 'done911e', 'eff911e', 'done911f', 'eff911f', 'done911g', 'eff911g', 'done911h', 'eff911h', 'done911i', 'eff911i', 'done911j', 'eff911j', 'done911k', 'eff911k', 'done911l', 'eff911l', 'done911m', 'eff911m', 'done911n', 'eff911n', 'doneelse', 'work3yrs', 'curempyr', 'paychnge', 'pastpay', 'whyleave', 'whyjbct1', 'whyjbct2', 'losejb12', 'whylose1', 'whylose2', 'whylose3', 'findnwjb', 'moretrde', 'newjobs', 'lostjobs', 'wkcomptr', 'wocomptr', 'autonojb', 'meetf2f1', 'meetf2f2', 'intlcowk', 'lastyrwk', 'leavejb', 'whynojb1', 'whynojb2', 'inclstjb', 'bornsp', 'agecmeus', 'visa', 'typevisa', 'natdeg', 'emphlth', 'emphplan', 'othplan', 'sexsex18', 'toldsmsx', 'attractd', 'toldsxor', 'relgendr', 'marunion', 'sexunion', 'evkid', 'adoptkid', 'kidlived', 'kidresp', 'kidnow1', 'kidnow2', 'toldwork', 'evlosejb', 'losejob5', 'evnegjob', 'negjob5', 'evharjb', 'harjob5', 'evdwell', 'dwell5', 'emphlth1', 'emphlth2', 'hlthcovr', 'hlthtype', 'sppart', 'mykids', 'othkids', 'harsexjb', 'harsexcl', 'ownclerg', 'numclerg', 'openrel1', 'openrel2', 'openrel3', 'counsel1', 'counsel2', 'counsel3', 'clrgmar1', 'clrgmar2', 'clrgmar3', 'clrgsex1', 'clrgsex2', 'clrgsex3', 'clrggen1', 'clrggen2', 'clrggen3', 'ongorel1', 'ongorel2', 'ongorel3', 'hushrel1', 'hushrel2', 'hushrel3', 'toldexp1', 'toldexp2', 'toldexp3', 'toldrel1', 'toldrel2', 'toldrel3', 'knwclsex', 'clsclsex', 'clrgmode', 'prespop', 'volactyr', 'volacty2', 'polefy3', 'polefy11', 'polefy13', 'polefy15', 'polefy16', 'polefy17', 'ratetone', 'pubdef', 'pubecon', 'obeylaw', 'protest1', 'protest2', 'protest3', 'protest4', 'protest5', 'protest6', 'revspeak', 'revtch15', 'revpub', 'racspeak', 'ractch15', 'racpub', 'crimtail', 'crimtap', 'crimread', 'crimhold', 'mantail', 'mantap', 'manread', 'manhold', 'verdict', 'databank', 'progtax', 'eqincome', 'oprich', 'opprof', 'opfamily', 'fecolop', 'fejobop', 'feinc', 'fehlpbus', 'fehlpcol', 'fehlpjob', 'hsbasics', 'hssexed', 'hsrespct', 'hslibart', 'hsjudge', 'hsjobtr', 'hssci', 'hscaring', 'hsorder', 'colop', 'aidneedy', 'aidsmart', 'aidavg', 'kiddrugs', 'kidskips', 'kidout', 'kidneedy', 'kidbeat', 'kidhlth', 'kidedpar', 'kidxfilm', 'beltup', 'nosmoke', 'mustret', 'poleff1', 'poleff2', 'poleff3', 'poleff4', 'poleff5', 'poleff6', 'poleff7', 'poleff8', 'poleff9', 'poleff10', 'setwage', 'setprice', 'cutgovt', 'makejobs', 'lessreg', 'hlphitec', 'savejobs', 'cuthours', 'spenviro', 'sphlth', 'sppolice', 'spschool', 'sparms', 'spretire', 'spunemp', 'sparts', 'inctax', 'bustax', 'infljobs', 'laborpow', 'buspow', 'govtpow', 'ownpower', 'ownmass', 'ownsteel', 'ownbanks', 'ownautos', 'jobsall', 'pricecon', 'hlthcare', 'aidold', 'aidindus', 'aidunemp', 'equalize', 'aidcol', 'aidhouse', 'protstrs', 'revoltrs', 'racists', 'unionsok', 'polint', 'rprtst1', 'rprtst3', 'rprtst15', 'rprtst35', 'grnlaws', 'gendereq', 'prvdhlth', 'prvdold', 'prvdschl', 'gvinflu1', 'gvinflu2', 'polgbeco', 'poleff11', 'poleff12', 'poleff13', 'poleff14', 'poleff15', 'poleff16', 'poleff17', 'demworks', 'taxspend', 'taxpaid', 'taxbylaw', 'brlawfl', 'brnotax', 'runpower', 'runhosp', 'runbanks', 'cutdebt', 'helphlth', 'helpold', 'helpsec', 'helpcrim', 'helpemp', 'helpenv', 'cctv', 'emonitor', 'govtinfo', 'givinfusa', 'givinffor', 'wotrial', 'tapphone', 'stoprndm', 'fewtrsty', 'exploit', 'youinflu', 'hlpinflu', 'polsfair', 'knowpols', 'corrupt1', 'corrupt2', 'bribe', 'peocntct', 'malive', 'mavisit', 'matime', 'macall', 'palive', 'pavisit', 'patime', 'pacall', 'sisnum', 'sisvisit', 'sistime', 'siscall', 'bronum', 'brovisit', 'brotime', 'brocall', 'daunum', 'dauvisit', 'dautime', 'daucall', 'sonnum', 'sonvisit', 'sontime', 'soncall', 'posslq', 'posslqy', 'marcohab', 'grparnum', 'grkidnum', 'unaunum', 'inlawnum', 'relnum', 'relmost', 'relvisit', 'reltime', 'relcall', 'frinum', 'friwork', 'frineigh', 'frisex', 'frivisit', 'fritime', 'fricall', 'chores1', 'chores2', 'sick1', 'sick2', 'borrow1', 'borrow2', 'upset1', 'upset2', 'down1', 'down2', 'change1', 'change2', 'livecom', 'livehome', 'matime1', 'sibnum', 'sibmost', 'sibvisit', 'sibcall', 'kidnum', 'kidmost', 'kidvisit', 'kidcall', 'pavisit1', 'pacall1', 'mavisit1', 'macall1', 'uncaunts', 'cousins', 'parslaw', 'sibinlaw', 'niecenep', 'godparts', 'cowrkfrd', 'neifrd', 'bestfrd', 'bstvisit', 'bstcall', 'grppol', 'grpunion', 'grpchurh', 'grpsport', 'grpchrty', 'grpnei', 'grpoth', 'sick1a', 'sick2a', 'borrow1a', 'borrow2a', 'down1a', 'down2a', 'helphwrk', 'lentto', 'talkedto', 'helpjob', 'learnjob', 'frdthink', 'frdhelps', 'frdknows', 'frdenjoy', 'kidpars', 'firstyou', 'helpfrds', 'usefrds', 'aidkids', 'othfrd', 'demands', 'trustpeo', 'wantbest', 'advantge', 'comyear', 'localgvt', 'knwbus', 'knwexec', 'knwclenr', 'knwcuttr', 'knwhrman', 'knwlawyr', 'knwmchnc', 'knwnurse', 'knwcop', 'knwtcher', 'smallgap', 'govlazy', 'partlsc', 'partpart', 'partvol', 'hlphome', 'hlpsick', 'hlpdown', 'hlpadvce', 'hlpsococ', 'hlploan', 'hlpjob', 'hlppaper', 'hlpresde', 'hlpsickr', 'lonely1', 'lonely2', 'lonely3', 'trcourts', 'trbigbus', 'fampress', 'upset', 'dinefrds', 'newfrds', 'conwkday', 'conf2f', 'cntctpar', 'cntctsib', 'cntctkid', 'cntctfam', 'cntctfrd', 'intcntct', 'healthissp', 'unhappy', 'pilingup', 'mygoals', 'satlife', 'endsmeet', 'numlangs', 'opwlth', 'oppared', 'opeduc', 'opambit', 'opable', 'ophrdwrk', 'opknow', 'opclout', 'oprace', 'oprelig', 'opregion', 'opsex', 'oppol', 'goodlife', 'incentiv', 'inequal1', 'inequal2', 'inequal3', 'inequal4', 'inequal5', 'inequal6', 'inequal7', 'paymason', 'paydoc', 'payclerk', 'payowner', 'payexec', 'payskill', 'payfarm', 'paysec', 'paybus', 'payunskl', 'paycabnt', 'paylaw', 'paysales', 'payfctry', 'payjudge', 'payrocc', 'givmason', 'givdoc', 'givclerk', 'givowner', 'givexec', 'givskill', 'givfarm', 'givsec', 'givbus', 'givunskl', 'givcabnt', 'givlaw', 'givsales', 'givfctry', 'givjudge', 'givrocc', 'incgap', 'goveqinc', 'govedop', 'govjobs', 'govless', 'govunemp', 'govminc', 'taxrich', 'taxmid', 'taxpoor', 'taxshare', 'conwlth', 'conclass', 'conjobs', 'conunion', 'conurban', 'consoc', 'conage', 'occmobil', 'pajob', 'paslf', 'firstjob', 'firstslf', 'lastjob', 'lastslf', 'rewrdeff', 'rewrdint', 'corrupt', 'earndes', 'ldcgap', 'ldctax', 'richhlth', 'richeduc', 'payresp', 'payedtrn', 'paysup', 'payfam1', 'paychild', 'paydowel', 'payhard', 'justpay', 'soctype1', 'soctype2', 'famrnk', 'unsklrnk', 'execrnk', 'pasup', 'books16', 'mawrkwrm', 'kidsuffr', 'famsuffr', 'hapifwrk', 'homekid', 'housewrk', 'fejobind', 'twoincs', 'hubbywrk', 'ilikejob', 'wrknokid', 'wrkbaby', 'wrksch', 'wrkgrown', 'daycare1', 'daycare2', 'daycare3', 'daycare4', 'daycare5', 'femarry', 'memarry', 'marhappy', 'marfree', 'marfin', 'markids', 'marnomar', 'marlegit', 'marmakid', 'marpakid', 'mardiv', 'marhomo', 'numkids', 'nokids', 'onekid', 'twokids', 'threkids', 'fourkids', 'kidtrble', 'kidjoy', 'kidnofre', 'kidless', 'kidfin', 'kidempty', 'divnow', 'divnokid', 'divifkid', 'divkids', 'divwife', 'divhubby', 'mawork14', 'evdiv', 'spevdiv', 'cohabit', 'rwrknokd', 'rwrkbaby', 'rwrksch', 'rwrkgrwn', 'earnsmor', 'fewrksup', 'hubbywk1', 'mrmom', 'meovrwrk', 'singlpar', 'cohabok', 'cohabfst', 'divbest', 'divifkd1', 'divnokd1', 'livnowed', 'mapaid', 'chldcare', 'abchoose', 'teensex1', 'sexhar', 'fambudgt', 'laundry', 'repairs', 'caresick', 'shopfood', 'dinner', 'spwknokd', 'spwkbaby', 'spwrksch', 'spwkgrwn', 'mehhwork', 'mekdcare', 'laundry1', 'repairs1', 'caresik1', 'shop1', 'clean1', 'cooking1', 'rhhwork', 'sphhwork', 'hhwkfair', 'hhwkdis', 'deckids', 'spborn', 'weekend', 'buythngs', 'timehome', 'strsshme', 'timework', 'strsswrk', 'tiredhme', 'jobvsfam', 'tiredwrk', 'famvswrk', 'happy7', 'satjob7', 'satfam7', 'fewknokd', 'twoincs1', 'earnshh', 'ssfchild', 'ssmchild', 'kidfinbu', 'kidjob', 'kidsocst', 'eldersup', 'paidlv', 'paidlv1', 'paidlvpy', 'paidlvdv', 'famwkbst', 'famwklst', 'careprov', 'carecost', 'eldhelp', 'eldcost', 'hhclean1', 'wkndact', 'tiredhm1', 'jobvsfa1', 'tiredwk1', 'famvswk1', 'wkkidscl', 'wkyngscl', 'wkkidscs', 'wkyngscs', 'rfamlook', 'spfalook', 'splive', 'timepdwk', 'timehhwk', 'timefam', 'timefrnd', 'timeleis', 'timerelx', 'wrkearn', 'wrkenjoy', 'wrkimp', 'hwduties', 'yrsfirm', 'dowell', 'expernc', 'paysame', 'ageemp', 'sexemp', 'famresp', 'educemp', 'dk', 'bosswrks', 'strngun', 'secjob', 'hiinc', 'promotn', 'leisure', 'intjob', 'wrkindp', 'hlpoths', 'hlpsoc', 'flexhrs', 'flexhrs1', 'wkpersnl', 'famorjob', 'joborfam', 'discwk5', 'whydisc5', 'harass5', 'unionsbd', 'rcontact', 'wkathome', 'wkwkends', 'decidwrk', 'wrkshift', 'chngewrk', 'nounemp5', 'nounemp6', 'extrawrk', 'extraern', 'jbendyr', 'jbendmo', 'exjobsat', 'wornojob', 'newskill', 'lowpay', 'tempwork', 'mortravl', 'moveinus', 'moveaway', 'econsup1', 'worecsup', 'unpeople', 'unmoney', 'unslfcon', 'unrespct', 'unfamten', 'unjobexp', 'unbored', 'undk', 'empself', 'smallbig', 'indusoth', 'privgovt', 'workweek', 'wantjob', 'findjob', 'iwrkhard', 'hrsmoney', 'ryrsfirm', 'rdowell', 'rpaysame', 'rexpernc', 'rageemp', 'rfamresp', 'reducemp', 'rdk', 'rsecjob', 'rhiinc', 'rpromotn', 'rleisure', 'rintjob', 'rwrkindp', 'rhlpoths', 'rhlpsoc', 'rflexhrs', 'xhaustn', 'physwrk', 'stress', 'boredom', 'danger', 'unhlthy', 'unpleznt', 'planwrk', 'findwork', 'bossemps', 'cowrkers', 'jobsat', 'supervis', 'suprvsjb', 'supnum', 'moonlite', 'othhrs', 'numsites', 'localnum', 'totalnum', 'employer', 'numemply', 'paydojob', 'payfam', 'payeduc', 'paytime', 'techjobs', 'techwork', 'wantjob1', 'worknow', 'sethours', 'placewrk', 'wktenure', 'useskill', 'edcskill', 'jobskill', 'helporg1', 'prideorg', 'chngwork', 'stayorg3', 'proudwrk', 'absent', 'leavejob', 'worryjob', 'evjob', 'yrjobend', 'whyjbend', 'wantjob2', 'getjob', 'lookjob', 'pubagncy', 'priagncy', 'wantads', 'adforjob', 'appemps', 'askhelp', 'econsup', 'selfemp1', 'selfemp2', 'unjobsec', 'unbetter', 'rimpskls', 'dailywrk', 'timeoff', 'jbintfam', 'famintjb', 'newjob', 'jbtrain', 'jobeasy', 'replaceu', 'nounemp1', 'nounemp2', 'nounemp3', 'nounemp4', 'otherwrk', 'skltrain', 'spwrkgvt', 'hapunhap', 'stiffpun', 'deathpen', 'premars1', 'xmarsex1', 'homosex1', 'abdefct1', 'abpoor1', 'abdefctw', 'abpoorw', 'taxcheat', 'govcheat', 'concong', 'conbiz', 'congovt', 'conchurh', 'concourt', 'conschls', 'polsgod', 'clergvte', 'religpub', 'clerggov', 'churhpow', 'godchnge', 'afterlif', 'devil', 'heaven', 'hell', 'miracles', 'bible1', 'theism', 'fatalism', 'godmeans', 'nihilism', 'predeter', 'egomeans', 'ownfate', 'relexper', 'marelkid', 'madenkid', 'parelkid', 'padenkid', 'religkid', 'denkid', 'religsp', 'densp', 'attendma', 'attendpa', 'attend12', 'prayfreq', 'relactiv', 'relactiv1', 'relscrpt', 'feelrel', 'schlpray', 'godright', 'socright', 'perright', 'antirel', 'befair', 'cantrust', 'trustsci', 'religcon', 'religint', 'religinf', 'volwkpol', 'volwkchr', 'volwkrel', 'volwkoth', 'reltruth', 'carright', 'cardo', 'geomobil', 'relgrpeq', 'rspctrel', 'relmarry', 'relcand', 'relext1', 'relext2', 'relext3', 'reincar', 'nirvana', 'ancestrs', 'mywaygod', 'relgeneq', 'relobjct', 'vistholy', 'relsprt', 'paxhappy', 'makefrnd', 'comfort', 'rightpeo', 'relgenbar', 'govvsrel', 'difrel', 'relpast', 'relrlvnt', 'christns', 'muslims', 'hindus', 'buddhsts', 'jews', 'atheists', 'perscrfc', 'obeythnk', 'privent', 'postmat1', 'postmat2', 'scifaith', 'harmgood', 'sciworse', 'scigrn', 'grnecon', 'harmsgrn', 'anrights', 'resnatur', 'grnprog', 'naturpax', 'grwthelp', 'antests', 'naturwar', 'grwtharm', 'naturgod', 'grnprice', 'grntaxes', 'grnsol', 'toodifme', 'ihlpgrn', 'scitest1', 'scitest2', 'scitest3', 'scitest4', 'scitest5', 'grntest1', 'grntest2', 'grntest3', 'grntest4', 'grntest5', 'grntest6', 'grntest7', 'carsgen', 'carsfam', 'carsten', 'nukegen', 'nukefam', 'indusgen', 'indusfam', 'chemgen', 'chemfam', 'watergen', 'waterfam', 'tempgen', 'tempfam', 'pubdecid', 'busdecid', 'usdoenuf', 'recycle', 'chemfree', 'nomeat', 'drivless', 'grngroup', 'grnsign', 'grnmoney', 'grndemo', 'comtype', 'popgrwth', 'impgrn', 'othssame', 'grnexagg', 'genegen', 'amprogrn', 'bizpeop', 'govtbiz', 'peopgovt', 'grnintl', 'ldcgrn', 'econgrn', 'nukeacc', 'infobiz', 'infogrn', 'infogovt', 'infonews', 'infotv', 'infocol', 'excldimm', 'topprob1', 'topprob2', 'trust5', 'fair5', 'grncon', 'enprbus', 'enprbfam', 'knwcause', 'knowsol', 'futenrgy', 'helpharm', 'grneffme', 'tempgen1', 'busgrn', 'peopgrn', 'redcehme', 'h2oless', 'nobuygrn', 'clsenei', 'clsetown', 'clsestat', 'clseusa', 'clsenoam', 'movenei', 'movetown', 'movestat', 'moveusa', 'movenoam', 'onenatn', 'ambornin', 'amcit', 'amlived', 'amenglsh', 'amchrstn', 'amgovt', 'amfeel', 'amcitizn', 'amshamed', 'belikeus', 'ambetter', 'ifwrong', 'amsports', 'prouddem', 'proudpol', 'proudeco', 'proudsss', 'proudsci', 'proudspt', 'proudart', 'proudmil', 'proudhis', 'proudgrp', 'imports', 'wrldgovt', 'forlang', 'amownway', 'forland', 'amtv', 'amcult', 'mincult', 'meltpot1', 'immcrime', 'immameco', 'immjobs', 'immideas', 'letin1', 'refugees', 'res161', 'livecom1', 'abroad', 'spkhome1', 'spkhome2', 'spklang1', 'spklang2', 'spklang3', 'citizen', 'parcit', 'ethclose', 'nafta1', 'nafta2', 'socid1', 'socid2', 'socid3', 'amancstr', 'lessprd', 'intlincs', 'freetrde', 'decsorgs', 'powrorgs', 'citworld', 'forcult', 'internet', 'immimp', 'immcosts', 'kidshere', 'kidsaway', 'immrghts', 'amproud1', 'nafta2a', 'nafta3', 'shortcom', 'immcult', 'immeduc', 'letin1a', 'immassim', 'patriot1', 'patriot2', 'patriot3', 'patriot4', 'voteelec', 'paytaxes', 'obeylaws', 'watchgov', 'actassoc', 'othreasn', 'buypol', 'helpusa', 'helpwrld', 'milserve', 'relmeet', 'revmeet', 'racmeet', 'signdpet', 'avoidbuy', 'joindem', 'attrally', 'cntctgov', 'polfunds', 'usemedia', 'interpol', 'grpparty', 'grpwork', 'grprelig', 'grpsprts', 'grpother', 'solok', 'rghtsmin', 'eqtreat', 'citviews', 'polopts', 'oppsegov', 'poleff18', 'poleff19', 'poleff20', 'actlaw', 'affctlaw', 'polint1', 'govdook', 'polgreed', 'discpol', 'chngeoth', 'powerun', 'govngos', 'unrghts', 'polactve', 'choices', 'refrndms', 'elecvote', 'elecfair', 'servepeo', 'fixmistk', 'corruptn', 'demtoday', 'dem10pst', 'dem10fut', 'demrghts', 'gvtrghts', 'polinter', 'polnews', 'crimlose', 'ntcitvte', 'notvote', 'hlthall', 'leftrght', 'creation', 'scitesty', 'big5a1', 'big5b1', 'big5c1', 'big5d1', 'big5e1', 'big5a2', 'big5b2', 'big5c2', 'big5d2', 'big5e2', 'forbdcom', 'forbdrac', 'forbdmar', 'allowcom', 'allowrac', 'allowmar', 'cideknew', 'cidewho', 'cidesex', 'cideage', 'ciderace', 'cidereg', 'cidewho2', 'cidesex2', 'cideage2', 'ciderac2', 'cidereg2', 'cidewho3', 'cidesex3', 'cideage3', 'ciderac3', 'cidereg3', 'aidsknow', 'aidswho', 'aidsdead', 'aidssex', 'aidsage', 'aidsrace', 'aidsreg', 'aidswho2', 'aidsded2', 'aidssex2', 'aidsage2', 'aidsrac2', 'aidsreg2', 'aidswho3', 'aidsded3', 'aidssex3', 'aidsage3', 'aidsrac3', 'aidsreg3', 'suiknew', 'suiwho', 'suisex', 'suiage', 'suirace', 'suireg', 'suiwho2', 'suisex2', 'suiage2', 'suirac2', 'suireg2', 'suiwho3', 'suisex3', 'suiage3', 'suirac3', 'suireg3', 'aidssch', 'aidsads', 'aidsinsr', 'aidshlth', 'aidsmar', 'aidssxed', 'aidsids', 'aidsfare', 'partners', 'matesex', 'frndsex', 'acqntsex', 'pikupsex', 'paidsex', 'othersex', 'sexsex', 'sexfreq', 'sexfreq1', 'sexfreq2', 'numwomen', 'nummen', 'partopen', 'partopn5', 'partnrs5', 'sexsex5', 'evpaidsx', 'evstray', 'condom', 'relatsex', 'evidu', 'idu30', 'evcrack', 'crack30', 'hivtest', 'hivtest1', 'hivtest2', 'aidslook', 'aidscndm', 'hivvac', 'hivkiss', 'sexornt', 'sexbirth', 'sexnow', 'siborder', 'genetest', 'genetst1', 'genegood', 'genegoo1', 'genegoo2', 'geneself', 'geneabrt', 'maleornt', 'geneself2', 'geneabrt2', 'genedef1', 'genedef2', 'genedef3', 'parhardr', 'parworse', 'parrght', 'parwhere', 'parfin', 'pargovt', 'partime', 'parwork', 'partaxes', 'rolema', 'rolepa', 'rolegp', 'roleccp', 'roletchr', 'roleclrg', 'chldeduc', 'chldlove', 'chldsafe', 'chldmorl', 'chldsup', 'chldhome', 'chldhlth', 'chldskls', 'chldtime', 'inffilms', 'infpubtv', 'infnettv', 'infadstv', 'infmusic', 'sppregnt', 'sphlthkd', 'spheadst', 'sppoorkd', 'spwrkpar', 'sphomekd', 'spdsabkd', 'spdrugs', 'spfoodkd', 'sppill', 'prob1', 'prob2', 'prob3', 'prob4', 'hlth1', 'hlth2', 'hlth3', 'hlth4', 'hlth5', 'hlth6', 'hlth7', 'hlth8', 'hlth9', 'hlth10', 'hlth11', 'hlth12', 'hlth13', 'hlth14', 'work1', 'work2', 'work3', 'work4', 'work5', 'work6', 'work7', 'work8', 'work9', 'work10', 'finan1', 'finan2', 'finan3', 'finan4', 'finan5', 'hrdshp1', 'hrdshp2', 'hrdshp3', 'hrdshp4', 'hrdshp5', 'hrdshp6', 'hrdshp7', 'famper1', 'famper2', 'famper3', 'famper4', 'famper5', 'famper6', 'law1', 'law2', 'law3', 'law4', 'law5', 'law6', 'law7', 'live1', 'live2', 'live3', 'live4', 'oth1', 'oth2', 'oth3', 'oth4', 'oth5', 'extra1', 'extra2', 'povline', 'incdef', 'realinc', 'realrinc', 'coninc', 'conrinc', 'minfour', 'minfood', 'minthree', 'sectech', 'secdocs', 'rptcowrk', 'askfinan', 'askcrime', 'askdrugs', 'askmentl', 'askforgn', 'askdrink', 'asksexor', 'askfrbiz', 'askfrtrv', 'askcomp', 'secprvcy', 'secdiplo', 'secmilop', 'secterr', 'secbudgt', 'chkfinan', 'chkspfin', 'chktaxes', 'knomentl', 'takearms', 'leakinfo', 'spyenemy', 'spyfrend', 'taketrck', 'punarms', 'punleak', 'punenmy', 'punfrnd', 'puntrck', 'comsteal', 'comdata', 'comsys', 'comsnoop', 'comemail', 'comporn', 'lietest', 'testdrug', 'bugging', 'finanqs', 'chkonjob', 'chkother', 'compfin', 'chktravl', 'emailwrk', 'emailhme', 'tapwrk', 'taphme', 'srchwrk', 'camwrk', 'usspy', 'forspy', 'usterror', 'frterror', 'forsteal', 'nuclrwar', 'ethnic', 'eth1', 'eth2', 'eth3', 'ethnum', 'spethnic', 'speth1', 'speth2', 'speth3', 'spethnum', 'racesee', 'racedbtf', 'raceself', 'hispanic', 'racecen1', 'racecen2', 'racecen3', 'difrace1', 'difrace2', 'difrace3', 'racethwh', 'racethhi', 'racethbl', 'racethas', 'racethna', 'racethot', 'racethmn', 'uscitzn', 'fucitzn', 'yearsusa', 'mnthsusa', 'vetyears', 'vetkind', 'workdy', 'workhr', 'spdays', 'sphour', 'dwelling', 'dwelngh', 'dwelcity', 'dwelown', 'dwelown16', 'worda', 'wordb', 'wordc', 'wordd', 'worde', 'wordf', 'wordg', 'wordh', 'wordi', 'wordj', 'wordsum', 'godoc', 'eatout', 'seefilm', 'attrelig', 'numdays', 'sunday', 'monday', 'tuesday', 'wednesdy', 'thursday', 'friday', 'saturday', 'attreg', 'mediarel', 'othrel', 'othrel1', 'othrel2', 'othrel3', 'attweek', 'religid', 'relid1', 'relid2', 'relid3', 'relidbst', 'cathid', 'charisma', 'relate1', 'gender1', 'old1', 'mar1', 'away1', 'where1', 'relate2', 'gender2', 'old2', 'mar2', 'away2', 'where2', 'relate3', 'gender3', 'old3', 'mar3', 'away3', 'where3', 'relate4', 'gender4', 'old4', 'mar4', 'away4', 'where4', 'relate5', 'gender5', 'old5', 'mar5', 'away5', 'where5', 'relate6', 'gender6', 'old6', 'mar6', 'away6', 'where6', 'relate7', 'gender7', 'old7', 'mar7', 'away7', 'where7', 'relate8', 'gender8', 'old8', 'mar8', 'away8', 'where8', 'relate9', 'gender9', 'old9', 'mar9', 'away9', 'where9', 'relate10', 'gender10', 'old10', 'mar10', 'away10', 'where10', 'relate11', 'gender11', 'old11', 'mar11', 'away11', 'where11', 'relate12', 'gender12', 'old12', 'mar12', 'away12', 'where12', 'relate13', 'gender13', 'old13', 'mar13', 'away13', 'where13', 'relate14', 'gender14', 'old14', 'mar14', 'away14', 'where14', 'relhhd1', 'relhhd2', 'relhhd3', 'relhhd4', 'relhhd5', 'relhhd6', 'relhhd7', 'relhhd8', 'relhhd9', 'relhhd10', 'relhhd11', 'relhhd12', 'relhhd13', 'relhhd14', 'hefinfo', 'hhrace', 'respnum', 'hhtype', 'hhtype1', 'famgen', 'rplace', 'rvisitor', 'visitors', 'relhh1', 'relhh2', 'relhh3', 'relhh4', 'relhh5', 'relhh6', 'relhh7', 'relhh8', 'relhh9', 'relhh10', 'relhh11', 'relhh12', 'relhh13', 'relhh14', 'relsp1', 'relsp2', 'relsp3', 'relsp4', 'relsp5', 'relsp6', 'relsp7', 'relsp8', 'relsp9', 'relsp10', 'relsp11', 'relsp12', 'relsp13', 'relsp14', 'dateintv', 'isco68', 'paisco68', 'spisco68', 'isco681', 'paisc681', 'maisc681', 'spisc681', 'isco88', 'paisco88', 'maisco88', 'spisco88', 'isco08', 'paisco08', 'maisco08', 'spisco08', 'coisco08', 'sei', 'firstsei', 'pasei', 'masei', 'spsei', 'sei10', 'sei10educ', 'sei10inc', 'pasei10', 'pasei10educ', 'pasei10inc', 'masei10', 'masei10educ', 'masei10inc', 'spsei10', 'spsei10educ', 'spsei10inc', 'cosei10', 'cosei10educ', 'cosei10inc', 'copres10', 'copres105plus', 'uswar', 'uswary', 'usintl', 'usun', 'commun', 'commun10', 'russia', 'japan', 'england', 'canada', 'brazil', 'china', 'israel', 'egypt', 'welfare1', 'welfare2', 'welfare3', 'welfare4', 'welfare5', 'welfare6', 'wkcontct', 'talkspvs', 'effctsup', 'cohort', 'marcohrt', 'birthmo', 'zodiac', 'inthisp', 'intrace1', 'intrace2', 'intrace3', 'bthgrp1a', 'bthgrp1b', 'bthgrp1c', 'bthgrp1d', 'bthgrp1e', 'bthgrp1f', 'bthgrp2a', 'bthgrp2b', 'bthgrp2c', 'bthgrp2d', 'bthgrp2e', 'bthgrp2f', 'bthgrp3a', 'bthgrp3b', 'bthgrp3c', 'bthgrp3d', 'bthgrp3e', 'bthgrp3f', 'bthgrp4a', 'bthgrp4b', 'bthgrp4c', 'bthgrp4d', 'bthgrp4e', 'bthgrp4f', 'bthgrp5a', 'bthgrp5b', 'bthgrp5c', 'bthgrp5d', 'bthgrp5e', 'bthgrp5f', 'frstgrp1', 'frstgrp2', 'frstgrp3', 'frstgrp4', 'frstgrp5', 'whoelse1', 'whoelse2', 'whoelse3', 'whoelse4', 'whoelse5', 'whoelse6', 'saqissp', 'saqsex', 'saqgene', 'intid', 'feeused', 'feelevel', 'lngthinv', 'intage', 'easyget', 'intethn', 'mode', 'intsex', 'intyrs', 'consent', 'adminconsent', 'pilloky', 'popespky', 'polhitoy', 'letdie1y', 'death', 'ballot', 'version', 'issp', 'formwt', 'sampcode', 'sample', 'oversamp', 'phase', 'spanself', 'spanint', 'spaneng', 'res2006', 'res2008', 'res2010', 'res2012', 'cshutyp06', 'cshutyp08', 'cshutyp10', 'cshutyp12', 'hlthstrt', 'huadd', 'huaddwhy', 'dwellpre', 'kidsinhh', 'respond', 'incuspop', 'neisafe', 'rlooks', 'rgroomed', 'rweight', 'rhlthend', 'wtss', 'wtssnr', 'wtssall', 'vstrat', 'vpsu']\n"
     ]
    }
   ],
   "source": [
    "print(\"Number of columns:\", gss_meta.number_columns)\n",
    "print(\"Number of rows:\", gss_meta.number_rows)\n",
    "print(\"Column names:\", gss_meta.column_names)"
   ]
  },
  {
   "cell_type": "markdown",
   "metadata": {},
   "source": [
    "### How to build a DataFrame for the column descriptions in the metadata"
   ]
  },
  {
   "cell_type": "code",
   "execution_count": 16,
   "metadata": {},
   "outputs": [
    {
     "data": {
      "text/html": [
       "<div>\n",
       "<style scoped>\n",
       "    .dataframe tbody tr th:only-of-type {\n",
       "        vertical-align: middle;\n",
       "    }\n",
       "\n",
       "    .dataframe tbody tr th {\n",
       "        vertical-align: top;\n",
       "    }\n",
       "\n",
       "    .dataframe thead th {\n",
       "        text-align: right;\n",
       "    }\n",
       "</style>\n",
       "<table border=\"1\" class=\"dataframe\">\n",
       "  <thead>\n",
       "    <tr style=\"text-align: right;\">\n",
       "      <th></th>\n",
       "      <th>description</th>\n",
       "    </tr>\n",
       "  </thead>\n",
       "  <tbody>\n",
       "    <tr>\n",
       "      <th>year</th>\n",
       "      <td>gss year for this respondent</td>\n",
       "    </tr>\n",
       "    <tr>\n",
       "      <th>id</th>\n",
       "      <td>respondent id number</td>\n",
       "    </tr>\n",
       "    <tr>\n",
       "      <th>wrkstat</th>\n",
       "      <td>labor force status</td>\n",
       "    </tr>\n",
       "    <tr>\n",
       "      <th>hrs1</th>\n",
       "      <td>number of hours worked last week</td>\n",
       "    </tr>\n",
       "    <tr>\n",
       "      <th>hrs2</th>\n",
       "      <td>number of hours usually work a week</td>\n",
       "    </tr>\n",
       "  </tbody>\n",
       "</table>\n",
       "</div>"
      ],
      "text/plain": [
       "                                 description\n",
       "year            gss year for this respondent\n",
       "id                      respondent id number\n",
       "wrkstat                   labor force status\n",
       "hrs1        number of hours worked last week\n",
       "hrs2     number of hours usually work a week"
      ]
     },
     "execution_count": 16,
     "metadata": {},
     "output_type": "execute_result"
    }
   ],
   "source": [
    "meta_cols=pd.DataFrame(\n",
    "    data=gss_meta.column_labels,\n",
    "    index=gss_meta.column_names,\n",
    "    columns=['description'])\n",
    "meta_cols.head(5)"
   ]
  },
  {
   "cell_type": "markdown",
   "metadata": {},
   "source": [
    "### How to import columns of the data into a DataFrame"
   ]
  },
  {
   "cell_type": "code",
   "execution_count": 17,
   "metadata": {},
   "outputs": [
    {
     "data": {
      "text/html": [
       "<div>\n",
       "<style scoped>\n",
       "    .dataframe tbody tr th:only-of-type {\n",
       "        vertical-align: middle;\n",
       "    }\n",
       "\n",
       "    .dataframe tbody tr th {\n",
       "        vertical-align: top;\n",
       "    }\n",
       "\n",
       "    .dataframe thead th {\n",
       "        text-align: right;\n",
       "    }\n",
       "</style>\n",
       "<table border=\"1\" class=\"dataframe\">\n",
       "  <thead>\n",
       "    <tr style=\"text-align: right;\">\n",
       "      <th></th>\n",
       "      <th>year</th>\n",
       "      <th>id</th>\n",
       "      <th>wrkstat</th>\n",
       "      <th>hrs1</th>\n",
       "      <th>hrs2</th>\n",
       "      <th>evwork</th>\n",
       "      <th>wrkslf</th>\n",
       "      <th>wrkgovt</th>\n",
       "    </tr>\n",
       "  </thead>\n",
       "  <tbody>\n",
       "    <tr>\n",
       "      <th>64809</th>\n",
       "      <td>2018</td>\n",
       "      <td>2344</td>\n",
       "      <td>working fulltime</td>\n",
       "      <td>36.0</td>\n",
       "      <td>NaN</td>\n",
       "      <td>NaN</td>\n",
       "      <td>someone else</td>\n",
       "      <td>government</td>\n",
       "    </tr>\n",
       "    <tr>\n",
       "      <th>64810</th>\n",
       "      <td>2018</td>\n",
       "      <td>2345</td>\n",
       "      <td>working parttime</td>\n",
       "      <td>36.0</td>\n",
       "      <td>NaN</td>\n",
       "      <td>NaN</td>\n",
       "      <td>someone else</td>\n",
       "      <td>private</td>\n",
       "    </tr>\n",
       "    <tr>\n",
       "      <th>64811</th>\n",
       "      <td>2018</td>\n",
       "      <td>2346</td>\n",
       "      <td>retired</td>\n",
       "      <td>NaN</td>\n",
       "      <td>NaN</td>\n",
       "      <td>yes</td>\n",
       "      <td>someone else</td>\n",
       "      <td>private</td>\n",
       "    </tr>\n",
       "    <tr>\n",
       "      <th>64812</th>\n",
       "      <td>2018</td>\n",
       "      <td>2347</td>\n",
       "      <td>retired</td>\n",
       "      <td>NaN</td>\n",
       "      <td>NaN</td>\n",
       "      <td>yes</td>\n",
       "      <td>someone else</td>\n",
       "      <td>private</td>\n",
       "    </tr>\n",
       "    <tr>\n",
       "      <th>64813</th>\n",
       "      <td>2018</td>\n",
       "      <td>2348</td>\n",
       "      <td>keeping house</td>\n",
       "      <td>NaN</td>\n",
       "      <td>NaN</td>\n",
       "      <td>yes</td>\n",
       "      <td>someone else</td>\n",
       "      <td>government</td>\n",
       "    </tr>\n",
       "  </tbody>\n",
       "</table>\n",
       "</div>"
      ],
      "text/plain": [
       "       year    id           wrkstat  hrs1 hrs2 evwork        wrkslf  \\\n",
       "64809  2018  2344  working fulltime  36.0  NaN    NaN  someone else   \n",
       "64810  2018  2345  working parttime  36.0  NaN    NaN  someone else   \n",
       "64811  2018  2346           retired   NaN  NaN    yes  someone else   \n",
       "64812  2018  2347           retired   NaN  NaN    yes  someone else   \n",
       "64813  2018  2348     keeping house   NaN  NaN    yes  someone else   \n",
       "\n",
       "          wrkgovt  \n",
       "64809  government  \n",
       "64810     private  \n",
       "64811     private  \n",
       "64812     private  \n",
       "64813  government  "
      ]
     },
     "execution_count": 17,
     "metadata": {},
     "output_type": "execute_result"
    }
   ],
   "source": [
    "gss_data = pd.read_stata('../../data/GSS7218_R3.DTA',\n",
    "    columns=['year','id','wrkstat','hrs1','hrs2','evwork','wrkslf','wrkgovt'])\n",
    "gss_data.tail()"
   ]
  },
  {
   "cell_type": "markdown",
   "metadata": {},
   "source": [
    "## How to download a JSON file"
   ]
  },
  {
   "cell_type": "code",
   "execution_count": 18,
   "metadata": {},
   "outputs": [
    {
     "data": {
      "text/plain": [
       "('shots.json', <http.client.HTTPMessage at 0x241ae595850>)"
      ]
     },
     "execution_count": 18,
     "metadata": {},
     "output_type": "execute_result"
    }
   ],
   "source": [
    "import json\n",
    "from urllib import request\n",
    "shots_url = 'https://www.murach.com/python_analysis/shots.json'\n",
    "request.urlretrieve(shots_url, filename='shots.json')"
   ]
  },
  {
   "cell_type": "markdown",
   "metadata": {},
   "source": [
    "## How to build a DataFrame for the data"
   ]
  },
  {
   "cell_type": "code",
   "execution_count": 19,
   "metadata": {},
   "outputs": [],
   "source": [
    "with open('shots.json') as json_data:\n",
    "    shots = json.load(json_data)"
   ]
  },
  {
   "cell_type": "code",
   "execution_count": 20,
   "metadata": {},
   "outputs": [
    {
     "data": {
      "text/html": [
       "<div>\n",
       "<style scoped>\n",
       "    .dataframe tbody tr th:only-of-type {\n",
       "        vertical-align: middle;\n",
       "    }\n",
       "\n",
       "    .dataframe tbody tr th {\n",
       "        vertical-align: top;\n",
       "    }\n",
       "\n",
       "    .dataframe thead th {\n",
       "        text-align: right;\n",
       "    }\n",
       "</style>\n",
       "<table border=\"1\" class=\"dataframe\">\n",
       "  <thead>\n",
       "    <tr style=\"text-align: right;\">\n",
       "      <th></th>\n",
       "      <th>grid_type</th>\n",
       "      <th>game_id</th>\n",
       "      <th>game_event_id</th>\n",
       "      <th>player_id</th>\n",
       "      <th>player_name</th>\n",
       "      <th>team_id</th>\n",
       "      <th>team_name</th>\n",
       "      <th>period</th>\n",
       "      <th>minutes_remaining</th>\n",
       "      <th>seconds_remaining</th>\n",
       "      <th>...</th>\n",
       "      <th>shot_zone_area</th>\n",
       "      <th>shot_zone_range</th>\n",
       "      <th>shot_distance</th>\n",
       "      <th>loc_x</th>\n",
       "      <th>loc_y</th>\n",
       "      <th>shot_attempted_flag</th>\n",
       "      <th>shot_made_flag</th>\n",
       "      <th>game_date</th>\n",
       "      <th>htm</th>\n",
       "      <th>vtm</th>\n",
       "    </tr>\n",
       "  </thead>\n",
       "  <tbody>\n",
       "    <tr>\n",
       "      <th>0</th>\n",
       "      <td>Shot Chart Detail</td>\n",
       "      <td>0020900015</td>\n",
       "      <td>4</td>\n",
       "      <td>201939</td>\n",
       "      <td>Stephen Curry</td>\n",
       "      <td>1610612744</td>\n",
       "      <td>Golden State Warriors</td>\n",
       "      <td>1</td>\n",
       "      <td>11</td>\n",
       "      <td>25</td>\n",
       "      <td>...</td>\n",
       "      <td>Right Side Center(RC)</td>\n",
       "      <td>24+ ft.</td>\n",
       "      <td>26</td>\n",
       "      <td>99</td>\n",
       "      <td>249</td>\n",
       "      <td>1</td>\n",
       "      <td>0</td>\n",
       "      <td>20091028</td>\n",
       "      <td>GSW</td>\n",
       "      <td>HOU</td>\n",
       "    </tr>\n",
       "    <tr>\n",
       "      <th>1</th>\n",
       "      <td>Shot Chart Detail</td>\n",
       "      <td>0020900015</td>\n",
       "      <td>17</td>\n",
       "      <td>201939</td>\n",
       "      <td>Stephen Curry</td>\n",
       "      <td>1610612744</td>\n",
       "      <td>Golden State Warriors</td>\n",
       "      <td>1</td>\n",
       "      <td>9</td>\n",
       "      <td>31</td>\n",
       "      <td>...</td>\n",
       "      <td>Left Side Center(LC)</td>\n",
       "      <td>16-24 ft.</td>\n",
       "      <td>18</td>\n",
       "      <td>-122</td>\n",
       "      <td>145</td>\n",
       "      <td>1</td>\n",
       "      <td>1</td>\n",
       "      <td>20091028</td>\n",
       "      <td>GSW</td>\n",
       "      <td>HOU</td>\n",
       "    </tr>\n",
       "    <tr>\n",
       "      <th>2</th>\n",
       "      <td>Shot Chart Detail</td>\n",
       "      <td>0020900015</td>\n",
       "      <td>53</td>\n",
       "      <td>201939</td>\n",
       "      <td>Stephen Curry</td>\n",
       "      <td>1610612744</td>\n",
       "      <td>Golden State Warriors</td>\n",
       "      <td>1</td>\n",
       "      <td>6</td>\n",
       "      <td>2</td>\n",
       "      <td>...</td>\n",
       "      <td>Center(C)</td>\n",
       "      <td>8-16 ft.</td>\n",
       "      <td>14</td>\n",
       "      <td>-60</td>\n",
       "      <td>129</td>\n",
       "      <td>1</td>\n",
       "      <td>0</td>\n",
       "      <td>20091028</td>\n",
       "      <td>GSW</td>\n",
       "      <td>HOU</td>\n",
       "    </tr>\n",
       "    <tr>\n",
       "      <th>3</th>\n",
       "      <td>Shot Chart Detail</td>\n",
       "      <td>0020900015</td>\n",
       "      <td>141</td>\n",
       "      <td>201939</td>\n",
       "      <td>Stephen Curry</td>\n",
       "      <td>1610612744</td>\n",
       "      <td>Golden State Warriors</td>\n",
       "      <td>2</td>\n",
       "      <td>9</td>\n",
       "      <td>49</td>\n",
       "      <td>...</td>\n",
       "      <td>Left Side(L)</td>\n",
       "      <td>16-24 ft.</td>\n",
       "      <td>19</td>\n",
       "      <td>-172</td>\n",
       "      <td>82</td>\n",
       "      <td>1</td>\n",
       "      <td>0</td>\n",
       "      <td>20091028</td>\n",
       "      <td>GSW</td>\n",
       "      <td>HOU</td>\n",
       "    </tr>\n",
       "    <tr>\n",
       "      <th>4</th>\n",
       "      <td>Shot Chart Detail</td>\n",
       "      <td>0020900015</td>\n",
       "      <td>249</td>\n",
       "      <td>201939</td>\n",
       "      <td>Stephen Curry</td>\n",
       "      <td>1610612744</td>\n",
       "      <td>Golden State Warriors</td>\n",
       "      <td>2</td>\n",
       "      <td>2</td>\n",
       "      <td>19</td>\n",
       "      <td>...</td>\n",
       "      <td>Left Side Center(LC)</td>\n",
       "      <td>16-24 ft.</td>\n",
       "      <td>16</td>\n",
       "      <td>-68</td>\n",
       "      <td>148</td>\n",
       "      <td>1</td>\n",
       "      <td>0</td>\n",
       "      <td>20091028</td>\n",
       "      <td>GSW</td>\n",
       "      <td>HOU</td>\n",
       "    </tr>\n",
       "  </tbody>\n",
       "</table>\n",
       "<p>5 rows × 24 columns</p>\n",
       "</div>"
      ],
      "text/plain": [
       "           grid_type     game_id  game_event_id  player_id    player_name  \\\n",
       "0  Shot Chart Detail  0020900015              4     201939  Stephen Curry   \n",
       "1  Shot Chart Detail  0020900015             17     201939  Stephen Curry   \n",
       "2  Shot Chart Detail  0020900015             53     201939  Stephen Curry   \n",
       "3  Shot Chart Detail  0020900015            141     201939  Stephen Curry   \n",
       "4  Shot Chart Detail  0020900015            249     201939  Stephen Curry   \n",
       "\n",
       "      team_id              team_name  period  minutes_remaining  \\\n",
       "0  1610612744  Golden State Warriors       1                 11   \n",
       "1  1610612744  Golden State Warriors       1                  9   \n",
       "2  1610612744  Golden State Warriors       1                  6   \n",
       "3  1610612744  Golden State Warriors       2                  9   \n",
       "4  1610612744  Golden State Warriors       2                  2   \n",
       "\n",
       "   seconds_remaining  ...         shot_zone_area shot_zone_range  \\\n",
       "0                 25  ...  Right Side Center(RC)         24+ ft.   \n",
       "1                 31  ...   Left Side Center(LC)       16-24 ft.   \n",
       "2                  2  ...              Center(C)        8-16 ft.   \n",
       "3                 49  ...           Left Side(L)       16-24 ft.   \n",
       "4                 19  ...   Left Side Center(LC)       16-24 ft.   \n",
       "\n",
       "  shot_distance loc_x loc_y shot_attempted_flag  shot_made_flag  game_date  \\\n",
       "0            26    99   249                   1               0   20091028   \n",
       "1            18  -122   145                   1               1   20091028   \n",
       "2            14   -60   129                   1               0   20091028   \n",
       "3            19  -172    82                   1               0   20091028   \n",
       "4            16   -68   148                   1               0   20091028   \n",
       "\n",
       "   htm  vtm  \n",
       "0  GSW  HOU  \n",
       "1  GSW  HOU  \n",
       "2  GSW  HOU  \n",
       "3  GSW  HOU  \n",
       "4  GSW  HOU  \n",
       "\n",
       "[5 rows x 24 columns]"
      ]
     },
     "execution_count": 20,
     "metadata": {},
     "output_type": "execute_result"
    }
   ],
   "source": [
    "allRows = shots['resultSets'][0]['rowSet']\n",
    "columnHeaders = [x.lower() for x in shots['resultSets'][0]['headers']]\n",
    "shots = pd.DataFrame(data=allRows, columns=columnHeaders)\n",
    "shots.head()"
   ]
  },
  {
   "cell_type": "code",
   "execution_count": null,
   "metadata": {},
   "outputs": [],
   "source": []
  }
 ],
 "metadata": {
  "kernelspec": {
   "display_name": "Python 3",
   "language": "python",
   "name": "python3"
  },
  "language_info": {
   "codemirror_mode": {
    "name": "ipython",
    "version": 3
   },
   "file_extension": ".py",
   "mimetype": "text/x-python",
   "name": "python",
   "nbconvert_exporter": "python",
   "pygments_lexer": "ipython3",
   "version": "3.8.8"
  }
 },
 "nbformat": 4,
 "nbformat_minor": 4
}
