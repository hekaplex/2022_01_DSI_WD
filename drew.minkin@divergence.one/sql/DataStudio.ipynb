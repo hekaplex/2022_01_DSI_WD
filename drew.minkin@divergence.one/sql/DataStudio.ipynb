{
    "metadata": {
        "kernelspec": {
            "name": "python3",
            "display_name": "Python 3",
            "language": "python"
        },
        "language_info": {
            "name": "python",
            "version": "3.9.5",
            "mimetype": "text/x-python",
            "codemirror_mode": {
                "name": "ipython",
                "version": 3
            },
            "pygments_lexer": "ipython3",
            "nbconvert_exporter": "python",
            "file_extension": ".py"
        },
        "extensions": {
            "azuredatastudio": {
                "version": 1,
                "views": []
            }
        }
    },
    "nbformat_minor": 2,
    "nbformat": 4,
    "cells": [
        {
            "cell_type": "code",
            "source": [
                "\r\n",
                "SELECT * from dbo.vSpecialOffers"
            ],
            "metadata": {
                "azdata_cell_guid": "350dae30-ba24-4e90-af84-07fc0679743a"
            },
            "outputs": [
                {
                    "output_type": "display_data",
                    "data": {
                        "text/html": "(35 rows affected)"
                    },
                    "metadata": {}
                },
                {
                    "output_type": "display_data",
                    "data": {
                        "text/html": "Total execution time: 00:00:00.042"
                    },
                    "metadata": {}
                },
                {
                    "output_type": "execute_result",
                    "execution_count": 1,
                    "data": {
                        "application/vnd.dataresource+json": {
                            "schema": {
                                "fields": [
                                    {
                                        "name": "Name"
                                    },
                                    {
                                        "name": "TotalSales"
                                    },
                                    {
                                        "name": "NumOffers"
                                    }
                                ]
                            },
                            "data": [
                                {
                                    "0": "Sport-100 Helmet, Red",
                                    "1": "158865.9084",
                                    "2": "5"
                                },
                                {
                                    "0": "Sport-100 Helmet, Black",
                                    "1": "162076.7042",
                                    "2": "5"
                                },
                                {
                                    "0": "Mountain Bike Socks, M",
                                    "1": "6147.6400",
                                    "2": "4"
                                },
                                {
                                    "0": "Sport-100 Helmet, Blue",
                                    "1": "166720.9076",
                                    "2": "5"
                                },
                                {
                                    "0": "AWC Logo Cap",
                                    "1": "51512.2811",
                                    "2": "4"
                                },
                                {
                                    "0": "Long-Sleeve Logo Jersey, M",
                                    "1": "115509.3736",
                                    "2": "3"
                                },
                                {
                                    "0": "Long-Sleeve Logo Jersey, L",
                                    "1": "200240.7374",
                                    "2": "4"
                                },
                                {
                                    "0": "Long-Sleeve Logo Jersey, XL",
                                    "1": "95689.1468",
                                    "2": "2"
                                },
                                {
                                    "0": "Men's Sports Shorts, S",
                                    "1": "20381.0026",
                                    "2": "2"
                                },
                                {
                                    "0": "Cable Lock",
                                    "1": "16264.0000",
                                    "2": "2"
                                },
                                {
                                    "0": "Minipump",
                                    "1": "13528.8322",
                                    "2": "2"
                                },
                                {
                                    "0": "Men's Sports Shorts, M",
                                    "1": "45717.1792",
                                    "2": "3"
                                },
                                {
                                    "0": "Women's Tights, S",
                                    "1": "92026.2282",
                                    "2": "4"
                                },
                                {
                                    "0": "Women's Tights, L",
                                    "1": "94621.6321",
                                    "2": "3"
                                },
                                {
                                    "0": "Men's Bib-Shorts, S",
                                    "1": "47251.9492",
                                    "2": "2"
                                },
                                {
                                    "0": "Men's Bib-Shorts, M",
                                    "1": "86573.0797",
                                    "2": "3"
                                },
                                {
                                    "0": "Half-Finger Gloves, S",
                                    "1": "36543.9867",
                                    "2": "3"
                                },
                                {
                                    "0": "Half-Finger Gloves, M",
                                    "1": "54777.7524",
                                    "2": "3"
                                },
                                {
                                    "0": "Half-Finger Gloves, L",
                                    "1": "22915.3844",
                                    "2": "2"
                                },
                                {
                                    "0": "Full-Finger Gloves, M",
                                    "1": "48950.4949",
                                    "2": "4"
                                },
                                {
                                    "0": "Full-Finger Gloves, L",
                                    "1": "72364.4917",
                                    "2": "5"
                                },
                                {
                                    "0": "Classic Vest, S",
                                    "1": "159797.1150",
                                    "2": "4"
                                },
                                {
                                    "0": "Classic Vest, M",
                                    "1": "90907.2350",
                                    "2": "3"
                                },
                                {
                                    "0": "Women's Mountain Shorts, S",
                                    "1": "140536.4205",
                                    "2": "4"
                                },
                                {
                                    "0": "Women's Mountain Shorts, L",
                                    "1": "140077.2861",
                                    "2": "5"
                                },
                                {
                                    "0": "Water Bottle - 30 oz.",
                                    "1": "28732.9689",
                                    "2": "4"
                                },
                                {
                                    "0": "Patch Kit/8 Patches",
                                    "1": "8232.9164",
                                    "2": "2"
                                },
                                {
                                    "0": "Racing Socks, M",
                                    "1": "9397.7864",
                                    "2": "2"
                                },
                                {
                                    "0": "Racing Socks, L",
                                    "1": "13970.9994",
                                    "2": "4"
                                },
                                {
                                    "0": "Hitch Rack - 4-Bike",
                                    "1": "239437.2000",
                                    "2": "4"
                                },
                                {
                                    "0": "Bike Wash - Dissolver",
                                    "1": "18518.5710",
                                    "2": "4"
                                },
                                {
                                    "0": "Hydration Pack - 70 oz.",
                                    "1": "106329.7638",
                                    "2": "3"
                                },
                                {
                                    "0": "Short-Sleeve Classic Jersey, S",
                                    "1": "71785.1040",
                                    "2": "3"
                                },
                                {
                                    "0": "Short-Sleeve Classic Jersey, L",
                                    "1": "99142.9168",
                                    "2": "3"
                                },
                                {
                                    "0": "Short-Sleeve Classic Jersey, XL",
                                    "1": "130878.2388",
                                    "2": "4"
                                }
                            ]
                        },
                        "text/html": "<table><tr><th>Name</th><th>TotalSales</th><th>NumOffers</th></tr><tr><td>Sport-100 Helmet, Red</td><td>158865.9084</td><td>5</td></tr><tr><td>Sport-100 Helmet, Black</td><td>162076.7042</td><td>5</td></tr><tr><td>Mountain Bike Socks, M</td><td>6147.6400</td><td>4</td></tr><tr><td>Sport-100 Helmet, Blue</td><td>166720.9076</td><td>5</td></tr><tr><td>AWC Logo Cap</td><td>51512.2811</td><td>4</td></tr><tr><td>Long-Sleeve Logo Jersey, M</td><td>115509.3736</td><td>3</td></tr><tr><td>Long-Sleeve Logo Jersey, L</td><td>200240.7374</td><td>4</td></tr><tr><td>Long-Sleeve Logo Jersey, XL</td><td>95689.1468</td><td>2</td></tr><tr><td>Men's Sports Shorts, S</td><td>20381.0026</td><td>2</td></tr><tr><td>Cable Lock</td><td>16264.0000</td><td>2</td></tr><tr><td>Minipump</td><td>13528.8322</td><td>2</td></tr><tr><td>Men's Sports Shorts, M</td><td>45717.1792</td><td>3</td></tr><tr><td>Women's Tights, S</td><td>92026.2282</td><td>4</td></tr><tr><td>Women's Tights, L</td><td>94621.6321</td><td>3</td></tr><tr><td>Men's Bib-Shorts, S</td><td>47251.9492</td><td>2</td></tr><tr><td>Men's Bib-Shorts, M</td><td>86573.0797</td><td>3</td></tr><tr><td>Half-Finger Gloves, S</td><td>36543.9867</td><td>3</td></tr><tr><td>Half-Finger Gloves, M</td><td>54777.7524</td><td>3</td></tr><tr><td>Half-Finger Gloves, L</td><td>22915.3844</td><td>2</td></tr><tr><td>Full-Finger Gloves, M</td><td>48950.4949</td><td>4</td></tr><tr><td>Full-Finger Gloves, L</td><td>72364.4917</td><td>5</td></tr><tr><td>Classic Vest, S</td><td>159797.1150</td><td>4</td></tr><tr><td>Classic Vest, M</td><td>90907.2350</td><td>3</td></tr><tr><td>Women's Mountain Shorts, S</td><td>140536.4205</td><td>4</td></tr><tr><td>Women's Mountain Shorts, L</td><td>140077.2861</td><td>5</td></tr><tr><td>Water Bottle - 30 oz.</td><td>28732.9689</td><td>4</td></tr><tr><td>Patch Kit/8 Patches</td><td>8232.9164</td><td>2</td></tr><tr><td>Racing Socks, M</td><td>9397.7864</td><td>2</td></tr><tr><td>Racing Socks, L</td><td>13970.9994</td><td>4</td></tr><tr><td>Hitch Rack - 4-Bike</td><td>239437.2000</td><td>4</td></tr><tr><td>Bike Wash - Dissolver</td><td>18518.5710</td><td>4</td></tr><tr><td>Hydration Pack - 70 oz.</td><td>106329.7638</td><td>3</td></tr><tr><td>Short-Sleeve Classic Jersey, S</td><td>71785.1040</td><td>3</td></tr><tr><td>Short-Sleeve Classic Jersey, L</td><td>99142.9168</td><td>3</td></tr><tr><td>Short-Sleeve Classic Jersey, XL</td><td>130878.2388</td><td>4</td></tr></table>"
                    },
                    "metadata": {}
                }
            ],
            "execution_count": 1
        },
        {
            "cell_type": "code",
            "source": [
                "import pandas as pd\r\n",
                "df = pd.read_csv(\"C:\\\\2021_10_DSI-WD\\\\2021_10_DSI_WD\\\\drew.minkin@divergence.one\\pokemon.csv\")\r\n",
                "df"
            ],
            "metadata": {
                "azdata_cell_guid": "20988495-cfe3-4d9c-97bb-01ccb862184c"
            },
            "outputs": [
                {
                    "output_type": "execute_result",
                    "execution_count": 2,
                    "data": {
                        "text/plain": "      Number                  Name   Type 1  Type 2  \\\n0          1             Bulbasaur    Grass  Poison   \n1          2               Ivysaur    Grass  Poison   \n2          3              Venusaur    Grass  Poison   \n3          3         Mega Venusaur    Grass  Poison   \n4          4            Charmander     Fire     NaN   \n...      ...                   ...      ...     ...   \n1027     896             Glastrier      Ice     NaN   \n1028     897             Spectrier    Ghost     NaN   \n1029     898               Calyrex  Psychic   Grass   \n1030     898     Calyrex Ice Rider  Psychic     Ice   \n1031     898  Calyrex Shadow Rider  Psychic   Ghost   \n\n                        Abilities   HP  Att  Def  Spa  Spd  ...  \\\n0     ['Chlorophyll', 'Overgrow']   45   49   49   65   65  ...   \n1     ['Chlorophyll', 'Overgrow']   60   62   63   80   80  ...   \n2     ['Chlorophyll', 'Overgrow']   80   82   83  100  100  ...   \n3                   ['Thick Fat']   80  100  123  122  120  ...   \n4        ['Blaze', 'Solar Power']   39   52   43   60   50  ...   \n...                           ...  ...  ...  ...  ...  ...  ...   \n1027           ['Chilling Neigh']  100  145  130   65  110  ...   \n1028               ['Grim Neigh']  100   65   60  145   80  ...   \n1029                  ['Unnerve']  100   80   80   80   80  ...   \n1030                   ['As One']  100  165  150   85  130  ...   \n1031                   ['As One']  100   85   80  165  100  ...   \n\n      Against Ground  Against Flying  Against Psychic  Against Bug  \\\n0                1.0             2.0              2.0          1.0   \n1                1.0             2.0              2.0          1.0   \n2                1.0             2.0              2.0          1.0   \n3                1.0             2.0              2.0          1.0   \n4                2.0             1.0              1.0          0.5   \n...              ...             ...              ...          ...   \n1027             1.0             1.0              1.0          1.0   \n1028             1.0             1.0              1.0          0.5   \n1029             0.5             2.0              0.5          4.0   \n1030             1.0             1.0              0.5          2.0   \n1031             1.0             1.0              0.5          1.0   \n\n      Against Rock Against Ghost  Against Dragon  Against Dark  Against Steel  \\\n0              1.0           1.0             1.0           1.0            1.0   \n1              1.0           1.0             1.0           1.0            1.0   \n2              1.0           1.0             1.0           1.0            1.0   \n3              1.0           1.0             1.0           1.0            1.0   \n4              2.0           1.0             1.0           1.0            0.5   \n...            ...           ...             ...           ...            ...   \n1027           2.0           1.0             1.0           1.0            2.0   \n1028           1.0           2.0             1.0           2.0            1.0   \n1029           1.0           2.0             1.0           2.0            1.0   \n1030           2.0           2.0             1.0           2.0            2.0   \n1031           1.0           4.0             1.0           4.0            1.0   \n\n      Against Fairy  \n0               0.5  \n1               0.5  \n2               0.5  \n3               0.5  \n4               0.5  \n...             ...  \n1027            1.0  \n1028            1.0  \n1029            1.0  \n1030            1.0  \n1031            1.0  \n\n[1032 rows x 41 columns]",
                        "text/html": "<div>\n<style scoped>\n    .dataframe tbody tr th:only-of-type {\n        vertical-align: middle;\n    }\n\n    .dataframe tbody tr th {\n        vertical-align: top;\n    }\n\n    .dataframe thead th {\n        text-align: right;\n    }\n</style>\n<table border=\"1\" class=\"dataframe\">\n  <thead>\n    <tr style=\"text-align: right;\">\n      <th></th>\n      <th>Number</th>\n      <th>Name</th>\n      <th>Type 1</th>\n      <th>Type 2</th>\n      <th>Abilities</th>\n      <th>HP</th>\n      <th>Att</th>\n      <th>Def</th>\n      <th>Spa</th>\n      <th>Spd</th>\n      <th>...</th>\n      <th>Against Ground</th>\n      <th>Against Flying</th>\n      <th>Against Psychic</th>\n      <th>Against Bug</th>\n      <th>Against Rock</th>\n      <th>Against Ghost</th>\n      <th>Against Dragon</th>\n      <th>Against Dark</th>\n      <th>Against Steel</th>\n      <th>Against Fairy</th>\n    </tr>\n  </thead>\n  <tbody>\n    <tr>\n      <th>0</th>\n      <td>1</td>\n      <td>Bulbasaur</td>\n      <td>Grass</td>\n      <td>Poison</td>\n      <td>['Chlorophyll', 'Overgrow']</td>\n      <td>45</td>\n      <td>49</td>\n      <td>49</td>\n      <td>65</td>\n      <td>65</td>\n      <td>...</td>\n      <td>1.0</td>\n      <td>2.0</td>\n      <td>2.0</td>\n      <td>1.0</td>\n      <td>1.0</td>\n      <td>1.0</td>\n      <td>1.0</td>\n      <td>1.0</td>\n      <td>1.0</td>\n      <td>0.5</td>\n    </tr>\n    <tr>\n      <th>1</th>\n      <td>2</td>\n      <td>Ivysaur</td>\n      <td>Grass</td>\n      <td>Poison</td>\n      <td>['Chlorophyll', 'Overgrow']</td>\n      <td>60</td>\n      <td>62</td>\n      <td>63</td>\n      <td>80</td>\n      <td>80</td>\n      <td>...</td>\n      <td>1.0</td>\n      <td>2.0</td>\n      <td>2.0</td>\n      <td>1.0</td>\n      <td>1.0</td>\n      <td>1.0</td>\n      <td>1.0</td>\n      <td>1.0</td>\n      <td>1.0</td>\n      <td>0.5</td>\n    </tr>\n    <tr>\n      <th>2</th>\n      <td>3</td>\n      <td>Venusaur</td>\n      <td>Grass</td>\n      <td>Poison</td>\n      <td>['Chlorophyll', 'Overgrow']</td>\n      <td>80</td>\n      <td>82</td>\n      <td>83</td>\n      <td>100</td>\n      <td>100</td>\n      <td>...</td>\n      <td>1.0</td>\n      <td>2.0</td>\n      <td>2.0</td>\n      <td>1.0</td>\n      <td>1.0</td>\n      <td>1.0</td>\n      <td>1.0</td>\n      <td>1.0</td>\n      <td>1.0</td>\n      <td>0.5</td>\n    </tr>\n    <tr>\n      <th>3</th>\n      <td>3</td>\n      <td>Mega Venusaur</td>\n      <td>Grass</td>\n      <td>Poison</td>\n      <td>['Thick Fat']</td>\n      <td>80</td>\n      <td>100</td>\n      <td>123</td>\n      <td>122</td>\n      <td>120</td>\n      <td>...</td>\n      <td>1.0</td>\n      <td>2.0</td>\n      <td>2.0</td>\n      <td>1.0</td>\n      <td>1.0</td>\n      <td>1.0</td>\n      <td>1.0</td>\n      <td>1.0</td>\n      <td>1.0</td>\n      <td>0.5</td>\n    </tr>\n    <tr>\n      <th>4</th>\n      <td>4</td>\n      <td>Charmander</td>\n      <td>Fire</td>\n      <td>NaN</td>\n      <td>['Blaze', 'Solar Power']</td>\n      <td>39</td>\n      <td>52</td>\n      <td>43</td>\n      <td>60</td>\n      <td>50</td>\n      <td>...</td>\n      <td>2.0</td>\n      <td>1.0</td>\n      <td>1.0</td>\n      <td>0.5</td>\n      <td>2.0</td>\n      <td>1.0</td>\n      <td>1.0</td>\n      <td>1.0</td>\n      <td>0.5</td>\n      <td>0.5</td>\n    </tr>\n    <tr>\n      <th>...</th>\n      <td>...</td>\n      <td>...</td>\n      <td>...</td>\n      <td>...</td>\n      <td>...</td>\n      <td>...</td>\n      <td>...</td>\n      <td>...</td>\n      <td>...</td>\n      <td>...</td>\n      <td>...</td>\n      <td>...</td>\n      <td>...</td>\n      <td>...</td>\n      <td>...</td>\n      <td>...</td>\n      <td>...</td>\n      <td>...</td>\n      <td>...</td>\n      <td>...</td>\n      <td>...</td>\n    </tr>\n    <tr>\n      <th>1027</th>\n      <td>896</td>\n      <td>Glastrier</td>\n      <td>Ice</td>\n      <td>NaN</td>\n      <td>['Chilling Neigh']</td>\n      <td>100</td>\n      <td>145</td>\n      <td>130</td>\n      <td>65</td>\n      <td>110</td>\n      <td>...</td>\n      <td>1.0</td>\n      <td>1.0</td>\n      <td>1.0</td>\n      <td>1.0</td>\n      <td>2.0</td>\n      <td>1.0</td>\n      <td>1.0</td>\n      <td>1.0</td>\n      <td>2.0</td>\n      <td>1.0</td>\n    </tr>\n    <tr>\n      <th>1028</th>\n      <td>897</td>\n      <td>Spectrier</td>\n      <td>Ghost</td>\n      <td>NaN</td>\n      <td>['Grim Neigh']</td>\n      <td>100</td>\n      <td>65</td>\n      <td>60</td>\n      <td>145</td>\n      <td>80</td>\n      <td>...</td>\n      <td>1.0</td>\n      <td>1.0</td>\n      <td>1.0</td>\n      <td>0.5</td>\n      <td>1.0</td>\n      <td>2.0</td>\n      <td>1.0</td>\n      <td>2.0</td>\n      <td>1.0</td>\n      <td>1.0</td>\n    </tr>\n    <tr>\n      <th>1029</th>\n      <td>898</td>\n      <td>Calyrex</td>\n      <td>Psychic</td>\n      <td>Grass</td>\n      <td>['Unnerve']</td>\n      <td>100</td>\n      <td>80</td>\n      <td>80</td>\n      <td>80</td>\n      <td>80</td>\n      <td>...</td>\n      <td>0.5</td>\n      <td>2.0</td>\n      <td>0.5</td>\n      <td>4.0</td>\n      <td>1.0</td>\n      <td>2.0</td>\n      <td>1.0</td>\n      <td>2.0</td>\n      <td>1.0</td>\n      <td>1.0</td>\n    </tr>\n    <tr>\n      <th>1030</th>\n      <td>898</td>\n      <td>Calyrex Ice Rider</td>\n      <td>Psychic</td>\n      <td>Ice</td>\n      <td>['As One']</td>\n      <td>100</td>\n      <td>165</td>\n      <td>150</td>\n      <td>85</td>\n      <td>130</td>\n      <td>...</td>\n      <td>1.0</td>\n      <td>1.0</td>\n      <td>0.5</td>\n      <td>2.0</td>\n      <td>2.0</td>\n      <td>2.0</td>\n      <td>1.0</td>\n      <td>2.0</td>\n      <td>2.0</td>\n      <td>1.0</td>\n    </tr>\n    <tr>\n      <th>1031</th>\n      <td>898</td>\n      <td>Calyrex Shadow Rider</td>\n      <td>Psychic</td>\n      <td>Ghost</td>\n      <td>['As One']</td>\n      <td>100</td>\n      <td>85</td>\n      <td>80</td>\n      <td>165</td>\n      <td>100</td>\n      <td>...</td>\n      <td>1.0</td>\n      <td>1.0</td>\n      <td>0.5</td>\n      <td>1.0</td>\n      <td>1.0</td>\n      <td>4.0</td>\n      <td>1.0</td>\n      <td>4.0</td>\n      <td>1.0</td>\n      <td>1.0</td>\n    </tr>\n  </tbody>\n</table>\n<p>1032 rows × 41 columns</p>\n</div>"
                    },
                    "metadata": {}
                }
            ],
            "execution_count": 2
        }
    ]
}