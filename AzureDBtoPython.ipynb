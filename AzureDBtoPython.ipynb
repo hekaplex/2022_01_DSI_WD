{
    "metadata": {
        "kernelspec": {
            "name": "python3",
            "display_name": "Python 3 (ipykernel)",
            "language": "python"
        },
        "language_info": {
            "name": "python",
            "version": "3.8.10",
            "mimetype": "text/x-python",
            "codemirror_mode": {
                "name": "ipython",
                "version": 3
            },
            "pygments_lexer": "ipython3",
            "nbconvert_exporter": "python",
            "file_extension": ".py"
        }
    },
    "nbformat_minor": 2,
    "nbformat": 4,
    "cells": [
        {
            "cell_type": "code",
            "source": [
                "##import from sql to python\r\n",
                "import pyodbc\r\n",
                "#from sqlalchemy import create_engine\r\n",
                "import pandas\r\n",
                "import pandas as pd\r\n",
                "# Some other example server values are\r\n",
                "# server = 'localhost\\sqlexpress' # for a named instance\r\n",
                "# server = 'myserver,port' # to specify an alternate port\r\n",
                "server = 'dcdsi0122sv.database.windows.net' \r\n",
                "database = 'dcdsi0122db' \r\n",
                "username = 'dclerk' \r\n",
                "password = 'PNut!@15'  \r\n",
                "cnxn = pyodbc.connect('DRIVER={SQL Server};SERVER='+server+';DATABASE='+database+';UID='+username+';PWD='+ password)\r\n",
                "cursor = cnxn.cursor()\r\n",
                "# select 26 rows from SQL table to insert in dataframe.\r\n",
                "query = \"SELECT * FROM CSInc.vInvoiceHeader;\"\r\n",
                "df = pd.read_sql(query, cnxn)\r\n",
                "print(df.head())"
            ],
            "metadata": {
                "azdata_cell_guid": "779deacb-4f23-4ea2-b9df-a88979dee381"
            },
            "outputs": [
                {
                    "name": "stderr",
                    "text": "C:\\Users\\David Clerk\\AppData\\Roaming\\Python\\Python38\\site-packages\\pandas\\io\\sql.py:761: UserWarning: pandas only support SQLAlchemy connectable(engine/connection) ordatabase string URI or sqlite3 DBAPI2 connectionother DBAPI2 objects are not tested, please consider using SQLAlchemy\n  warnings.warn(\n",
                    "output_type": "stream"
                },
                {
                    "name": "stdout",
                    "text": "  AccountNumber  InvoiceID  CustomerID                  Company  \\\n0     10-4022-1     900008           1          A Machine Store   \n1    10-4022-10     902850          10   Rural Machine Emporium   \n2   10-4022-100     902858         100      Up-To-Date Eqipment   \n3   10-4022-101     902864         101  Urban Eqipment Emporium   \n4   10-4022-102     902866         102   National Manufacturing   \n\n                                     Company Address Company Phone  \\\n0   8713 Yosemite Ct. \\nMontgomery, Alabama, 36104\\n  367-555-0246   \n1      6388 Lake City Way \\nDover, Delaware, 19901\\n  645-555-0207   \n2  965 De La Gauchetiere West \\nSacramento, Calif...  645-555-0239   \n3  No. 25400 10665 Jasper Avenue \\nDenver, Colora...  645-555-0240   \n4    P.O. Box 44000 \\nHartford, Connecticut, 06103\\n  645-555-0241   \n\n                   Company EMail  Invoice SubTotal  Tax Amount  \\\n0   orlando0@adventure-works.com            2900.4  248.477268   \n1  kathleen0@adventure-works.com            2071.0  177.422570   \n2      kirk2@adventure-works.com            1523.0  130.475410   \n3   william1@adventure-works.com            2004.0  171.682680   \n4     linda7@adventure-works.com             728.0   62.367760   \n\n   Service Charge  Invoice Total Invoice Date    Due Date InvoiceStatus  \\\n0          435.06    3583.937268   02/17/2022  02/17/2022      Invoiced   \n1          310.65    2559.072570   02/17/2022  02/17/2022      Invoiced   \n2          228.45    1881.925410   02/17/2022  02/17/2022      Invoiced   \n3          300.60    2476.282680   02/17/2022  02/17/2022      Invoiced   \n4          109.20     899.567760   02/17/2022  02/17/2022      Invoiced   \n\n  DatePaid  \n0     None  \n1     None  \n2     None  \n3     None  \n4     None  \n",
                    "output_type": "stream"
                }
            ],
            "execution_count": 8
        }
    ]
}