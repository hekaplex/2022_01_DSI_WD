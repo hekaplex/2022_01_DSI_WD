{
 "cells": [
  {
   "cell_type": "code",
   "execution_count": 165,
   "metadata": {},
   "outputs": [],
   "source": [
    "import numpy as np\n",
    "import pandas as pd\n",
    "import seaborn as sns\n",
    "import matplotlib.pyplot as plt\n",
    "import os \n",
    "\n"
   ]
  },
  {
   "cell_type": "code",
   "execution_count": 93,
   "metadata": {},
   "outputs": [
    {
     "name": "stdout",
     "output_type": "stream",
     "text": [
      "c:\\Users\\info\\dsi\\Alex\\py\n"
     ]
    }
   ],
   "source": [
    "curdir = os.getcwd()\n",
    "print(curdir)"
   ]
  },
  {
   "cell_type": "code",
   "execution_count": 94,
   "metadata": {},
   "outputs": [
    {
     "data": {
      "text/html": [
       "<div>\n",
       "<style scoped>\n",
       "    .dataframe tbody tr th:only-of-type {\n",
       "        vertical-align: middle;\n",
       "    }\n",
       "\n",
       "    .dataframe tbody tr th {\n",
       "        vertical-align: top;\n",
       "    }\n",
       "\n",
       "    .dataframe thead th {\n",
       "        text-align: right;\n",
       "    }\n",
       "</style>\n",
       "<table border=\"1\" class=\"dataframe\">\n",
       "  <thead>\n",
       "    <tr style=\"text-align: right;\">\n",
       "      <th></th>\n",
       "      <th>Year</th>\n",
       "      <th>Seq</th>\n",
       "      <th>Aid Contribution</th>\n",
       "      <th>Dis Mag Value</th>\n",
       "      <th>Start Year</th>\n",
       "      <th>Start Month</th>\n",
       "      <th>Start Day</th>\n",
       "      <th>End Year</th>\n",
       "      <th>End Month</th>\n",
       "      <th>End Day</th>\n",
       "      <th>Total Deaths</th>\n",
       "      <th>No Injured</th>\n",
       "      <th>No Affected</th>\n",
       "      <th>No Homeless</th>\n",
       "      <th>Total Affected</th>\n",
       "      <th>Insured Damages ('000 US$)</th>\n",
       "      <th>Total Damages ('000 US$)</th>\n",
       "      <th>CPI</th>\n",
       "    </tr>\n",
       "  </thead>\n",
       "  <tbody>\n",
       "    <tr>\n",
       "      <th>count</th>\n",
       "      <td>16126.000000</td>\n",
       "      <td>16126.000000</td>\n",
       "      <td>6.770000e+02</td>\n",
       "      <td>4.946000e+03</td>\n",
       "      <td>16126.00000</td>\n",
       "      <td>15739.000000</td>\n",
       "      <td>12498.000000</td>\n",
       "      <td>16126.000000</td>\n",
       "      <td>15418.000000</td>\n",
       "      <td>12570.000000</td>\n",
       "      <td>1.141300e+04</td>\n",
       "      <td>3.895000e+03</td>\n",
       "      <td>9.220000e+03</td>\n",
       "      <td>2.430000e+03</td>\n",
       "      <td>1.161700e+04</td>\n",
       "      <td>1.096000e+03</td>\n",
       "      <td>5.245000e+03</td>\n",
       "      <td>15811.000000</td>\n",
       "    </tr>\n",
       "    <tr>\n",
       "      <th>mean</th>\n",
       "      <td>1996.764790</td>\n",
       "      <td>714.784820</td>\n",
       "      <td>1.254136e+05</td>\n",
       "      <td>4.735038e+04</td>\n",
       "      <td>1996.77837</td>\n",
       "      <td>6.444374</td>\n",
       "      <td>15.233957</td>\n",
       "      <td>1996.835607</td>\n",
       "      <td>6.576728</td>\n",
       "      <td>15.775020</td>\n",
       "      <td>2.842866e+03</td>\n",
       "      <td>2.621102e+03</td>\n",
       "      <td>8.823612e+05</td>\n",
       "      <td>7.329314e+04</td>\n",
       "      <td>7.165088e+05</td>\n",
       "      <td>7.986514e+05</td>\n",
       "      <td>7.247835e+05</td>\n",
       "      <td>63.215103</td>\n",
       "    </tr>\n",
       "    <tr>\n",
       "      <th>std</th>\n",
       "      <td>20.159065</td>\n",
       "      <td>1929.635089</td>\n",
       "      <td>2.997875e+06</td>\n",
       "      <td>3.094242e+05</td>\n",
       "      <td>20.15571</td>\n",
       "      <td>3.393965</td>\n",
       "      <td>8.953821</td>\n",
       "      <td>20.143010</td>\n",
       "      <td>3.352965</td>\n",
       "      <td>8.865486</td>\n",
       "      <td>6.860595e+04</td>\n",
       "      <td>3.440343e+04</td>\n",
       "      <td>8.573913e+06</td>\n",
       "      <td>5.230058e+05</td>\n",
       "      <td>7.718598e+06</td>\n",
       "      <td>3.057638e+06</td>\n",
       "      <td>4.723131e+06</td>\n",
       "      <td>26.734285</td>\n",
       "    </tr>\n",
       "    <tr>\n",
       "      <th>min</th>\n",
       "      <td>1900.000000</td>\n",
       "      <td>1.000000</td>\n",
       "      <td>1.000000e+00</td>\n",
       "      <td>-5.700000e+01</td>\n",
       "      <td>1900.00000</td>\n",
       "      <td>1.000000</td>\n",
       "      <td>1.000000</td>\n",
       "      <td>1900.000000</td>\n",
       "      <td>1.000000</td>\n",
       "      <td>1.000000</td>\n",
       "      <td>1.000000e+00</td>\n",
       "      <td>1.000000e+00</td>\n",
       "      <td>1.000000e+00</td>\n",
       "      <td>3.000000e+00</td>\n",
       "      <td>1.000000e+00</td>\n",
       "      <td>3.400000e+01</td>\n",
       "      <td>2.000000e+00</td>\n",
       "      <td>3.221647</td>\n",
       "    </tr>\n",
       "    <tr>\n",
       "      <th>25%</th>\n",
       "      <td>1989.000000</td>\n",
       "      <td>93.000000</td>\n",
       "      <td>1.750000e+02</td>\n",
       "      <td>7.000000e+00</td>\n",
       "      <td>1989.00000</td>\n",
       "      <td>4.000000</td>\n",
       "      <td>7.000000</td>\n",
       "      <td>1989.000000</td>\n",
       "      <td>4.000000</td>\n",
       "      <td>8.000000</td>\n",
       "      <td>6.000000e+00</td>\n",
       "      <td>1.400000e+01</td>\n",
       "      <td>1.244750e+03</td>\n",
       "      <td>5.725000e+02</td>\n",
       "      <td>6.500000e+02</td>\n",
       "      <td>5.000000e+04</td>\n",
       "      <td>8.300000e+03</td>\n",
       "      <td>45.692897</td>\n",
       "    </tr>\n",
       "    <tr>\n",
       "      <th>50%</th>\n",
       "      <td>2001.000000</td>\n",
       "      <td>270.000000</td>\n",
       "      <td>7.210000e+02</td>\n",
       "      <td>1.515000e+02</td>\n",
       "      <td>2001.00000</td>\n",
       "      <td>7.000000</td>\n",
       "      <td>15.000000</td>\n",
       "      <td>2001.000000</td>\n",
       "      <td>7.000000</td>\n",
       "      <td>16.000000</td>\n",
       "      <td>2.000000e+01</td>\n",
       "      <td>5.000000e+01</td>\n",
       "      <td>1.000000e+04</td>\n",
       "      <td>3.000000e+03</td>\n",
       "      <td>5.965000e+03</td>\n",
       "      <td>1.725000e+05</td>\n",
       "      <td>6.000000e+04</td>\n",
       "      <td>68.415379</td>\n",
       "    </tr>\n",
       "    <tr>\n",
       "      <th>75%</th>\n",
       "      <td>2011.000000</td>\n",
       "      <td>486.000000</td>\n",
       "      <td>3.511000e+03</td>\n",
       "      <td>1.129650e+04</td>\n",
       "      <td>2011.00000</td>\n",
       "      <td>9.000000</td>\n",
       "      <td>23.000000</td>\n",
       "      <td>2011.000000</td>\n",
       "      <td>9.000000</td>\n",
       "      <td>23.000000</td>\n",
       "      <td>6.300000e+01</td>\n",
       "      <td>2.000000e+02</td>\n",
       "      <td>9.182300e+04</td>\n",
       "      <td>1.750000e+04</td>\n",
       "      <td>5.825500e+04</td>\n",
       "      <td>5.000000e+05</td>\n",
       "      <td>3.173000e+05</td>\n",
       "      <td>84.252733</td>\n",
       "    </tr>\n",
       "    <tr>\n",
       "      <th>max</th>\n",
       "      <td>2021.000000</td>\n",
       "      <td>9881.000000</td>\n",
       "      <td>7.800000e+07</td>\n",
       "      <td>1.302587e+07</td>\n",
       "      <td>2021.00000</td>\n",
       "      <td>12.000000</td>\n",
       "      <td>31.000000</td>\n",
       "      <td>2021.000000</td>\n",
       "      <td>12.000000</td>\n",
       "      <td>31.000000</td>\n",
       "      <td>3.700000e+06</td>\n",
       "      <td>1.800000e+06</td>\n",
       "      <td>3.300000e+08</td>\n",
       "      <td>1.585000e+07</td>\n",
       "      <td>3.300000e+08</td>\n",
       "      <td>6.000000e+07</td>\n",
       "      <td>2.100000e+08</td>\n",
       "      <td>100.000000</td>\n",
       "    </tr>\n",
       "  </tbody>\n",
       "</table>\n",
       "</div>"
      ],
      "text/plain": [
       "               Year           Seq  Aid Contribution  Dis Mag Value  \\\n",
       "count  16126.000000  16126.000000      6.770000e+02   4.946000e+03   \n",
       "mean    1996.764790    714.784820      1.254136e+05   4.735038e+04   \n",
       "std       20.159065   1929.635089      2.997875e+06   3.094242e+05   \n",
       "min     1900.000000      1.000000      1.000000e+00  -5.700000e+01   \n",
       "25%     1989.000000     93.000000      1.750000e+02   7.000000e+00   \n",
       "50%     2001.000000    270.000000      7.210000e+02   1.515000e+02   \n",
       "75%     2011.000000    486.000000      3.511000e+03   1.129650e+04   \n",
       "max     2021.000000   9881.000000      7.800000e+07   1.302587e+07   \n",
       "\n",
       "        Start Year   Start Month     Start Day      End Year     End Month  \\\n",
       "count  16126.00000  15739.000000  12498.000000  16126.000000  15418.000000   \n",
       "mean    1996.77837      6.444374     15.233957   1996.835607      6.576728   \n",
       "std       20.15571      3.393965      8.953821     20.143010      3.352965   \n",
       "min     1900.00000      1.000000      1.000000   1900.000000      1.000000   \n",
       "25%     1989.00000      4.000000      7.000000   1989.000000      4.000000   \n",
       "50%     2001.00000      7.000000     15.000000   2001.000000      7.000000   \n",
       "75%     2011.00000      9.000000     23.000000   2011.000000      9.000000   \n",
       "max     2021.00000     12.000000     31.000000   2021.000000     12.000000   \n",
       "\n",
       "            End Day  Total Deaths    No Injured   No Affected   No Homeless  \\\n",
       "count  12570.000000  1.141300e+04  3.895000e+03  9.220000e+03  2.430000e+03   \n",
       "mean      15.775020  2.842866e+03  2.621102e+03  8.823612e+05  7.329314e+04   \n",
       "std        8.865486  6.860595e+04  3.440343e+04  8.573913e+06  5.230058e+05   \n",
       "min        1.000000  1.000000e+00  1.000000e+00  1.000000e+00  3.000000e+00   \n",
       "25%        8.000000  6.000000e+00  1.400000e+01  1.244750e+03  5.725000e+02   \n",
       "50%       16.000000  2.000000e+01  5.000000e+01  1.000000e+04  3.000000e+03   \n",
       "75%       23.000000  6.300000e+01  2.000000e+02  9.182300e+04  1.750000e+04   \n",
       "max       31.000000  3.700000e+06  1.800000e+06  3.300000e+08  1.585000e+07   \n",
       "\n",
       "       Total Affected  Insured Damages ('000 US$)  Total Damages ('000 US$)  \\\n",
       "count    1.161700e+04                1.096000e+03              5.245000e+03   \n",
       "mean     7.165088e+05                7.986514e+05              7.247835e+05   \n",
       "std      7.718598e+06                3.057638e+06              4.723131e+06   \n",
       "min      1.000000e+00                3.400000e+01              2.000000e+00   \n",
       "25%      6.500000e+02                5.000000e+04              8.300000e+03   \n",
       "50%      5.965000e+03                1.725000e+05              6.000000e+04   \n",
       "75%      5.825500e+04                5.000000e+05              3.173000e+05   \n",
       "max      3.300000e+08                6.000000e+07              2.100000e+08   \n",
       "\n",
       "                CPI  \n",
       "count  15811.000000  \n",
       "mean      63.215103  \n",
       "std       26.734285  \n",
       "min        3.221647  \n",
       "25%       45.692897  \n",
       "50%       68.415379  \n",
       "75%       84.252733  \n",
       "max      100.000000  "
      ]
     },
     "execution_count": 94,
     "metadata": {},
     "output_type": "execute_result"
    }
   ],
   "source": [
    "nd = pd.read_csv('Disasters.csv')\n",
    "nd.describe()"
   ]
  },
  {
   "cell_type": "code",
   "execution_count": 117,
   "metadata": {},
   "outputs": [
    {
     "data": {
      "text/plain": [
       "(16126, 45)"
      ]
     },
     "execution_count": 117,
     "metadata": {},
     "output_type": "execute_result"
    }
   ],
   "source": [
    "nd.shape"
   ]
  },
  {
   "cell_type": "code",
   "execution_count": 118,
   "metadata": {},
   "outputs": [
    {
     "data": {
      "text/plain": [
       "Year                          16126\n",
       "Seq                           16126\n",
       "Glide                          1581\n",
       "Disaster Group                16126\n",
       "Disaster Subgroup             16126\n",
       "Disaster Type                 16126\n",
       "Disaster Subtype              13016\n",
       "Disaster Subsubtype            1077\n",
       "Event Name                     3861\n",
       "Country                       16126\n",
       "ISO                           16126\n",
       "Region                        16126\n",
       "Continent                     16126\n",
       "Location                      14334\n",
       "Origin                         3794\n",
       "Associated Dis                 3348\n",
       "Associated Dis2                 707\n",
       "OFDA Response                  1694\n",
       "Appeal                         2569\n",
       "Declaration                    3256\n",
       "Aid Contribution                677\n",
       "Dis Mag Value                  4946\n",
       "Dis Mag Scale                 14936\n",
       "Latitude                       2729\n",
       "Longitude                      2732\n",
       "Local Time                     1103\n",
       "River Basin                    1287\n",
       "Start Year                    16126\n",
       "Start Month                   15739\n",
       "Start Day                     12498\n",
       "End Year                      16126\n",
       "End Month                     15418\n",
       "End Day                       12570\n",
       "Total Deaths                  11413\n",
       "No Injured                     3895\n",
       "No Affected                    9220\n",
       "No Homeless                    2430\n",
       "Total Affected                11617\n",
       "Insured Damages ('000 US$)     1096\n",
       "Total Damages ('000 US$)       5245\n",
       "CPI                           15811\n",
       "Adm Level                      7859\n",
       "Admin1 Code                    4581\n",
       "Admin2 Code                    3969\n",
       "Geo Locations                  7859\n",
       "dtype: int64"
      ]
     },
     "execution_count": 118,
     "metadata": {},
     "output_type": "execute_result"
    }
   ],
   "source": [
    "nd.count()"
   ]
  },
  {
   "cell_type": "code",
   "execution_count": 119,
   "metadata": {},
   "outputs": [
    {
     "name": "stdout",
     "output_type": "stream",
     "text": [
      "Year                              0\n",
      "Seq                               0\n",
      "Glide                         14545\n",
      "Disaster Group                    0\n",
      "Disaster Subgroup                 0\n",
      "Disaster Type                     0\n",
      "Disaster Subtype               3110\n",
      "Disaster Subsubtype           15049\n",
      "Event Name                    12265\n",
      "Country                           0\n",
      "ISO                               0\n",
      "Region                            0\n",
      "Continent                         0\n",
      "Location                       1792\n",
      "Origin                        12332\n",
      "Associated Dis                12778\n",
      "Associated Dis2               15419\n",
      "OFDA Response                 14432\n",
      "Appeal                        13557\n",
      "Declaration                   12870\n",
      "Aid Contribution              15449\n",
      "Dis Mag Value                 11180\n",
      "Dis Mag Scale                  1190\n",
      "Latitude                      13397\n",
      "Longitude                     13394\n",
      "Local Time                    15023\n",
      "River Basin                   14839\n",
      "Start Year                        0\n",
      "Start Month                     387\n",
      "Start Day                      3628\n",
      "End Year                          0\n",
      "End Month                       708\n",
      "End Day                        3556\n",
      "Total Deaths                   4713\n",
      "No Injured                    12231\n",
      "No Affected                    6906\n",
      "No Homeless                   13696\n",
      "Total Affected                 4509\n",
      "Insured Damages ('000 US$)    15030\n",
      "Total Damages ('000 US$)      10881\n",
      "CPI                             315\n",
      "Adm Level                      8267\n",
      "Admin1 Code                   11545\n",
      "Admin2 Code                   12157\n",
      "Geo Locations                  8267\n",
      "dtype: int64\n"
     ]
    }
   ],
   "source": [
    "missing_count = nd.shape[0] - nd.count()\n",
    "print(missing_count)"
   ]
  },
  {
   "cell_type": "code",
   "execution_count": 95,
   "metadata": {},
   "outputs": [
    {
     "data": {
      "text/html": [
       "<div>\n",
       "<style scoped>\n",
       "    .dataframe tbody tr th:only-of-type {\n",
       "        vertical-align: middle;\n",
       "    }\n",
       "\n",
       "    .dataframe tbody tr th {\n",
       "        vertical-align: top;\n",
       "    }\n",
       "\n",
       "    .dataframe thead th {\n",
       "        text-align: right;\n",
       "    }\n",
       "</style>\n",
       "<table border=\"1\" class=\"dataframe\">\n",
       "  <thead>\n",
       "    <tr style=\"text-align: right;\">\n",
       "      <th></th>\n",
       "      <th>Year</th>\n",
       "      <th>Seq</th>\n",
       "      <th>Glide</th>\n",
       "      <th>Disaster Group</th>\n",
       "      <th>Disaster Subgroup</th>\n",
       "      <th>Disaster Type</th>\n",
       "      <th>Disaster Subtype</th>\n",
       "      <th>Disaster Subsubtype</th>\n",
       "      <th>Event Name</th>\n",
       "      <th>Country</th>\n",
       "      <th>...</th>\n",
       "      <th>No Affected</th>\n",
       "      <th>No Homeless</th>\n",
       "      <th>Total Affected</th>\n",
       "      <th>Insured Damages ('000 US$)</th>\n",
       "      <th>Total Damages ('000 US$)</th>\n",
       "      <th>CPI</th>\n",
       "      <th>Adm Level</th>\n",
       "      <th>Admin1 Code</th>\n",
       "      <th>Admin2 Code</th>\n",
       "      <th>Geo Locations</th>\n",
       "    </tr>\n",
       "  </thead>\n",
       "  <tbody>\n",
       "    <tr>\n",
       "      <th>0</th>\n",
       "      <td>1900</td>\n",
       "      <td>9002</td>\n",
       "      <td>NaN</td>\n",
       "      <td>Natural</td>\n",
       "      <td>Climatological</td>\n",
       "      <td>Drought</td>\n",
       "      <td>Drought</td>\n",
       "      <td>NaN</td>\n",
       "      <td>NaN</td>\n",
       "      <td>Cabo Verde</td>\n",
       "      <td>...</td>\n",
       "      <td>NaN</td>\n",
       "      <td>NaN</td>\n",
       "      <td>NaN</td>\n",
       "      <td>NaN</td>\n",
       "      <td>NaN</td>\n",
       "      <td>3.221647</td>\n",
       "      <td>NaN</td>\n",
       "      <td>NaN</td>\n",
       "      <td>NaN</td>\n",
       "      <td>NaN</td>\n",
       "    </tr>\n",
       "    <tr>\n",
       "      <th>1</th>\n",
       "      <td>1900</td>\n",
       "      <td>9001</td>\n",
       "      <td>NaN</td>\n",
       "      <td>Natural</td>\n",
       "      <td>Climatological</td>\n",
       "      <td>Drought</td>\n",
       "      <td>Drought</td>\n",
       "      <td>NaN</td>\n",
       "      <td>NaN</td>\n",
       "      <td>India</td>\n",
       "      <td>...</td>\n",
       "      <td>NaN</td>\n",
       "      <td>NaN</td>\n",
       "      <td>NaN</td>\n",
       "      <td>NaN</td>\n",
       "      <td>NaN</td>\n",
       "      <td>3.221647</td>\n",
       "      <td>NaN</td>\n",
       "      <td>NaN</td>\n",
       "      <td>NaN</td>\n",
       "      <td>NaN</td>\n",
       "    </tr>\n",
       "    <tr>\n",
       "      <th>2</th>\n",
       "      <td>1902</td>\n",
       "      <td>12</td>\n",
       "      <td>NaN</td>\n",
       "      <td>Natural</td>\n",
       "      <td>Geophysical</td>\n",
       "      <td>Earthquake</td>\n",
       "      <td>Ground movement</td>\n",
       "      <td>NaN</td>\n",
       "      <td>NaN</td>\n",
       "      <td>Guatemala</td>\n",
       "      <td>...</td>\n",
       "      <td>NaN</td>\n",
       "      <td>NaN</td>\n",
       "      <td>NaN</td>\n",
       "      <td>NaN</td>\n",
       "      <td>25000.0</td>\n",
       "      <td>3.350513</td>\n",
       "      <td>NaN</td>\n",
       "      <td>NaN</td>\n",
       "      <td>NaN</td>\n",
       "      <td>NaN</td>\n",
       "    </tr>\n",
       "  </tbody>\n",
       "</table>\n",
       "<p>3 rows × 45 columns</p>\n",
       "</div>"
      ],
      "text/plain": [
       "   Year   Seq Glide Disaster Group Disaster Subgroup Disaster Type  \\\n",
       "0  1900  9002   NaN        Natural    Climatological       Drought   \n",
       "1  1900  9001   NaN        Natural    Climatological       Drought   \n",
       "2  1902    12   NaN        Natural       Geophysical    Earthquake   \n",
       "\n",
       "  Disaster Subtype Disaster Subsubtype Event Name     Country  ...  \\\n",
       "0          Drought                 NaN        NaN  Cabo Verde  ...   \n",
       "1          Drought                 NaN        NaN       India  ...   \n",
       "2  Ground movement                 NaN        NaN   Guatemala  ...   \n",
       "\n",
       "  No Affected No Homeless Total Affected Insured Damages ('000 US$)  \\\n",
       "0         NaN         NaN            NaN                        NaN   \n",
       "1         NaN         NaN            NaN                        NaN   \n",
       "2         NaN         NaN            NaN                        NaN   \n",
       "\n",
       "  Total Damages ('000 US$)       CPI Adm Level Admin1 Code Admin2 Code  \\\n",
       "0                      NaN  3.221647       NaN         NaN         NaN   \n",
       "1                      NaN  3.221647       NaN         NaN         NaN   \n",
       "2                  25000.0  3.350513       NaN         NaN         NaN   \n",
       "\n",
       "  Geo Locations  \n",
       "0           NaN  \n",
       "1           NaN  \n",
       "2           NaN  \n",
       "\n",
       "[3 rows x 45 columns]"
      ]
     },
     "execution_count": 95,
     "metadata": {},
     "output_type": "execute_result"
    }
   ],
   "source": [
    "nd.head(3)"
   ]
  },
  {
   "cell_type": "code",
   "execution_count": 96,
   "metadata": {},
   "outputs": [
    {
     "data": {
      "text/html": [
       "<div>\n",
       "<style scoped>\n",
       "    .dataframe tbody tr th:only-of-type {\n",
       "        vertical-align: middle;\n",
       "    }\n",
       "\n",
       "    .dataframe tbody tr th {\n",
       "        vertical-align: top;\n",
       "    }\n",
       "\n",
       "    .dataframe thead th {\n",
       "        text-align: right;\n",
       "    }\n",
       "</style>\n",
       "<table border=\"1\" class=\"dataframe\">\n",
       "  <thead>\n",
       "    <tr style=\"text-align: right;\">\n",
       "      <th></th>\n",
       "      <th>Year</th>\n",
       "      <th>Seq</th>\n",
       "      <th>Glide</th>\n",
       "      <th>Disaster Group</th>\n",
       "      <th>Disaster Subgroup</th>\n",
       "      <th>Disaster Type</th>\n",
       "      <th>Disaster Subtype</th>\n",
       "      <th>Disaster Subsubtype</th>\n",
       "      <th>Event Name</th>\n",
       "      <th>Country</th>\n",
       "      <th>...</th>\n",
       "      <th>No Affected</th>\n",
       "      <th>No Homeless</th>\n",
       "      <th>Total Affected</th>\n",
       "      <th>Insured Damages ('000 US$)</th>\n",
       "      <th>Total Damages ('000 US$)</th>\n",
       "      <th>CPI</th>\n",
       "      <th>Adm Level</th>\n",
       "      <th>Admin1 Code</th>\n",
       "      <th>Admin2 Code</th>\n",
       "      <th>Geo Locations</th>\n",
       "    </tr>\n",
       "  </thead>\n",
       "  <tbody>\n",
       "    <tr>\n",
       "      <th>16123</th>\n",
       "      <td>2021</td>\n",
       "      <td>599</td>\n",
       "      <td>EP-2021-000138</td>\n",
       "      <td>Natural</td>\n",
       "      <td>Biological</td>\n",
       "      <td>Epidemic</td>\n",
       "      <td>Viral disease</td>\n",
       "      <td>NaN</td>\n",
       "      <td>Meningitis</td>\n",
       "      <td>Congo (the Democratic Republic of the)</td>\n",
       "      <td>...</td>\n",
       "      <td>NaN</td>\n",
       "      <td>NaN</td>\n",
       "      <td>301.0</td>\n",
       "      <td>NaN</td>\n",
       "      <td>NaN</td>\n",
       "      <td>NaN</td>\n",
       "      <td>NaN</td>\n",
       "      <td>NaN</td>\n",
       "      <td>NaN</td>\n",
       "      <td>NaN</td>\n",
       "    </tr>\n",
       "    <tr>\n",
       "      <th>16124</th>\n",
       "      <td>2021</td>\n",
       "      <td>20</td>\n",
       "      <td>NaN</td>\n",
       "      <td>Natural</td>\n",
       "      <td>Hydrological</td>\n",
       "      <td>Flood</td>\n",
       "      <td>NaN</td>\n",
       "      <td>NaN</td>\n",
       "      <td>NaN</td>\n",
       "      <td>Serbia</td>\n",
       "      <td>...</td>\n",
       "      <td>22.0</td>\n",
       "      <td>NaN</td>\n",
       "      <td>22.0</td>\n",
       "      <td>NaN</td>\n",
       "      <td>NaN</td>\n",
       "      <td>NaN</td>\n",
       "      <td>1</td>\n",
       "      <td>25374;25378;25379;25380;25383;25386;25397</td>\n",
       "      <td>NaN</td>\n",
       "      <td>Jablanicki, Kosovski, Kosovsko-mitrovatski, Ko...</td>\n",
       "    </tr>\n",
       "    <tr>\n",
       "      <th>16125</th>\n",
       "      <td>2021</td>\n",
       "      <td>481</td>\n",
       "      <td>NaN</td>\n",
       "      <td>Natural</td>\n",
       "      <td>Hydrological</td>\n",
       "      <td>Flood</td>\n",
       "      <td>NaN</td>\n",
       "      <td>NaN</td>\n",
       "      <td>NaN</td>\n",
       "      <td>South Sudan</td>\n",
       "      <td>...</td>\n",
       "      <td>500000.0</td>\n",
       "      <td>NaN</td>\n",
       "      <td>500000.0</td>\n",
       "      <td>NaN</td>\n",
       "      <td>NaN</td>\n",
       "      <td>NaN</td>\n",
       "      <td>NaN</td>\n",
       "      <td>NaN</td>\n",
       "      <td>NaN</td>\n",
       "      <td>NaN</td>\n",
       "    </tr>\n",
       "  </tbody>\n",
       "</table>\n",
       "<p>3 rows × 45 columns</p>\n",
       "</div>"
      ],
      "text/plain": [
       "       Year  Seq           Glide Disaster Group Disaster Subgroup  \\\n",
       "16123  2021  599  EP-2021-000138        Natural        Biological   \n",
       "16124  2021   20             NaN        Natural      Hydrological   \n",
       "16125  2021  481             NaN        Natural      Hydrological   \n",
       "\n",
       "      Disaster Type Disaster Subtype Disaster Subsubtype  Event Name  \\\n",
       "16123      Epidemic    Viral disease                 NaN  Meningitis   \n",
       "16124         Flood              NaN                 NaN         NaN   \n",
       "16125         Flood              NaN                 NaN         NaN   \n",
       "\n",
       "                                      Country  ... No Affected No Homeless  \\\n",
       "16123  Congo (the Democratic Republic of the)  ...         NaN         NaN   \n",
       "16124                                  Serbia  ...        22.0         NaN   \n",
       "16125                             South Sudan  ...    500000.0         NaN   \n",
       "\n",
       "      Total Affected Insured Damages ('000 US$) Total Damages ('000 US$) CPI  \\\n",
       "16123          301.0                        NaN                      NaN NaN   \n",
       "16124           22.0                        NaN                      NaN NaN   \n",
       "16125       500000.0                        NaN                      NaN NaN   \n",
       "\n",
       "      Adm Level                                Admin1 Code Admin2 Code  \\\n",
       "16123       NaN                                        NaN         NaN   \n",
       "16124         1  25374;25378;25379;25380;25383;25386;25397         NaN   \n",
       "16125       NaN                                        NaN         NaN   \n",
       "\n",
       "                                           Geo Locations  \n",
       "16123                                                NaN  \n",
       "16124  Jablanicki, Kosovski, Kosovsko-mitrovatski, Ko...  \n",
       "16125                                                NaN  \n",
       "\n",
       "[3 rows x 45 columns]"
      ]
     },
     "execution_count": 96,
     "metadata": {},
     "output_type": "execute_result"
    }
   ],
   "source": [
    "nd.tail(3)"
   ]
  },
  {
   "cell_type": "code",
   "execution_count": 97,
   "metadata": {},
   "outputs": [
    {
     "data": {
      "text/plain": [
       "Index(['Year', 'Seq', 'Glide', 'Disaster Group', 'Disaster Subgroup',\n",
       "       'Disaster Type', 'Disaster Subtype', 'Disaster Subsubtype',\n",
       "       'Event Name', 'Country', 'ISO', 'Region', 'Continent', 'Location',\n",
       "       'Origin', 'Associated Dis', 'Associated Dis2', 'OFDA Response',\n",
       "       'Appeal', 'Declaration', 'Aid Contribution', 'Dis Mag Value',\n",
       "       'Dis Mag Scale', 'Latitude', 'Longitude', 'Local Time', 'River Basin',\n",
       "       'Start Year', 'Start Month', 'Start Day', 'End Year', 'End Month',\n",
       "       'End Day', 'Total Deaths', 'No Injured', 'No Affected', 'No Homeless',\n",
       "       'Total Affected', 'Insured Damages ('000 US$)',\n",
       "       'Total Damages ('000 US$)', 'CPI', 'Adm Level', 'Admin1 Code',\n",
       "       'Admin2 Code', 'Geo Locations'],\n",
       "      dtype='object')"
      ]
     },
     "execution_count": 97,
     "metadata": {},
     "output_type": "execute_result"
    }
   ],
   "source": [
    "nd.columns"
   ]
  },
  {
   "cell_type": "code",
   "execution_count": 98,
   "metadata": {},
   "outputs": [
    {
     "name": "stdout",
     "output_type": "stream",
     "text": [
      "<class 'pandas.core.frame.DataFrame'>\n",
      "RangeIndex: 16126 entries, 0 to 16125\n",
      "Data columns (total 45 columns):\n",
      " #   Column                      Non-Null Count  Dtype  \n",
      "---  ------                      --------------  -----  \n",
      " 0   Year                        16126 non-null  int64  \n",
      " 1   Seq                         16126 non-null  int64  \n",
      " 2   Glide                       1581 non-null   object \n",
      " 3   Disaster Group              16126 non-null  object \n",
      " 4   Disaster Subgroup           16126 non-null  object \n",
      " 5   Disaster Type               16126 non-null  object \n",
      " 6   Disaster Subtype            13016 non-null  object \n",
      " 7   Disaster Subsubtype         1077 non-null   object \n",
      " 8   Event Name                  3861 non-null   object \n",
      " 9   Country                     16126 non-null  object \n",
      " 10  ISO                         16126 non-null  object \n",
      " 11  Region                      16126 non-null  object \n",
      " 12  Continent                   16126 non-null  object \n",
      " 13  Location                    14334 non-null  object \n",
      " 14  Origin                      3794 non-null   object \n",
      " 15  Associated Dis              3348 non-null   object \n",
      " 16  Associated Dis2             707 non-null    object \n",
      " 17  OFDA Response               1694 non-null   object \n",
      " 18  Appeal                      2569 non-null   object \n",
      " 19  Declaration                 3256 non-null   object \n",
      " 20  Aid Contribution            677 non-null    float64\n",
      " 21  Dis Mag Value               4946 non-null   float64\n",
      " 22  Dis Mag Scale               14936 non-null  object \n",
      " 23  Latitude                    2729 non-null   object \n",
      " 24  Longitude                   2732 non-null   object \n",
      " 25  Local Time                  1103 non-null   object \n",
      " 26  River Basin                 1287 non-null   object \n",
      " 27  Start Year                  16126 non-null  int64  \n",
      " 28  Start Month                 15739 non-null  float64\n",
      " 29  Start Day                   12498 non-null  float64\n",
      " 30  End Year                    16126 non-null  int64  \n",
      " 31  End Month                   15418 non-null  float64\n",
      " 32  End Day                     12570 non-null  float64\n",
      " 33  Total Deaths                11413 non-null  float64\n",
      " 34  No Injured                  3895 non-null   float64\n",
      " 35  No Affected                 9220 non-null   float64\n",
      " 36  No Homeless                 2430 non-null   float64\n",
      " 37  Total Affected              11617 non-null  float64\n",
      " 38  Insured Damages ('000 US$)  1096 non-null   float64\n",
      " 39  Total Damages ('000 US$)    5245 non-null   float64\n",
      " 40  CPI                         15811 non-null  float64\n",
      " 41  Adm Level                   7859 non-null   object \n",
      " 42  Admin1 Code                 4581 non-null   object \n",
      " 43  Admin2 Code                 3969 non-null   object \n",
      " 44  Geo Locations               7859 non-null   object \n",
      "dtypes: float64(14), int64(4), object(27)\n",
      "memory usage: 5.5+ MB\n"
     ]
    }
   ],
   "source": [
    "nd.info()"
   ]
  },
  {
   "cell_type": "code",
   "execution_count": 99,
   "metadata": {},
   "outputs": [
    {
     "data": {
      "text/plain": [
       "Year                            122\n",
       "Seq                            1274\n",
       "Glide                          1086\n",
       "Disaster Group                    1\n",
       "Disaster Subgroup                 6\n",
       "Disaster Type                    15\n",
       "Disaster Subtype                 27\n",
       "Disaster Subsubtype              12\n",
       "Event Name                     1571\n",
       "Country                         228\n",
       "ISO                             228\n",
       "Region                           23\n",
       "Continent                         5\n",
       "Location                      12786\n",
       "Origin                          664\n",
       "Associated Dis                   30\n",
       "Associated Dis2                  30\n",
       "OFDA Response                     1\n",
       "Appeal                            2\n",
       "Declaration                       2\n",
       "Aid Contribution                556\n",
       "Dis Mag Value                  1864\n",
       "Dis Mag Scale                     5\n",
       "Latitude                       2373\n",
       "Longitude                      2440\n",
       "Local Time                      746\n",
       "River Basin                    1215\n",
       "Start Year                      122\n",
       "Start Month                      12\n",
       "Start Day                        31\n",
       "End Year                        122\n",
       "End Month                        12\n",
       "End Day                          31\n",
       "Total Deaths                    844\n",
       "No Injured                      759\n",
       "No Affected                    3566\n",
       "No Homeless                     914\n",
       "Total Affected                 5073\n",
       "Insured Damages ('000 US$)      362\n",
       "Total Damages ('000 US$)       1565\n",
       "CPI                             112\n",
       "Adm Level                         3\n",
       "Admin1 Code                    3434\n",
       "Admin2 Code                    3446\n",
       "Geo Locations                  6355\n",
       "dtype: int64"
      ]
     },
     "execution_count": 99,
     "metadata": {},
     "output_type": "execute_result"
    }
   ],
   "source": [
    "nd.nunique()"
   ]
  },
  {
   "cell_type": "code",
   "execution_count": 100,
   "metadata": {},
   "outputs": [
    {
     "data": {
      "text/html": [
       "<div>\n",
       "<style scoped>\n",
       "    .dataframe tbody tr th:only-of-type {\n",
       "        vertical-align: middle;\n",
       "    }\n",
       "\n",
       "    .dataframe tbody tr th {\n",
       "        vertical-align: top;\n",
       "    }\n",
       "\n",
       "    .dataframe thead th {\n",
       "        text-align: right;\n",
       "    }\n",
       "</style>\n",
       "<table border=\"1\" class=\"dataframe\">\n",
       "  <thead>\n",
       "    <tr style=\"text-align: right;\">\n",
       "      <th></th>\n",
       "      <th>Year</th>\n",
       "      <th>Seq</th>\n",
       "      <th>Aid Contribution</th>\n",
       "      <th>Dis Mag Value</th>\n",
       "      <th>Start Year</th>\n",
       "      <th>Start Month</th>\n",
       "      <th>Start Day</th>\n",
       "      <th>End Year</th>\n",
       "      <th>End Month</th>\n",
       "      <th>End Day</th>\n",
       "      <th>Total Deaths</th>\n",
       "      <th>No Injured</th>\n",
       "      <th>No Affected</th>\n",
       "      <th>No Homeless</th>\n",
       "      <th>Total Affected</th>\n",
       "      <th>Insured Damages ('000 US$)</th>\n",
       "      <th>Total Damages ('000 US$)</th>\n",
       "      <th>CPI</th>\n",
       "    </tr>\n",
       "  </thead>\n",
       "  <tbody>\n",
       "    <tr>\n",
       "      <th>count</th>\n",
       "      <td>16126.000000</td>\n",
       "      <td>16126.000000</td>\n",
       "      <td>6.770000e+02</td>\n",
       "      <td>4.946000e+03</td>\n",
       "      <td>16126.00000</td>\n",
       "      <td>15739.000000</td>\n",
       "      <td>12498.000000</td>\n",
       "      <td>16126.000000</td>\n",
       "      <td>15418.000000</td>\n",
       "      <td>12570.000000</td>\n",
       "      <td>1.141300e+04</td>\n",
       "      <td>3.895000e+03</td>\n",
       "      <td>9.220000e+03</td>\n",
       "      <td>2.430000e+03</td>\n",
       "      <td>1.161700e+04</td>\n",
       "      <td>1.096000e+03</td>\n",
       "      <td>5.245000e+03</td>\n",
       "      <td>15811.000000</td>\n",
       "    </tr>\n",
       "    <tr>\n",
       "      <th>mean</th>\n",
       "      <td>1996.764790</td>\n",
       "      <td>714.784820</td>\n",
       "      <td>1.254136e+05</td>\n",
       "      <td>4.735038e+04</td>\n",
       "      <td>1996.77837</td>\n",
       "      <td>6.444374</td>\n",
       "      <td>15.233957</td>\n",
       "      <td>1996.835607</td>\n",
       "      <td>6.576728</td>\n",
       "      <td>15.775020</td>\n",
       "      <td>2.842866e+03</td>\n",
       "      <td>2.621102e+03</td>\n",
       "      <td>8.823612e+05</td>\n",
       "      <td>7.329314e+04</td>\n",
       "      <td>7.165088e+05</td>\n",
       "      <td>7.986514e+05</td>\n",
       "      <td>7.247835e+05</td>\n",
       "      <td>63.215103</td>\n",
       "    </tr>\n",
       "    <tr>\n",
       "      <th>std</th>\n",
       "      <td>20.159065</td>\n",
       "      <td>1929.635089</td>\n",
       "      <td>2.997875e+06</td>\n",
       "      <td>3.094242e+05</td>\n",
       "      <td>20.15571</td>\n",
       "      <td>3.393965</td>\n",
       "      <td>8.953821</td>\n",
       "      <td>20.143010</td>\n",
       "      <td>3.352965</td>\n",
       "      <td>8.865486</td>\n",
       "      <td>6.860595e+04</td>\n",
       "      <td>3.440343e+04</td>\n",
       "      <td>8.573913e+06</td>\n",
       "      <td>5.230058e+05</td>\n",
       "      <td>7.718598e+06</td>\n",
       "      <td>3.057638e+06</td>\n",
       "      <td>4.723131e+06</td>\n",
       "      <td>26.734285</td>\n",
       "    </tr>\n",
       "    <tr>\n",
       "      <th>min</th>\n",
       "      <td>1900.000000</td>\n",
       "      <td>1.000000</td>\n",
       "      <td>1.000000e+00</td>\n",
       "      <td>-5.700000e+01</td>\n",
       "      <td>1900.00000</td>\n",
       "      <td>1.000000</td>\n",
       "      <td>1.000000</td>\n",
       "      <td>1900.000000</td>\n",
       "      <td>1.000000</td>\n",
       "      <td>1.000000</td>\n",
       "      <td>1.000000e+00</td>\n",
       "      <td>1.000000e+00</td>\n",
       "      <td>1.000000e+00</td>\n",
       "      <td>3.000000e+00</td>\n",
       "      <td>1.000000e+00</td>\n",
       "      <td>3.400000e+01</td>\n",
       "      <td>2.000000e+00</td>\n",
       "      <td>3.221647</td>\n",
       "    </tr>\n",
       "    <tr>\n",
       "      <th>25%</th>\n",
       "      <td>1989.000000</td>\n",
       "      <td>93.000000</td>\n",
       "      <td>1.750000e+02</td>\n",
       "      <td>7.000000e+00</td>\n",
       "      <td>1989.00000</td>\n",
       "      <td>4.000000</td>\n",
       "      <td>7.000000</td>\n",
       "      <td>1989.000000</td>\n",
       "      <td>4.000000</td>\n",
       "      <td>8.000000</td>\n",
       "      <td>6.000000e+00</td>\n",
       "      <td>1.400000e+01</td>\n",
       "      <td>1.244750e+03</td>\n",
       "      <td>5.725000e+02</td>\n",
       "      <td>6.500000e+02</td>\n",
       "      <td>5.000000e+04</td>\n",
       "      <td>8.300000e+03</td>\n",
       "      <td>45.692897</td>\n",
       "    </tr>\n",
       "    <tr>\n",
       "      <th>50%</th>\n",
       "      <td>2001.000000</td>\n",
       "      <td>270.000000</td>\n",
       "      <td>7.210000e+02</td>\n",
       "      <td>1.515000e+02</td>\n",
       "      <td>2001.00000</td>\n",
       "      <td>7.000000</td>\n",
       "      <td>15.000000</td>\n",
       "      <td>2001.000000</td>\n",
       "      <td>7.000000</td>\n",
       "      <td>16.000000</td>\n",
       "      <td>2.000000e+01</td>\n",
       "      <td>5.000000e+01</td>\n",
       "      <td>1.000000e+04</td>\n",
       "      <td>3.000000e+03</td>\n",
       "      <td>5.965000e+03</td>\n",
       "      <td>1.725000e+05</td>\n",
       "      <td>6.000000e+04</td>\n",
       "      <td>68.415379</td>\n",
       "    </tr>\n",
       "    <tr>\n",
       "      <th>75%</th>\n",
       "      <td>2011.000000</td>\n",
       "      <td>486.000000</td>\n",
       "      <td>3.511000e+03</td>\n",
       "      <td>1.129650e+04</td>\n",
       "      <td>2011.00000</td>\n",
       "      <td>9.000000</td>\n",
       "      <td>23.000000</td>\n",
       "      <td>2011.000000</td>\n",
       "      <td>9.000000</td>\n",
       "      <td>23.000000</td>\n",
       "      <td>6.300000e+01</td>\n",
       "      <td>2.000000e+02</td>\n",
       "      <td>9.182300e+04</td>\n",
       "      <td>1.750000e+04</td>\n",
       "      <td>5.825500e+04</td>\n",
       "      <td>5.000000e+05</td>\n",
       "      <td>3.173000e+05</td>\n",
       "      <td>84.252733</td>\n",
       "    </tr>\n",
       "    <tr>\n",
       "      <th>max</th>\n",
       "      <td>2021.000000</td>\n",
       "      <td>9881.000000</td>\n",
       "      <td>7.800000e+07</td>\n",
       "      <td>1.302587e+07</td>\n",
       "      <td>2021.00000</td>\n",
       "      <td>12.000000</td>\n",
       "      <td>31.000000</td>\n",
       "      <td>2021.000000</td>\n",
       "      <td>12.000000</td>\n",
       "      <td>31.000000</td>\n",
       "      <td>3.700000e+06</td>\n",
       "      <td>1.800000e+06</td>\n",
       "      <td>3.300000e+08</td>\n",
       "      <td>1.585000e+07</td>\n",
       "      <td>3.300000e+08</td>\n",
       "      <td>6.000000e+07</td>\n",
       "      <td>2.100000e+08</td>\n",
       "      <td>100.000000</td>\n",
       "    </tr>\n",
       "  </tbody>\n",
       "</table>\n",
       "</div>"
      ],
      "text/plain": [
       "               Year           Seq  Aid Contribution  Dis Mag Value  \\\n",
       "count  16126.000000  16126.000000      6.770000e+02   4.946000e+03   \n",
       "mean    1996.764790    714.784820      1.254136e+05   4.735038e+04   \n",
       "std       20.159065   1929.635089      2.997875e+06   3.094242e+05   \n",
       "min     1900.000000      1.000000      1.000000e+00  -5.700000e+01   \n",
       "25%     1989.000000     93.000000      1.750000e+02   7.000000e+00   \n",
       "50%     2001.000000    270.000000      7.210000e+02   1.515000e+02   \n",
       "75%     2011.000000    486.000000      3.511000e+03   1.129650e+04   \n",
       "max     2021.000000   9881.000000      7.800000e+07   1.302587e+07   \n",
       "\n",
       "        Start Year   Start Month     Start Day      End Year     End Month  \\\n",
       "count  16126.00000  15739.000000  12498.000000  16126.000000  15418.000000   \n",
       "mean    1996.77837      6.444374     15.233957   1996.835607      6.576728   \n",
       "std       20.15571      3.393965      8.953821     20.143010      3.352965   \n",
       "min     1900.00000      1.000000      1.000000   1900.000000      1.000000   \n",
       "25%     1989.00000      4.000000      7.000000   1989.000000      4.000000   \n",
       "50%     2001.00000      7.000000     15.000000   2001.000000      7.000000   \n",
       "75%     2011.00000      9.000000     23.000000   2011.000000      9.000000   \n",
       "max     2021.00000     12.000000     31.000000   2021.000000     12.000000   \n",
       "\n",
       "            End Day  Total Deaths    No Injured   No Affected   No Homeless  \\\n",
       "count  12570.000000  1.141300e+04  3.895000e+03  9.220000e+03  2.430000e+03   \n",
       "mean      15.775020  2.842866e+03  2.621102e+03  8.823612e+05  7.329314e+04   \n",
       "std        8.865486  6.860595e+04  3.440343e+04  8.573913e+06  5.230058e+05   \n",
       "min        1.000000  1.000000e+00  1.000000e+00  1.000000e+00  3.000000e+00   \n",
       "25%        8.000000  6.000000e+00  1.400000e+01  1.244750e+03  5.725000e+02   \n",
       "50%       16.000000  2.000000e+01  5.000000e+01  1.000000e+04  3.000000e+03   \n",
       "75%       23.000000  6.300000e+01  2.000000e+02  9.182300e+04  1.750000e+04   \n",
       "max       31.000000  3.700000e+06  1.800000e+06  3.300000e+08  1.585000e+07   \n",
       "\n",
       "       Total Affected  Insured Damages ('000 US$)  Total Damages ('000 US$)  \\\n",
       "count    1.161700e+04                1.096000e+03              5.245000e+03   \n",
       "mean     7.165088e+05                7.986514e+05              7.247835e+05   \n",
       "std      7.718598e+06                3.057638e+06              4.723131e+06   \n",
       "min      1.000000e+00                3.400000e+01              2.000000e+00   \n",
       "25%      6.500000e+02                5.000000e+04              8.300000e+03   \n",
       "50%      5.965000e+03                1.725000e+05              6.000000e+04   \n",
       "75%      5.825500e+04                5.000000e+05              3.173000e+05   \n",
       "max      3.300000e+08                6.000000e+07              2.100000e+08   \n",
       "\n",
       "                CPI  \n",
       "count  15811.000000  \n",
       "mean      63.215103  \n",
       "std       26.734285  \n",
       "min        3.221647  \n",
       "25%       45.692897  \n",
       "50%       68.415379  \n",
       "75%       84.252733  \n",
       "max      100.000000  "
      ]
     },
     "execution_count": 100,
     "metadata": {},
     "output_type": "execute_result"
    }
   ],
   "source": [
    "nd.describe()"
   ]
  },
  {
   "cell_type": "code",
   "execution_count": 148,
   "metadata": {},
   "outputs": [
    {
     "name": "stdout",
     "output_type": "stream",
     "text": [
      "Types of Disasters reported:\n",
      "\n",
      " ['Drought' 'Earthquake' 'Volcanic activity' 'Mass movement (dry)' 'Storm'\n",
      " 'Flood' 'Epidemic' 'Landslide' 'Wildfire' 'Extreme temperature ' 'Fog'\n",
      " 'Insect infestation' 'Impact' 'Animal accident' 'Glacial lake outburst']\n",
      "Occurrences:\n",
      "\n",
      " Flood                    5551\n",
      "Storm                    4496\n",
      "Earthquake               1544\n",
      "Epidemic                 1501\n",
      "Landslide                 776\n",
      "Drought                   770\n",
      "Extreme temperature       603\n",
      "Wildfire                  471\n",
      "Volcanic activity         265\n",
      "Insect infestation         96\n",
      "Mass movement (dry)        48\n",
      "Glacial lake outburst       2\n",
      "Fog                         1\n",
      "Impact                      1\n",
      "Animal accident             1\n",
      "Name: Disaster Type, dtype: int64\n"
     ]
    }
   ],
   "source": [
    "disaster_types = nd[\"Disaster Type\"].unique()\n",
    "print(\"Types of Disasters reported:\\n\\n\", disaster_types)\n",
    "print(\"Occurrences:\\n\\n\",df[\"Disaster Type\"].value_counts())"
   ]
  },
  {
   "cell_type": "markdown",
   "metadata": {},
   "source": [
    "How frequently do disasters occu"
   ]
  },
  {
   "cell_type": "code",
   "execution_count": 156,
   "metadata": {},
   "outputs": [
    {
     "name": "stderr",
     "output_type": "stream",
     "text": [
      "C:\\Users\\info\\anaconda3\\lib\\site-packages\\seaborn\\distributions.py:2619: FutureWarning: `distplot` is a deprecated function and will be removed in a future version. Please adapt your code to use either `displot` (a figure-level function with similar flexibility) or `histplot` (an axes-level function for histograms).\n",
      "  warnings.warn(msg, FutureWarning)\n"
     ]
    },
    {
     "data": {
      "text/plain": [
       "<AxesSubplot:xlabel='Disaster Type', ylabel='Density'>"
      ]
     },
     "execution_count": 156,
     "metadata": {},
     "output_type": "execute_result"
    },
    {
     "data": {
      "image/png": "[encoded data removed]",
      "text/plain": [
       "<Figure size 432x288 with 1 Axes>"
      ]
     },
     "metadata": {
      "needs_background": "light"
     },
     "output_type": "display_data"
    }
   ],
   "source": [
    "\n",
    "sns.distplot(df[\"Disaster Type\"].value_counts())"
   ]
  },
  {
   "cell_type": "code",
   "execution_count": 171,
   "metadata": {},
   "outputs": [
    {
     "data": {
      "image/png": "[encoded data removed]",
      "text/plain": [
       "<Figure size 432x288 with 1 Axes>"
      ]
     },
     "metadata": {
      "needs_background": "light"
     },
     "output_type": "display_data"
    }
   ],
   "source": [
    "d=df[['Year',\"Disaster Type\"]].groupby('Year').describe()[\"Disaster Type\"].reset_index()\n",
    "\n",
    "sns.barplot(x='top',y='freq',data =d);"
   ]
  },
  {
   "cell_type": "code",
   "execution_count": 179,
   "metadata": {},
   "outputs": [
    {
     "data": {
      "text/html": [
       "<div>\n",
       "<style scoped>\n",
       "    .dataframe tbody tr th:only-of-type {\n",
       "        vertical-align: middle;\n",
       "    }\n",
       "\n",
       "    .dataframe tbody tr th {\n",
       "        vertical-align: top;\n",
       "    }\n",
       "\n",
       "    .dataframe thead th {\n",
       "        text-align: right;\n",
       "    }\n",
       "</style>\n",
       "<table border=\"1\" class=\"dataframe\">\n",
       "  <thead>\n",
       "    <tr style=\"text-align: right;\">\n",
       "      <th></th>\n",
       "      <th>index</th>\n",
       "      <th>Year</th>\n",
       "    </tr>\n",
       "  </thead>\n",
       "  <tbody>\n",
       "    <tr>\n",
       "      <th>0</th>\n",
       "      <td>2002</td>\n",
       "      <td>532</td>\n",
       "    </tr>\n",
       "    <tr>\n",
       "      <th>1</th>\n",
       "      <td>2000</td>\n",
       "      <td>523</td>\n",
       "    </tr>\n",
       "    <tr>\n",
       "      <th>2</th>\n",
       "      <td>2005</td>\n",
       "      <td>498</td>\n",
       "    </tr>\n",
       "    <tr>\n",
       "      <th>3</th>\n",
       "      <td>2007</td>\n",
       "      <td>449</td>\n",
       "    </tr>\n",
       "    <tr>\n",
       "      <th>4</th>\n",
       "      <td>2001</td>\n",
       "      <td>447</td>\n",
       "    </tr>\n",
       "    <tr>\n",
       "      <th>5</th>\n",
       "      <td>2006</td>\n",
       "      <td>446</td>\n",
       "    </tr>\n",
       "    <tr>\n",
       "      <th>6</th>\n",
       "      <td>2019</td>\n",
       "      <td>442</td>\n",
       "    </tr>\n",
       "    <tr>\n",
       "      <th>7</th>\n",
       "      <td>2010</td>\n",
       "      <td>441</td>\n",
       "    </tr>\n",
       "    <tr>\n",
       "      <th>8</th>\n",
       "      <td>1999</td>\n",
       "      <td>416</td>\n",
       "    </tr>\n",
       "    <tr>\n",
       "      <th>9</th>\n",
       "      <td>2004</td>\n",
       "      <td>405</td>\n",
       "    </tr>\n",
       "  </tbody>\n",
       "</table>\n",
       "</div>"
      ],
      "text/plain": [
       "   index  Year\n",
       "0   2002   532\n",
       "1   2000   523\n",
       "2   2005   498\n",
       "3   2007   449\n",
       "4   2001   447\n",
       "5   2006   446\n",
       "6   2019   442\n",
       "7   2010   441\n",
       "8   1999   416\n",
       "9   2004   405"
      ]
     },
     "execution_count": 179,
     "metadata": {},
     "output_type": "execute_result"
    }
   ],
   "source": [
    "d=df['Year'].value_counts().reset_index()\n",
    "d.head(10)"
   ]
  },
  {
   "cell_type": "code",
   "execution_count": 180,
   "metadata": {},
   "outputs": [
    {
     "data": {
      "image/png": "[encoded data removed]",
      "text/plain": [
       "<Figure size 612x360 with 1 Axes>"
      ]
     },
     "metadata": {
      "needs_background": "light"
     },
     "output_type": "display_data"
    }
   ],
   "source": [
    "sns.lmplot(x='index',y='Year',data=d.sort_values(by='Year'),\n",
    "           aspect=1.7, height=5,markers=['o'], scatter_kws={'s':20});"
   ]
  },
  {
   "cell_type": "markdown",
   "metadata": {},
   "source": [
    "Which Countries are prone to what kinds of Natural Disasters"
   ]
  },
  {
   "cell_type": "code",
   "execution_count": 182,
   "metadata": {},
   "outputs": [
    {
     "data": {
      "text/html": [
       "<div>\n",
       "<style scoped>\n",
       "    .dataframe tbody tr th:only-of-type {\n",
       "        vertical-align: middle;\n",
       "    }\n",
       "\n",
       "    .dataframe tbody tr th {\n",
       "        vertical-align: top;\n",
       "    }\n",
       "\n",
       "    .dataframe thead th {\n",
       "        text-align: right;\n",
       "    }\n",
       "</style>\n",
       "<table border=\"1\" class=\"dataframe\">\n",
       "  <thead>\n",
       "    <tr style=\"text-align: right;\">\n",
       "      <th></th>\n",
       "      <th>count</th>\n",
       "      <th>unique</th>\n",
       "      <th>top</th>\n",
       "      <th>freq</th>\n",
       "    </tr>\n",
       "    <tr>\n",
       "      <th>Country</th>\n",
       "      <th></th>\n",
       "      <th></th>\n",
       "      <th></th>\n",
       "      <th></th>\n",
       "    </tr>\n",
       "  </thead>\n",
       "  <tbody>\n",
       "    <tr>\n",
       "      <th>United States of America (the)</th>\n",
       "      <td>1087</td>\n",
       "      <td>9</td>\n",
       "      <td>Storm</td>\n",
       "      <td>684</td>\n",
       "    </tr>\n",
       "    <tr>\n",
       "      <th>China</th>\n",
       "      <td>980</td>\n",
       "      <td>10</td>\n",
       "      <td>Storm</td>\n",
       "      <td>318</td>\n",
       "    </tr>\n",
       "    <tr>\n",
       "      <th>India</th>\n",
       "      <td>752</td>\n",
       "      <td>11</td>\n",
       "      <td>Flood</td>\n",
       "      <td>311</td>\n",
       "    </tr>\n",
       "    <tr>\n",
       "      <th>Philippines (the)</th>\n",
       "      <td>668</td>\n",
       "      <td>10</td>\n",
       "      <td>Storm</td>\n",
       "      <td>375</td>\n",
       "    </tr>\n",
       "    <tr>\n",
       "      <th>Indonesia</th>\n",
       "      <td>572</td>\n",
       "      <td>9</td>\n",
       "      <td>Flood</td>\n",
       "      <td>242</td>\n",
       "    </tr>\n",
       "    <tr>\n",
       "      <th>Japan</th>\n",
       "      <td>375</td>\n",
       "      <td>9</td>\n",
       "      <td>Storm</td>\n",
       "      <td>187</td>\n",
       "    </tr>\n",
       "    <tr>\n",
       "      <th>Bangladesh</th>\n",
       "      <td>356</td>\n",
       "      <td>7</td>\n",
       "      <td>Storm</td>\n",
       "      <td>182</td>\n",
       "    </tr>\n",
       "    <tr>\n",
       "      <th>Mexico</th>\n",
       "      <td>293</td>\n",
       "      <td>9</td>\n",
       "      <td>Storm</td>\n",
       "      <td>120</td>\n",
       "    </tr>\n",
       "    <tr>\n",
       "      <th>Iran (Islamic Republic of)</th>\n",
       "      <td>252</td>\n",
       "      <td>9</td>\n",
       "      <td>Earthquake</td>\n",
       "      <td>131</td>\n",
       "    </tr>\n",
       "    <tr>\n",
       "      <th>Brazil</th>\n",
       "      <td>251</td>\n",
       "      <td>9</td>\n",
       "      <td>Flood</td>\n",
       "      <td>154</td>\n",
       "    </tr>\n",
       "  </tbody>\n",
       "</table>\n",
       "</div>"
      ],
      "text/plain": [
       "                               count unique         top freq\n",
       "Country                                                     \n",
       "United States of America (the)  1087      9       Storm  684\n",
       "China                            980     10       Storm  318\n",
       "India                            752     11       Flood  311\n",
       "Philippines (the)                668     10       Storm  375\n",
       "Indonesia                        572      9       Flood  242\n",
       "Japan                            375      9       Storm  187\n",
       "Bangladesh                       356      7       Storm  182\n",
       "Mexico                           293      9       Storm  120\n",
       "Iran (Islamic Republic of)       252      9  Earthquake  131\n",
       "Brazil                           251      9       Flood  154"
      ]
     },
     "execution_count": 182,
     "metadata": {},
     "output_type": "execute_result"
    }
   ],
   "source": [
    "d=df[['Country',\"Disaster Type\"]].groupby('Country').describe()\n",
    "d[\"Disaster Type\"].sort_values(by='count',ascending=False).head(10)"
   ]
  },
  {
   "cell_type": "code",
   "execution_count": 186,
   "metadata": {},
   "outputs": [
    {
     "data": {
      "image/png": "[encoded data removed]",
      "text/plain": [
       "<Figure size 540x540 with 12 Axes>"
      ]
     },
     "metadata": {
      "needs_background": "light"
     },
     "output_type": "display_data"
    }
   ],
   "source": [
    "d=df[['Country',\"Disaster Type\"]].groupby('Country').describe()\n",
    "sns.pairplot(d[\"Disaster Type\"].reset_index(drop=True));"
   ]
  },
  {
   "cell_type": "code",
   "execution_count": 184,
   "metadata": {},
   "outputs": [
    {
     "data": {
      "text/plain": [
       "Country\n",
       "United States of America (the)    684\n",
       "Philippines (the)                 375\n",
       "China                             318\n",
       "India                             311\n",
       "Indonesia                         242\n",
       "Japan                             187\n",
       "Bangladesh                        182\n",
       "Brazil                            154\n",
       "Iran (Islamic Republic of)        131\n",
       "Viet Nam                          126\n",
       "Name: freq, dtype: object"
      ]
     },
     "execution_count": 184,
     "metadata": {},
     "output_type": "execute_result"
    }
   ],
   "source": [
    "d[\"Disaster Type\"].sort_values(by='freq',ascending=False)['freq'].head(10)"
   ]
  },
  {
   "cell_type": "code",
   "execution_count": 189,
   "metadata": {},
   "outputs": [
    {
     "data": {
      "text/html": [
       "<div>\n",
       "<style scoped>\n",
       "    .dataframe tbody tr th:only-of-type {\n",
       "        vertical-align: middle;\n",
       "    }\n",
       "\n",
       "    .dataframe tbody tr th {\n",
       "        vertical-align: top;\n",
       "    }\n",
       "\n",
       "    .dataframe thead th {\n",
       "        text-align: right;\n",
       "    }\n",
       "</style>\n",
       "<table border=\"1\" class=\"dataframe\">\n",
       "  <thead>\n",
       "    <tr style=\"text-align: right;\">\n",
       "      <th></th>\n",
       "      <th>Country</th>\n",
       "      <th>Disaster Type</th>\n",
       "    </tr>\n",
       "  </thead>\n",
       "  <tbody>\n",
       "    <tr>\n",
       "      <th>213</th>\n",
       "      <td>United States of America (the)</td>\n",
       "      <td>1087</td>\n",
       "    </tr>\n",
       "    <tr>\n",
       "      <th>40</th>\n",
       "      <td>China</td>\n",
       "      <td>980</td>\n",
       "    </tr>\n",
       "    <tr>\n",
       "      <th>89</th>\n",
       "      <td>India</td>\n",
       "      <td>752</td>\n",
       "    </tr>\n",
       "    <tr>\n",
       "      <th>155</th>\n",
       "      <td>Philippines (the)</td>\n",
       "      <td>668</td>\n",
       "    </tr>\n",
       "    <tr>\n",
       "      <th>90</th>\n",
       "      <td>Indonesia</td>\n",
       "      <td>572</td>\n",
       "    </tr>\n",
       "    <tr>\n",
       "      <th>98</th>\n",
       "      <td>Japan</td>\n",
       "      <td>375</td>\n",
       "    </tr>\n",
       "    <tr>\n",
       "      <th>15</th>\n",
       "      <td>Bangladesh</td>\n",
       "      <td>356</td>\n",
       "    </tr>\n",
       "    <tr>\n",
       "      <th>126</th>\n",
       "      <td>Mexico</td>\n",
       "      <td>293</td>\n",
       "    </tr>\n",
       "    <tr>\n",
       "      <th>91</th>\n",
       "      <td>Iran (Islamic Republic of)</td>\n",
       "      <td>252</td>\n",
       "    </tr>\n",
       "    <tr>\n",
       "      <th>26</th>\n",
       "      <td>Brazil</td>\n",
       "      <td>251</td>\n",
       "    </tr>\n",
       "  </tbody>\n",
       "</table>\n",
       "</div>"
      ],
      "text/plain": [
       "                            Country  Disaster Type\n",
       "213  United States of America (the)           1087\n",
       "40                            China            980\n",
       "89                            India            752\n",
       "155               Philippines (the)            668\n",
       "90                        Indonesia            572\n",
       "98                            Japan            375\n",
       "15                       Bangladesh            356\n",
       "126                          Mexico            293\n",
       "91       Iran (Islamic Republic of)            252\n",
       "26                           Brazil            251"
      ]
     },
     "execution_count": 189,
     "metadata": {},
     "output_type": "execute_result"
    }
   ],
   "source": [
    "p = df[['Country',\"Disaster Type\"]].groupby('Country').count()\n",
    "p.reset_index(inplace=True)\n",
    "p=p.sort_values(by=\"Disaster Type\",ascending=False).head(10)\n",
    "p"
   ]
  },
  {
   "cell_type": "code",
   "execution_count": 218,
   "metadata": {},
   "outputs": [
    {
     "data": {
      "text/plain": [
       "<AxesSubplot:xlabel='Country', ylabel='Disaster Type'>"
      ]
     },
     "execution_count": 218,
     "metadata": {},
     "output_type": "execute_result"
    },
    {
     "data": {
      "image/png": "[encoded data removed]",
      "text/plain": [
       "<Figure size 432x288 with 1 Axes>"
      ]
     },
     "metadata": {
      "needs_background": "light"
     },
     "output_type": "display_data"
    }
   ],
   "source": [
    "sns.barplot(x=\"Country\", y=\"Disaster Type\", data=p,)"
   ]
  },
  {
   "cell_type": "code",
   "execution_count": 196,
   "metadata": {},
   "outputs": [
    {
     "name": "stdout",
     "output_type": "stream",
     "text": [
      "United States mostly faces:\n",
      "\n"
     ]
    },
    {
     "data": {
      "text/plain": [
       "Disaster Type    Wildfire\n",
       "Name: United States of America (the), dtype: object"
      ]
     },
     "execution_count": 196,
     "metadata": {},
     "output_type": "execute_result"
    }
   ],
   "source": [
    "print(\"United States mostly faces:\\n\")\n",
    "df[['Country',\"Disaster Type\"]].groupby('Country').max().loc[\"United States of America (the)\"]"
   ]
  },
  {
   "cell_type": "markdown",
   "metadata": {},
   "source": [
    "US reports over time (Top 10 years):"
   ]
  },
  {
   "cell_type": "code",
   "execution_count": 206,
   "metadata": {},
   "outputs": [
    {
     "data": {
      "text/html": [
       "<div>\n",
       "<style scoped>\n",
       "    .dataframe tbody tr th:only-of-type {\n",
       "        vertical-align: middle;\n",
       "    }\n",
       "\n",
       "    .dataframe tbody tr th {\n",
       "        vertical-align: top;\n",
       "    }\n",
       "\n",
       "    .dataframe thead th {\n",
       "        text-align: right;\n",
       "    }\n",
       "</style>\n",
       "<table border=\"1\" class=\"dataframe\">\n",
       "  <thead>\n",
       "    <tr style=\"text-align: right;\">\n",
       "      <th></th>\n",
       "      <th>index</th>\n",
       "      <th>Year</th>\n",
       "    </tr>\n",
       "  </thead>\n",
       "  <tbody>\n",
       "    <tr>\n",
       "      <th>0</th>\n",
       "      <td>1991</td>\n",
       "      <td>36</td>\n",
       "    </tr>\n",
       "    <tr>\n",
       "      <th>1</th>\n",
       "      <td>1997</td>\n",
       "      <td>33</td>\n",
       "    </tr>\n",
       "    <tr>\n",
       "      <th>2</th>\n",
       "      <td>2002</td>\n",
       "      <td>32</td>\n",
       "    </tr>\n",
       "    <tr>\n",
       "      <th>3</th>\n",
       "      <td>1992</td>\n",
       "      <td>32</td>\n",
       "    </tr>\n",
       "    <tr>\n",
       "      <th>4</th>\n",
       "      <td>1998</td>\n",
       "      <td>32</td>\n",
       "    </tr>\n",
       "    <tr>\n",
       "      <th>5</th>\n",
       "      <td>2000</td>\n",
       "      <td>31</td>\n",
       "    </tr>\n",
       "    <tr>\n",
       "      <th>6</th>\n",
       "      <td>1993</td>\n",
       "      <td>30</td>\n",
       "    </tr>\n",
       "    <tr>\n",
       "      <th>7</th>\n",
       "      <td>2021</td>\n",
       "      <td>29</td>\n",
       "    </tr>\n",
       "    <tr>\n",
       "      <th>8</th>\n",
       "      <td>2015</td>\n",
       "      <td>29</td>\n",
       "    </tr>\n",
       "    <tr>\n",
       "      <th>9</th>\n",
       "      <td>2006</td>\n",
       "      <td>29</td>\n",
       "    </tr>\n",
       "  </tbody>\n",
       "</table>\n",
       "</div>"
      ],
      "text/plain": [
       "   index  Year\n",
       "0   1991    36\n",
       "1   1997    33\n",
       "2   2002    32\n",
       "3   1992    32\n",
       "4   1998    32\n",
       "5   2000    31\n",
       "6   1993    30\n",
       "7   2021    29\n",
       "8   2015    29\n",
       "9   2006    29"
      ]
     },
     "execution_count": 206,
     "metadata": {},
     "output_type": "execute_result"
    }
   ],
   "source": [
    "n=df.query('Country==\"United States of America (the)\"')['Year'].value_counts().reset_index()\n",
    "n.head(10)"
   ]
  },
  {
   "cell_type": "markdown",
   "metadata": {},
   "source": [
    "1991 and 1997 the worst years. Also most severe years is in the last 20 years range "
   ]
  },
  {
   "cell_type": "code",
   "execution_count": 209,
   "metadata": {},
   "outputs": [
    {
     "data": {
      "text/plain": [
       "<AxesSubplot:xlabel='index', ylabel='Year'>"
      ]
     },
     "execution_count": 209,
     "metadata": {},
     "output_type": "execute_result"
    },
    {
     "data": {
      "image/png": "[encoded data removed]",
      "text/plain": [
       "<Figure size 432x288 with 1 Axes>"
      ]
     },
     "metadata": {
      "needs_background": "light"
     },
     "output_type": "display_data"
    }
   ],
   "source": [
    "sns.barplot(x='index',y='Year',data=n.sort_values(by='Year'))"
   ]
  },
  {
   "cell_type": "code",
   "execution_count": 223,
   "metadata": {},
   "outputs": [
    {
     "data": {
      "image/png": "[encoded data removed]",
      "text/plain": [
       "<Figure size 432x288 with 1 Axes>"
      ]
     },
     "metadata": {
      "needs_background": "light"
     },
     "output_type": "display_data"
    }
   ],
   "source": [
    "\n",
    "sns.barplot(x='index',y='Disaster Subgroup',data=df['Disaster Subgroup'].value_counts().reset_index());"
   ]
  },
  {
   "cell_type": "code",
   "execution_count": 256,
   "metadata": {},
   "outputs": [
    {
     "data": {
      "image/png": "[encoded data removed]",
      "text/plain": [
       "<Figure size 432x288 with 2 Axes>"
      ]
     },
     "metadata": {
      "needs_background": "light"
     },
     "output_type": "display_data"
    }
   ],
   "source": [
    "pt = df.pivot_table(values =\"Total Damages ('000 US$)\", index = 'Continent', columns = 'Year').fillna(0)\n",
    "\n",
    "sns.heatmap(pt, cmap='coolwarm');\n"
   ]
  },
  {
   "cell_type": "code",
   "execution_count": 244,
   "metadata": {},
   "outputs": [
    {
     "data": {
      "text/plain": [
       "<AxesSubplot:xlabel='Year'>"
      ]
     },
     "execution_count": 244,
     "metadata": {},
     "output_type": "execute_result"
    },
    {
     "data": {
      "image/png": "[encoded data removed]",
      "text/plain": [
       "<Figure size 432x288 with 1 Axes>"
      ]
     },
     "metadata": {
      "needs_background": "light"
     },
     "output_type": "display_data"
    }
   ],
   "source": [
    "nd.plot.line(x='Year', y= \"Total Damages ('000 US$)\")"
   ]
  },
  {
   "cell_type": "code",
   "execution_count": 102,
   "metadata": {},
   "outputs": [
    {
     "data": {
      "text/plain": [
       "<AxesSubplot:xlabel='Disaster Type'>"
      ]
     },
     "execution_count": 102,
     "metadata": {},
     "output_type": "execute_result"
    },
    {
     "data": {
      "image/png": "[encoded data removed]",
      "text/plain": [
       "<Figure size 432x288 with 1 Axes>"
      ]
     },
     "metadata": {
      "needs_background": "light"
     },
     "output_type": "display_data"
    }
   ],
   "source": [
    "nd.plot.line(x='Disaster Type', y= \"Total Damages ('000 US$)\")"
   ]
  },
  {
   "cell_type": "code",
   "execution_count": 258,
   "metadata": {},
   "outputs": [
    {
     "data": {
      "text/plain": [
       "<AxesSubplot:>"
      ]
     },
     "execution_count": 258,
     "metadata": {},
     "output_type": "execute_result"
    },
    {
     "data": {
      "image/png": "[encoded data removed]",
      "text/plain": [
       "<Figure size 432x288 with 1 Axes>"
      ]
     },
     "metadata": {
      "needs_background": "light"
     },
     "output_type": "display_data"
    }
   ],
   "source": [
    "nd.Year.hist()"
   ]
  },
  {
   "cell_type": "code",
   "execution_count": 259,
   "metadata": {},
   "outputs": [
    {
     "data": {
      "text/plain": [
       "<AxesSubplot:ylabel='Continent'>"
      ]
     },
     "execution_count": 259,
     "metadata": {},
     "output_type": "execute_result"
    },
    {
     "data": {
      "image/png": "[encoded data removed]",
      "text/plain": [
       "<Figure size 432x288 with 1 Axes>"
      ]
     },
     "metadata": {
      "needs_background": "light"
     },
     "output_type": "display_data"
    }
   ],
   "source": [
    "nd.groupby('Continent')[\"Total Damages ('000 US$)\"] \\\n",
    "    .agg(['mean','median','std']).plot.barh()"
   ]
  },
  {
   "cell_type": "code",
   "execution_count": 105,
   "metadata": {},
   "outputs": [
    {
     "data": {
      "text/plain": [
       "<AxesSubplot:>"
      ]
     },
     "execution_count": 105,
     "metadata": {},
     "output_type": "execute_result"
    },
    {
     "data": {
      "image/png": "[encoded data removed]",
      "text/plain": [
       "<Figure size 432x288 with 1 Axes>"
      ]
     },
     "metadata": {
      "needs_background": "light"
     },
     "output_type": "display_data"
    }
   ],
   "source": [
    "nd.plot()"
   ]
  },
  {
   "cell_type": "code",
   "execution_count": 106,
   "metadata": {},
   "outputs": [
    {
     "name": "stdout",
     "output_type": "stream",
     "text": [
      "       Year   Seq           Glide Disaster Group Disaster Subgroup  \\\n",
      "0      1900  9002             NaN        Natural    Climatological   \n",
      "1      1900  9001             NaN        Natural    Climatological   \n",
      "2      1902    12             NaN        Natural       Geophysical   \n",
      "3      1902     3             NaN        Natural       Geophysical   \n",
      "4      1902    10             NaN        Natural       Geophysical   \n",
      "...     ...   ...             ...            ...               ...   \n",
      "16121  2021   449  FL-2021-000110        Natural      Hydrological   \n",
      "16122  2021    75             NaN        Natural      Hydrological   \n",
      "16123  2021   599  EP-2021-000138        Natural        Biological   \n",
      "16124  2021    20             NaN        Natural      Hydrological   \n",
      "16125  2021   481             NaN        Natural      Hydrological   \n",
      "\n",
      "           Disaster Type Disaster Subtype Disaster Subsubtype   Event Name  \\\n",
      "0                Drought          Drought                 NaN          NaN   \n",
      "1                Drought          Drought                 NaN          NaN   \n",
      "2             Earthquake  Ground movement                 NaN          NaN   \n",
      "3      Volcanic activity         Ash fall                 NaN  Santa Maria   \n",
      "4      Volcanic activity         Ash fall                 NaN  Santa Maria   \n",
      "...                  ...              ...                 ...          ...   \n",
      "16121              Flood              NaN                 NaN          NaN   \n",
      "16122              Flood              NaN                 NaN          NaN   \n",
      "16123           Epidemic    Viral disease                 NaN   Meningitis   \n",
      "16124              Flood              NaN                 NaN          NaN   \n",
      "16125              Flood              NaN                 NaN          NaN   \n",
      "\n",
      "                                      Country  ... No Affected No Homeless  \\\n",
      "0                                  Cabo Verde  ...         NaN         NaN   \n",
      "1                                       India  ...         NaN         NaN   \n",
      "2                                   Guatemala  ...         NaN         NaN   \n",
      "3                                   Guatemala  ...         NaN         NaN   \n",
      "4                                   Guatemala  ...         NaN         NaN   \n",
      "...                                       ...  ...         ...         ...   \n",
      "16121                                   Yemen  ...     67980.0         NaN   \n",
      "16122                            South Africa  ...       400.0         NaN   \n",
      "16123  Congo (the Democratic Republic of the)  ...         NaN         NaN   \n",
      "16124                                  Serbia  ...        22.0         NaN   \n",
      "16125                             South Sudan  ...    500000.0         NaN   \n",
      "\n",
      "      Total Affected Insured Damages ('000 US$) Total Damages ('000 US$)  \\\n",
      "0                NaN                        NaN                      NaN   \n",
      "1                NaN                        NaN                      NaN   \n",
      "2                NaN                        NaN                  25000.0   \n",
      "3                NaN                        NaN                      NaN   \n",
      "4                NaN                        NaN                      NaN   \n",
      "...              ...                        ...                      ...   \n",
      "16121        67980.0                        NaN                      NaN   \n",
      "16122          400.0                        NaN                  75000.0   \n",
      "16123          301.0                        NaN                      NaN   \n",
      "16124           22.0                        NaN                      NaN   \n",
      "16125       500000.0                        NaN                      NaN   \n",
      "\n",
      "            CPI Adm Level                                Admin1 Code  \\\n",
      "0      3.221647       NaN                                        NaN   \n",
      "1      3.221647       NaN                                        NaN   \n",
      "2      3.350513       NaN                                        NaN   \n",
      "3      3.350513       NaN                                        NaN   \n",
      "4      3.350513       NaN                                        NaN   \n",
      "...         ...       ...                                        ...   \n",
      "16121       NaN       NaN                                        NaN   \n",
      "16122       NaN       1;2               2707;77311;77312;77313;77315   \n",
      "16123       NaN       NaN                                        NaN   \n",
      "16124       NaN         1  25374;25378;25379;25380;25383;25386;25397   \n",
      "16125       NaN       NaN                                        NaN   \n",
      "\n",
      "       Admin2 Code                                      Geo Locations  \n",
      "0              NaN                                                NaN  \n",
      "1              NaN                                                NaN  \n",
      "2              NaN                                                NaN  \n",
      "3              NaN                                                NaN  \n",
      "4              NaN                                                NaN  \n",
      "...            ...                                                ...  \n",
      "16121          NaN                                                NaN  \n",
      "16122  77364;77367  Free State, KwaZulu-Natal, Limpopo, Mpumalanga...  \n",
      "16123          NaN                                                NaN  \n",
      "16124          NaN  Jablanicki, Kosovski, Kosovsko-mitrovatski, Ko...  \n",
      "16125          NaN                                                NaN  \n",
      "\n",
      "[16126 rows x 45 columns]\n"
     ]
    }
   ],
   "source": [
    "df = pd.DataFrame(nd)\n",
    "print(df)"
   ]
  },
  {
   "cell_type": "code",
   "execution_count": 107,
   "metadata": {},
   "outputs": [
    {
     "name": "stdout",
     "output_type": "stream",
     "text": [
      "16126\n"
     ]
    }
   ],
   "source": [
    "index = df.index\n",
    "number_of_disasters = len(index)\n",
    "print(number_of_disasters)"
   ]
  },
  {
   "cell_type": "code",
   "execution_count": 142,
   "metadata": {},
   "outputs": [],
   "source": [
    "nd[\"Disaster_Total\"] = number_of_disasters"
   ]
  },
  {
   "cell_type": "code",
   "execution_count": 233,
   "metadata": {},
   "outputs": [
    {
     "data": {
      "text/plain": [
       "<seaborn.axisgrid.FacetGrid at 0x1c462a642e0>"
      ]
     },
     "execution_count": 233,
     "metadata": {},
     "output_type": "execute_result"
    },
    {
     "data": {
      "image/png": "[encoded data removed]",
      "text/plain": [
       "<Figure size 360x360 with 1 Axes>"
      ]
     },
     "metadata": {
      "needs_background": "light"
     },
     "output_type": "display_data"
    }
   ],
   "source": [
    "sns.relplot(data=nd, kind='scatter',\n",
    "            x='Year', y='No Affected')"
   ]
  },
  {
   "cell_type": "code",
   "execution_count": 238,
   "metadata": {},
   "outputs": [
    {
     "data": {
      "text/plain": [
       "<seaborn.axisgrid.FacetGrid at 0x1c462cd5760>"
      ]
     },
     "execution_count": 238,
     "metadata": {},
     "output_type": "execute_result"
    },
    {
     "data": {
      "image/png": "[encoded data removed]",
      "text/plain": [
       "<Figure size 720x864 with 6 Axes>"
      ]
     },
     "metadata": {
      "needs_background": "light"
     },
     "output_type": "display_data"
    }
   ],
   "source": [
    "sns.relplot(data=nd, \n",
    "            kind='line', x='Year', y=\"Total Damages ('000 US$)\", hue= \"Disaster Subgroup\",\n",
    "            height=4, aspect=1.25, \n",
    "            col='Disaster Subgroup', col_wrap=2, legend=False)"
   ]
  },
  {
   "cell_type": "code",
   "execution_count": 111,
   "metadata": {},
   "outputs": [
    {
     "data": {
      "text/plain": [
       "<seaborn.axisgrid.FacetGrid at 0x1c45aabb2b0>"
      ]
     },
     "execution_count": 111,
     "metadata": {},
     "output_type": "execute_result"
    },
    {
     "data": {
      "image/png": "[encoded data removed]",
      "text/plain": [
       "<Figure size 442.5x360 with 1 Axes>"
      ]
     },
     "metadata": {
      "needs_background": "light"
     },
     "output_type": "display_data"
    }
   ],
   "source": [
    "sns.relplot(data=nd, kind='scatter', x='Year', y=\"Total Damages ('000 US$)\", \n",
    "            hue='Continent')"
   ]
  },
  {
   "cell_type": "code",
   "execution_count": 242,
   "metadata": {},
   "outputs": [
    {
     "data": {
      "text/plain": [
       "<seaborn.axisgrid.FacetGrid at 0x1c462a997f0>"
      ]
     },
     "execution_count": 242,
     "metadata": {},
     "output_type": "execute_result"
    },
    {
     "data": {
      "image/png": "[encoded data removed]",
      "text/plain": [
       "<Figure size 360x360 with 1 Axes>"
      ]
     },
     "metadata": {
      "needs_background": "light"
     },
     "output_type": "display_data"
    }
   ],
   "source": [
    "sns.catplot(data=nd.query('Year in (2008,2012)'), \n",
    "            kind='violin', x='Year', y=\"Total Damages ('000 US$)\", ci=50)"
   ]
  },
  {
   "cell_type": "code",
   "execution_count": 116,
   "metadata": {},
   "outputs": [
    {
     "ename": "SyntaxError",
     "evalue": "unexpected EOF while parsing (Temp/ipykernel_15296/1530318459.py, line 2)",
     "output_type": "error",
     "traceback": [
      "\u001b[1;36m  File \u001b[1;32m\"C:\\Users\\info\\AppData\\Local\\Temp/ipykernel_15296/1530318459.py\"\u001b[1;36m, line \u001b[1;32m2\u001b[0m\n\u001b[1;33m    kind='bar', x='Year', y=\"Total Damages ('000 US$)\", ci=50\u001b[0m\n\u001b[1;37m                                                             ^\u001b[0m\n\u001b[1;31mSyntaxError\u001b[0m\u001b[1;31m:\u001b[0m unexpected EOF while parsing\n"
     ]
    }
   ],
   "source": [
    "sns.catplot(data=nd.query('Year in (2008,2012)'), \n",
    "            kind='bar', x='Year', y=\"Total Damages ('000 US$)\", ci=50"
   ]
  },
  {
   "cell_type": "code",
   "execution_count": null,
   "metadata": {},
   "outputs": [
    {
     "data": {
      "text/plain": [
       "<seaborn.axisgrid.FacetGrid at 0x1c453fcaca0>"
      ]
     },
     "execution_count": 84,
     "metadata": {},
     "output_type": "execute_result"
    },
    {
     "data": {
      "image/png": "[encoded data removed]",
      "text/plain": [
       "<Figure size 360x360 with 1 Axes>"
      ]
     },
     "metadata": {
      "needs_background": "light"
     },
     "output_type": "display_data"
    }
   ],
   "source": [
    "sns.catplot(data=nd.query('Year in (2008,2012)'), \n",
    "            kind='point', x='Year', y=\"Total Damages ('000 US$)\", ci=50)"
   ]
  },
  {
   "cell_type": "code",
   "execution_count": 134,
   "metadata": {},
   "outputs": [
    {
     "data": {
      "text/plain": [
       "<seaborn.axisgrid.FacetGrid at 0x1c45d104b80>"
      ]
     },
     "execution_count": 134,
     "metadata": {},
     "output_type": "execute_result"
    },
    {
     "data": {
      "image/png": "[encoded data removed]",
      "text/plain": [
       "<Figure size 360x360 with 1 Axes>"
      ]
     },
     "metadata": {
      "needs_background": "light"
     },
     "output_type": "display_data"
    }
   ],
   "source": [
    "sns.catplot(data=nd,\n",
    "            kind='box', x='Total Deaths', y='Continent', orient='h')"
   ]
  },
  {
   "cell_type": "code",
   "execution_count": 135,
   "metadata": {},
   "outputs": [
    {
     "data": {
      "text/plain": [
       "<seaborn.axisgrid.FacetGrid at 0x1c45dba58b0>"
      ]
     },
     "execution_count": 135,
     "metadata": {},
     "output_type": "execute_result"
    },
    {
     "data": {
      "image/png": "[encoded data removed]",
      "text/plain": [
       "<Figure size 360x360 with 1 Axes>"
      ]
     },
     "metadata": {
      "needs_background": "light"
     },
     "output_type": "display_data"
    }
   ],
   "source": [
    "sns.relplot(data=nd, x='Year', y=\"Total Damages ('000 US$)\")"
   ]
  },
  {
   "cell_type": "code",
   "execution_count": 132,
   "metadata": {},
   "outputs": [
    {
     "data": {
      "text/html": [
       "<div>\n",
       "<style scoped>\n",
       "    .dataframe tbody tr th:only-of-type {\n",
       "        vertical-align: middle;\n",
       "    }\n",
       "\n",
       "    .dataframe tbody tr th {\n",
       "        vertical-align: top;\n",
       "    }\n",
       "\n",
       "    .dataframe thead th {\n",
       "        text-align: right;\n",
       "    }\n",
       "</style>\n",
       "<table border=\"1\" class=\"dataframe\">\n",
       "  <thead>\n",
       "    <tr style=\"text-align: right;\">\n",
       "      <th></th>\n",
       "      <th>Year</th>\n",
       "      <th>Seq</th>\n",
       "      <th>Aid Contribution</th>\n",
       "      <th>Dis Mag Value</th>\n",
       "      <th>Start Year</th>\n",
       "      <th>Start Month</th>\n",
       "      <th>Start Day</th>\n",
       "      <th>End Year</th>\n",
       "      <th>End Month</th>\n",
       "      <th>End Day</th>\n",
       "      <th>Total Deaths</th>\n",
       "      <th>No Injured</th>\n",
       "      <th>No Affected</th>\n",
       "      <th>No Homeless</th>\n",
       "      <th>Total Affected</th>\n",
       "      <th>Insured Damages ('000 US$)</th>\n",
       "      <th>Total Damages ('000 US$)</th>\n",
       "      <th>CPI</th>\n",
       "    </tr>\n",
       "  </thead>\n",
       "  <tbody>\n",
       "    <tr>\n",
       "      <th>Year</th>\n",
       "      <td>1.000000</td>\n",
       "      <td>0.011802</td>\n",
       "      <td>0.118349</td>\n",
       "      <td>0.056199</td>\n",
       "      <td>0.999724</td>\n",
       "      <td>-0.032895</td>\n",
       "      <td>-0.019526</td>\n",
       "      <td>0.999373</td>\n",
       "      <td>-0.017082</td>\n",
       "      <td>0.016727</td>\n",
       "      <td>-0.117860</td>\n",
       "      <td>-0.003441</td>\n",
       "      <td>-0.021759</td>\n",
       "      <td>-0.038698</td>\n",
       "      <td>-0.014280</td>\n",
       "      <td>0.145082</td>\n",
       "      <td>0.074355</td>\n",
       "      <td>0.945053</td>\n",
       "    </tr>\n",
       "    <tr>\n",
       "      <th>Seq</th>\n",
       "      <td>0.011802</td>\n",
       "      <td>1.000000</td>\n",
       "      <td>-0.006386</td>\n",
       "      <td>0.008511</td>\n",
       "      <td>0.012827</td>\n",
       "      <td>-0.002581</td>\n",
       "      <td>0.007922</td>\n",
       "      <td>0.020164</td>\n",
       "      <td>0.086653</td>\n",
       "      <td>0.040413</td>\n",
       "      <td>0.168733</td>\n",
       "      <td>-0.009410</td>\n",
       "      <td>0.128078</td>\n",
       "      <td>-0.025607</td>\n",
       "      <td>0.130315</td>\n",
       "      <td>0.056491</td>\n",
       "      <td>0.008048</td>\n",
       "      <td>0.005563</td>\n",
       "    </tr>\n",
       "    <tr>\n",
       "      <th>Aid Contribution</th>\n",
       "      <td>0.118349</td>\n",
       "      <td>-0.006386</td>\n",
       "      <td>1.000000</td>\n",
       "      <td>-0.003596</td>\n",
       "      <td>0.118351</td>\n",
       "      <td>-0.004017</td>\n",
       "      <td>-0.039390</td>\n",
       "      <td>0.117615</td>\n",
       "      <td>0.016721</td>\n",
       "      <td>-0.005023</td>\n",
       "      <td>0.005970</td>\n",
       "      <td>0.079737</td>\n",
       "      <td>-0.004114</td>\n",
       "      <td>0.437141</td>\n",
       "      <td>-0.003499</td>\n",
       "      <td>0.107871</td>\n",
       "      <td>-0.003344</td>\n",
       "      <td>0.110886</td>\n",
       "    </tr>\n",
       "    <tr>\n",
       "      <th>Dis Mag Value</th>\n",
       "      <td>0.056199</td>\n",
       "      <td>0.008511</td>\n",
       "      <td>-0.003596</td>\n",
       "      <td>1.000000</td>\n",
       "      <td>0.056111</td>\n",
       "      <td>-0.010665</td>\n",
       "      <td>-0.036496</td>\n",
       "      <td>0.056871</td>\n",
       "      <td>-0.013320</td>\n",
       "      <td>0.007803</td>\n",
       "      <td>-0.003088</td>\n",
       "      <td>0.010602</td>\n",
       "      <td>0.090822</td>\n",
       "      <td>0.070127</td>\n",
       "      <td>0.073425</td>\n",
       "      <td>-0.040555</td>\n",
       "      <td>0.004645</td>\n",
       "      <td>0.065609</td>\n",
       "    </tr>\n",
       "    <tr>\n",
       "      <th>Start Year</th>\n",
       "      <td>0.999724</td>\n",
       "      <td>0.012827</td>\n",
       "      <td>0.118351</td>\n",
       "      <td>0.056111</td>\n",
       "      <td>1.000000</td>\n",
       "      <td>-0.033375</td>\n",
       "      <td>-0.019699</td>\n",
       "      <td>0.999665</td>\n",
       "      <td>-0.017388</td>\n",
       "      <td>0.016534</td>\n",
       "      <td>-0.117893</td>\n",
       "      <td>-0.003489</td>\n",
       "      <td>-0.021728</td>\n",
       "      <td>-0.038651</td>\n",
       "      <td>-0.014268</td>\n",
       "      <td>0.145082</td>\n",
       "      <td>0.074343</td>\n",
       "      <td>0.944731</td>\n",
       "    </tr>\n",
       "  </tbody>\n",
       "</table>\n",
       "</div>"
      ],
      "text/plain": [
       "                      Year       Seq  Aid Contribution  Dis Mag Value  \\\n",
       "Year              1.000000  0.011802          0.118349       0.056199   \n",
       "Seq               0.011802  1.000000         -0.006386       0.008511   \n",
       "Aid Contribution  0.118349 -0.006386          1.000000      -0.003596   \n",
       "Dis Mag Value     0.056199  0.008511         -0.003596       1.000000   \n",
       "Start Year        0.999724  0.012827          0.118351       0.056111   \n",
       "\n",
       "                  Start Year  Start Month  Start Day  End Year  End Month  \\\n",
       "Year                0.999724    -0.032895  -0.019526  0.999373  -0.017082   \n",
       "Seq                 0.012827    -0.002581   0.007922  0.020164   0.086653   \n",
       "Aid Contribution    0.118351    -0.004017  -0.039390  0.117615   0.016721   \n",
       "Dis Mag Value       0.056111    -0.010665  -0.036496  0.056871  -0.013320   \n",
       "Start Year          1.000000    -0.033375  -0.019699  0.999665  -0.017388   \n",
       "\n",
       "                   End Day  Total Deaths  No Injured  No Affected  \\\n",
       "Year              0.016727     -0.117860   -0.003441    -0.021759   \n",
       "Seq               0.040413      0.168733   -0.009410     0.128078   \n",
       "Aid Contribution -0.005023      0.005970    0.079737    -0.004114   \n",
       "Dis Mag Value     0.007803     -0.003088    0.010602     0.090822   \n",
       "Start Year        0.016534     -0.117893   -0.003489    -0.021728   \n",
       "\n",
       "                  No Homeless  Total Affected  Insured Damages ('000 US$)  \\\n",
       "Year                -0.038698       -0.014280                    0.145082   \n",
       "Seq                 -0.025607        0.130315                    0.056491   \n",
       "Aid Contribution     0.437141       -0.003499                    0.107871   \n",
       "Dis Mag Value        0.070127        0.073425                   -0.040555   \n",
       "Start Year          -0.038651       -0.014268                    0.145082   \n",
       "\n",
       "                  Total Damages ('000 US$)       CPI  \n",
       "Year                              0.074355  0.945053  \n",
       "Seq                               0.008048  0.005563  \n",
       "Aid Contribution                 -0.003344  0.110886  \n",
       "Dis Mag Value                     0.004645  0.065609  \n",
       "Start Year                        0.074343  0.944731  "
      ]
     },
     "execution_count": 132,
     "metadata": {},
     "output_type": "execute_result"
    }
   ],
   "source": [
    "# r = coefficient of correlation\n",
    "\n",
    "nd.corr().head()"
   ]
  },
  {
   "cell_type": "code",
   "execution_count": 133,
   "metadata": {},
   "outputs": [
    {
     "data": {
      "text/plain": [
       "<AxesSubplot:>"
      ]
     },
     "execution_count": 133,
     "metadata": {},
     "output_type": "execute_result"
    },
    {
     "data": {
      "image/png": "[encoded data removed]",
      "text/plain": [
       "<Figure size 432x288 with 2 Axes>"
      ]
     },
     "metadata": {
      "needs_background": "light"
     },
     "output_type": "display_data"
    }
   ],
   "source": [
    "sns.heatmap(data=abs(nd.corr()), cmap='viridis')"
   ]
  },
  {
   "cell_type": "code",
   "execution_count": 136,
   "metadata": {},
   "outputs": [
    {
     "data": {
      "text/plain": [
       "<AxesSubplot:>"
      ]
     },
     "execution_count": 136,
     "metadata": {},
     "output_type": "execute_result"
    },
    {
     "data": {
      "image/png": "[encoded data removed]",
      "text/plain": [
       "<Figure size 432x288 with 1 Axes>"
      ]
     },
     "metadata": {
      "needs_background": "light"
     },
     "output_type": "display_data"
    }
   ],
   "source": [
    "sns.heatmap(data=nd.corr()[[\"Total Damages ('000 US$)\"]].sort_values(by=\"Total Damages ('000 US$)\", ascending=False), \n",
    "            annot=True, cmap='Blues', cbar=False, fmt=f'.2f')"
   ]
  },
  {
   "cell_type": "code",
   "execution_count": 138,
   "metadata": {},
   "outputs": [
    {
     "data": {
      "text/plain": [
       "<AxesSubplot:>"
      ]
     },
     "execution_count": 138,
     "metadata": {},
     "output_type": "execute_result"
    },
    {
     "data": {
      "image/png": "[encoded data removed]",
      "text/plain": [
       "<Figure size 432x288 with 1 Axes>"
      ]
     },
     "metadata": {
      "needs_background": "light"
     },
     "output_type": "display_data"
    }
   ],
   "source": [
    "sns.heatmap(data=nd.corr()[[\"Insured Damages ('000 US$)\"]].sort_values(by=\"Insured Damages ('000 US$)\", ascending=False), \n",
    "            annot=True, cmap='Blues', cbar=False, fmt=f'.2f')"
   ]
  },
  {
   "cell_type": "code",
   "execution_count": 144,
   "metadata": {},
   "outputs": [
    {
     "data": {
      "text/plain": [
       "<seaborn.axisgrid.FacetGrid at 0x1c45e19d100>"
      ]
     },
     "execution_count": 144,
     "metadata": {},
     "output_type": "execute_result"
    },
    {
     "data": {
      "image/png": "[encoded data removed]",
      "text/plain": [
       "<Figure size 360x360 with 1 Axes>"
      ]
     },
     "metadata": {
      "needs_background": "light"
     },
     "output_type": "display_data"
    }
   ],
   "source": [
    "sns.lmplot(data=nd, x='Year', y=\"Insured Damages ('000 US$)\", ci=None,\n",
    "           scatter_kws={'s':5}, line_kws={'color':'red'})"
   ]
  }
 ],
 "metadata": {
  "interpreter": {
   "hash": "4a889874aef137a58c8f92e3ed6912ec441c66e3cc8f3752c91ed486cb306b1b"
  },
  "kernelspec": {
   "display_name": "Python 3.9.7 ('base')",
   "language": "python",
   "name": "python3"
  },
  "language_info": {
   "codemirror_mode": {
    "name": "ipython",
    "version": 3
   },
   "file_extension": ".py",
   "mimetype": "text/x-python",
   "name": "python",
   "nbconvert_exporter": "python",
   "pygments_lexer": "ipython3",
   "version": "3.9.7"
  },
  "orig_nbformat": 4
 },
 "nbformat": 4,
 "nbformat_minor": 2
}
